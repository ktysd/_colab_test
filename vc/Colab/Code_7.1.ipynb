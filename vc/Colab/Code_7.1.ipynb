{
 "cells": [
  {
   "cell_type": "markdown",
   "id": "3f99f38e",
   "metadata": {},
   "source": [
    "# 解析力学と１階化の数式処理\n",
    "\n",
    "吉田勝俊（宇都宮大学）\n",
    "\n",
    "### 参考情報\n",
    "- [Welcome to SymPy’s documentation! &#8212; SymPy 1.10.1 documentation](https://docs.sympy.org/) （本家）\n",
    "- [SymPy による数式処理とグラフ作成 - 弘前大学 Home Sweet Home](https://home.hirosaki-u.ac.jp/jupyter/sympy/)"
   ]
  },
  {
   "cell_type": "code",
   "execution_count": null,
   "id": "95fbf3d9",
   "metadata": {},
   "outputs": [],
   "source": [
    "import sympy as sym #数式処理ライブラリ"
   ]
  },
  {
   "cell_type": "markdown",
   "id": "22a28175",
   "metadata": {},
   "source": [
    "## ◯ 単振り子の運動方程式"
   ]
  },
  {
   "cell_type": "markdown",
   "id": "48cd9d93",
   "metadata": {},
   "source": [
    "### ■ 数式処理用の文字記号の定義"
   ]
  },
  {
   "cell_type": "markdown",
   "id": "a4c25cac",
   "metadata": {},
   "source": [
    "#### 独立変数とパラメータ"
   ]
  },
  {
   "cell_type": "code",
   "execution_count": null,
   "id": "27d49583",
   "metadata": {},
   "outputs": [],
   "source": [
    "t, m, l, g = sym.symbols(r't m l g') #引数の文字列はdisplay出力用（TeX表記も使える）\n",
    "display(t, m, l, g)"
   ]
  },
  {
   "cell_type": "markdown",
   "id": "aa618f97",
   "metadata": {},
   "source": [
    "#### 時間の関数"
   ]
  },
  {
   "cell_type": "code",
   "execution_count": null,
   "id": "1a66dcd9",
   "metadata": {},
   "outputs": [],
   "source": [
    "theta = sym.Function(r'\\theta')(t) #引数の文字列はdisplay出力用（TeX表記も使える）\n",
    "display(theta)"
   ]
  },
  {
   "cell_type": "markdown",
   "id": "34147f90",
   "metadata": {},
   "source": [
    "### (a) 一般化座標を選ぶ\n",
    "\n",
    "- 一般化座標: $\\theta(t)$"
   ]
  },
  {
   "cell_type": "code",
   "execution_count": null,
   "id": "40a2d730",
   "metadata": {},
   "outputs": [],
   "source": [
    "q = theta"
   ]
  },
  {
   "cell_type": "markdown",
   "id": "587d7d15",
   "metadata": {},
   "source": [
    "### (b) 座標変換を書き下す"
   ]
  },
  {
   "cell_type": "markdown",
   "id": "a63dd5cb",
   "metadata": {},
   "source": [
    "#### 質点の位置ベクトル"
   ]
  },
  {
   "cell_type": "code",
   "execution_count": null,
   "id": "d24ff551",
   "metadata": {},
   "outputs": [],
   "source": [
    "xx = l*sym.Matrix([\n",
    "    sym.sin(q),\n",
    "    -sym.cos(q)\n",
    "]) # この書き方で縦ベクトル\n",
    "\n",
    "display(xx)"
   ]
  },
  {
   "cell_type": "markdown",
   "id": "e7551d84",
   "metadata": {},
   "source": [
    "### (c) 全運動エネルギーを書き下す"
   ]
  },
  {
   "cell_type": "markdown",
   "id": "74f34e70",
   "metadata": {},
   "source": [
    "#### 質点の速度ベクトル"
   ]
  },
  {
   "cell_type": "code",
   "execution_count": null,
   "id": "122f46ef",
   "metadata": {
    "scrolled": true
   },
   "outputs": [],
   "source": [
    "dxxdt = sym.diff(xx,t)\n",
    "display(dxxdt)"
   ]
  },
  {
   "cell_type": "markdown",
   "id": "f3220bbd",
   "metadata": {},
   "source": [
    "#### 全運動エネルギー"
   ]
  },
  {
   "cell_type": "code",
   "execution_count": null,
   "id": "6b7a7bd7",
   "metadata": {
    "scrolled": true
   },
   "outputs": [],
   "source": [
    "T = (m/2)*(dxxdt.dot(dxxdt)) #◯.dot(△)で内積が計算される．\n",
    "display(T)\n",
    "T = sym.simplify(T) #数式の整理\n",
    "display(T)"
   ]
  },
  {
   "cell_type": "markdown",
   "id": "abed4460",
   "metadata": {},
   "source": [
    "### (d) 全位置エネルギーを書き下す"
   ]
  },
  {
   "cell_type": "code",
   "execution_count": null,
   "id": "42a719a2",
   "metadata": {},
   "outputs": [],
   "source": [
    "y = xx[1] #位置ベクトルの第1成分（数学の第2成分）\n",
    "V = m*g*y\n",
    "display(V)"
   ]
  },
  {
   "cell_type": "markdown",
   "id": "60044769",
   "metadata": {},
   "source": [
    "### (e) $L:=T-V$を公式に代入する\n",
    "\n",
    "#### 公式（オイラーラグランジュ方程式）：\n",
    "$\\displaystyle\n",
    "\\frac{d}{dt}\\left(\\frac{\\partial L}{\\partial \\dot \\theta}\\right)\n",
    "- \\frac{\\partial L}{\\partial \\theta}\n",
    "= 0\n",
    "$"
   ]
  },
  {
   "cell_type": "code",
   "execution_count": null,
   "id": "7a655cd9",
   "metadata": {
    "scrolled": false
   },
   "outputs": [],
   "source": [
    "def KouSiki(L, q):\n",
    "    '''\n",
    "    オイラー・ラグランジュ方程式（シンプル版）\n",
    "    - 「左辺=0」の左辺を計算する\n",
    "    - q は一般化座標（時間の関数）\n",
    "    '''\n",
    "    dqdt  = sym.diff(q, t)\n",
    "    \n",
    "    LHS = ( #左辺（LHS: Left Hand Side）\n",
    "        sym.diff( sym.diff(L, dqdt), t)\n",
    "        - sym.diff(L, q)\n",
    "    )\n",
    "    \n",
    "    return LHS\n",
    "\n",
    "KouSiki(T - V, theta)"
   ]
  },
  {
   "cell_type": "markdown",
   "id": "92e970dd",
   "metadata": {},
   "source": [
    "- 単振り子の運動方程式 $ml^2\\ddot\\theta + mgl\\sin\\theta = 0$ の左辺が求まった！"
   ]
  },
  {
   "cell_type": "markdown",
   "id": "99e1cd88",
   "metadata": {},
   "source": [
    "## ◯オイラー・ラグランジュ方程式\n",
    "\n",
    "### 定義：\n",
    "$\\displaystyle\n",
    "\\frac{d}{dt}\\left(\\frac{\\partial L}{\\partial \\dot q_i}\\right)\n",
    "-\\frac{\\partial L}{\\partial q_i}\n",
    "+\\frac{\\partial D}{\\partial \\dot q_i}\n",
    "-Q_i\n",
    "= 0, \\quad i=1,2,\\cdots\n",
    "$"
   ]
  },
  {
   "cell_type": "markdown",
   "id": "66bba023",
   "metadata": {},
   "source": [
    "### ■ 導出を一括処理するユーザ関数"
   ]
  },
  {
   "cell_type": "code",
   "execution_count": null,
   "id": "9e5f7547",
   "metadata": {},
   "outputs": [],
   "source": [
    "def derive_ELE(system):\n",
    "    '''\n",
    "    オイラー・ラグランジュ方程式（ELE: Euler-Lagrange equation）\n",
    "    「左辺＝０」の左辺を導出する関数\n",
    "    \n",
    "    def system():    \n",
    "        q: 一般化座標（ベクトル）\n",
    "        L: ラグランジュ関数（スカラ）\n",
    "        D: 散逸関数（スカラ）\n",
    "        Q: 一般化力（ベクトル）\n",
    "        \n",
    "        return (t, q, L, Q, D)\n",
    "    '''\n",
    "    t, q, L, D, Q = system()       #一般化座標, ラグランジアン, 散逸関数, 一般化力\n",
    "    dqdt          = sym.diff(q, t) #一般化座標の時間微分\n",
    "    dim           = len(q)         #一般化座標の次元\n",
    "    \n",
    "    ### ラグランジュの運動方程式 ###\n",
    "    ELE = sym.Matrix([\n",
    "        sym.simplify(\n",
    "            sym.diff( sym.diff(L, dqdt[i]), t )\n",
    "            - sym.diff(L, q[i])\n",
    "            + sym.diff(D, dqdt[i])\n",
    "            - Q[i]\n",
    "        )\n",
    "        for i in range(dim)\n",
    "    ])\n",
    "\n",
    "    return (ELE, t, q, Q)"
   ]
  },
  {
   "cell_type": "markdown",
   "id": "fa32ef07",
   "metadata": {},
   "source": [
    "## ◯ 台車型倒立振子（CIP: cart inverted pendulum）の運動方程式"
   ]
  },
  {
   "cell_type": "markdown",
   "id": "a1684937",
   "metadata": {},
   "source": [
    "### ■システムの定義\n",
    "\n",
    "- 一般化座標: $(x(t),\\theta(t))$"
   ]
  },
  {
   "cell_type": "code",
   "execution_count": null,
   "id": "a97eb4d1",
   "metadata": {
    "scrolled": false
   },
   "outputs": [],
   "source": [
    "def system_CIP():\n",
    "    '''\n",
    "    システムを定義する関数 （問題に応じて書き換える）\n",
    "    ※以下は，台車型倒立振子の例\n",
    "    '''\n",
    "    # パラメータ: \n",
    "    t, M, m, l, g, c1, c2 = sym.symbols(\n",
    "        't M m l g c_1 c_2', \n",
    "        positive=True #正の実数に制限 ※なるべく制限すると simplify がよく効く．以下同．\n",
    "    )\n",
    "    G, S = sym.symbols('G S', positive=True)\n",
    "    \n",
    "    # 一般化座標（時間関数）: \n",
    "    q = sym.Matrix([\n",
    "        sym.Function(\n",
    "            r'x', \n",
    "            real=True #実数値に制限\n",
    "        )(t),\n",
    "        sym.Function(\n",
    "            r'\\theta', \n",
    "            real=True #実数値に制限\n",
    "        )(t),\n",
    "    ])\n",
    "    \n",
    "    # 質点の直交座標\n",
    "    x, th = q\n",
    "    xM = sym.Matrix([\n",
    "        x,\n",
    "        G\n",
    "    ])\n",
    "    xm = sym.Matrix([\n",
    "        x + l*sym.sin(th),\n",
    "        l*sym.cos(th) + S,\n",
    "    ])\n",
    "    \n",
    "    dxMdt = sym.diff(xM, t) #その時間微分\n",
    "    dxmdt = sym.diff(xm, t)\n",
    "    \n",
    "    # 運動エネルギー\n",
    "    T = (M/2)*dxMdt.dot(dxMdt) + (m/2)*dxmdt.dot(dxmdt)\n",
    "    \n",
    "    # 位置エネルギー\n",
    "    h = xm[1] #振子先端の高さ\n",
    "    U = m*g*h\n",
    "    \n",
    "    # ラグランジュ関数\n",
    "    L = T - U\n",
    "\n",
    "    # 散逸関数\n",
    "    # D = (c1/2)*sym.diff(x,t)**2 + (c2/2)*sym.diff(th,t)**2 #粘性減衰\n",
    "    D = 0 #減衰なし\n",
    "\n",
    "    # 一般化力\n",
    "    Q = sym.Matrix([\n",
    "        sym.Function(r'f', real=True)(t),\n",
    "        0\n",
    "    ])\n",
    "    \n",
    "    return (t, q, L, D, Q)"
   ]
  },
  {
   "cell_type": "markdown",
   "id": "e57068f3",
   "metadata": {},
   "source": [
    "### ■運動方程式の導出結果"
   ]
  },
  {
   "cell_type": "code",
   "execution_count": null,
   "id": "cdd87f6e",
   "metadata": {},
   "outputs": [],
   "source": [
    "EOM, t, q, Q = derive_ELE(system_CIP)\n",
    "\n",
    "display(EOM) #運動方程式（左辺＝０）の左辺"
   ]
  },
  {
   "cell_type": "markdown",
   "id": "3474a6b0",
   "metadata": {},
   "source": [
    "#### ちなみに，時間変数，一般化座標，一般化力"
   ]
  },
  {
   "cell_type": "code",
   "execution_count": null,
   "id": "5df9269b",
   "metadata": {},
   "outputs": [],
   "source": [
    "display(t, q, Q)"
   ]
  },
  {
   "cell_type": "markdown",
   "id": "9a8f7c31",
   "metadata": {},
   "source": [
    "## ◯1階化"
   ]
  },
  {
   "cell_type": "code",
   "execution_count": null,
   "id": "171e8cf2",
   "metadata": {},
   "outputs": [],
   "source": [
    "def First_ordered(result):\n",
    "    '''\n",
    "    運動方程式を1階化するユーザ関数\n",
    "    - result := derive_ELE(system)の出力\n",
    "    '''\n",
    "    EOMqq, t, q, Q = result\n",
    "\n",
    "    ### 状態ベクトルの生成 ###\n",
    "    # 実体\n",
    "    xq = sym.Matrix(\n",
    "        [qi for qi in q] \n",
    "        + #リストの + は連結\n",
    "        [sym.diff(qi, t) for qi in q]\n",
    "    )\n",
    "\n",
    "    # 通し番号\n",
    "    xx = sym.Matrix([\n",
    "        sym.Function(r'x_' + str(i+1), real=True)(t)\n",
    "        for i in range(len(xq))\n",
    "    ])\n",
    "\n",
    "    # 加速度（通し番号）\n",
    "    aa = sym.Matrix([\n",
    "        sym.diff(x, t)\n",
    "        for x in xx\n",
    "    ])\n",
    "\n",
    "    ### 状態ベクトルの生成 ###\n",
    "    dim = len(q)\n",
    "    EOMxx = []\n",
    "    for eqn in EOMqq:\n",
    "        \n",
    "        #運動方程式を通し番号の状態ベクトルで表す\n",
    "        for i in range(dim):\n",
    "            eqn = eqn.subs(xq[dim+i], xx[dim+i])\n",
    "            eqn = eqn.subs(xq[i], xx[i])\n",
    "            \n",
    "        EOMxx.append(eqn)\n",
    "\n",
    "    ### 加速度について解く ###\n",
    "    sols = sym.solve(EOMxx, aa[dim:])\n",
    "    \n",
    "    ### 1階化した運動方程式 dx/dt = f(x) の右辺 ###\n",
    "    ffxx = sym.Matrix(\n",
    "        xx[dim:] \n",
    "        + [sols[a].simplify() for a in aa[dim:]]\n",
    "    )\n",
    "\n",
    "    return (ffxx, xx, t)"
   ]
  },
  {
   "cell_type": "markdown",
   "id": "8b6a4ab1",
   "metadata": {},
   "source": [
    "### ■単振り子（SP: simple pendulum）\n",
    "\n",
    "- 一般化座標: $(\\theta(t))$"
   ]
  },
  {
   "cell_type": "code",
   "execution_count": null,
   "id": "24265190",
   "metadata": {},
   "outputs": [],
   "source": [
    "def system_SP():\n",
    "    '''\n",
    "    システムを定義する関数（単振り子）\n",
    "    '''\n",
    "    # パラメータ: \n",
    "    t, m, l, g = sym.symbols(\n",
    "        't m l g', \n",
    "        positive=True #正の実数に制限 ※なるべく制限すると simplify がよく効く．以下同．\n",
    "    )\n",
    "    c = sym.symbols('c', positive=True)\n",
    "    \n",
    "    # 一般化座標（時間関数）: \n",
    "    q = sym.Matrix([\n",
    "        sym.Function(\n",
    "            r'\\theta', \n",
    "            real=True #実数値に制限\n",
    "        )(t),\n",
    "    ])\n",
    "    \n",
    "    # 質点の直交座標\n",
    "    theta = q[0]\n",
    "    xx = l*sym.Matrix([\n",
    "        sym.sin(theta),\n",
    "        -sym.cos(theta),\n",
    "    ])\n",
    "    \n",
    "    dxxdt = sym.diff(xx, t) #その時間微分\n",
    "    \n",
    "    # 運動エネルギー\n",
    "    T = (m/2)*dxxdt.dot(dxxdt)\n",
    "    \n",
    "    # 位置エネルギー\n",
    "    h = xx[1] #振子先端の高さ\n",
    "    U = m*g*h\n",
    "    \n",
    "    # ラグランジュ関数\n",
    "    L = T - U\n",
    "\n",
    "    # 散逸関数\n",
    "    D = (c/2)*dxxdt.dot(dxxdt) #粘性減衰\n",
    "#     D = 0 #減衰なし\n",
    "\n",
    "    # 一般化力\n",
    "    Q = sym.Matrix([\n",
    "        0\n",
    "    ])\n",
    "    \n",
    "    return (t, q, L, D, Q)"
   ]
  },
  {
   "cell_type": "markdown",
   "id": "98c56e1f",
   "metadata": {},
   "source": [
    "#### 運動方程式の導出結果"
   ]
  },
  {
   "cell_type": "code",
   "execution_count": null,
   "id": "81bb84c7",
   "metadata": {},
   "outputs": [],
   "source": [
    "result_SP = derive_ELE(system_SP)\n",
    "\n",
    "for _ in result_SP: display(_)"
   ]
  },
  {
   "cell_type": "markdown",
   "id": "431675ce",
   "metadata": {},
   "source": [
    "#### 1階化の結果"
   ]
  },
  {
   "cell_type": "code",
   "execution_count": null,
   "id": "f8139bb5",
   "metadata": {
    "scrolled": true
   },
   "outputs": [],
   "source": [
    "first_ordered_SP = First_ordered(result_SP)\n",
    "\n",
    "display(*first_ordered_SP)"
   ]
  },
  {
   "cell_type": "markdown",
   "id": "4ba98ebf",
   "metadata": {},
   "source": [
    "### ■台車型倒立振子（CIP: cart inverted pendulum）\n",
    "\n",
    "- 一般化座標: $(x(t),\\theta(t))$"
   ]
  },
  {
   "cell_type": "markdown",
   "id": "970bd9ec",
   "metadata": {},
   "source": [
    "#### 運動方程式の導出結果"
   ]
  },
  {
   "cell_type": "code",
   "execution_count": null,
   "id": "d47bd998",
   "metadata": {},
   "outputs": [],
   "source": [
    "result_CIP = derive_ELE(system_CIP)\n",
    "\n",
    "for _ in result_CIP: display(_)"
   ]
  },
  {
   "cell_type": "markdown",
   "id": "4937f36c",
   "metadata": {},
   "source": [
    "#### 1階化の結果"
   ]
  },
  {
   "cell_type": "code",
   "execution_count": null,
   "id": "c9127280",
   "metadata": {
    "scrolled": true
   },
   "outputs": [],
   "source": [
    "first_ordered_CIP = First_ordered(result_CIP)\n",
    "\n",
    "display(*first_ordered_CIP)"
   ]
  },
  {
   "cell_type": "code",
   "execution_count": null,
   "id": "4ab23eb2",
   "metadata": {},
   "outputs": [],
   "source": []
  }
 ],
 "metadata": {
  "kernelspec": {
   "display_name": "Python 3",
   "language": "python",
   "name": "python3"
  },
  "language_info": {
   "codemirror_mode": {
    "name": "ipython",
    "version": 3
   },
   "file_extension": ".py",
   "mimetype": "text/x-python",
   "name": "python",
   "nbconvert_exporter": "python",
   "pygments_lexer": "ipython3",
   "version": "3.8.8"
  }
 },
 "nbformat": 4,
 "nbformat_minor": 5
}
