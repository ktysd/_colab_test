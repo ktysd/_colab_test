{
 "cells": [
  {
   "cell_type": "markdown",
   "metadata": {},
   "source": [
    "# 等価変形とスケール変換\n",
    "\n",
    "吉田勝俊（宇都宮大学）"
   ]
  },
  {
   "cell_type": "markdown",
   "metadata": {},
   "source": [
    "## 参考情報\n",
    "\n",
    "- [Pythonで運動方程式を解く(odeint) - Qiita](https://qiita.com/binaryneutronstar/items/ad5efa27fd626826846f)\n",
    "- [[Python] Numpyの参照、抽出、結合 - Qiita](https://qiita.com/supersaiakujin/items/d63c73bb7b5aac43898a)"
   ]
  },
  {
   "cell_type": "code",
   "execution_count": null,
   "metadata": {},
   "outputs": [],
   "source": [
    "import numpy as np                              #数値計算ライブラリ\n",
    "from scipy.integrate import odeint              #常微分方程式ライブラリ\n",
    "import matplotlib.pyplot as plt                 #描画ライブラリ\n",
    "#Colab用の設定（グラフィックのインライン表示）\n",
    "%matplotlib inline"
   ]
  },
  {
   "cell_type": "markdown",
   "metadata": {},
   "source": [
    "## 演習4.2 (時間スケールの変換)"
   ]
  },
  {
   "cell_type": "code",
   "execution_count": null,
   "metadata": {},
   "outputs": [],
   "source": [
    "def plot_function(func, ts, xlabel='t', key=''):\n",
    "    '''\n",
    "    時間関数のグラフを描画する関数\n",
    "    '''\n",
    "    vals = np.array([func(t) for t in ts])\n",
    "    plt.plot(ts, vals, label=key)\n",
    "    plt.xlabel(xlabel, fontsize=16)\n",
    "    plt.ylabel('Value', fontsize=16)\n",
    "    plt.legend()"
   ]
  },
  {
   "cell_type": "markdown",
   "metadata": {},
   "source": [
    "### 時間関数のサンプル $x(t):=\\sin(t)$"
   ]
  },
  {
   "cell_type": "code",
   "execution_count": null,
   "metadata": {},
   "outputs": [],
   "source": [
    "def x(t):\n",
    "    '''\n",
    "    時間関数のサンプル\n",
    "    '''\n",
    "    return np.sin(t)"
   ]
  },
  {
   "cell_type": "code",
   "execution_count": null,
   "metadata": {},
   "outputs": [],
   "source": [
    "ts = np.linspace(0,6,100) #時間軸\n",
    "\n",
    "plot_function(x, ts, key='$x(t)$')"
   ]
  },
  {
   "cell_type": "markdown",
   "metadata": {},
   "source": [
    "### 時間スケール変換"
   ]
  },
  {
   "cell_type": "code",
   "execution_count": null,
   "metadata": {},
   "outputs": [],
   "source": [
    "def timescale_trans(func, alpha):\n",
    "    '''\n",
    "    時間関数 func(t) を時間スケール変換した関数を作る\n",
    "    alpha は時間スケール\n",
    "    '''\n",
    "    def y(tau):\n",
    "        '''\n",
    "        時間スケール alpha で変換後の関数\n",
    "        '''\n",
    "        return x(alpha * tau)\n",
    "\n",
    "    return y   "
   ]
  },
  {
   "cell_type": "code",
   "execution_count": null,
   "metadata": {},
   "outputs": [],
   "source": [
    "alpha = 1.5 #時間スケールの一例\n",
    "tau = (1/alpha) * ts #スケール変換後の時間軸\n",
    "\n",
    "y = timescale_trans(x, alpha) #時間関数の時間スケール変換\n",
    "\n",
    "plot_function(x, ts, key='$x(t)$') #元の関数形\n",
    "plot_function(y, tau, key='$y(tau)$', xlabel='$t, tau$') #時間スケール変換後の関数形"
   ]
  },
  {
   "cell_type": "markdown",
   "metadata": {},
   "source": [
    "* 時間軸方向のサイズが，`1/alpha = 1/1.5` 倍された．"
   ]
  },
  {
   "cell_type": "markdown",
   "metadata": {},
   "source": [
    "## 演習4.3 (原形，正規形，標準形の数値解)"
   ]
  },
  {
   "cell_type": "markdown",
   "metadata": {},
   "source": [
    "### 各運動方程式の定義"
   ]
  },
  {
   "cell_type": "code",
   "execution_count": null,
   "metadata": {
    "scrolled": true
   },
   "outputs": [],
   "source": [
    "def EOM_original(x, t, m, c, k):\n",
    "    '''\n",
    "    原形の運動方程式\n",
    "    '''\n",
    "    return np.array([\n",
    "        x[1],\n",
    "        -(c/m)*x[1] - (k/m)*x[0]\n",
    "    ])\n",
    "\n",
    "def EOM_canonical(x, t, zeta):\n",
    "    '''\n",
    "    正規形の運動方程式\n",
    "    '''\n",
    "    return np.array([\n",
    "        x[1],\n",
    "        -2*zeta*x[1] - x[0]\n",
    "    ])\n",
    "\n",
    "def EOM_standard(x, t, zeta, omega_n):\n",
    "    '''\n",
    "    標準形の運動方程式\n",
    "    '''\n",
    "    return np.array([\n",
    "        x[1],\n",
    "        -2*zeta*omega_n*x[1] - (omega_n**2)*x[0]\n",
    "    ])"
   ]
  },
  {
   "cell_type": "markdown",
   "metadata": {},
   "source": [
    "### 物理パラメータと無次元パラメータの設定"
   ]
  },
  {
   "cell_type": "code",
   "execution_count": null,
   "metadata": {},
   "outputs": [],
   "source": [
    "m, c, k = 1.5, 1, 6 #物理パラメータの一例\n",
    "\n",
    "zeta = c/(2*np.sqrt(m*k)) #対応する減衰比\n",
    "omega_n = np.sqrt(k/m)    #対応する固有角振動数\n",
    "\n",
    "print(omega_n)"
   ]
  },
  {
   "cell_type": "markdown",
   "metadata": {},
   "source": [
    "### 時間軸\n",
    "\n",
    "* $t=\\alpha\\tau$ $\\implies$ $\\tau = t/\\alpha = \\omega_n t$"
   ]
  },
  {
   "cell_type": "code",
   "execution_count": null,
   "metadata": {},
   "outputs": [],
   "source": [
    "ts =  np.linspace(0,6,50) #物理時間軸\n",
    "tau = omega_n * ts        #無次元時間軸"
   ]
  },
  {
   "cell_type": "markdown",
   "metadata": {},
   "source": [
    "### 初期条件の設定\n",
    "\n",
    "* この例では，$y(0)$, $\\dot y(0)$ のほうを，基準として与える．\n",
    "* $x$の初期変位は，時間スケール変換式(4.12)より，変位はそのまま$x(0)=y(0)$．\n",
    "* $x$の初期速度は，$\\dot x(0) = \\frac{1}{\\alpha}\\dot y(0) = \\omega_n \\dot y(0)$．"
   ]
  },
  {
   "cell_type": "code",
   "execution_count": null,
   "metadata": {},
   "outputs": [],
   "source": [
    "y0 = [1, 0]                  #y(tau)の初期変位，初期速度\n",
    "x0 = [y0[0], omega_n*y0[1]]  #x(t)の初期変位，初期速度"
   ]
  },
  {
   "cell_type": "markdown",
   "metadata": {},
   "source": [
    "### 数値解を求める"
   ]
  },
  {
   "cell_type": "code",
   "execution_count": null,
   "metadata": {},
   "outputs": [],
   "source": [
    "x_original  = odeint(EOM_original,  x0, ts,  args=(m, c, k))       #原形\n",
    "y_canonical = odeint(EOM_canonical, y0, tau, args=(zeta,))        #正規形\n",
    "x_standard  = odeint(EOM_standard,  x0, ts,  args=(zeta, omega_n)) #標準形"
   ]
  },
  {
   "cell_type": "markdown",
   "metadata": {},
   "source": [
    "### 変位の比較"
   ]
  },
  {
   "cell_type": "code",
   "execution_count": null,
   "metadata": {
    "scrolled": false
   },
   "outputs": [],
   "source": [
    "plt.figure(figsize=(10,3))\n",
    "plt.plot(ts,   x_original[:,0], '-b', label=r'$x(t)$: original')\n",
    "plt.plot(tau, y_canonical[:,0], '-k', label=r'$y(\\tau)$: canonical')\n",
    "plt.plot(ts,   x_standard[:,0], 'xr', label=r'$x(t)$: standard', ms=6)\n",
    "plt.xlabel(r'$t,\\tau$', fontsize=18)\n",
    "plt.ylabel(r'$x(t),y(\\tau)$', fontsize=18)\n",
    "plt.grid()\n",
    "plt.legend()"
   ]
  },
  {
   "cell_type": "markdown",
   "metadata": {},
   "source": [
    "* 変位については，振幅方向は同サイズのまま，時間方向のサイズが $1/\\omega_n=1/2$ 倍されている．"
   ]
  },
  {
   "cell_type": "markdown",
   "metadata": {},
   "source": [
    "### 速度の比較"
   ]
  },
  {
   "cell_type": "code",
   "execution_count": null,
   "metadata": {
    "scrolled": true
   },
   "outputs": [],
   "source": [
    "plt.figure(figsize=(10,3))\n",
    "plt.plot(ts,   x_original[:,1], '-b', label=r'$\\dot x(t)$: original')\n",
    "plt.plot(tau, y_canonical[:,1], '-k', label=r'$\\dot y(\\tau)$: canonical')\n",
    "plt.plot(ts,   x_standard[:,1], 'xr', label=r'$\\dot x(t)$: standard', ms=6)\n",
    "plt.xlabel(r'$t,\\tau$', fontsize=18)\n",
    "plt.ylabel(r'$\\dot x(t),\\dot y(\\tau)$', fontsize=18)\n",
    "plt.grid()\n",
    "plt.legend()"
   ]
  },
  {
   "cell_type": "markdown",
   "metadata": {},
   "source": [
    "* 速度については，振幅方向のサイズが $\\omega_n = 2$ 倍されている．（時間方向のサイズ変化は変位と同じ）"
   ]
  },
  {
   "cell_type": "code",
   "execution_count": null,
   "metadata": {},
   "outputs": [],
   "source": []
  }
 ],
 "metadata": {
  "kernelspec": {
   "display_name": "Python 3",
   "language": "python",
   "name": "python3"
  },
  "language_info": {
   "codemirror_mode": {
    "name": "ipython",
    "version": 3
   },
   "file_extension": ".py",
   "mimetype": "text/x-python",
   "name": "python",
   "nbconvert_exporter": "python",
   "pygments_lexer": "ipython3",
   "version": "3.8.8"
  }
 },
 "nbformat": 4,
 "nbformat_minor": 2
}
