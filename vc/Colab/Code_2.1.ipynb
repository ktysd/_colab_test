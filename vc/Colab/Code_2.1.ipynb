{
 "cells": [
  {
   "cell_type": "markdown",
   "metadata": {},
   "source": [
    "# 固有値解析\n",
    "\n",
    "吉田勝俊（宇都宮大学）"
   ]
  },
  {
   "cell_type": "markdown",
   "metadata": {},
   "source": [
    "## 参考情報\n",
    "\n",
    "- [Pythonで運動方程式を解く(odeint) - Qiita](https://qiita.com/binaryneutronstar/items/ad5efa27fd626826846f)\n",
    "- [[Python] Numpyの参照、抽出、結合 - Qiita](https://qiita.com/supersaiakujin/items/d63c73bb7b5aac43898a)\n",
    "- [[Python/matplotlib] FuncAnimationを理解して使う - Qiita](https://qiita.com/osanshouo/items/3c66781f41884694838b)"
   ]
  },
  {
   "cell_type": "code",
   "execution_count": 2,
   "metadata": {},
   "outputs": [],
   "source": [
    "import numpy as np                              #数値計算ライブラリ\n",
    "# from numpy.linalg import norm                   #ベクトルのノルム\n",
    "from scipy.integrate import odeint              #常微分方程式ライブラリ\n",
    "import matplotlib.pyplot as plt                 #描画ライブラリ\n",
    "# from matplotlib import rc                       #グラフ調整ライブラリ\n",
    "#Colab用の設定（グラフィックのインライン表示）\n",
    "%matplotlib inline"
   ]
  },
  {
   "cell_type": "markdown",
   "metadata": {},
   "source": [
    "## 予備知識"
   ]
  },
  {
   "cell_type": "markdown",
   "metadata": {},
   "source": [
    "### 複素数\n",
    "\n",
    " * <font color=\"red\">`j`で虚数単位$\\sqrt{-1}$を表す</font>\n",
    " * ただし，変数の`j`と区別するために，虚数単位は`1j`と表記する．"
   ]
  },
  {
   "cell_type": "code",
   "execution_count": 6,
   "metadata": {},
   "outputs": [
    {
     "name": "stdout",
     "output_type": "stream",
     "text": [
      "(2+1j)\n",
      "(5+3j)\n"
     ]
    }
   ],
   "source": [
    "z1 = 2 + 1j\n",
    "z2 = 5 + 3j\n",
    "\n",
    "print(z1)\n",
    "print(z2)"
   ]
  },
  {
   "cell_type": "markdown",
   "metadata": {},
   "source": [
    "複素数の実部"
   ]
  },
  {
   "cell_type": "code",
   "execution_count": 7,
   "metadata": {},
   "outputs": [
    {
     "data": {
      "text/plain": [
       "2.0"
      ]
     },
     "execution_count": 7,
     "metadata": {},
     "output_type": "execute_result"
    }
   ],
   "source": [
    "np.real(z1)"
   ]
  },
  {
   "cell_type": "markdown",
   "metadata": {},
   "source": [
    "複素数の虚部"
   ]
  },
  {
   "cell_type": "code",
   "execution_count": 8,
   "metadata": {},
   "outputs": [
    {
     "data": {
      "text/plain": [
       "3.0"
      ]
     },
     "execution_count": 8,
     "metadata": {},
     "output_type": "execute_result"
    }
   ],
   "source": [
    "np.imag(z2)"
   ]
  },
  {
   "cell_type": "markdown",
   "metadata": {},
   "source": [
    "### n 次方程式の根（root）\n",
    "\n",
    "- $a_n x^n + a_{n-1} x^{n-1} + \\cdots + a_1 x + a_0 = 0$ の根は次のコードで得られる．\n",
    "\n",
    "> np.roots( [$a_n$, $a_{n-1}$, $\\cdots$, $a_1$, $a_0$] )"
   ]
  },
  {
   "cell_type": "markdown",
   "metadata": {},
   "source": [
    "$x^2 + 2x + 3 = 0$ の根（実数根）"
   ]
  },
  {
   "cell_type": "code",
   "execution_count": 9,
   "metadata": {},
   "outputs": [
    {
     "data": {
      "text/plain": [
       "array([-1.+1.41421356j, -1.-1.41421356j])"
      ]
     },
     "execution_count": 9,
     "metadata": {},
     "output_type": "execute_result"
    }
   ],
   "source": [
    "np.roots([1, 2, 3])"
   ]
  },
  {
   "cell_type": "markdown",
   "metadata": {},
   "source": [
    "$x^2 + 1 = x^2 + 0x + 1 = 0$ の根（複素数根）"
   ]
  },
  {
   "cell_type": "code",
   "execution_count": 10,
   "metadata": {},
   "outputs": [
    {
     "data": {
      "text/plain": [
       "array([-0.+1.j,  0.-1.j])"
      ]
     },
     "execution_count": 10,
     "metadata": {},
     "output_type": "execute_result"
    }
   ],
   "source": [
    "np.roots([1, 0, 1])"
   ]
  },
  {
   "cell_type": "markdown",
   "metadata": {},
   "source": [
    "$2x^4 + 7x^3 + x^2 + 2x + 3 = 0$ の根（どうなるでしょう？）"
   ]
  },
  {
   "cell_type": "code",
   "execution_count": 11,
   "metadata": {},
   "outputs": [
    {
     "data": {
      "text/plain": [
       "array([-3.40131658+0.j        ,  0.31084386+0.71803095j,\n",
       "        0.31084386-0.71803095j, -0.72037114+0.j        ])"
      ]
     },
     "execution_count": 11,
     "metadata": {},
     "output_type": "execute_result"
    }
   ],
   "source": [
    "np.roots([2, 7, 1, 2, 3])"
   ]
  },
  {
   "cell_type": "markdown",
   "metadata": {},
   "source": [
    "## 固有値によるダイナミクスの分類"
   ]
  },
  {
   "cell_type": "code",
   "execution_count": 14,
   "metadata": {},
   "outputs": [],
   "source": [
    "def plot(ts, xs, ylabel=r'$x(t)$', label=''):\n",
    "    '''\n",
    "    振動波形を表示する関数\n",
    "    '''\n",
    "    fig, ax = plt.subplots(figsize=(6,3))\n",
    "    ax.plot(ts, xs, label=label)\n",
    "    ax.set_xlabel(r'$t$', fontsize=16)\n",
    "    ax.set_ylabel(ylabel, fontsize=16)"
   ]
  },
  {
   "cell_type": "markdown",
   "metadata": {},
   "source": [
    "### (a) 2つの実根"
   ]
  },
  {
   "cell_type": "markdown",
   "metadata": {},
   "source": [
    "#### 固有値＝ ( 正 , 正 ) の振動波形\n",
    "\n",
    "* 例えば，$x(t) = \\exp(5t) + \\exp(2t)$"
   ]
  },
  {
   "cell_type": "code",
   "execution_count": 15,
   "metadata": {
    "scrolled": false
   },
   "outputs": [
    {
     "data": {
      "image/png": "[encoded data removed]",
      "text/plain": [
       "<Figure size 432x216 with 1 Axes>"
      ]
     },
     "metadata": {
      "needs_background": "light"
     },
     "output_type": "display_data"
    }
   ],
   "source": [
    "s1 = 5\n",
    "s2 = 2\n",
    "\n",
    "ts = np.linspace(0, 2, 100) #時間軸を表す等差数列　0〜2秒を100等分\n",
    "\n",
    "xs = np.exp(s1*ts) + np.exp(s2*ts) #振動\n",
    "plot(ts, xs)"
   ]
  },
  {
   "cell_type": "markdown",
   "metadata": {},
   "source": [
    "#### 固有値＝ ( 負 , 負 ) の振動波形\n",
    "\n",
    "* 例えば，$x(t) = \\exp(-5t) + \\exp(-2t)$"
   ]
  },
  {
   "cell_type": "code",
   "execution_count": 16,
   "metadata": {
    "scrolled": true
   },
   "outputs": [
    {
     "data": {
      "image/png": "[encoded data removed]",
      "text/plain": [
       "<Figure size 432x216 with 1 Axes>"
      ]
     },
     "metadata": {
      "needs_background": "light"
     },
     "output_type": "display_data"
    }
   ],
   "source": [
    "s1 = -5\n",
    "s2 = -2\n",
    "\n",
    "ts = np.linspace(0, 2, 100) #時間軸を表す等差数列　0〜5秒を100等分\n",
    "\n",
    "xs = np.exp(s1*ts) + np.exp(s2*ts) #振動\n",
    "plot(ts, xs)"
   ]
  },
  {
   "cell_type": "markdown",
   "metadata": {},
   "source": [
    "#### 固有値＝ ( 負 , 正 ) の振動波形\n",
    "\n",
    "* 例えば，$x(t) = \\exp(-5t) + \\exp(2t)$"
   ]
  },
  {
   "cell_type": "code",
   "execution_count": 17,
   "metadata": {
    "scrolled": true
   },
   "outputs": [
    {
     "data": {
      "image/png": "[encoded data removed]",
      "text/plain": [
       "<Figure size 432x216 with 1 Axes>"
      ]
     },
     "metadata": {
      "needs_background": "light"
     },
     "output_type": "display_data"
    }
   ],
   "source": [
    "s1 = -5\n",
    "s2 = 2\n",
    "\n",
    "ts = np.linspace(0, 2, 100) #時間軸を表す等差数列　0〜2秒を100等分\n",
    "\n",
    "xs = np.exp(s1*ts) + np.exp(s2*ts)\n",
    "plot(ts, xs)"
   ]
  },
  {
   "cell_type": "code",
   "execution_count": 18,
   "metadata": {},
   "outputs": [
    {
     "data": {
      "text/plain": [
       "[<matplotlib.lines.Line2D at 0x7fe5cafe0a00>]"
      ]
     },
     "execution_count": 18,
     "metadata": {},
     "output_type": "execute_result"
    },
    {
     "data": {
      "image/png": "[encoded data removed]",
      "text/plain": [
       "<Figure size 432x288 with 1 Axes>"
      ]
     },
     "metadata": {
      "needs_background": "light"
     },
     "output_type": "display_data"
    }
   ],
   "source": [
    "#原点付近を拡大\n",
    "ts = np.linspace(0, 0.5, 100) #時間軸を表す等差数列　0〜0.5秒を100等分\n",
    "\n",
    "xs = np.exp(s1*ts) + np.exp(s2*ts)\n",
    "plt.plot(ts, xs)"
   ]
  },
  {
   "cell_type": "markdown",
   "metadata": {},
   "source": [
    "### 考察 ― (a) ２つの異なる実数根\n",
    "\n",
    "* 実数根が全て負だと，収束する．１つでも正だと，発散する．"
   ]
  },
  {
   "cell_type": "markdown",
   "metadata": {},
   "source": [
    "### (b) 重根"
   ]
  },
  {
   "cell_type": "markdown",
   "metadata": {},
   "source": [
    "#### 固有値＝ 正（重根） の振動波形\n",
    "\n",
    "* 例えば，$x(t) = \\exp(5t) + \\exp(5t)$"
   ]
  },
  {
   "cell_type": "code",
   "execution_count": 107,
   "metadata": {
    "scrolled": true
   },
   "outputs": [
    {
     "data": {
      "image/png": "[encoded data removed]",
      "text/plain": [
       "<Figure size 432x216 with 1 Axes>"
      ]
     },
     "metadata": {
      "needs_background": "light"
     },
     "output_type": "display_data"
    }
   ],
   "source": [
    "s1 = 5\n",
    "s2 = 5\n",
    "\n",
    "ts = np.linspace(0, 2, 100) #時間軸を表す等差数列　0〜2秒を100等分\n",
    "\n",
    "xs = np.exp(s1*ts) + np.exp(s2*ts)\n",
    "plot(ts, xs)"
   ]
  },
  {
   "cell_type": "markdown",
   "metadata": {},
   "source": [
    "#### 固有値＝ 負（重根） の振動波形\n",
    "\n",
    "* 例えば，$x(t) = \\exp(-5t) + \\exp(-5t)$"
   ]
  },
  {
   "cell_type": "code",
   "execution_count": 108,
   "metadata": {
    "scrolled": false
   },
   "outputs": [
    {
     "data": {
      "image/png": "[encoded data removed]",
      "text/plain": [
       "<Figure size 432x216 with 1 Axes>"
      ]
     },
     "metadata": {
      "needs_background": "light"
     },
     "output_type": "display_data"
    }
   ],
   "source": [
    "s1 = -5\n",
    "s2 = -5\n",
    "\n",
    "ts = np.linspace(0, 2, 100) #時間軸を表す等差数列　0〜2秒を100等分\n",
    "\n",
    "xs = np.exp(s1*ts) + np.exp(s2*ts)\n",
    "plot(ts, xs)"
   ]
  },
  {
   "cell_type": "markdown",
   "metadata": {},
   "source": [
    "### 考察 ―  (b) 重根\n",
    "\n",
    "* 「異なる２つの実数根」と同じ考察が通用する．\n",
    "\n",
    "> ### 考察 ― (a) 異なる２つの実数根\n",
    "> \n",
    "> * 実数根が全て負だと，収束する．１つでも正だと，発散する．"
   ]
  },
  {
   "cell_type": "markdown",
   "metadata": {},
   "source": [
    "### (c) 共役な虚根"
   ]
  },
  {
   "cell_type": "markdown",
   "metadata": {},
   "source": [
    "* 例えば，$x(t) = \\exp\\{(-5i) t\\} + \\exp\\{(5i) t\\}$\n",
    "\n",
    "※Python の虚数単位は`j`"
   ]
  },
  {
   "cell_type": "code",
   "execution_count": 109,
   "metadata": {
    "scrolled": true
   },
   "outputs": [
    {
     "name": "stderr",
     "output_type": "stream",
     "text": [
      "/home/yoshidak/anaconda3/lib/python3.8/site-packages/numpy/core/_asarray.py:102: ComplexWarning: Casting complex values to real discards the imaginary part\n",
      "  return array(a, dtype, copy=False, order=order)\n"
     ]
    },
    {
     "data": {
      "image/png": "[encoded data removed]",
      "text/plain": [
       "<Figure size 432x216 with 1 Axes>"
      ]
     },
     "metadata": {
      "needs_background": "light"
     },
     "output_type": "display_data"
    }
   ],
   "source": [
    "s1 = -5j\n",
    "s2 = 5j\n",
    "\n",
    "ts = np.linspace(0, 2, 100) #時間軸を表す等差数列　0〜2秒を100等分\n",
    "\n",
    "xs = np.exp(s1*ts) + np.exp(s2*ts)\n",
    "plot(ts, xs)"
   ]
  },
  {
   "cell_type": "markdown",
   "metadata": {},
   "source": [
    "※ 複素数列をプロットすると，虚部が無効化されて，実部だけしかプロットされないよ，というワーニングが出てる．"
   ]
  },
  {
   "cell_type": "markdown",
   "metadata": {},
   "source": [
    "#### 振動波形の値 `xs` を数値で見てみる．"
   ]
  },
  {
   "cell_type": "code",
   "execution_count": 110,
   "metadata": {
    "scrolled": true
   },
   "outputs": [
    {
     "data": {
      "text/plain": [
       "array([ 2.        +0.j,  1.98980563+0.j,  1.95932645+0.j,  1.90887318+0.j,\n",
       "        1.83896015+0.j,  1.75030008+0.j,  1.64379681+0.j,  1.52053606+0.j,\n",
       "        1.38177442+0.j,  1.22892645+0.j,  1.06355036+0.j,  0.88733204+0.j,\n",
       "        0.70206794+0.j,  0.50964669+0.j,  0.31202992+0.j,  0.1112322 +0.j,\n",
       "       -0.09069946+0.j, -0.2917065 +0.j, -0.48973977+0.j, -0.68278046+0.j,\n",
       "       -0.86886063+0.j, -1.04608332+0.j, -1.21264184+0.j, -1.36683825+0.j,\n",
       "       -1.50710061+0.j, -1.63199903+0.j, -1.74026025+0.j, -1.83078062+0.j,\n",
       "       -1.90263733+0.j, -1.95509786+0.j, -1.9876274 +0.j, -1.99989433+0.j,\n",
       "       -1.99177361+0.j, -1.96334801+0.j, -1.91490732+0.j, -1.84694536+0.j,\n",
       "       -1.76015495+0.j, -1.65542088+0.j, -1.53381084+0.j, -1.39656457+0.j,\n",
       "       -1.2450812 +0.j, -1.08090502+0.j, -0.90570969+0.j, -0.72128123+0.j,\n",
       "       -0.52949976+0.j, -0.33232037+0.j, -0.13175319+0.j,  0.07015714+0.j,\n",
       "        0.27135225+0.j,  0.46978111+0.j,  0.66342084+0.j,  0.85029741+0.j,\n",
       "        1.02850574+0.j,  1.1962291 +0.j,  1.35175766+0.j,  1.49350591+0.j,\n",
       "        1.62002881+0.j,  1.73003653+0.j,  1.82240763+0.j,  1.89620043+0.j,\n",
       "        1.95066267+0.j,  1.98523914+0.j,  1.99957734+0.j,  1.99353112+0.j,\n",
       "        1.9671621 +0.j,  1.92073912+0.j,  1.85473541+0.j,  1.76982384+0.j,\n",
       "        1.66687004+0.j,  1.54692355+0.j,  1.41120715+0.j,  1.26110439+0.j,\n",
       "        1.09814546+0.j,  0.92399164+0.j,  0.7404183 +0.j,  0.54929687+0.j,\n",
       "        0.3525757 +0.j,  0.15226025+0.j, -0.0496074 +0.j, -0.25096934+0.j,\n",
       "       -0.4497728 +0.j, -0.64399111+0.j, -0.83164434+0.j, -1.01081948+0.j,\n",
       "       -1.17968995+0.j, -1.33653423+0.j, -1.47975339+0.j, -1.6078874 +0.j,\n",
       "       -1.71963001+0.j, -1.81384208+0.j, -1.88956317+0.j, -1.94602136+0.j,\n",
       "       -1.9826411 +0.j, -1.99904906+0.j, -1.99507798+0.j, -1.97076833+0.j,\n",
       "       -1.92636795+0.j, -1.86232947+0.j, -1.77930571+0.j, -1.67814306+0.j])"
      ]
     },
     "execution_count": 110,
     "metadata": {},
     "output_type": "execute_result"
    }
   ],
   "source": [
    "xs"
   ]
  },
  {
   "cell_type": "markdown",
   "metadata": {},
   "source": [
    "#### 解 `xs` の虚部を見てみると，全てゼロになっている．"
   ]
  },
  {
   "cell_type": "code",
   "execution_count": 111,
   "metadata": {
    "scrolled": true
   },
   "outputs": [
    {
     "data": {
      "text/plain": [
       "array([0., 0., 0., 0., 0., 0., 0., 0., 0., 0., 0., 0., 0., 0., 0., 0., 0.,\n",
       "       0., 0., 0., 0., 0., 0., 0., 0., 0., 0., 0., 0., 0., 0., 0., 0., 0.,\n",
       "       0., 0., 0., 0., 0., 0., 0., 0., 0., 0., 0., 0., 0., 0., 0., 0., 0.,\n",
       "       0., 0., 0., 0., 0., 0., 0., 0., 0., 0., 0., 0., 0., 0., 0., 0., 0.,\n",
       "       0., 0., 0., 0., 0., 0., 0., 0., 0., 0., 0., 0., 0., 0., 0., 0., 0.,\n",
       "       0., 0., 0., 0., 0., 0., 0., 0., 0., 0., 0., 0., 0., 0., 0.])"
      ]
     },
     "execution_count": 111,
     "metadata": {},
     "output_type": "execute_result"
    }
   ],
   "source": [
    "np.imag(xs)"
   ]
  },
  {
   "cell_type": "markdown",
   "metadata": {},
   "source": [
    "#### その一方で，解 `xs` の実部は，こんな感じで・・・"
   ]
  },
  {
   "cell_type": "code",
   "execution_count": 112,
   "metadata": {
    "scrolled": false
   },
   "outputs": [
    {
     "data": {
      "text/plain": [
       "array([ 2.        ,  1.98980563,  1.95932645,  1.90887318,  1.83896015,\n",
       "        1.75030008,  1.64379681,  1.52053606,  1.38177442,  1.22892645,\n",
       "        1.06355036,  0.88733204,  0.70206794,  0.50964669,  0.31202992,\n",
       "        0.1112322 , -0.09069946, -0.2917065 , -0.48973977, -0.68278046,\n",
       "       -0.86886063, -1.04608332, -1.21264184, -1.36683825, -1.50710061,\n",
       "       -1.63199903, -1.74026025, -1.83078062, -1.90263733, -1.95509786,\n",
       "       -1.9876274 , -1.99989433, -1.99177361, -1.96334801, -1.91490732,\n",
       "       -1.84694536, -1.76015495, -1.65542088, -1.53381084, -1.39656457,\n",
       "       -1.2450812 , -1.08090502, -0.90570969, -0.72128123, -0.52949976,\n",
       "       -0.33232037, -0.13175319,  0.07015714,  0.27135225,  0.46978111,\n",
       "        0.66342084,  0.85029741,  1.02850574,  1.1962291 ,  1.35175766,\n",
       "        1.49350591,  1.62002881,  1.73003653,  1.82240763,  1.89620043,\n",
       "        1.95066267,  1.98523914,  1.99957734,  1.99353112,  1.9671621 ,\n",
       "        1.92073912,  1.85473541,  1.76982384,  1.66687004,  1.54692355,\n",
       "        1.41120715,  1.26110439,  1.09814546,  0.92399164,  0.7404183 ,\n",
       "        0.54929687,  0.3525757 ,  0.15226025, -0.0496074 , -0.25096934,\n",
       "       -0.4497728 , -0.64399111, -0.83164434, -1.01081948, -1.17968995,\n",
       "       -1.33653423, -1.47975339, -1.6078874 , -1.71963001, -1.81384208,\n",
       "       -1.88956317, -1.94602136, -1.9826411 , -1.99904906, -1.99507798,\n",
       "       -1.97076833, -1.92636795, -1.86232947, -1.77930571, -1.67814306])"
      ]
     },
     "execution_count": 112,
     "metadata": {},
     "output_type": "execute_result"
    }
   ],
   "source": [
    "np.real(xs)"
   ]
  },
  {
   "cell_type": "markdown",
   "metadata": {},
   "source": [
    "#### この実部のグラフは，$\\cos$関数になっている．その周波数は，固有値の虚部の絶対値（この例では＝５）．"
   ]
  },
  {
   "cell_type": "code",
   "execution_count": 118,
   "metadata": {},
   "outputs": [
    {
     "name": "stderr",
     "output_type": "stream",
     "text": [
      "/home/yoshidak/anaconda3/lib/python3.8/site-packages/numpy/core/_asarray.py:102: ComplexWarning: Casting complex values to real discards the imaginary part\n",
      "  return array(a, dtype, copy=False, order=order)\n"
     ]
    },
    {
     "data": {
      "text/plain": [
       "<matplotlib.legend.Legend at 0x7f98970309a0>"
      ]
     },
     "execution_count": 118,
     "metadata": {},
     "output_type": "execute_result"
    },
    {
     "data": {
      "image/png": "[encoded data removed]",
      "text/plain": [
       "<Figure size 432x216 with 1 Axes>"
      ]
     },
     "metadata": {
      "needs_background": "light"
     },
     "output_type": "display_data"
    },
    {
     "data": {
      "image/png": "[encoded data removed]",
      "text/plain": [
       "<Figure size 432x216 with 1 Axes>"
      ]
     },
     "metadata": {
      "needs_background": "light"
     },
     "output_type": "display_data"
    },
    {
     "data": {
      "image/png": "[encoded data removed]",
      "text/plain": [
       "<Figure size 432x216 with 1 Axes>"
      ]
     },
     "metadata": {
      "needs_background": "light"
     },
     "output_type": "display_data"
    }
   ],
   "source": [
    "plot(ts, xs, label=r'$x(t)$')\n",
    "plt.legend()\n",
    "plot(ts, np.real(xs), label=r'Re[$x(t)$]')\n",
    "plt.legend()\n",
    "\n",
    "omega = np.abs(np.imag(s1)) #固有値の虚部の絶対値．共役だから s2 でも同じ\n",
    "xcos = 2*np.cos(omega*ts)\n",
    "plot(ts, xcos, label=r'$\\cos(%gt)$'%(omega))\n",
    "plt.legend()"
   ]
  },
  {
   "cell_type": "markdown",
   "metadata": {},
   "source": [
    "※ `xs` そのもののプロットでは，ワーニングが出るが，そもそも虚部は全て0なので，グラフは同じ．"
   ]
  },
  {
   "cell_type": "markdown",
   "metadata": {},
   "source": [
    "### 考察 ―  (c) 共役な虚数根\n",
    "\n",
    "* 共役な虚数根から作った $\\exp\\{(-5i) t\\}$ と $\\exp\\{(5i) t\\}$ を足すと，虚部はキャンセルされて消える．\n",
    "* 残った実部は，$\\cos$関数になる．その周波数は，固有値の虚部の絶対値．"
   ]
  },
  {
   "cell_type": "markdown",
   "metadata": {},
   "source": [
    "## 固有値によるダイナミクスの分類"
   ]
  },
  {
   "cell_type": "markdown",
   "metadata": {},
   "source": [
    "### 演習3.3\n",
    "\n",
    "質量 $m = 5.6$ kg，減衰係数 $c = 1.5$ Ns/m，ばね定数 $k = 7.8$ N/mの自由振動系の運動方程式は，\n",
    "\n",
    "* $5.6\\ddot x + 1.5\\dot x + 7.8x =0$\n",
    "\n",
    "となる．対応する固有方程式は，次の二次方程式となる．\n",
    "\n",
    "* $5.6s^2 + 1.5 s + 7.8 =0$\n",
    "\n",
    "上式を解くと，次の固有値が判明する．"
   ]
  },
  {
   "cell_type": "code",
   "execution_count": 12,
   "metadata": {},
   "outputs": [
    {
     "data": {
      "text/plain": [
       "array([-0.13392857+1.17256995j, -0.13392857-1.17256995j])"
      ]
     },
     "execution_count": 12,
     "metadata": {},
     "output_type": "execute_result"
    }
   ],
   "source": [
    "np.roots([5.6, 1.5, 7.8]) #係数 5.6, 1.5, 7.8 の二次方程式の根を求める"
   ]
  },
  {
   "cell_type": "markdown",
   "metadata": {},
   "source": [
    "すなわち，この系の固有値は，実部$\\approx -0.134$，虚部$\\approx \\pm 1.173$ の共役複素数である．"
   ]
  },
  {
   "cell_type": "markdown",
   "metadata": {},
   "source": [
    "### 演習3.6"
   ]
  },
  {
   "cell_type": "markdown",
   "metadata": {},
   "source": [
    "直前の固有値を表3.1と照合すると，実部が負で，虚部有りなので，判別結果は「減衰振動」である．"
   ]
  },
  {
   "cell_type": "code",
   "execution_count": null,
   "metadata": {},
   "outputs": [],
   "source": []
  }
 ],
 "metadata": {
  "kernelspec": {
   "display_name": "Python 3",
   "language": "python",
   "name": "python3"
  },
  "language_info": {
   "codemirror_mode": {
    "name": "ipython",
    "version": 3
   },
   "file_extension": ".py",
   "mimetype": "text/x-python",
   "name": "python",
   "nbconvert_exporter": "python",
   "pygments_lexer": "ipython3",
   "version": "3.8.8"
  }
 },
 "nbformat": 4,
 "nbformat_minor": 2
}
