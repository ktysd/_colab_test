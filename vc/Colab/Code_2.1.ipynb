{
 "cells": [
  {
   "cell_type": "markdown",
   "metadata": {},
   "source": [
    "# 固有値解析\n",
    "\n",
    "吉田勝俊（宇都宮大学）"
   ]
  },
  {
   "cell_type": "markdown",
   "metadata": {},
   "source": [
    "## 参考情報\n",
    "\n",
    "- [Pythonで運動方程式を解く(odeint) - Qiita](https://qiita.com/binaryneutronstar/items/ad5efa27fd626826846f)\n",
    "- [[Python] Numpyの参照、抽出、結合 - Qiita](https://qiita.com/supersaiakujin/items/d63c73bb7b5aac43898a)\n",
    "- [[Python/matplotlib] FuncAnimationを理解して使う - Qiita](https://qiita.com/osanshouo/items/3c66781f41884694838b)"
   ]
  },
  {
   "cell_type": "code",
   "execution_count": null,
   "metadata": {},
   "outputs": [],
   "source": [
    "import numpy as np                              #数値計算ライブラリ\n",
    "# from numpy.linalg import norm                   #ベクトルのノルム\n",
    "from scipy.integrate import odeint              #常微分方程式ライブラリ\n",
    "import matplotlib.pyplot as plt                 #描画ライブラリ\n",
    "# from matplotlib import rc                       #グラフ調整ライブラリ\n",
    "#Colab用の設定（グラフィックのインライン表示）\n",
    "%matplotlib inline"
   ]
  },
  {
   "cell_type": "markdown",
   "metadata": {},
   "source": [
    "## 予備知識"
   ]
  },
  {
   "cell_type": "markdown",
   "metadata": {},
   "source": [
    "### 複素数\n",
    "\n",
    " * <font color=\"red\">`j`で虚数単位$\\sqrt{-1}$を表す</font>\n",
    " * ただし，変数の`j`と区別するために，虚数単位は`1j`と表記する．"
   ]
  },
  {
   "cell_type": "code",
   "execution_count": null,
   "metadata": {},
   "outputs": [],
   "source": [
    "z1 = 2 + 1j\n",
    "z2 = 5 + 3j\n",
    "\n",
    "print(z1)\n",
    "print(z2)"
   ]
  },
  {
   "cell_type": "markdown",
   "metadata": {},
   "source": [
    "複素数の実部"
   ]
  },
  {
   "cell_type": "code",
   "execution_count": null,
   "metadata": {},
   "outputs": [],
   "source": [
    "np.real(z1)"
   ]
  },
  {
   "cell_type": "markdown",
   "metadata": {},
   "source": [
    "複素数の虚部"
   ]
  },
  {
   "cell_type": "code",
   "execution_count": null,
   "metadata": {},
   "outputs": [],
   "source": [
    "np.imag(z2)"
   ]
  },
  {
   "cell_type": "markdown",
   "metadata": {},
   "source": [
    "### n 次方程式の根（root）\n",
    "\n",
    "- $a_n x^n + a_{n-1} x^{n-1} + \\cdots + a_1 x + a_0 = 0$ の根は次のコードで得られる．\n",
    "\n",
    "> np.roots( [$a_n$, $a_{n-1}$, $\\cdots$, $a_1$, $a_0$] )"
   ]
  },
  {
   "cell_type": "markdown",
   "metadata": {},
   "source": [
    "$x^2 + 2x + 3 = 0$ の根（実数根）"
   ]
  },
  {
   "cell_type": "code",
   "execution_count": null,
   "metadata": {},
   "outputs": [],
   "source": [
    "np.roots([1, 2, 3])"
   ]
  },
  {
   "cell_type": "markdown",
   "metadata": {},
   "source": [
    "$x^2 + 1 = x^2 + 0x + 1 = 0$ の根（複素数根）"
   ]
  },
  {
   "cell_type": "code",
   "execution_count": null,
   "metadata": {},
   "outputs": [],
   "source": [
    "np.roots([1, 0, 1])"
   ]
  },
  {
   "cell_type": "markdown",
   "metadata": {},
   "source": [
    "$2x^4 + 7x^3 + x^2 + 2x + 3 = 0$ の根（どうなるでしょう？）"
   ]
  },
  {
   "cell_type": "code",
   "execution_count": null,
   "metadata": {},
   "outputs": [],
   "source": [
    "np.roots([2, 7, 1, 2, 3])"
   ]
  },
  {
   "cell_type": "markdown",
   "metadata": {},
   "source": [
    "## 固有値によるダイナミクスの分類"
   ]
  },
  {
   "cell_type": "code",
   "execution_count": null,
   "metadata": {},
   "outputs": [],
   "source": [
    "def plot(ts, xs, ylabel=r'$x(t)$', label=''):\n",
    "    '''\n",
    "    振動波形を表示する関数\n",
    "    '''\n",
    "    fig, ax = plt.subplots(figsize=(6,3))\n",
    "    ax.plot(ts, xs, label=label)\n",
    "    ax.set_xlabel(r'$t$', fontsize=16)\n",
    "    ax.set_ylabel(ylabel, fontsize=16)"
   ]
  },
  {
   "cell_type": "markdown",
   "metadata": {},
   "source": [
    "### (a) 2つの実根"
   ]
  },
  {
   "cell_type": "markdown",
   "metadata": {},
   "source": [
    "#### 固有値＝ ( 正 , 正 ) の振動波形\n",
    "\n",
    "* 例えば，$x(t) = \\exp(5t) + \\exp(2t)$"
   ]
  },
  {
   "cell_type": "code",
   "execution_count": null,
   "metadata": {},
   "outputs": [],
   "source": [
    "s1 = 5\n",
    "s2 = 2\n",
    "\n",
    "ts = np.linspace(0, 2, 100) #時間軸を表す等差数列　0〜2秒を100等分\n",
    "\n",
    "xs = np.exp(s1*ts) + np.exp(s2*ts) #振動\n",
    "plot(ts, xs)"
   ]
  },
  {
   "cell_type": "markdown",
   "metadata": {},
   "source": [
    "#### 固有値＝ ( 負 , 負 ) の振動波形\n",
    "\n",
    "* 例えば，$x(t) = \\exp(-5t) + \\exp(-2t)$"
   ]
  },
  {
   "cell_type": "code",
   "execution_count": null,
   "metadata": {
    "scrolled": true
   },
   "outputs": [],
   "source": [
    "s1 = -5\n",
    "s2 = -2\n",
    "\n",
    "ts = np.linspace(0, 2, 100) #時間軸を表す等差数列　0〜5秒を100等分\n",
    "\n",
    "xs = np.exp(s1*ts) + np.exp(s2*ts) #振動\n",
    "plot(ts, xs)"
   ]
  },
  {
   "cell_type": "markdown",
   "metadata": {},
   "source": [
    "#### 固有値＝ ( 負 , 正 ) の振動波形\n",
    "\n",
    "* 例えば，$x(t) = \\exp(-5t) + \\exp(2t)$"
   ]
  },
  {
   "cell_type": "code",
   "execution_count": null,
   "metadata": {
    "scrolled": true
   },
   "outputs": [],
   "source": [
    "s1 = -5\n",
    "s2 = 2\n",
    "\n",
    "ts = np.linspace(0, 2, 100) #時間軸を表す等差数列　0〜2秒を100等分\n",
    "\n",
    "xs = np.exp(s1*ts) + np.exp(s2*ts)\n",
    "plot(ts, xs)"
   ]
  },
  {
   "cell_type": "code",
   "execution_count": null,
   "metadata": {},
   "outputs": [],
   "source": [
    "#原点付近を拡大\n",
    "ts = np.linspace(0, 0.5, 100) #時間軸を表す等差数列　0〜0.5秒を100等分\n",
    "\n",
    "xs = np.exp(s1*ts) + np.exp(s2*ts)\n",
    "plt.plot(ts, xs)"
   ]
  },
  {
   "cell_type": "markdown",
   "metadata": {},
   "source": [
    "### 考察 ― (a) ２つの異なる実数根\n",
    "\n",
    "* 実数根が全て負だと，収束する．１つでも正だと，発散する．"
   ]
  },
  {
   "cell_type": "markdown",
   "metadata": {},
   "source": [
    "### (b) 重根"
   ]
  },
  {
   "cell_type": "markdown",
   "metadata": {},
   "source": [
    "#### 固有値＝ 正（重根） の振動波形\n",
    "\n",
    "* 例えば，$x(t) = \\exp(5t) + \\exp(5t)$"
   ]
  },
  {
   "cell_type": "code",
   "execution_count": null,
   "metadata": {
    "scrolled": true
   },
   "outputs": [],
   "source": [
    "s1 = 5\n",
    "s2 = 5\n",
    "\n",
    "ts = np.linspace(0, 2, 100) #時間軸を表す等差数列　0〜2秒を100等分\n",
    "\n",
    "xs = np.exp(s1*ts) + np.exp(s2*ts)\n",
    "plot(ts, xs)"
   ]
  },
  {
   "cell_type": "markdown",
   "metadata": {},
   "source": [
    "#### 固有値＝ 負（重根） の振動波形\n",
    "\n",
    "* 例えば，$x(t) = \\exp(-5t) + \\exp(-5t)$"
   ]
  },
  {
   "cell_type": "code",
   "execution_count": null,
   "metadata": {},
   "outputs": [],
   "source": [
    "s1 = -5\n",
    "s2 = -5\n",
    "\n",
    "ts = np.linspace(0, 2, 100) #時間軸を表す等差数列　0〜2秒を100等分\n",
    "\n",
    "xs = np.exp(s1*ts) + np.exp(s2*ts)\n",
    "plot(ts, xs)"
   ]
  },
  {
   "cell_type": "markdown",
   "metadata": {},
   "source": [
    "### 考察 ―  (b) 重根\n",
    "\n",
    "* 「異なる２つの実数根」と同じ考察が通用する．\n",
    "\n",
    "> ### 考察 ― (a) 異なる２つの実数根\n",
    "> \n",
    "> * 実数根が全て負だと，収束する．１つでも正だと，発散する．"
   ]
  },
  {
   "cell_type": "markdown",
   "metadata": {},
   "source": [
    "### (c) 共役な虚根"
   ]
  },
  {
   "cell_type": "markdown",
   "metadata": {},
   "source": [
    "* 例えば，$x(t) = \\exp\\{(-5i) t\\} + \\exp\\{(5i) t\\}$\n",
    "\n",
    "※Python の虚数単位は`j`"
   ]
  },
  {
   "cell_type": "code",
   "execution_count": null,
   "metadata": {
    "scrolled": true
   },
   "outputs": [],
   "source": [
    "s1 = -5j\n",
    "s2 = 5j\n",
    "\n",
    "ts = np.linspace(0, 2, 100) #時間軸を表す等差数列　0〜2秒を100等分\n",
    "\n",
    "xs = np.exp(s1*ts) + np.exp(s2*ts)\n",
    "plot(ts, xs)"
   ]
  },
  {
   "cell_type": "markdown",
   "metadata": {},
   "source": [
    "※ 複素数列をプロットすると，虚部が無効化されて，実部だけしかプロットされないよ，というワーニングが出てる．"
   ]
  },
  {
   "cell_type": "markdown",
   "metadata": {},
   "source": [
    "#### 振動波形の値 `xs` を数値で見てみる．"
   ]
  },
  {
   "cell_type": "code",
   "execution_count": null,
   "metadata": {
    "scrolled": true
   },
   "outputs": [],
   "source": [
    "xs"
   ]
  },
  {
   "cell_type": "markdown",
   "metadata": {},
   "source": [
    "#### 解 `xs` の虚部を見てみると，全てゼロになっている．"
   ]
  },
  {
   "cell_type": "code",
   "execution_count": null,
   "metadata": {
    "scrolled": true
   },
   "outputs": [],
   "source": [
    "np.imag(xs)"
   ]
  },
  {
   "cell_type": "markdown",
   "metadata": {},
   "source": [
    "#### その一方で，解 `xs` の実部は，こんな感じで・・・"
   ]
  },
  {
   "cell_type": "code",
   "execution_count": null,
   "metadata": {},
   "outputs": [],
   "source": [
    "np.real(xs)"
   ]
  },
  {
   "cell_type": "markdown",
   "metadata": {},
   "source": [
    "#### この実部のグラフは，$\\cos$関数になっている．その周波数は，固有値の虚部の絶対値（この例では＝５）．"
   ]
  },
  {
   "cell_type": "code",
   "execution_count": null,
   "metadata": {},
   "outputs": [],
   "source": [
    "plot(ts, xs, label=r'$x(t)$')\n",
    "plt.legend()\n",
    "plot(ts, np.real(xs), label=r'Re[$x(t)$]')\n",
    "plt.legend()\n",
    "\n",
    "omega = np.abs(np.imag(s1)) #固有値の虚部の絶対値．共役だから s2 でも同じ\n",
    "xcos = 2*np.cos(omega*ts)\n",
    "plot(ts, xcos, label=r'$\\cos(%gt)$'%(omega))\n",
    "plt.legend()"
   ]
  },
  {
   "cell_type": "markdown",
   "metadata": {},
   "source": [
    "※ `xs` そのもののプロットでは，ワーニングが出るが，そもそも虚部は全て0なので，グラフは同じ．"
   ]
  },
  {
   "cell_type": "markdown",
   "metadata": {},
   "source": [
    "### 考察 ―  (c) 共役な虚数根\n",
    "\n",
    "* 共役な虚数根から作った $\\exp\\{(-5i) t\\}$ と $\\exp\\{(5i) t\\}$ を足すと，虚部はキャンセルされて消える．\n",
    "* 残った実部は，$\\cos$関数になる．その周波数は，固有値の虚部の絶対値．"
   ]
  },
  {
   "cell_type": "markdown",
   "metadata": {},
   "source": [
    "## 固有値によるダイナミクスの分類"
   ]
  },
  {
   "cell_type": "markdown",
   "metadata": {},
   "source": [
    "### 演習3.3\n",
    "\n",
    "質量 $m = 5.6$ kg，減衰係数 $c = 1.5$ Ns/m，ばね定数 $k = 7.8$ N/mの自由振動系の運動方程式は，\n",
    "\n",
    "* $5.6\\ddot x + 1.5\\dot x + 7.8x =0$\n",
    "\n",
    "となる．対応する固有方程式は，次の二次方程式となる．\n",
    "\n",
    "* $5.6s^2 + 1.5 s + 7.8 =0$\n",
    "\n",
    "上式を解くと，次の固有値が判明する．"
   ]
  },
  {
   "cell_type": "code",
   "execution_count": null,
   "metadata": {},
   "outputs": [],
   "source": [
    "np.roots([5.6, 1.5, 7.8]) #係数 5.6, 1.5, 7.8 の二次方程式の根を求める"
   ]
  },
  {
   "cell_type": "markdown",
   "metadata": {},
   "source": [
    "すなわち，この系の固有値は，実部$\\approx -0.134$，虚部$\\approx \\pm 1.173$ の共役複素数である．"
   ]
  },
  {
   "cell_type": "markdown",
   "metadata": {},
   "source": [
    "### 演習3.6"
   ]
  },
  {
   "cell_type": "markdown",
   "metadata": {},
   "source": [
    "直前の固有値を表3.1と照合すると，実部が負で，虚部有りなので，判別結果は「減衰振動」である．"
   ]
  },
  {
   "cell_type": "code",
   "execution_count": null,
   "metadata": {},
   "outputs": [],
   "source": []
  }
 ],
 "metadata": {
  "kernelspec": {
   "display_name": "Python 3",
   "language": "python",
   "name": "python3"
  },
  "language_info": {
   "codemirror_mode": {
    "name": "ipython",
    "version": 3
   },
   "file_extension": ".py",
   "mimetype": "text/x-python",
   "name": "python",
   "nbconvert_exporter": "python",
   "pygments_lexer": "ipython3",
   "version": "3.8.8"
  }
 },
 "nbformat": 4,
 "nbformat_minor": 4
}
