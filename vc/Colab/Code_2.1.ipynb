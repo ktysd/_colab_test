{
 "cells": [
  {
   "cell_type": "markdown",
   "metadata": {},
   "source": [
    "# 自由振動のモデル\n",
    "\n",
    "吉田勝俊（宇都宮大学）"
   ]
  },
  {
   "cell_type": "markdown",
   "metadata": {},
   "source": [
    "## 参考情報\n",
    "\n",
    "- [Pythonで運動方程式を解く(odeint) - Qiita](https://qiita.com/binaryneutronstar/items/ad5efa27fd626826846f)\n",
    "- [[Python] Numpyの参照、抽出、結合 - Qiita](https://qiita.com/supersaiakujin/items/d63c73bb7b5aac43898a)\n",
    "- [[Python/matplotlib] FuncAnimationを理解して使う - Qiita](https://qiita.com/osanshouo/items/3c66781f41884694838b)"
   ]
  },
  {
   "cell_type": "code",
   "execution_count": null,
   "metadata": {},
   "outputs": [],
   "source": [
    "import numpy as np                              #数値計算ライブラリ\n",
    "from numpy.linalg import norm                   #ベクトルのノルム\n",
    "from scipy.integrate import odeint              #常微分方程式ライブラリ\n",
    "import matplotlib.pyplot as plt                 #描画ライブラリ\n",
    "from matplotlib import rc                       #グラフ調整ライブラリ\n",
    "#Colab用の設定（グラフィックのインライン表示）\n",
    "%matplotlib inline\n",
    "#Colab用の設定（TeX形式の高品位な数式）\n",
    "rc('text', usetex=True)"
   ]
  },
  {
   "cell_type": "markdown",
   "metadata": {},
   "source": [
    "## 自由振動系の運動方程式"
   ]
  },
  {
   "cell_type": "code",
   "execution_count": null,
   "metadata": {},
   "outputs": [],
   "source": [
    "def EOM(x, t, m, c, k):\n",
    "    '''\n",
    "    自由振動系の運動方程式を表す関数（１階化したもの）\n",
    "    '''\n",
    "    x1, x2 = x\n",
    "    dxdt = np.array([\n",
    "        x2,\n",
    "        (-c*x2 - k*x1)/m,\n",
    "    ])\n",
    "    \n",
    "    return dxdt"
   ]
  },
  {
   "cell_type": "markdown",
   "metadata": {},
   "source": [
    "## 数値解"
   ]
  },
  {
   "cell_type": "code",
   "execution_count": null,
   "metadata": {},
   "outputs": [],
   "source": [
    "def Solve(m, c, k, x0, time):\n",
    "    '''\n",
    "    自由振動系の数値解を求める関数\n",
    "    '''\n",
    "\n",
    "    ###運動方程式を数値的に解く\n",
    "    motion = odeint(\n",
    "        EOM,            #運動方程式を表すユーザ関数\n",
    "        x0,             #初期条件\n",
    "        time,           #時間軸を表す数列\n",
    "        args=(m, c, k)  #運動方程式の係数\n",
    "    )\n",
    "  \n",
    "    return motion"
   ]
  },
  {
   "cell_type": "markdown",
   "metadata": {},
   "source": [
    "### 数値解を求める\n",
    "\n",
    "* パラメータ　$m=1$, $c=0.2$, $k=1$\n",
    "* 初期条件　$x(0)=2$, $\\dot x(0)=0$ （引っ張って止めた状態）"
   ]
  },
  {
   "cell_type": "markdown",
   "metadata": {},
   "source": [
    "初期条件をベクトルで表す．2だけ引っ張って（変位＝２），停止（速度＝０）"
   ]
  },
  {
   "cell_type": "code",
   "execution_count": null,
   "metadata": {},
   "outputs": [],
   "source": [
    "x0 = np.array([\n",
    "    2,  #初期変位 \n",
    "    0,  #初速度\n",
    "])\n",
    "\n",
    "print('x0 =', x0)"
   ]
  },
  {
   "cell_type": "markdown",
   "metadata": {},
   "source": [
    "時間軸を表す等差数列はこんな感じ．"
   ]
  },
  {
   "cell_type": "code",
   "execution_count": null,
   "metadata": {},
   "outputs": [],
   "source": [
    "ts = np.linspace(0,20,100) #時間軸を表す数列（0〜20秒を100等分）\n",
    "print('time =', ts)"
   ]
  },
  {
   "cell_type": "markdown",
   "metadata": {},
   "source": [
    "運動方程式の数値解はこんな感じ．（変位，速度）の２次元ベクトルが，時刻ごとに，縦に並んでいます．\n",
    "これを*相軌道*と呼びました．"
   ]
  },
  {
   "cell_type": "code",
   "execution_count": null,
   "metadata": {},
   "outputs": [],
   "source": [
    "xs = Solve(m=1, c=0.2, k=1, x0=x0, time=ts)\n",
    "print('motion = ', xs)"
   ]
  },
  {
   "cell_type": "markdown",
   "metadata": {},
   "source": [
    "## 数値解の可視化"
   ]
  },
  {
   "cell_type": "markdown",
   "metadata": {},
   "source": [
    "### 数値解から成分を取り出す"
   ]
  },
  {
   "cell_type": "code",
   "execution_count": null,
   "metadata": {},
   "outputs": [],
   "source": [
    "x1s = xs[:,0]   #数値解の変位成分\n",
    "x2s = xs[:,1]   #数値解の速度成分"
   ]
  },
  {
   "cell_type": "markdown",
   "metadata": {},
   "source": [
    "### 変位の振動波形 $(t,x_1)$"
   ]
  },
  {
   "cell_type": "code",
   "execution_count": null,
   "metadata": {},
   "outputs": [],
   "source": [
    "plt.plot(ts, x1s)\n",
    "plt.xlabel('$t$', fontsize=20)\n",
    "plt.ylabel('$x_1(t)$', fontsize=20)"
   ]
  },
  {
   "cell_type": "markdown",
   "metadata": {},
   "source": [
    "### 速度の振動波形 $(t,x_2)$"
   ]
  },
  {
   "cell_type": "code",
   "execution_count": null,
   "metadata": {},
   "outputs": [],
   "source": [
    "plt.plot(ts, x2s)\n",
    "plt.xlabel('$t$', fontsize=20)\n",
    "plt.ylabel('$x_2(t)$', fontsize=20)"
   ]
  },
  {
   "cell_type": "markdown",
   "metadata": {},
   "source": [
    "### 相軌道 $(x_1,x_2)$"
   ]
  },
  {
   "cell_type": "code",
   "execution_count": null,
   "metadata": {},
   "outputs": [],
   "source": [
    "plt.plot(x1s, x2s)\n",
    "plt.xlabel('$x_1(t)$', fontsize=20)\n",
    "plt.ylabel('$x_2(t)$', fontsize=20)"
   ]
  },
  {
   "cell_type": "markdown",
   "metadata": {},
   "source": [
    "### アニメーション"
   ]
  },
  {
   "cell_type": "code",
   "execution_count": null,
   "metadata": {},
   "outputs": [],
   "source": [
    "from matplotlib.animation import FuncAnimation  #アニメーションライブラリ"
   ]
  },
  {
   "cell_type": "code",
   "execution_count": null,
   "metadata": {},
   "outputs": [],
   "source": [
    "def animate_motion(x1s):\n",
    "    '''\n",
    "    自由振動系の運動をアニメーションする関数\n",
    "    '''\n",
    "\n",
    "    fig = plt.figure(               #キャンバスを設ける\n",
    "#        figsize=plt.figaspect(3/2)  #縦横比 高さ / 幅\n",
    "        figsize=(2,3)  #幅, 高さ \n",
    "    )  \n",
    "    ax = fig.add_subplot(1, 1, 1)   #グラフ用紙を作る\n",
    "\n",
    "    w = 0.3 #描画する四角形の幅\n",
    "    h = 0.2 #描画する四角形の高さ\n",
    "\n",
    "    def each_frame(ti):\n",
    "        '''\n",
    "        パラパラマンガの1コマを描く関数\n",
    "        '''\n",
    "        ax.cla() #グラフをクリア\n",
    "\n",
    "        #ti番目の時刻における変位    \n",
    "        x1 = x1s[ti]  \n",
    "        points = np.array([ #四角形を一筆書きするための点列\n",
    "            [-w/2, x1-h/2],\n",
    "            [-w/2, x1+h/2],\n",
    "            [ w/2, x1+h/2],\n",
    "            [ w/2, x1-h/2],\n",
    "            [-w/2, x1-h/2],\n",
    "        ])\n",
    "\n",
    "        pxs = points[:,0] #点列のX成分だけの数列\n",
    "        pys = points[:,1] #点列のY成分だけの数列\n",
    "        \n",
    "        #時刻tiの各質点の描画\n",
    "        ax.plot(pxs, pys, '-', color='C1')\n",
    "\n",
    "        ax.set_ylabel('$x_1$', fontsize=16)\n",
    "        ax.set_xlim(-2,2)\n",
    "        ax.set_ylim(-3,3)\n",
    "        ax.grid()\n",
    "\n",
    "        fig.tight_layout()\n",
    "\n",
    "    anim = FuncAnimation(\n",
    "        fig, each_frame, \n",
    "        interval=80, frames=len(x1s)\n",
    "    )\n",
    "\n",
    "    rc('animation', html='jshtml')\n",
    "    return anim"
   ]
  },
  {
   "cell_type": "markdown",
   "metadata": {},
   "source": [
    "次のセルを実行して，現れた図形の再生ボタンをクリックすると，動画が動きます．"
   ]
  },
  {
   "cell_type": "code",
   "execution_count": null,
   "metadata": {},
   "outputs": [],
   "source": [
    "animate_motion(x1s) #若干時間を要します"
   ]
  },
  {
   "cell_type": "markdown",
   "metadata": {},
   "source": [
    "## 演習2.6"
   ]
  },
  {
   "cell_type": "markdown",
   "metadata": {},
   "source": [
    "同じ処理を繰り返すので，以上の処理を一括したユーザー関数を作っておきます．"
   ]
  },
  {
   "cell_type": "code",
   "execution_count": null,
   "metadata": {},
   "outputs": [],
   "source": [
    "def all_plot(m, c, k, x0, time):\n",
    "    '''\n",
    "        数値解を求めて，全ての表示方法で表示する関数\n",
    "    '''\n",
    "    \n",
    "    ### 数値解を求める\n",
    "    xs = Solve(m=m, c=c, k=k, x0=x0, time=time)\n",
    "    \n",
    "    x1s = xs[:,0]   #数値解の変位成分\n",
    "    x2s = xs[:,1]   #数値解の速度成分\n",
    "    \n",
    "    ### 振動波形を描く\n",
    "    plt.figure(figsize=(8,3)) #新しいグラフ用紙\n",
    "    plt.subplot(1,3,1) #グラフを1行3列表示の1番目\n",
    "    plt.plot(time, x1s) #変位の振動波形\n",
    "    plt.xlabel('$t$', fontsize=14)\n",
    "    plt.ylabel('$x_1(t)$', fontsize=14)\n",
    "    \n",
    "    plt.subplot(1,3,2) #グラフを1行3列表示の1番目\n",
    "    plt.plot(time, x2s) #速度の振動波形\n",
    "    plt.xlabel('$t$', fontsize=14)\n",
    "    plt.ylabel('$x_2(t)$', fontsize=14)\n",
    "    \n",
    "    ### 相軌道を描く\n",
    "    plt.subplot(1,3,3) #グラフを1行3列表示の3番目\n",
    "    plt.plot(x1s, x2s)\n",
    "    plt.xlabel('$x_1(t)$', fontsize=14)\n",
    "    plt.ylabel('$x_2(t)$', fontsize=14)\n",
    "    \n",
    "    plt.tight_layout() #レイアウト調整\n",
    "    plt.show() #強制出力\n",
    "\n",
    "    ### アニメーションする\n",
    "    print('Generating animation (Please wait) ... ', end='')\n",
    "    plt.figure() #新しいグラフ用紙\n",
    "    anim = animate_motion(x1s)\n",
    "    display(anim)\n"
   ]
  },
  {
   "cell_type": "markdown",
   "metadata": {},
   "source": [
    "共通の設定（初期条件，時間軸）"
   ]
  },
  {
   "cell_type": "code",
   "execution_count": null,
   "metadata": {},
   "outputs": [],
   "source": [
    "# 初期条件を表すベクトル\n",
    "x0 = np.array([\n",
    "    2,  #初期変位 \n",
    "    0,  #初速度\n",
    "])\n",
    "\n",
    "# 時間軸を表す等差数列\n",
    "ts = np.linspace(0,40,200) #ちょっと長めに0〜40秒を200等分"
   ]
  },
  {
   "cell_type": "markdown",
   "metadata": {},
   "source": [
    "* もっと長時間観察したいときは，`linspace`の`40`を増やせばできます！\n",
    "* その際，`200`を据え置くと，アニメーションが早回しになります．（単位時間当りのコマ数が減る）"
   ]
  },
  {
   "cell_type": "markdown",
   "metadata": {},
   "source": [
    "### (1) 単振動（一定振幅で振動する）\n",
    "\n",
    "* `m`, `c`, `k` を変更して，再現してください．"
   ]
  },
  {
   "cell_type": "code",
   "execution_count": null,
   "metadata": {},
   "outputs": [],
   "source": [
    "all_plot(m=1, c=0.2, k=1, x0=x0, time=ts)"
   ]
  },
  {
   "cell_type": "markdown",
   "metadata": {},
   "source": [
    "### (2) 減衰振動（振動しながら x = 0 に収束する）\n",
    "\n",
    "* `m`, `c`, `k` を変更して，再現してください．"
   ]
  },
  {
   "cell_type": "code",
   "execution_count": null,
   "metadata": {
    "scrolled": true
   },
   "outputs": [],
   "source": [
    "all_plot(m=1, c=0.2, k=1, x0=x0, time=ts)"
   ]
  },
  {
   "cell_type": "markdown",
   "metadata": {},
   "source": [
    "### (3) 無周期減衰運動（振動しないで x = 0 に収束する）\n",
    "\n",
    "* `m`, `c`, `k` を変更して，再現してください．"
   ]
  },
  {
   "cell_type": "code",
   "execution_count": null,
   "metadata": {
    "scrolled": true
   },
   "outputs": [],
   "source": [
    "all_plot(m=1, c=0.2, k=1, x0=x0, time=ts)"
   ]
  },
  {
   "cell_type": "code",
   "execution_count": null,
   "metadata": {},
   "outputs": [],
   "source": []
  }
 ],
 "metadata": {
  "kernelspec": {
   "display_name": "Python 3",
   "language": "python",
   "name": "python3"
  },
  "language_info": {
   "codemirror_mode": {
    "name": "ipython",
    "version": 3
   },
   "file_extension": ".py",
   "mimetype": "text/x-python",
   "name": "python",
   "nbconvert_exporter": "python",
   "pygments_lexer": "ipython3",
   "version": "3.6.7"
  }
 },
 "nbformat": 4,
 "nbformat_minor": 2
}
