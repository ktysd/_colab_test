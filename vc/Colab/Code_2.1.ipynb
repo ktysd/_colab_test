{
 "cells": [
  {
   "cell_type": "markdown",
   "metadata": {},
   "source": [
    "# 自由振動系の数値シミュレーション\n",
    "\n",
    "吉田勝俊（宇都宮大学）"
   ]
  },
  {
   "cell_type": "markdown",
   "metadata": {},
   "source": [
    "## 参考情報\n",
    "\n",
    "- [Pythonで運動方程式を解く(odeint) - Qiita](https://qiita.com/binaryneutronstar/items/ad5efa27fd626826846f)\n",
    "- [[Python] Numpyの参照、抽出、結合 - Qiita](https://qiita.com/supersaiakujin/items/d63c73bb7b5aac43898a)\n",
    "- [[Python/matplotlib] FuncAnimationを理解して使う - Qiita](https://qiita.com/osanshouo/items/3c66781f41884694838b)"
   ]
  },
  {
   "cell_type": "code",
   "execution_count": null,
   "metadata": {},
   "outputs": [],
   "source": [
    "import numpy as np                              #数値計算ライブラリ\n",
    "from numpy.linalg import norm                   #ベクトルのノルム\n",
    "from scipy.integrate import odeint              #常微分方程式ライブラリ\n",
    "import matplotlib.pyplot as plt                 #描画ライブラリ\n",
    "from matplotlib import rc                       #グラフ調整ライブラリ\n",
    "#Colab用の設定（グラフィックのインライン表示）\n",
    "%matplotlib inline"
   ]
  },
  {
   "cell_type": "markdown",
   "metadata": {},
   "source": [
    "## 自由振動系の運動方程式"
   ]
  },
  {
   "cell_type": "code",
   "execution_count": null,
   "metadata": {},
   "outputs": [],
   "source": [
    "def EOM(x, t, param):\n",
    "    '''\n",
    "    自由振動系の運動方程式を表す関数（１階化したもの）\n",
    "    '''\n",
    "    x1, x2  = x      #状態ベクトルの成分\n",
    "    m, c, k = param  #パラメータの成分\n",
    "    dxdt = np.array([\n",
    "        x2,\n",
    "        (-c*x2 - k*x1)/m,\n",
    "    ])\n",
    "    \n",
    "    return dxdt"
   ]
  },
  {
   "cell_type": "markdown",
   "metadata": {},
   "source": [
    "## 数値解"
   ]
  },
  {
   "cell_type": "code",
   "execution_count": null,
   "metadata": {},
   "outputs": [],
   "source": [
    "def Solve(eom, param, x0, time):\n",
    "    '''\n",
    "    自由振動系の数値解を求める関数\n",
    "    '''\n",
    "\n",
    "    ###運動方程式を数値的に解く\n",
    "    motion = odeint(\n",
    "        eom,            #運動方程式を表すユーザ関数\n",
    "        x0,             #初期条件\n",
    "        time,           #時間軸を表す数列\n",
    "        args=(param,)  #運動方程式の係数\n",
    "    )\n",
    "  \n",
    "    return motion"
   ]
  },
  {
   "cell_type": "markdown",
   "metadata": {},
   "source": [
    "### 数値解を求める\n",
    "\n",
    "* パラメータ　$m=1$, $c=0.2$, $k=1$\n",
    "* 初期条件　$x(0)=2$, $\\dot x(0)=0$ （引っ張って止めた状態）"
   ]
  },
  {
   "cell_type": "markdown",
   "metadata": {},
   "source": [
    "初期条件をベクトルで表す．2だけ引っ張って（変位＝２），停止（速度＝０）"
   ]
  },
  {
   "cell_type": "code",
   "execution_count": null,
   "metadata": {},
   "outputs": [],
   "source": [
    "X0 = [\n",
    "    2,  #初期変位 \n",
    "    0,  #初速度\n",
    "]\n",
    "\n",
    "print('x0 =', X0)"
   ]
  },
  {
   "cell_type": "markdown",
   "metadata": {},
   "source": [
    "パラメータをベクトルで表す．"
   ]
  },
  {
   "cell_type": "code",
   "execution_count": null,
   "metadata": {},
   "outputs": [],
   "source": [
    "Param = [\n",
    "    1,    # m: 質量 \n",
    "    0.2,  # c: 減衰係数\n",
    "    1,    # k: ばね定数\n",
    "]\n",
    "\n",
    "print('Parameter =', Param)"
   ]
  },
  {
   "cell_type": "markdown",
   "metadata": {},
   "source": [
    "時間軸を表す等差数列はこんな感じ．"
   ]
  },
  {
   "cell_type": "code",
   "execution_count": null,
   "metadata": {},
   "outputs": [],
   "source": [
    "ts = np.linspace(0,20,100) #時間軸を表す数列（0〜20秒を100等分）\n",
    "print('time =', ts)"
   ]
  },
  {
   "cell_type": "markdown",
   "metadata": {},
   "source": [
    "運動方程式の数値解はこんな感じ．（変位，速度）の２次元ベクトルが，時刻ごとに，縦に並んでいます．\n",
    "これを*相軌道*と呼びました．"
   ]
  },
  {
   "cell_type": "code",
   "execution_count": null,
   "metadata": {},
   "outputs": [],
   "source": [
    "xs = Solve(eom=EOM, param=Param, x0=X0, time=ts)\n",
    "print('motion = ', xs)"
   ]
  },
  {
   "cell_type": "markdown",
   "metadata": {},
   "source": [
    "## 数値解の可視化"
   ]
  },
  {
   "cell_type": "markdown",
   "metadata": {},
   "source": [
    "### 数値解から成分を取り出す"
   ]
  },
  {
   "cell_type": "code",
   "execution_count": null,
   "metadata": {},
   "outputs": [],
   "source": [
    "x1s = xs[:,0]   #数値解の変位成分\n",
    "x2s = xs[:,1]   #数値解の速度成分"
   ]
  },
  {
   "cell_type": "markdown",
   "metadata": {},
   "source": [
    "### 変位の振動波形 $(t,x_1)$"
   ]
  },
  {
   "cell_type": "code",
   "execution_count": null,
   "metadata": {},
   "outputs": [],
   "source": [
    "plt.plot(ts, x1s)\n",
    "plt.xlabel(r'$t$', fontsize=20)\n",
    "plt.ylabel(r'$x_1(t)$', fontsize=20)"
   ]
  },
  {
   "cell_type": "markdown",
   "metadata": {},
   "source": [
    "### 速度の振動波形 $(t,x_2)$"
   ]
  },
  {
   "cell_type": "code",
   "execution_count": null,
   "metadata": {},
   "outputs": [],
   "source": [
    "plt.plot(ts, x2s)\n",
    "plt.xlabel(r'$t$', fontsize=20)\n",
    "plt.ylabel(r'$x_2(t)$', fontsize=20)"
   ]
  },
  {
   "cell_type": "markdown",
   "metadata": {},
   "source": [
    "### 相軌道 $(x_1,x_2)$"
   ]
  },
  {
   "cell_type": "code",
   "execution_count": null,
   "metadata": {},
   "outputs": [],
   "source": [
    "plt.plot(x1s, x2s)\n",
    "plt.xlabel(r'$x_1(t)$', fontsize=20)\n",
    "plt.ylabel(r'$x_2(t)$', fontsize=20)"
   ]
  },
  {
   "cell_type": "markdown",
   "metadata": {},
   "source": [
    "### アニメーション"
   ]
  },
  {
   "cell_type": "code",
   "execution_count": null,
   "metadata": {},
   "outputs": [],
   "source": [
    "from matplotlib.animation import FuncAnimation  #アニメーションライブラリ"
   ]
  },
  {
   "cell_type": "code",
   "execution_count": null,
   "metadata": {},
   "outputs": [],
   "source": [
    "def animate_motion(x1s):\n",
    "    '''\n",
    "    自由振動系の運動をアニメーションする関数\n",
    "    '''\n",
    "\n",
    "    fig = plt.figure(               #キャンバスを設ける\n",
    "        figsize=(2,3)  #幅, 高さ \n",
    "    )  \n",
    "    ax = fig.add_subplot(1, 1, 1)   #グラフ用紙を作る\n",
    "\n",
    "    w = 0.3 #描画する四角形の幅\n",
    "    h = 0.2 #描画する四角形の高さ\n",
    "\n",
    "    def each_frame(ti):\n",
    "        '''\n",
    "        パラパラマンガの1コマを描く関数\n",
    "        '''\n",
    "        ax.cla() #グラフをクリア\n",
    "\n",
    "        #ti番目の時刻における変位    \n",
    "        x1 = x1s[ti]  \n",
    "        points = np.array([ #四角形を一筆書きするための点列\n",
    "            [-w/2, x1-h/2],\n",
    "            [-w/2, x1+h/2],\n",
    "            [ w/2, x1+h/2],\n",
    "            [ w/2, x1-h/2],\n",
    "            [-w/2, x1-h/2],\n",
    "        ])\n",
    "\n",
    "        pxs = points[:,0] #点列のX成分だけの数列\n",
    "        pys = points[:,1] #点列のY成分だけの数列\n",
    "        \n",
    "        #時刻tiの各質点の描画\n",
    "        ax.plot(pxs, pys, '-', color='C1')\n",
    "\n",
    "        ax.set_ylabel(r'$x_1$', fontsize=16)\n",
    "        ax.set_xlim(-2,2)\n",
    "        ax.set_ylim(-3,3)\n",
    "        ax.grid()\n",
    "\n",
    "        fig.tight_layout()\n",
    "\n",
    "    anim = FuncAnimation(\n",
    "        fig, each_frame, \n",
    "        interval=80, frames=len(x1s)\n",
    "    )\n",
    "\n",
    "    rc('animation', html='jshtml')\n",
    "    return anim"
   ]
  },
  {
   "cell_type": "markdown",
   "metadata": {},
   "source": [
    "次のセルを実行して，現れた図形の再生ボタンをクリックすると，動画が動きます．"
   ]
  },
  {
   "cell_type": "code",
   "execution_count": null,
   "metadata": {},
   "outputs": [],
   "source": [
    "animate_motion(x1s) #若干時間を要します"
   ]
  },
  {
   "cell_type": "markdown",
   "metadata": {},
   "source": [
    "## 演習2.6"
   ]
  },
  {
   "cell_type": "markdown",
   "metadata": {},
   "source": [
    "同じ処理を繰り返すので，以上の処理を一括したユーザー関数を作っておきます．"
   ]
  },
  {
   "cell_type": "code",
   "execution_count": null,
   "metadata": {},
   "outputs": [],
   "source": [
    "def all_plot(eom, param, x0, time):\n",
    "    '''\n",
    "        数値解を求めて，全ての表示方法で表示する関数\n",
    "    '''\n",
    "    \n",
    "    ### 数値解を求める\n",
    "    xs = Solve(eom, param, x0, time)\n",
    "    \n",
    "    x1s = xs[:,0]   #数値解の変位成分\n",
    "    x2s = xs[:,1]   #数値解の速度成分\n",
    "    \n",
    "    ### 振動波形を描く\n",
    "    plt.figure(figsize=(8,3)) #新しいグラフ用紙\n",
    "    plt.subplot(1,3,1) #グラフを1行3列表示の1番目\n",
    "    plt.plot(time, x1s) #変位の振動波形\n",
    "    plt.xlabel(r'$t$', fontsize=14)\n",
    "    plt.ylabel(r'$x_1(t)$', fontsize=14)\n",
    "    \n",
    "    plt.subplot(1,3,2) #グラフを1行3列表示の1番目\n",
    "    plt.plot(time, x2s) #速度の振動波形\n",
    "    plt.xlabel(r'$t$', fontsize=14)\n",
    "    plt.ylabel(r'$x_2(t)$', fontsize=14)\n",
    "    \n",
    "    ### 相軌道を描く\n",
    "    plt.subplot(1,3,3) #グラフを1行3列表示の3番目\n",
    "    plt.plot(x1s, x2s)\n",
    "    plt.xlabel(r'$x_1(t)$', fontsize=14)\n",
    "    plt.ylabel(r'$x_2(t)$', fontsize=14)\n",
    "    \n",
    "    plt.tight_layout() #レイアウト調整\n",
    "    plt.show() #強制出力\n",
    "\n",
    "    ### アニメーションする\n",
    "    print('Generating animation (Please wait) ... ', end='')\n",
    "    plt.figure() #新しいグラフ用紙\n",
    "    anim = animate_motion(x1s)\n",
    "    display(anim)\n"
   ]
  },
  {
   "cell_type": "markdown",
   "metadata": {},
   "source": [
    "共通の設定（初期条件，時間軸）"
   ]
  },
  {
   "cell_type": "code",
   "execution_count": null,
   "metadata": {},
   "outputs": [],
   "source": [
    "# 初期条件を表すベクトル\n",
    "x0 = [\n",
    "    2,  #初期変位 \n",
    "    0,  #初速度\n",
    "]\n",
    "\n",
    "# 時間軸を表す等差数列\n",
    "ts = np.linspace(0,40,200) #ちょっと長めに0〜40秒を200等分"
   ]
  },
  {
   "cell_type": "markdown",
   "metadata": {},
   "source": [
    "* もっと長時間観察したいときは，`linspace`の`40`を増やせばできます！\n",
    "* その際，`200`を据え置くと，アニメーションが早回しになります．（単位時間当りのコマ数が減る）"
   ]
  },
  {
   "cell_type": "markdown",
   "metadata": {},
   "source": [
    "### (1) 単振動（一定振幅で振動する）\n",
    "\n",
    "* `m`, `c`, `k` の値を変更・調整して，再現してください．"
   ]
  },
  {
   "cell_type": "code",
   "execution_count": null,
   "metadata": {},
   "outputs": [],
   "source": [
    "param = [\n",
    "    1,   # m\n",
    "    0.2, # c\n",
    "    1,   # k\n",
    "]\n",
    "\n",
    "all_plot(EOM, param, x0, ts)"
   ]
  },
  {
   "cell_type": "markdown",
   "metadata": {},
   "source": [
    "### (2) 減衰振動（振動しながら収束する）\n",
    "\n",
    "* `m`, `c`, `k` の値を変更・調整して，再現してください．"
   ]
  },
  {
   "cell_type": "code",
   "execution_count": null,
   "metadata": {
    "scrolled": true
   },
   "outputs": [],
   "source": [
    "param = [\n",
    "    1,   # m\n",
    "    0.2, # c\n",
    "    1,   # k\n",
    "]\n",
    "\n",
    "all_plot(EOM, param, x0, ts)"
   ]
  },
  {
   "cell_type": "markdown",
   "metadata": {},
   "source": [
    "### (3) 無周期減衰運動（振動しないで収束する）\n",
    "\n",
    "* `m`, `c`, `k` の値を変更・調整して，再現してください．"
   ]
  },
  {
   "cell_type": "code",
   "execution_count": null,
   "metadata": {
    "scrolled": true
   },
   "outputs": [],
   "source": [
    "param = [\n",
    "    1,   # m\n",
    "    0.2, # c\n",
    "    1,   # k\n",
    "]\n",
    "\n",
    "all_plot(EOM, param, x0, ts)"
   ]
  },
  {
   "cell_type": "markdown",
   "metadata": {},
   "source": [
    "# 非線形振動の例"
   ]
  },
  {
   "cell_type": "markdown",
   "metadata": {},
   "source": [
    "## 演習2.7\n",
    "\n",
    "### 粘性減衰力の代わりにクーロン摩擦を受ける自由振動系\n",
    "\n",
    "$m\\ddot x + kx = F_{dri}(\\dot x):=\n",
    "\\begin{cases}\n",
    " -\\mu R & (\\dot x>0)\n",
    " \\\\\n",
    " \\mu R  & (\\dot x<0)\n",
    " \\\\\n",
    " 0     & (\\dot x=0)\n",
    " \\\\\n",
    "\\end{cases}$\n",
    "\n",
    "を1階化すると，\n",
    "\n",
    "$\\begin{cases}\n",
    " \\dot x_1 = x_2\n",
    " \\\\\n",
    " \\dot x_2 =  -(k/m)x_1 + F_{dri}(x_2)/m \n",
    "\\end{cases}$"
   ]
  },
  {
   "cell_type": "code",
   "execution_count": null,
   "metadata": {},
   "outputs": [],
   "source": [
    "def EOM_dri(x, t, param):\n",
    "    '''\n",
    "    クーロン摩擦を受ける自由振動系の運動方程式を表す関数（１階化したもの）\n",
    "    '''\n",
    "    x1, x2      = x       #状態ベクトルの成分\n",
    "    m, k, mu, R = param   #パラメータの成分\n",
    "\n",
    "    def F_dri(dxdt, mu, R):\n",
    "        '''\n",
    "        クーロン摩擦を表す関数\n",
    "        '''\n",
    "        if dxdt > 0:\n",
    "            F = -mu*R\n",
    "        elif dxdt < 0:\n",
    "            F = mu*R\n",
    "        else:\n",
    "            F = 0\n",
    "            \n",
    "        return F\n",
    "    \n",
    "    dxdt = np.array([\n",
    "        x2,\n",
    "        ( - k*x1 + F_dri(x2, mu, R) )/m,\n",
    "    ])\n",
    "    \n",
    "    return dxdt"
   ]
  },
  {
   "cell_type": "code",
   "execution_count": null,
   "metadata": {},
   "outputs": [],
   "source": [
    "# 初期条件を表すベクトル\n",
    "x0 = [\n",
    "    2,  #初期変位 \n",
    "    0,  #初速度\n",
    "]\n",
    "\n",
    "# パラメータを表すベクトル\n",
    "param = [\n",
    "    1,   # m\n",
    "    1,   # k\n",
    "    0.3, # mu\n",
    "    0.2, # R\n",
    "]\n",
    "\n",
    "# 時間軸を表す等差数列\n",
    "ts = np.linspace(0,40,200) #ちょっと長めに0〜40秒を200等分\n",
    "\n",
    "# 数値解を求めて表示\n",
    "all_plot(EOM_dri, param, x0, ts)"
   ]
  },
  {
   "cell_type": "markdown",
   "metadata": {},
   "source": [
    "### クーロン摩擦による減衰の特徴\n",
    "\n",
    "* クーロン摩擦の場合は，振幅が直線的に減衰します．\n",
    "    * 粘性減衰のときは，指数関数的でした．\n",
    "\n",
    "#### <font color='red'>注意点</font>\n",
    "\n",
    "* $\\mu R$を大きくすると，数値解が不正になる不具合が発生します．\n",
    "* これは，$F_{dri}$がステップ状の不連続関数だからです．\n",
    "    * 一般に，不連続関数を含む常微分方程式は，数値解が不安定になりやすいです．\n",
    "* $F_{dri}$のステップの角を丸めると（ほんの僅かでよい）解消しますが，今回は省略します．"
   ]
  },
  {
   "cell_type": "markdown",
   "metadata": {},
   "source": [
    "## 演習2.8\n",
    "\n",
    "### 粘性減衰力の代わりに空気抵抗を受ける自由振動系\n",
    "\n",
    "$m\\ddot x + kx = F_{air}(\\dot x) := -\\alpha|\\dot x|\\dot x $\n",
    "\n",
    "を1階化すると，\n",
    "\n",
    "$\\begin{cases}\n",
    " \\dot x_1 = x_2\n",
    " \\\\\n",
    " \\dot x_2 =  -(k/m)x_1 + F_{air}(x_2)/m \n",
    "\\end{cases}$"
   ]
  },
  {
   "cell_type": "code",
   "execution_count": null,
   "metadata": {},
   "outputs": [],
   "source": [
    "from math import fabs #絶対値を求める関数をインポート\n",
    "\n",
    "def EOM_air(x, t, param):\n",
    "    '''\n",
    "    空気抵抗を受ける自由振動系の運動方程式を表す関数（１階化したもの）\n",
    "    '''\n",
    "    x1, x2  = x          #状態ベクトルの成分\n",
    "    m, k, alpha = param  #パラメータの成分\n",
    "\n",
    "    def F_air(dxdt, alpha):\n",
    "        '''\n",
    "        空気抵抗を表す関数\n",
    "        '''\n",
    "            \n",
    "        return -alpha * fabs(dxdt) * dxdt\n",
    "    \n",
    "    dxdt = np.array([\n",
    "        x2,\n",
    "        ( - k*x1 + F_air(x2, alpha) )/m,\n",
    "    ])\n",
    "    \n",
    "    return dxdt"
   ]
  },
  {
   "cell_type": "code",
   "execution_count": null,
   "metadata": {},
   "outputs": [],
   "source": [
    "# 初期条件を表すベクトル\n",
    "x0 = [\n",
    "    2,  #初期変位 \n",
    "    0,  #初速度\n",
    "]\n",
    "\n",
    "# パラメータを表すベクトル\n",
    "param = [\n",
    "    1,   # m\n",
    "    1,   # k\n",
    "    0.2, # alpha\n",
    "]\n",
    "\n",
    "# 時間軸を表す等差数列\n",
    "ts = np.linspace(0,40,200) #ちょっと長めに0〜40秒を200等分\n",
    "\n",
    "# 数値解を求めて表示\n",
    "all_plot(EOM_air, param, x0, ts)"
   ]
  },
  {
   "cell_type": "markdown",
   "metadata": {},
   "source": [
    "### 空気抵抗による減衰の特徴\n",
    "\n",
    "* 大振幅のときは急減衰しますが，少振幅になると減衰が弱まり，なかなか止まりません．2次関数なので．\n"
   ]
  },
  {
   "cell_type": "code",
   "execution_count": null,
   "metadata": {},
   "outputs": [],
   "source": []
  }
 ],
 "metadata": {
  "kernelspec": {
   "display_name": "Python 3",
   "language": "python",
   "name": "python3"
  },
  "language_info": {
   "codemirror_mode": {
    "name": "ipython",
    "version": 3
   },
   "file_extension": ".py",
   "mimetype": "text/x-python",
   "name": "python",
   "nbconvert_exporter": "python",
   "pygments_lexer": "ipython3",
   "version": "3.6.7"
  }
 },
 "nbformat": 4,
 "nbformat_minor": 2
}
