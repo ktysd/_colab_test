{
 "cells": [
  {
   "cell_type": "markdown",
   "id": "c4f9912d-24be-4920-953d-92c14c0baf76",
   "metadata": {},
   "source": [
    "# 調和励振系の正規形（数値シミュレーション）\n",
    "\n",
    "吉田勝俊（宇都宮大学）"
   ]
  },
  {
   "cell_type": "markdown",
   "id": "01b888cb-cb5f-4469-a72f-5fe8e2590897",
   "metadata": {},
   "source": [
    "## 参考情報\n",
    "\n",
    "- [【Python】行列指数関数・行列対数関数 - Qiita](https://qiita.com/Mrrmm252/items/a50a9b352e5064e40cc1)\n",
    "- [[Python] Numpyの参照、抽出、結合 - Qiita](https://qiita.com/supersaiakujin/items/d63c73bb7b5aac43898a)\n",
    "<!-- - [Pythonで運動方程式を解く(odeint) - Qiita](https://qiita.com/binaryneutronstar/items/ad5efa27fd626826846f) -->\n",
    "<!-- - [2つの信号間の遅延を推定する - Qiita](https://qiita.com/inoory/items/3ea2d447f6f1e8c40ffa) -->"
   ]
  },
  {
   "cell_type": "code",
   "execution_count": 8,
   "id": "8be3272c-9220-4fa2-a653-15594a1293d2",
   "metadata": {},
   "outputs": [],
   "source": [
    "%matplotlib inline\n",
    "\n",
    "import numpy as np                 #数値計算ライブラリ\n",
    "from scipy.linalg import expm      #行列指数関数\n",
    "import matplotlib.pyplot as plt    #描画ライブラリ\n",
    "plt_config = {\n",
    "    'font.size': 12,\n",
    "    'axes.labelsize': 14,\n",
    "    'axes.titlesize': 14,\n",
    "    'lines.linewidth': 1.5,\n",
    "    'text.usetex': True,\n",
    "}\n",
    "plt.rcParams.update(plt_config)"
   ]
  },
  {
   "cell_type": "markdown",
   "id": "01dab54d-97ae-4203-b1a1-933dd3fa7415",
   "metadata": {},
   "source": [
    "## ◯行列指数関数"
   ]
  },
  {
   "cell_type": "markdown",
   "id": "032480bb-8948-4b88-b652-d0f123c56e26",
   "metadata": {},
   "source": [
    "### ■指数関数"
   ]
  },
  {
   "cell_type": "code",
   "execution_count": 2,
   "id": "c0c498b7-94d5-4544-87da-82710e721ee6",
   "metadata": {},
   "outputs": [
    {
     "data": {
      "text/plain": [
       "7.38905609893065"
      ]
     },
     "execution_count": 2,
     "metadata": {},
     "output_type": "execute_result"
    }
   ],
   "source": [
    "np.exp(2) #普通の指数関数"
   ]
  },
  {
   "cell_type": "markdown",
   "id": "cf90eaed-3080-4638-872f-0c7d00ec6235",
   "metadata": {},
   "source": [
    "### ■行列指数関数"
   ]
  },
  {
   "cell_type": "markdown",
   "id": "637157eb-20d2-4332-98aa-73defc2d397a",
   "metadata": {},
   "source": [
    "#### お試し用の行列"
   ]
  },
  {
   "cell_type": "code",
   "execution_count": 19,
   "id": "3f63dc1b-fa25-4330-843a-c49c4fd78830",
   "metadata": {},
   "outputs": [
    {
     "data": {
      "text/plain": [
       "array([[ 0,  1],\n",
       "       [-2, -3]])"
      ]
     },
     "metadata": {},
     "output_type": "display_data"
    }
   ],
   "source": [
    "A = np.array([\n",
    "    [0, 1],\n",
    "    [-2, -3]\n",
    "])\n",
    "display(A)"
   ]
  },
  {
   "cell_type": "markdown",
   "id": "2d2d97ac-a830-40cb-bfe4-edb66d5da963",
   "metadata": {},
   "source": [
    "#### （誤）Numpy の `exp` $\\neq$ 行列指数関数"
   ]
  },
  {
   "cell_type": "code",
   "execution_count": 20,
   "id": "86f1654a-7a65-477d-b819-f4a35a3a696a",
   "metadata": {},
   "outputs": [
    {
     "data": {
      "text/plain": [
       "array([[1.        , 2.71828183],\n",
       "       [0.13533528, 0.04978707]])"
      ]
     },
     "execution_count": 20,
     "metadata": {},
     "output_type": "execute_result"
    }
   ],
   "source": [
    "np.exp(A) #これは単なる各成分の指数関数値"
   ]
  },
  {
   "cell_type": "code",
   "execution_count": 21,
   "id": "2156304c-e303-46b6-9e5b-627790396356",
   "metadata": {},
   "outputs": [
    {
     "data": {
      "text/plain": [
       "(1.0, 2.718281828459045, 0.1353352832366127, 0.049787068367863944)"
      ]
     },
     "execution_count": 21,
     "metadata": {},
     "output_type": "execute_result"
    }
   ],
   "source": [
    "np.exp(A[0,0]), np.exp(A[0,1]), np.exp(A[1,0]), np.exp(A[1,1]) "
   ]
  },
  {
   "cell_type": "markdown",
   "id": "71eccfe5-9432-4d23-b59e-49096b3d8f08",
   "metadata": {},
   "source": [
    "#### （正）<font color=\"red\">Scipy の `expm` $=$ 行列指数関数</font>．"
   ]
  },
  {
   "cell_type": "code",
   "execution_count": 22,
   "id": "6edbb77d-1238-4280-b29c-ea319abcea6c",
   "metadata": {},
   "outputs": [
    {
     "data": {
      "text/plain": [
       "array([[ 0.6004236 ,  0.23254416],\n",
       "       [-0.46508832, -0.09720887]])"
      ]
     },
     "execution_count": 22,
     "metadata": {},
     "output_type": "execute_result"
    }
   ],
   "source": [
    "expm(A)"
   ]
  },
  {
   "cell_type": "code",
   "execution_count": null,
   "id": "97f05bc3-9fa4-45d4-b1b0-ed793762c0c6",
   "metadata": {},
   "outputs": [],
   "source": []
  }
 ],
 "metadata": {
  "kernelspec": {
   "display_name": "Python 3",
   "language": "python",
   "name": "python3"
  },
  "language_info": {
   "codemirror_mode": {
    "name": "ipython",
    "version": 3
   },
   "file_extension": ".py",
   "mimetype": "text/x-python",
   "name": "python",
   "nbconvert_exporter": "python",
   "pygments_lexer": "ipython3",
   "version": "3.8.8"
  }
 },
 "nbformat": 4,
 "nbformat_minor": 5
}
