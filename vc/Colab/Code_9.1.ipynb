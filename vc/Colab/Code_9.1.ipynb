{
 "cells": [
  {
   "cell_type": "markdown",
   "id": "c4f9912d-24be-4920-953d-92c14c0baf76",
   "metadata": {},
   "source": [
    "# 多自由度系の固有値解析\n",
    "\n",
    "吉田勝俊（宇都宮大学）"
   ]
  },
  {
   "cell_type": "markdown",
   "id": "01b888cb-cb5f-4469-a72f-5fe8e2590897",
   "metadata": {},
   "source": [
    "## 参考情報\n",
    "- [Pythonで運動方程式を解く(odeint) - Qiita](https://qiita.com/binaryneutronstar/items/ad5efa27fd626826846f)\n",
    "- [[Python] Numpyの参照、抽出、結合 - Qiita](https://qiita.com/supersaiakujin/items/d63c73bb7b5aac43898a)\n",
    "- [【Python】行列指数関数・行列対数関数 - Qiita](https://qiita.com/Mrrmm252/items/a50a9b352e5064e40cc1)"
   ]
  },
  {
   "cell_type": "code",
   "execution_count": 1,
   "id": "8be3272c-9220-4fa2-a653-15594a1293d2",
   "metadata": {},
   "outputs": [],
   "source": [
    "%matplotlib inline\n",
    "\n",
    "import numpy as np                 #数値計算ライブラリ\n",
    "from scipy.integrate import odeint #常微分方程式ライブラリ\n",
    "import scipy.linalg as la          #線形代数ライブラリ\n",
    "import matplotlib.pyplot as plt    #描画ライブラリ\n",
    "plt_config = {\n",
    "    'font.size': 12,\n",
    "    'axes.labelsize': 14,\n",
    "    'axes.titlesize': 14,\n",
    "    'lines.linewidth': 1.2,\n",
    "    'lines.markersize': 3,\n",
    "    'lines.markeredgewidth': 0.7,\n",
    "    'lines.markerfacecolor': 'white',\n",
    "    'lines.markeredgecolor': 'black',\n",
    "}\n",
    "plt.rcParams.update(plt_config)"
   ]
  },
  {
   "cell_type": "markdown",
   "id": "01dab54d-97ae-4203-b1a1-933dd3fa7415",
   "metadata": {},
   "source": [
    "## ◯行列指数関数"
   ]
  },
  {
   "cell_type": "markdown",
   "id": "032480bb-8948-4b88-b652-d0f123c56e26",
   "metadata": {},
   "source": [
    "### ■指数関数"
   ]
  },
  {
   "cell_type": "code",
   "execution_count": 2,
   "id": "c0c498b7-94d5-4544-87da-82710e721ee6",
   "metadata": {},
   "outputs": [
    {
     "data": {
      "text/plain": [
       "12.182493960703473"
      ]
     },
     "execution_count": 2,
     "metadata": {},
     "output_type": "execute_result"
    }
   ],
   "source": [
    "np.exp(2.5) #普通の指数関数"
   ]
  },
  {
   "cell_type": "markdown",
   "id": "cf90eaed-3080-4638-872f-0c7d00ec6235",
   "metadata": {},
   "source": [
    "### ■行列指数関数"
   ]
  },
  {
   "cell_type": "code",
   "execution_count": 3,
   "id": "3f63dc1b-fa25-4330-843a-c49c4fd78830",
   "metadata": {},
   "outputs": [
    {
     "data": {
      "text/plain": [
       "array([[ 0,  1],\n",
       "       [-3, -2]])"
      ]
     },
     "metadata": {},
     "output_type": "display_data"
    }
   ],
   "source": [
    "A = np.array([\n",
    "    [0, 1],\n",
    "    [-3, -2]\n",
    "])\n",
    "display(A)"
   ]
  },
  {
   "cell_type": "markdown",
   "id": "2d2d97ac-a830-40cb-bfe4-edb66d5da963",
   "metadata": {},
   "source": [
    "#### （誤）Numpy の `exp(行列)` $\\neq$ 行列指数関数"
   ]
  },
  {
   "cell_type": "code",
   "execution_count": 4,
   "id": "86f1654a-7a65-477d-b819-f4a35a3a696a",
   "metadata": {},
   "outputs": [
    {
     "data": {
      "text/plain": [
       "array([[1.        , 2.71828183],\n",
       "       [0.04978707, 0.13533528]])"
      ]
     },
     "execution_count": 4,
     "metadata": {},
     "output_type": "execute_result"
    }
   ],
   "source": [
    "np.exp(A) #これは単なる各成分の指数関数値"
   ]
  },
  {
   "cell_type": "code",
   "execution_count": 5,
   "id": "2156304c-e303-46b6-9e5b-627790396356",
   "metadata": {},
   "outputs": [
    {
     "name": "stdout",
     "output_type": "stream",
     "text": [
      "1.0\n",
      "2.718281828459045\n",
      "0.049787068367863944\n",
      "0.1353352832366127\n"
     ]
    }
   ],
   "source": [
    "for i in range(2):\n",
    "    for j in range(2):\n",
    "        print(np.exp(A[i,j])) "
   ]
  },
  {
   "cell_type": "markdown",
   "id": "71eccfe5-9432-4d23-b59e-49096b3d8f08",
   "metadata": {},
   "source": [
    "#### <font color=\"red\">（正）Scipy の `expm(行列)` $=$ 行列指数関数</font>．"
   ]
  },
  {
   "cell_type": "code",
   "execution_count": 6,
   "id": "6edbb77d-1238-4280-b29c-ea319abcea6c",
   "metadata": {},
   "outputs": [
    {
     "data": {
      "text/plain": [
       "array([[ 0.31431608,  0.2569476 ],\n",
       "       [-0.77084281, -0.19957912]])"
      ]
     },
     "execution_count": 6,
     "metadata": {},
     "output_type": "execute_result"
    }
   ],
   "source": [
    "la.expm(A)"
   ]
  },
  {
   "cell_type": "markdown",
   "id": "de834784-da44-4f9c-aaed-0678e859b34f",
   "metadata": {},
   "source": [
    "## ◯解の表示（多次元）"
   ]
  },
  {
   "cell_type": "code",
   "execution_count": 7,
   "id": "97f05bc3-9fa4-45d4-b1b0-ed793762c0c6",
   "metadata": {},
   "outputs": [],
   "source": [
    "def Simulation(A, x0, time):\n",
    "    '''\n",
    "    線形状態方程式 dx/dt = Ax を解く\n",
    "    by 有限差分法による数値シミュレーション\n",
    "    '''\n",
    "    def eom(x, t):\n",
    "        return A.dot(x)\n",
    "        \n",
    "    motion = odeint(\n",
    "        eom,   #運動方程式を表すユーザ関数\n",
    "        x0,    #初期条件\n",
    "        time   #時間軸を表す数列\n",
    "    )\n",
    "  \n",
    "    return motion\n",
    "\n",
    "def Solution_expA(A, x0, time):\n",
    "    '''\n",
    "    線形状態方程式 dx/dt = Ax の解を計算する\n",
    "    by 行列指数関数による表示 x(t)= exp(tA)x0\n",
    "    '''\n",
    "    motion = [] #空のリスト\n",
    "    for t in time:\n",
    "        motion.append( #各時刻の解をリストに追加\n",
    "            la.expm(t*A).dot(x0)\n",
    "        )\n",
    "  \n",
    "    return np.array(motion) #Numpy配列に変換して返す\n",
    "\n",
    "def plot_sim_vs_expA(A, x0, tminmax=[0,30], tn=200):\n",
    "    '''\n",
    "    数値シミュレーション vs 行列指数関数による解のプロット\n",
    "    '''\n",
    "    x0 = np.array(x0) #初期値\n",
    "    ts = np.linspace(*tminmax, tn) #時間軸\n",
    "    \n",
    "    xs_sim  = Simulation(A, x0, ts)\n",
    "    xs_expA = Solution_expA(A, x0, ts)\n",
    "    \n",
    "    fig, ax = plt.subplots(2,1,figsize=(6,4))\n",
    "\n",
    "    for i in range(2):\n",
    "        ax[i].plot(ts, xs_sim[:,i], 'o', \n",
    "                label=r'Simulation')\n",
    "        ax[i].plot(ts, xs_expA[:,i], '-', \n",
    "                label=r'$e^{tA}x_0$')\n",
    "        ax[i].legend()\n",
    "        ax[i].set_xlabel(r'$t$')\n",
    "        ax[i].set_ylabel(r'$x_%d$'%(i+1))"
   ]
  },
  {
   "cell_type": "markdown",
   "id": "3724b422-d777-4041-b08d-c55c942060b3",
   "metadata": {},
   "source": [
    "### 演習 9.1 ( 線形振動系の解の表示 )\n",
    "\n",
    "- 状態方程式: $\\displaystyle\n",
    "\\dot{\\boldsymbol{x}} = A\\boldsymbol{x}\n",
    ",\\quad\n",
    "\\boldsymbol{x}(0)=\\boldsymbol{x}_0\n",
    ",\\quad\n",
    "A:=\\begin{bmatrix}\n",
    "0 & 1\\\\\n",
    "-k/m & -c/m\n",
    "\\end{bmatrix}\n",
    "$\n",
    "- 行列指数関数による解の表示: $\\boldsymbol{x}(t)=e^{tA}\\boldsymbol{x}_0$"
   ]
  },
  {
   "cell_type": "code",
   "execution_count": 8,
   "id": "e74efbb9-4349-4593-950e-fb2640f95273",
   "metadata": {},
   "outputs": [],
   "source": [
    "def A_L1DOF(param):\n",
    "    '''\n",
    "    線形1自由度（linear 1-degree-of-freedom）\n",
    "    の振動系を表す行列\n",
    "    '''\n",
    "    m, c, k = param  #パラメータの成分\n",
    "    A = np.array([\n",
    "        [0, 1],\n",
    "        [-k/m, -c/m],\n",
    "    ])\n",
    "    \n",
    "    return A"
   ]
  },
  {
   "cell_type": "markdown",
   "id": "67d4b398-c440-4aa1-be9b-b281936515d2",
   "metadata": {},
   "source": [
    "#### ■数値例"
   ]
  },
  {
   "cell_type": "code",
   "execution_count": 9,
   "id": "75bf01d8-4838-426e-acef-a8657f907847",
   "metadata": {},
   "outputs": [
    {
     "data": {
      "image/png": "[encoded data removed]",
      "text/plain": [
       "<Figure size 432x288 with 2 Axes>"
      ]
     },
     "metadata": {
      "needs_background": "light"
     },
     "output_type": "display_data"
    }
   ],
   "source": [
    "param, x0 = [1, 0.2, 2], [1,0]\n",
    "\n",
    "plot_sim_vs_expA(A_L1DOF(param), x0)"
   ]
  },
  {
   "cell_type": "code",
   "execution_count": 10,
   "id": "ca4455de-6b08-44d0-b410-91e025eb690c",
   "metadata": {},
   "outputs": [
    {
     "data": {
      "image/png": "[encoded data removed]",
      "text/plain": [
       "<Figure size 432x288 with 2 Axes>"
      ]
     },
     "metadata": {
      "needs_background": "light"
     },
     "output_type": "display_data"
    }
   ],
   "source": [
    "param, x0 = [1, 2, 1], [1,2] #ちなみに固有値が重根の場合\n",
    "\n",
    "plot_sim_vs_expA(A_L1DOF(param), x0)"
   ]
  },
  {
   "cell_type": "markdown",
   "id": "6df4c061-a68d-44c8-b446-14bda5b4dafd",
   "metadata": {},
   "source": [
    "#### ■比較結果\n",
    "\n",
    "- シミュレーションと $e^{tA}\\boldsymbol{x}_0$ の結果は，パラメータや初期値を変えても一致します！"
   ]
  },
  {
   "cell_type": "markdown",
   "id": "9da9de3e-b63f-4262-bea0-8365d6516c7e",
   "metadata": {},
   "source": [
    "## ◯固有値と固有ベクトル"
   ]
  },
  {
   "cell_type": "markdown",
   "id": "582f0564-2365-4712-b4b3-ec68b5c164a7",
   "metadata": {},
   "source": [
    "### 演習 9.3 ( 振動と行列の固有値の数値計算 )"
   ]
  },
  {
   "cell_type": "markdown",
   "id": "5e981c3e-674e-4db5-b331-cee5aad1a9c1",
   "metadata": {},
   "source": [
    "#### ■$s^2 + 3s + 2 = 0$ の根"
   ]
  },
  {
   "cell_type": "code",
   "execution_count": 11,
   "id": "71535c89-274c-428d-a5da-f153a73b9a45",
   "metadata": {},
   "outputs": [
    {
     "data": {
      "text/plain": [
       "array([-2., -1.])"
      ]
     },
     "execution_count": 11,
     "metadata": {},
     "output_type": "execute_result"
    }
   ],
   "source": [
    "np.roots([1, 3, 2])"
   ]
  },
  {
   "cell_type": "markdown",
   "id": "303849ad-5598-4d42-9ad8-b9f17b7068e1",
   "metadata": {},
   "source": [
    "#### ■行列 $\\begin{bmatrix}0&1\\\\-2&-3\\end{bmatrix}$ の固有値"
   ]
  },
  {
   "cell_type": "code",
   "execution_count": 12,
   "id": "771f25e9-2469-4532-bc3f-88ced5ffa386",
   "metadata": {},
   "outputs": [],
   "source": [
    "B = np.array([\n",
    "    [ 0,  1],\n",
    "    [-2, -3]\n",
    "])"
   ]
  },
  {
   "cell_type": "markdown",
   "id": "1dad17b0-3188-464d-88f1-9c481e52c645",
   "metadata": {},
   "source": [
    "固有値 $s_i$ と固有ベクトル $\\boldsymbol{v}_i$ を求めます\n",
    "- `ss`: $\\boldsymbol{s}:=[s_1,\\cdots,s_n]$ 固有値を並べた配列 \n",
    "- `U`: $U:=[\\boldsymbol{u}_1,\\cdots,\\boldsymbol{u}_n]$ 単位固有ベクトルを並べた行列"
   ]
  },
  {
   "cell_type": "code",
   "execution_count": 13,
   "id": "82bacd70-f3f7-4200-bbcf-d4944505c92d",
   "metadata": {},
   "outputs": [
    {
     "name": "stdout",
     "output_type": "stream",
     "text": [
      "[-1.+0.j -2.+0.j]\n"
     ]
    }
   ],
   "source": [
    "ss, U = la.eig(B)\n",
    "\n",
    "print(ss)"
   ]
  },
  {
   "cell_type": "markdown",
   "id": "c725f429-8e19-4fa9-8a38-820784afd2cb",
   "metadata": {},
   "source": [
    "固有方程式と同じ固有値が得られました．\n",
    "\n",
    "- <font color='red'>2次方程式の根と順序が違いますが，これは単に`roots`と`eig`の仕様（結果の並べ方）の違いです．</font>\n",
    "- 行列の固有値には虚部 `0.j` = 0 が見えてますが，これも単なる仕様の問題です．"
   ]
  },
  {
   "cell_type": "markdown",
   "id": "f1f8adb6-f313-4c54-9923-8253395dcf8e",
   "metadata": {},
   "source": [
    "固有値とその単位固有ベクトルを並べて表示してみます．"
   ]
  },
  {
   "cell_type": "code",
   "execution_count": 14,
   "id": "e3d9f567-6867-4ae9-b5d9-895e49339d2f",
   "metadata": {},
   "outputs": [
    {
     "name": "stdout",
     "output_type": "stream",
     "text": [
      "s = (-1+0j) : u = [ 0.70710678 -0.70710678]\n",
      "s = (-2+0j) : u = [-0.4472136   0.89442719]\n"
     ]
    }
   ],
   "source": [
    "for i, s in enumerate(ss):\n",
    "    u = U[:,i] #固有ベクトル＝計算結果の列ベクトル\n",
    "    print( 's =', s, ': u =', u)"
   ]
  },
  {
   "cell_type": "markdown",
   "id": "43d25213-623d-4bb9-b8bb-800543530134",
   "metadata": {},
   "source": [
    "例題9.3の手計算の結果 $s=-1:\\boldsymbol{v}=(1,-1)^T$，$s=-2:\\boldsymbol{v}=(1,-2)^T$ と比較すると，\n",
    "- 同じ固有値が得られている．\n",
    "- スカラ倍の違いを除き，同じ固有ベクトルが得られている．"
   ]
  },
  {
   "cell_type": "markdown",
   "id": "b6a4fcdc-dd2f-4581-8637-d110a1527e2e",
   "metadata": {},
   "source": [
    "## ◯複素共役による実数化"
   ]
  },
  {
   "cell_type": "markdown",
   "id": "324dc6f7-9613-4e8d-98c6-73e03240bb0c",
   "metadata": {},
   "source": [
    "### 演習 9.4 ( 初期値の展開の数値計算 )"
   ]
  },
  {
   "cell_type": "code",
   "execution_count": 15,
   "id": "21492811-fd0e-4078-9b0a-64e32ead7c05",
   "metadata": {},
   "outputs": [],
   "source": [
    "A = np.array([ #固有値が複素数になるような行列\n",
    "    [0, 1],\n",
    "    [-1, -1]\n",
    "])"
   ]
  },
  {
   "cell_type": "markdown",
   "id": "8fe2b0fd-e24b-4964-b917-c41b25c0d741",
   "metadata": {},
   "source": [
    "#### ■固有値と単位固有ベクトル"
   ]
  },
  {
   "cell_type": "code",
   "execution_count": 16,
   "id": "0348e55c-204a-4ff1-8538-de7b794274f0",
   "metadata": {},
   "outputs": [
    {
     "name": "stdout",
     "output_type": "stream",
     "text": [
      "s = (-0.49999999999999994+0.8660254037844385j) : u = [ 0.70710678+0.j         -0.35355339+0.61237244j]\n",
      "s = (-0.49999999999999994-0.8660254037844385j) : u = [ 0.70710678-0.j         -0.35355339-0.61237244j]\n"
     ]
    }
   ],
   "source": [
    "ss, U = la.eig(A)\n",
    "\n",
    "#uu1 = np.array([U[:,i] for i in range(len(ss))]) #列ベクトルが固有ベクトル\n",
    "uu = U.transpose() #上記よりシンプルな等価処理\n",
    "\n",
    "for s, u in zip(ss, uu):\n",
    "    print('s =', s, ': u =', u)"
   ]
  },
  {
   "cell_type": "markdown",
   "id": "eadbd816-3c32-4f2d-96fe-183f042a4e42",
   "metadata": {},
   "source": [
    "- 固有値・固有ベクトルが，確かに，共役複素数のペアで得られている"
   ]
  },
  {
   "cell_type": "markdown",
   "id": "758a2495-8b0f-43be-a1bb-1b575659fce2",
   "metadata": {},
   "source": [
    "#### ■初期値の展開係数"
   ]
  },
  {
   "cell_type": "code",
   "execution_count": 17,
   "id": "c025ad8f-a248-475a-acc5-d63c568a396b",
   "metadata": {},
   "outputs": [],
   "source": [
    "x0 = np.array([5, 6]) #適当な初期値"
   ]
  },
  {
   "cell_type": "code",
   "execution_count": 18,
   "id": "3e1a01aa-1df2-4dd0-92f5-257ed355ab0d",
   "metadata": {},
   "outputs": [
    {
     "name": "stdout",
     "output_type": "stream",
     "text": [
      "[3.53553391-6.94022094j 3.53553391+6.94022094j]\n"
     ]
    }
   ],
   "source": [
    "etas = la.inv(U).dot(x0) #初期値の展開係数\n",
    "print(etas)"
   ]
  },
  {
   "cell_type": "markdown",
   "id": "6ce13cf7-17af-4a7a-838c-297916b80d75",
   "metadata": {},
   "source": [
    "- 展開係数も，共役複素数のペアになっている"
   ]
  },
  {
   "cell_type": "markdown",
   "id": "363bb184-661b-45f3-aa6b-b6b55fff9898",
   "metadata": {},
   "source": [
    "#### ■初期値の復元（実数化）"
   ]
  },
  {
   "cell_type": "code",
   "execution_count": 19,
   "id": "c59db492-b756-4101-a8c0-7ca0c5c024b0",
   "metadata": {},
   "outputs": [
    {
     "name": "stdout",
     "output_type": "stream",
     "text": [
      "[5.+0.0000000e+00j 6.-8.8817842e-16j]\n"
     ]
    }
   ],
   "source": [
    "dim = len(ss) #次元\n",
    "\n",
    "x0_rec = np.zeros(dim) #ゼロベクトル\n",
    "for eta, u in zip(etas, uu): #展開係数*固有ベクトル の線形結合\n",
    "    x0_rec = x0_rec + eta*u  \n",
    "\n",
    "print(x0_rec)"
   ]
  },
  {
   "cell_type": "markdown",
   "id": "2aab910a-b422-4bc1-9387-e863356489b6",
   "metadata": {},
   "source": [
    "- 虚部の計算機誤差$\\approx -8\\times 10^{-16}$ を除けば，元の実数ベクトル `[5,6]` が復元されている．"
   ]
  },
  {
   "cell_type": "markdown",
   "id": "2d7c03ee-0d0d-43fb-909e-954bbfd74086",
   "metadata": {},
   "source": [
    "#### ■微小な計算機誤差を除去する処理を追加 ※見づらいので"
   ]
  },
  {
   "cell_type": "code",
   "execution_count": 20,
   "id": "92ca17f8-f41f-4691-8e0b-fb7d2e5a0ac7",
   "metadata": {},
   "outputs": [
    {
     "data": {
      "text/plain": [
       "array([5.+0.j, 6.+0.j])"
      ]
     },
     "execution_count": 20,
     "metadata": {},
     "output_type": "execute_result"
    }
   ],
   "source": [
    "def chop(array):\n",
    "    '''\n",
    "    微小な計算機誤差を除去する\n",
    "    '''\n",
    "    tol = 1e-10 #許容誤差（微小な数）\n",
    "\n",
    "    #実部\n",
    "    re = np.real(array)\n",
    "    re[np.abs(re)<tol] = 0 #tol以下の項を0に\n",
    "\n",
    "    #虚部\n",
    "    if np.iscomplexobj(array):\n",
    "        im = np.imag(array)\n",
    "        im[np.abs(im)<tol] = 0 #tol以下の項を0に\n",
    "    else:\n",
    "        im = np.zeros_like(re)\n",
    "    \n",
    "    return re + 1j*im\n",
    "\n",
    "chop(x0_rec)"
   ]
  },
  {
   "cell_type": "markdown",
   "id": "2c6be0e3-b664-4f0e-b0eb-ed40448a3e1f",
   "metadata": {},
   "source": [
    "## ◯固有値によるダイナミクスの分類"
   ]
  },
  {
   "cell_type": "code",
   "execution_count": 21,
   "id": "194fe2ec-5a60-4b1c-be92-7313a8d32f82",
   "metadata": {},
   "outputs": [],
   "source": [
    "def plot_multidim(ts, xs):\n",
    "    '''\n",
    "    多次元の解をプロットする\n",
    "    '''\n",
    "    tn, dim = np.shape(xs)\n",
    "\n",
    "    fig, ax = plt.subplots(1,1,figsize=(6,2))\n",
    "\n",
    "    ax.plot(ts, xs, '-')\n",
    "    ax.set_xlabel(r'$t$')\n",
    "    ax.set_ylabel(r'$x_i$')\n",
    "\n",
    "    labels = [r'$x_%d$'%(i+1) for i in range(dim)]\n",
    "    ax.legend(labels=labels, loc='lower right')\n",
    "    ax.grid()"
   ]
  },
  {
   "cell_type": "markdown",
   "id": "2bf3ac4d-bdc5-440f-9cfd-898d557c3ca6",
   "metadata": {},
   "source": [
    "### 演習 9.5 ( モード展開の数値計算 )"
   ]
  },
  {
   "cell_type": "code",
   "execution_count": 22,
   "id": "f7171c19-5af4-499d-961a-4855cdd50877",
   "metadata": {},
   "outputs": [],
   "source": [
    "A = np.array([ #お試し用の行列\n",
    "    [  0,   1,  0,  0],\n",
    "    [0.1, 0.1,  0,  0],\n",
    "    [  0,   0,  0,  1],\n",
    "    [  0,   0, -1, -1],\n",
    "])"
   ]
  },
  {
   "cell_type": "markdown",
   "id": "4d56b302-46c5-4c54-848b-7c78378c8cb7",
   "metadata": {},
   "source": [
    "#### 固有値と単位固有ベクトル"
   ]
  },
  {
   "cell_type": "code",
   "execution_count": 23,
   "id": "8b4c30a5-9687-4b97-a4ba-3b984ec9f07d",
   "metadata": {},
   "outputs": [
    {
     "name": "stdout",
     "output_type": "stream",
     "text": [
      "s = (-0.2701562118716424+0j)\n",
      ": u = [-0.96539112+0.j  0.26080641+0.j  0.        +0.j  0.        +0.j]\n",
      "----------\n",
      "s = (0.3701562118716425+0j)\n",
      ": u = [-0.93781416+0.j -0.34713774+0.j  0.        +0.j  0.        +0.j]\n",
      "----------\n",
      "s = (-0.49999999999999994+0.8660254037844385j)\n",
      ": u = [ 0.        +0.j          0.        +0.j          0.70710678+0.j\n",
      " -0.35355339+0.61237244j]\n",
      "----------\n",
      "s = (-0.49999999999999994-0.8660254037844385j)\n",
      ": u = [ 0.        +0.j          0.        +0.j          0.70710678+0.j\n",
      " -0.35355339-0.61237244j]\n",
      "----------\n"
     ]
    }
   ],
   "source": [
    "ss, U = la.eig(A)\n",
    "uu = U.transpose()\n",
    "\n",
    "for s, u in zip(chop(ss), chop(uu)):\n",
    "    print('s =', s)\n",
    "    print(': u =', u)\n",
    "    print('----------')"
   ]
  },
  {
   "cell_type": "markdown",
   "id": "0ee6248c-74c8-4809-bba6-549ce993d4d9",
   "metadata": {},
   "source": [
    "- (負の実根, 正の実根，複素数，その共役）が得られました．\n",
    "- 共役な複素根に対しては，共役な複素固有ベクトルが得られています．"
   ]
  },
  {
   "cell_type": "markdown",
   "id": "09016016-0252-48b7-8b58-543b63146341",
   "metadata": {},
   "source": [
    "#### 初期値の展開係数"
   ]
  },
  {
   "cell_type": "code",
   "execution_count": 24,
   "id": "3eb53e9e-b7c6-414f-ac63-7617373e595a",
   "metadata": {},
   "outputs": [],
   "source": [
    "x0 = np.array([1, -1, 2, 4]) #適当な初期値"
   ]
  },
  {
   "cell_type": "code",
   "execution_count": 25,
   "id": "8de2cda7-76dc-4910-a2a8-24923504d269",
   "metadata": {},
   "outputs": [
    {
     "name": "stdout",
     "output_type": "stream",
     "text": [
      "(-2.2165363367186606+0j)\n",
      "(1.215405516872803+0j)\n",
      "(1.414213562373095-4.082482904638631j)\n",
      "(1.4142135623730954+4.082482904638631j)\n"
     ]
    }
   ],
   "source": [
    "etas = la.inv(U).dot(x0) #初期値の展開係数\n",
    "\n",
    "for eta in chop(etas):\n",
    "    print(eta)"
   ]
  },
  {
   "cell_type": "markdown",
   "id": "3bafa21d-c961-4444-9e7f-b643b1fbe80f",
   "metadata": {},
   "source": [
    "- 共役な固有ベクトルに掛かる展開係数は，やはり共役になっています．"
   ]
  },
  {
   "cell_type": "markdown",
   "id": "d41492e8-242b-46e8-9ae4-08c691697591",
   "metadata": {},
   "source": [
    "#### 時間軸"
   ]
  },
  {
   "cell_type": "code",
   "execution_count": 26,
   "id": "d33c6c67-bbfa-44b0-9d70-6b2faec88d73",
   "metadata": {},
   "outputs": [],
   "source": [
    "ts = np.linspace(0,10,200) #時間軸"
   ]
  },
  {
   "cell_type": "markdown",
   "id": "66ba0b1c-d8cb-4239-aa91-76e5a551cd1e",
   "metadata": {},
   "source": [
    "#### ■「（a）実根 < 0」の成分"
   ]
  },
  {
   "cell_type": "code",
   "execution_count": 27,
   "id": "17115bfb-8094-4f69-9ba0-bcd78bf5b6a2",
   "metadata": {},
   "outputs": [
    {
     "data": {
      "text/plain": [
       "(-0.2701562118716424+0j)"
      ]
     },
     "execution_count": 27,
     "metadata": {},
     "output_type": "execute_result"
    }
   ],
   "source": [
    "ss[0]"
   ]
  },
  {
   "cell_type": "code",
   "execution_count": 28,
   "id": "eb14976d-e664-4028-88c4-bba85c7fa3e6",
   "metadata": {},
   "outputs": [],
   "source": [
    "xa_minus = np.array([\n",
    "    etas[0]*np.exp(ss[0]*t)*uu[0]\n",
    "    for t in ts\n",
    "])\n",
    "\n",
    "xa_minus = chop(xa_minus) #計算機誤差の除去"
   ]
  },
  {
   "cell_type": "markdown",
   "id": "711f8d10-6fcd-4e31-88a7-f82985567393",
   "metadata": {},
   "source": [
    "虚部の大きさを確認"
   ]
  },
  {
   "cell_type": "code",
   "execution_count": 29,
   "id": "eba91bb0-eb7b-46b4-ae7f-94be03e65be6",
   "metadata": {},
   "outputs": [
    {
     "name": "stdout",
     "output_type": "stream",
     "text": [
      "size of imaginary =  0.0\n"
     ]
    }
   ],
   "source": [
    "print('size of imaginary = ', la.norm(np.imag(xa_minus)))"
   ]
  },
  {
   "cell_type": "markdown",
   "id": "e188054f-77a7-467b-97b6-193291dcd592",
   "metadata": {},
   "source": [
    "虚部は0なので，実部だけプロット"
   ]
  },
  {
   "cell_type": "code",
   "execution_count": 30,
   "id": "a7c71ec8-84cd-4ac8-95f3-4be07391423a",
   "metadata": {},
   "outputs": [
    {
     "data": {
      "image/png": "[encoded data removed]",
      "text/plain": [
       "<Figure size 432x144 with 1 Axes>"
      ]
     },
     "metadata": {
      "needs_background": "light"
     },
     "output_type": "display_data"
    }
   ],
   "source": [
    "plot_multidim(ts, np.real(xa_minus))"
   ]
  },
  {
   "cell_type": "markdown",
   "id": "25df4300-af22-4d62-8489-b8841d1b072e",
   "metadata": {},
   "source": [
    "- 負の実根に対応する，非振動減衰が見て取れます．"
   ]
  },
  {
   "cell_type": "markdown",
   "id": "2e0f5992-7895-443c-af4c-089010f397f9",
   "metadata": {},
   "source": [
    "#### ■「（a）実根 > 0」の成分"
   ]
  },
  {
   "cell_type": "code",
   "execution_count": 31,
   "id": "abb8ce12-889b-4328-93ff-23bf2a9f9b65",
   "metadata": {},
   "outputs": [
    {
     "data": {
      "text/plain": [
       "(0.3701562118716425+0j)"
      ]
     },
     "execution_count": 31,
     "metadata": {},
     "output_type": "execute_result"
    }
   ],
   "source": [
    "ss[1]"
   ]
  },
  {
   "cell_type": "code",
   "execution_count": 32,
   "id": "25050a47-d482-49a0-bbe9-aa7e042388ac",
   "metadata": {},
   "outputs": [],
   "source": [
    "xa_plus = np.array([\n",
    "    etas[1]*np.exp(ss[1]*t)*uu[1]\n",
    "    for t in ts\n",
    "])\n",
    "\n",
    "xa_plus = chop(xa_plus) #計算機誤差の除去"
   ]
  },
  {
   "cell_type": "markdown",
   "id": "394d1cc2-8db2-4249-b404-1e31b2c88b55",
   "metadata": {},
   "source": [
    "虚部の大きさを確認しながらプロット"
   ]
  },
  {
   "cell_type": "code",
   "execution_count": 33,
   "id": "254b3da3-196a-4f17-8a80-d13d1de0c552",
   "metadata": {},
   "outputs": [
    {
     "name": "stdout",
     "output_type": "stream",
     "text": [
      "size of imaginary =  0.0\n"
     ]
    },
    {
     "data": {
      "image/png": "[encoded data removed]",
      "text/plain": [
       "<Figure size 432x144 with 1 Axes>"
      ]
     },
     "metadata": {
      "needs_background": "light"
     },
     "output_type": "display_data"
    }
   ],
   "source": [
    "print('size of imaginary = ', la.norm(np.imag(xa_plus)))\n",
    "plot_multidim(ts, np.real(xa_plus))"
   ]
  },
  {
   "cell_type": "markdown",
   "id": "44f233bd-ea2a-4e49-a4cb-b8f3f17c3236",
   "metadata": {},
   "source": [
    "- 正の実根に対応する，非振動発散が見られます．"
   ]
  },
  {
   "cell_type": "markdown",
   "id": "e57199c9-0065-4b0d-ba75-54501da4d6ad",
   "metadata": {},
   "source": [
    "#### ■「（c）共役な複素根」の成分"
   ]
  },
  {
   "cell_type": "code",
   "execution_count": 34,
   "id": "7e12a9b8-9733-4683-9dba-ede7b0ec81ba",
   "metadata": {},
   "outputs": [
    {
     "data": {
      "text/plain": [
       "((-0.49999999999999994+0.8660254037844385j),\n",
       " (-0.49999999999999994-0.8660254037844385j))"
      ]
     },
     "execution_count": 34,
     "metadata": {},
     "output_type": "execute_result"
    }
   ],
   "source": [
    "ss[2], ss[3]"
   ]
  },
  {
   "cell_type": "code",
   "execution_count": 35,
   "id": "25baf7b5-b85e-4e26-be96-8baab6c6df6d",
   "metadata": {},
   "outputs": [],
   "source": [
    "xc = np.array([\n",
    "    etas[2]*np.exp(ss[2]*t)*uu[2] + etas[3]*np.exp(ss[3]*t)*uu[3]\n",
    "    for t in ts\n",
    "])\n",
    "\n",
    "xc = chop(xc) #計算機誤差の除去"
   ]
  },
  {
   "cell_type": "markdown",
   "id": "3e8c4b03-9421-4fa3-8fe5-828269ddce44",
   "metadata": {},
   "source": [
    "虚部の大きさを確認しながらプロット"
   ]
  },
  {
   "cell_type": "code",
   "execution_count": 36,
   "id": "3198050d-5e33-4f00-8606-751ab3f0c313",
   "metadata": {},
   "outputs": [
    {
     "name": "stdout",
     "output_type": "stream",
     "text": [
      "size of imaginary =  0.0\n"
     ]
    },
    {
     "data": {
      "image/png": "[encoded data removed]",
      "text/plain": [
       "<Figure size 432x144 with 1 Axes>"
      ]
     },
     "metadata": {
      "needs_background": "light"
     },
     "output_type": "display_data"
    }
   ],
   "source": [
    "print('size of imaginary = ', la.norm(np.imag(xc)))\n",
    "plot_multidim(ts, np.real(xc))"
   ]
  },
  {
   "cell_type": "markdown",
   "id": "63a2ece1-f7ee-4a05-9115-9800fdbe928f",
   "metadata": {},
   "source": [
    "- 実部が負の共役な複素根に対応する減衰振動が見て取れます．"
   ]
  },
  {
   "cell_type": "markdown",
   "id": "426cf50d-799f-4e3f-93ed-9bfe284cce10",
   "metadata": {},
   "source": [
    "#### ■楕円軌道の公式の検証"
   ]
  },
  {
   "cell_type": "code",
   "execution_count": 37,
   "id": "f057f9cc-c1f5-4881-ad16-4ab676c029b0",
   "metadata": {},
   "outputs": [],
   "source": [
    "def EE(omt, u, eta):\n",
    "    '''\n",
    "    楕円軌道の公式\n",
    "    '''\n",
    "    etaR,  etaI  = np.real(eta), np.imag(eta)\n",
    "    uR,    uI    = np.real(u),   np.imag(u)\n",
    "    Ec =  2*(etaR*uR - etaI*uI)\n",
    "    Es = -2*(etaI*uR + etaR*uI)\n",
    "    \n",
    "    return np.cos(omt)*Ec + np.sin(omt)*Es "
   ]
  },
  {
   "cell_type": "code",
   "execution_count": 38,
   "id": "7dfc1835-fbcd-4005-bf26-cdf214cbaf05",
   "metadata": {},
   "outputs": [
    {
     "name": "stdout",
     "output_type": "stream",
     "text": [
      "difference =  0.0\n"
     ]
    }
   ],
   "source": [
    "s, u, eta = ss[2], uu[2], etas[2]\n",
    "gamma, omega = np.real(s), np.imag(s)\n",
    "\n",
    "xc_E = np.array([\n",
    "    np.exp(gamma*t)*EE(omega*t, u, eta)\n",
    "    for t in ts\n",
    "])\n",
    "\n",
    "diff_xc = chop(xc - xc_E) #共役複素数の成分と公式との差\n",
    "print('difference = ', la.norm(diff_xc))"
   ]
  },
  {
   "cell_type": "markdown",
   "id": "943e21b1-361e-46ec-bb46-ad0bea5d44f6",
   "metadata": {},
   "source": [
    "- 公式は合ってます．"
   ]
  },
  {
   "cell_type": "markdown",
   "id": "10868434-4474-4de7-b1f7-5f3c3b994e17",
   "metadata": {},
   "source": [
    "#### ■（ｄ）異なるダイナミクスの総和"
   ]
  },
  {
   "cell_type": "code",
   "execution_count": 39,
   "id": "6d1ab1da-d6b4-4251-99c6-f4b28cb477af",
   "metadata": {},
   "outputs": [
    {
     "data": {
      "text/plain": [
       "((-0.2701562118716424+0j),\n",
       " (0.3701562118716425+0j),\n",
       " (-0.49999999999999994+0.8660254037844385j),\n",
       " (-0.49999999999999994-0.8660254037844385j))"
      ]
     },
     "execution_count": 39,
     "metadata": {},
     "output_type": "execute_result"
    }
   ],
   "source": [
    "ss[0], ss[1], ss[2], ss[3]"
   ]
  },
  {
   "cell_type": "code",
   "execution_count": 40,
   "id": "3efdecdb-1f89-4ffc-b63a-35ab9a55a490",
   "metadata": {},
   "outputs": [],
   "source": [
    "xsum = xa_minus + xa_plus + xc #全ての総和\n",
    "# xsum = np.array([ #改めて総和し直す書き方　※上記と等価\n",
    "#     sum(etas[i]*np.exp(ss[i]*t)*uu[i] for i in range(len(ss)))\n",
    "#     for t in ts\n",
    "# ])\n",
    "\n",
    "xsum = chop(xsum) #計算機誤差の除去"
   ]
  },
  {
   "cell_type": "markdown",
   "id": "3db23881-b0e5-4c62-b119-6435e573bba5",
   "metadata": {},
   "source": [
    "虚部の大きさを確認しながらプロット"
   ]
  },
  {
   "cell_type": "code",
   "execution_count": 41,
   "id": "a04e32f5-70f0-426c-9f41-4462cb82bbd7",
   "metadata": {},
   "outputs": [
    {
     "name": "stdout",
     "output_type": "stream",
     "text": [
      "size of imaginary =  0.0\n"
     ]
    },
    {
     "data": {
      "image/png": "[encoded data removed]",
      "text/plain": [
       "<Figure size 432x144 with 1 Axes>"
      ]
     },
     "metadata": {
      "needs_background": "light"
     },
     "output_type": "display_data"
    }
   ],
   "source": [
    "print('size of imaginary = ', la.norm(np.imag(xsum)))\n",
    "plot_multidim(ts, np.real(xsum))"
   ]
  },
  {
   "cell_type": "markdown",
   "id": "c0108849-ca79-4d0c-8b80-7b47bfbae415",
   "metadata": {},
   "source": [
    "- $\\boldsymbol{x}(t)=$ （全成分の総和）のプロットです．\n",
    "- 「（a）実根 > 0」成分の発散が勝って，$\\boldsymbol{x}(t)$は全体としては発散します．"
   ]
  },
  {
   "cell_type": "code",
   "execution_count": null,
   "id": "b64e5f3d-1299-4e79-91a7-74b3c48ae563",
   "metadata": {},
   "outputs": [],
   "source": []
  }
 ],
 "metadata": {
  "kernelspec": {
   "display_name": "Python 3",
   "language": "python",
   "name": "python3"
  },
  "language_info": {
   "codemirror_mode": {
    "name": "ipython",
    "version": 3
   },
   "file_extension": ".py",
   "mimetype": "text/x-python",
   "name": "python",
   "nbconvert_exporter": "python",
   "pygments_lexer": "ipython3",
   "version": "3.8.8"
  }
 },
 "nbformat": 4,
 "nbformat_minor": 5
}
