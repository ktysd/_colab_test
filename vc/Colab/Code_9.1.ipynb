{
 "cells": [
  {
   "cell_type": "markdown",
   "id": "c4f9912d-24be-4920-953d-92c14c0baf76",
   "metadata": {},
   "source": [
    "# 動吸振器\n",
    "\n",
    "吉田勝俊（宇都宮大学）"
   ]
  },
  {
   "cell_type": "markdown",
   "id": "01b888cb-cb5f-4469-a72f-5fe8e2590897",
   "metadata": {},
   "source": [
    "## 参考情報\n",
    "- [Welcome to SymPy’s documentation! &#8212; SymPy 1.10.1 documentation](https://docs.sympy.org/) （本家）\n",
    "- [SymPy による数式処理とグラフ作成 - 弘前大学 Home Sweet Home](https://home.hirosaki-u.ac.jp/jupyter/sympy/)\n",
    "- [Pythonで運動方程式を解く(odeint) - Qiita](https://qiita.com/binaryneutronstar/items/ad5efa27fd626826846f)\n",
    "- [[Python] Numpyの参照、抽出、結合 - Qiita](https://qiita.com/supersaiakujin/items/d63c73bb7b5aac43898a)\n",
    "- [【Python】行列指数関数・行列対数関数 - Qiita](https://qiita.com/Mrrmm252/items/a50a9b352e5064e40cc1)"
   ]
  },
  {
   "cell_type": "code",
   "execution_count": null,
   "id": "8be3272c-9220-4fa2-a653-15594a1293d2",
   "metadata": {},
   "outputs": [],
   "source": [
    "%matplotlib inline\n",
    "\n",
    "import sympy as sym #数式処理ライブラリ\n",
    "import numpy as np                 #数値計算ライブラリ\n",
    "from scipy.integrate import odeint #常微分方程式ライブラリ\n",
    "import scipy.linalg as la          #線形代数ライブラリ\n",
    "import matplotlib.pyplot as plt    #描画ライブラリ\n",
    "plt_config = {\n",
    "    'font.size': 12,\n",
    "    'axes.labelsize': 14,\n",
    "    'axes.titlesize': 14,\n",
    "    'lines.linewidth': 1.2,\n",
    "    'lines.markersize': 3,\n",
    "    'lines.markeredgewidth': 0.7,\n",
    "    'lines.markerfacecolor': 'white',\n",
    "    'lines.markeredgecolor': 'black',\n",
    "}\n",
    "plt.rcParams.update(plt_config)"
   ]
  },
  {
   "cell_type": "code",
   "execution_count": null,
   "id": "3a5ca4ab-6321-4f6f-8ad4-42e3a266bf73",
   "metadata": {},
   "outputs": [],
   "source": [
    "def display_results(result_dic, keys):\n",
    "    '''\n",
    "    計算結果の内容の表示する\n",
    "    '''\n",
    "    for key in keys:\n",
    "        print(key, '= ')\n",
    "        value = result_dic[key]\n",
    "        \n",
    "        if isinstance(value, list):\n",
    "            display(sym.Matrix(value).T)\n",
    "        else:\n",
    "            display(result_dic[key])\n",
    "            \n",
    "        print('-----')"
   ]
  },
  {
   "cell_type": "markdown",
   "id": "ea98f751-36f4-443f-b0bc-6dccb3c9130d",
   "metadata": {},
   "source": [
    "## ◯状態方程式の導出\n",
    "\n",
    "### ■ユーザー関数"
   ]
  },
  {
   "cell_type": "code",
   "execution_count": null,
   "id": "1ce8d7f7-b7bc-4df8-9e83-3ffedffeced2",
   "metadata": {},
   "outputs": [],
   "source": [
    "def Derive_ELE(system):\n",
    "    '''\n",
    "    オイラー・ラグランジュ方程式（ELE: Euler-Lagrange equation）\n",
    "    「左辺＝０」の左辺を導出する関数\n",
    "    \n",
    "    def system():    \n",
    "        t: 時間（スカラ）\n",
    "        q: 一般化座標（ベクトル）\n",
    "        L: ラグランジュ関数（スカラ）\n",
    "        D: 散逸関数（スカラ）\n",
    "        Q: 一般化力（ベクトル）\n",
    "        u: 外部入力（ベクトル）※線形化で用いる\n",
    "        plist: パラメータ（リスト）\n",
    "        \n",
    "        return {'t':t, 'q':q, 'L':L, 'D':D, 'Q':Q, 'u':u, 'plist':plist} #辞書型\n",
    "    '''\n",
    "    t, q, L, D, Q, u = [ #plistは未使用\n",
    "        system()[key]\n",
    "        for key in ['t','q','L','D','Q','u']\n",
    "    ]\n",
    "    dqdt             = sym.diff(q, t) #一般化座標の時間微分\n",
    "    dim              = len(q)         #一般化座標の次元\n",
    "    \n",
    "    ### ラグランジュの運動方程式 ###\n",
    "    EOM = sym.Matrix([\n",
    "        sym.simplify(\n",
    "            sym.diff( sym.diff(L, dqdt[i]), t )\n",
    "            - sym.diff(L, q[i])\n",
    "            + sym.diff(D, dqdt[i])\n",
    "            - (Q[i] if Q is not None else 0) #Q が無ければ 0\n",
    "        )\n",
    "        for i in range(dim)\n",
    "    ])\n",
    "    \n",
    "    ELE = {'EOM':EOM}\n",
    "    ELE.update(system()) #system()の結果を継承\n",
    "\n",
    "    return ELE"
   ]
  },
  {
   "cell_type": "code",
   "execution_count": null,
   "id": "15b0c40b-3b8a-4968-a20c-6710b19649f0",
   "metadata": {
    "scrolled": true
   },
   "outputs": [],
   "source": [
    "def FirstOrdered(ELE):\n",
    "    '''\n",
    "    運動方程式を1階化するユーザ関数\n",
    "    - ELE := Derive_ELE(system)の出力\n",
    "    '''\n",
    "    EOMq, q, t, u = [\n",
    "        ELE[key]\n",
    "        for key in ['EOM','q','t','u']\n",
    "    ]\n",
    "\n",
    "    ### 状態ベクトルの生成 ###\n",
    "    # 実体\n",
    "    xq = sym.Matrix(\n",
    "        [qi for qi in q] \n",
    "        + #リストの + は連結\n",
    "        [sym.diff(qi, t) for qi in q]\n",
    "    )\n",
    "\n",
    "    # 通し番号\n",
    "    x = sym.Matrix([\n",
    "        sym.Function(r'x_' + str(i+1), real=True)(t)\n",
    "        for i in range(len(xq))\n",
    "    ])\n",
    "\n",
    "    # 加速度（通し番号）\n",
    "    accel = sym.Matrix([\n",
    "        sym.diff(xi, t)\n",
    "        for xi in x\n",
    "    ])\n",
    "\n",
    "    ### 状態ベクトルの生成 ###\n",
    "    dim = len(q)\n",
    "    EOMx = []\n",
    "    for eqn in EOMq:\n",
    "        \n",
    "        #運動方程式を通し番号の状態ベクトルで表す\n",
    "        for i in range(dim):\n",
    "            eqn = eqn.subs(xq[dim+i], x[dim+i])\n",
    "            eqn = eqn.subs(xq[i], x[i])\n",
    "            \n",
    "        EOMx.append(eqn)\n",
    "\n",
    "    ### 加速度について解く ###\n",
    "    sols = sym.solve(EOMx, accel[dim:])\n",
    "    \n",
    "    ### 1階化した運動方程式 dx/dt = f(x) の右辺 ###\n",
    "    fx = sym.Matrix(\n",
    "        x[dim:] \n",
    "        + [sols[a].simplify() for a in accel[dim:]]\n",
    "    )\n",
    "\n",
    "    first_ordered = {'fx':fx, 'x':x, 'xq':xq}\n",
    "    first_ordered.update(ELE) #ELEを継承\n",
    "    \n",
    "    return first_ordered"
   ]
  },
  {
   "cell_type": "code",
   "execution_count": null,
   "id": "01c7861b-f21b-4e60-a798-35d7eaa755ec",
   "metadata": {},
   "outputs": [],
   "source": [
    "def initial_state(x0, x0symb, x):\n",
    "    '''\n",
    "    線形化の基準点が未指定なら記号で生成する\n",
    "    '''\n",
    "    if x0 is None:\n",
    "        if len(x) == 1:  #基準点がスカラ（1次元）の場合\n",
    "            x0 = sym.Matrix([x0symb])\n",
    "        else:            #基準点がベクトル（多次元）の場合\n",
    "            x0 = sym.Matrix([\n",
    "                sym.symbols(x0symb + '_' + str(i+1)) for i in range(len(x))\n",
    "            ])\n",
    "\n",
    "    else:\n",
    "        x0 = sym.Matrix(x0)\n",
    "    return x0"
   ]
  },
  {
   "cell_type": "code",
   "execution_count": null,
   "id": "bb1a7eac-0ea7-465b-8263-027795b06974",
   "metadata": {},
   "outputs": [],
   "source": [
    "def Linearized(first_ordered, x0=None, u0=None):\n",
    "    '''\n",
    "    1階化した運動方程式を，x0 の近傍で線形化する\n",
    "    - first_ordered ... FirstOrdered(ELE) の出力\n",
    "    '''\n",
    "    fx, x, xq, t, u = [\n",
    "        first_ordered[key]\n",
    "        for key in ['fx','x','xq','t','u']\n",
    "    ]\n",
    "\n",
    "    # 状態ベクトルに関するヤコビ行列\n",
    "    dfxdx = fx.jacobian(x)          #ヤコビ行列\n",
    "    x0 = initial_state(x0, 'x0', x) #基準点の準備\n",
    "    for xi, x0i, in zip(x, x0):     #基準点の代入（状態）\n",
    "        dfxdx = dfxdx.subs(xi, x0i)\n",
    "\n",
    "    dfxdx = sym.simplify(dfxdx)\n",
    "        \n",
    "    jacobi_x = {'A':dfxdx, 'x0':x0} #(ヤコビ行列，基準点)\n",
    "    \n",
    "    # 外部入力に関するヤコビ行列\n",
    "    if u is not None: #もし外部入力が存在すれば\n",
    "        dfxdu = fx.jacobian(u)          #ヤコビ行列\n",
    "        u0 = initial_state(u0, 'u0', u) #基準点の準備\n",
    "        for ui, u0i, in zip(u, u0):     #基準点の代入（入力）\n",
    "            dfxdu = dfxdu.subs(ui, u0i)\n",
    "        for xi, x0i, in zip(x, x0):     #基準点の代入（状態）\n",
    "            dfxdu = dfxdu.subs(xi, x0i)\n",
    "            \n",
    "        dfxdu = sym.simplify(dfxdu)\n",
    "        jacobi_u = {'B':dfxdu, 'u0':u0} #(ヤコビ行列，基準点)\n",
    "        \n",
    "    else:\n",
    "        jacobi_u = {'B':None, 'u0':None}\n",
    "\n",
    "    ### 結果（辞書型） ###\n",
    "    linearized = {}\n",
    "    linearized.update(jacobi_u)      #xの(ヤコビ行列，基準点)をマージ\n",
    "    linearized.update(jacobi_x)      #uの(ヤコビ行列，基準点)をマージ\n",
    "    linearized.update(first_ordered) #継承\n",
    "        \n",
    "    return linearized"
   ]
  },
  {
   "cell_type": "markdown",
   "id": "ba8074d7-be58-4907-ab2f-8da11b9c6874",
   "metadata": {},
   "source": [
    "### ■動吸振器（DVA: dynamic vibration absorber）\n",
    "\n",
    "- 一般化座標: $(q_1,q_2)$"
   ]
  },
  {
   "cell_type": "code",
   "execution_count": null,
   "id": "47e05ffe-166d-4a72-b22d-fc96331cf4f0",
   "metadata": {},
   "outputs": [],
   "source": [
    "def system_DVA():\n",
    "    '''\n",
    "    システムを定義する関数（動吸振器）\n",
    "    '''\n",
    "    # パラメータ: \n",
    "    t, m, c1, k1, a, c2, k2 = sym.symbols(\n",
    "        r't m c1 k1 a c2 k2', \n",
    "        positive=True #正の実数に制限 ※なるべく制限すると simplify がよく効く．以下同．\n",
    "    )\n",
    "    plist = [m, c1, k1, a, c2, k2] #パラメータのリスト\n",
    "    \n",
    "    # 一般化座標（時間関数）: \n",
    "    q = sym.Matrix([\n",
    "        sym.Function(r'q1', real=True)(t),\n",
    "        sym.Function(r'q2', real=True)(t),\n",
    "    ])\n",
    "        \n",
    "    dq = sym.diff(q, t) #その時間微分\n",
    "    \n",
    "    # 運動エネルギー\n",
    "    T = (m/2)*(dq[0])**2 + (a*m/2)*(dq[1])**2\n",
    "    \n",
    "    # 位置エネルギー\n",
    "    U = (k1/2)*(q[0])**2  + (k2/2)*(q[1]-q[0])**2\n",
    "    \n",
    "    # ラグランジュ関数\n",
    "    L = T - U\n",
    "\n",
    "    # 散逸関数\n",
    "    D = (c1/2)*(dq[0])**2 + (c2/2)*(dq[1]-dq[0])**2\n",
    "\n",
    "    # 外部入力\n",
    "    u = sym.Matrix([ sym.Function(r'u', real=True)(t) ])\n",
    "    \n",
    "    # 一般化力（主系の質点のみに外力が作用）\n",
    "    Q = sym.Matrix([\n",
    "        u[0], \n",
    "        0 \n",
    "    ])\n",
    "\n",
    "    return {'t':t, 'q':q, 'L':L, 'D':D, 'Q':Q, 'u':u, 'plist':plist}"
   ]
  },
  {
   "cell_type": "markdown",
   "id": "7621f05e-6ba2-4ff5-b4fa-58fc62a3425f",
   "metadata": {},
   "source": [
    "#### 運動方程式"
   ]
  },
  {
   "cell_type": "code",
   "execution_count": null,
   "id": "2b0e6e15-5d61-451f-87b2-ce3cde7732ba",
   "metadata": {
    "scrolled": true
   },
   "outputs": [],
   "source": [
    "ele_DVA = Derive_ELE(system_DVA)\n",
    "\n",
    "display_results(ele_DVA, ['EOM', 'q'])"
   ]
  },
  {
   "cell_type": "markdown",
   "id": "b508e93b-447d-45b5-b730-7ba9f80577fa",
   "metadata": {},
   "source": [
    "#### 1階化"
   ]
  },
  {
   "cell_type": "code",
   "execution_count": null,
   "id": "2b0a8808-1cd8-4149-8e8d-3caa87d3b945",
   "metadata": {},
   "outputs": [],
   "source": [
    "first_DVA = FirstOrdered(ele_DVA)\n",
    "\n",
    "display_results(first_DVA, ['fx','x','xq'])"
   ]
  },
  {
   "cell_type": "markdown",
   "id": "1db19647-9553-4df9-88a4-0f101b059fa9",
   "metadata": {},
   "source": [
    "#### ☆線形状態方程式の導出結果（LSE: linear state equation）\n",
    "\n",
    "- 行列を取り出すのに，`Linearized()` が流用できる"
   ]
  },
  {
   "cell_type": "code",
   "execution_count": null,
   "id": "ba0c09a3-4f53-44c0-acc8-20152d903d0f",
   "metadata": {
    "scrolled": true
   },
   "outputs": [],
   "source": [
    "lse_DVA = Linearized(first_DVA)\n",
    "\n",
    "display_results(lse_DVA, ['xq', 'A', 'x0', 'B', 'u0'])"
   ]
  },
  {
   "cell_type": "markdown",
   "id": "953a43bd-5aa7-4c50-9d6b-dd22a5f7e80c",
   "metadata": {},
   "source": [
    "## ◯伝達関数行列"
   ]
  },
  {
   "cell_type": "code",
   "execution_count": null,
   "id": "3020f83f-66a7-4abf-a70d-b86aa15dcd0a",
   "metadata": {},
   "outputs": [],
   "source": [
    "def TransFuncMat(linearized):\n",
    "    '''\n",
    "    線形状態方程式から伝達関数行列を計算する\n",
    "    - linearized ... Linearized(first_ordered)の出力\n",
    "    '''\n",
    "    A = linearized['A']\n",
    "    B = linearized['B']\n",
    "    nrow, ncol = A.shape\n",
    "    \n",
    "    s = sym.symbols('s')\n",
    "    E = sym.eye(nrow)\n",
    "    \n",
    "    G = (s*E - A)**(-1)*B\n",
    "    G = sym.simplify(G)\n",
    "    \n",
    "    trans_func_mat = {'G':G, 's':s}\n",
    "    trans_func_mat.update(linearized) #継承\n",
    "    \n",
    "    return trans_func_mat"
   ]
  },
  {
   "cell_type": "code",
   "execution_count": null,
   "id": "ba652937-86e4-4e9f-ba69-c218cd28c69e",
   "metadata": {},
   "outputs": [],
   "source": [
    "Gs_DVA = TransFuncMat(lse_DVA) #計算に時間がかかります\n",
    "\n",
    "display_results(Gs_DVA, ['G','s','plist'])"
   ]
  },
  {
   "cell_type": "markdown",
   "id": "6d4d5a27-62f5-4366-928b-8b46e6705b3e",
   "metadata": {},
   "source": [
    "#### Numpy 関数への変換"
   ]
  },
  {
   "cell_type": "code",
   "execution_count": null,
   "id": "062ecb95-dfd6-44d1-8c49-df63e64c370b",
   "metadata": {},
   "outputs": [],
   "source": [
    "def numpyTransFuncMat(trans_func_mat):\n",
    "    '''\n",
    "    sympy の伝達関数行列を，numpy 関数に変換する\n",
    "    '''\n",
    "    G = trans_func_mat['G']\n",
    "    s = trans_func_mat['s']\n",
    "    plist = trans_func_mat['plist']\n",
    "    print(plist)\n",
    "    \n",
    "    numpy_func = sym.lambdify([s]+plist, G, modules='numpy')\n",
    "    \n",
    "    return numpy_func"
   ]
  },
  {
   "cell_type": "code",
   "execution_count": null,
   "id": "745233d3-afaf-4e5a-a218-29b96fc7e3dc",
   "metadata": {},
   "outputs": [],
   "source": [
    "numGs_DVA = numpyTransFuncMat(Gs_DVA)"
   ]
  },
  {
   "cell_type": "markdown",
   "id": "d1c3a2c3-258f-4a1b-8018-28912cb79ec3",
   "metadata": {},
   "source": [
    "動作確認"
   ]
  },
  {
   "cell_type": "code",
   "execution_count": null,
   "id": "37711e83-6c2c-43ec-b9e0-7389c4d24b94",
   "metadata": {},
   "outputs": [],
   "source": [
    "print( numGs_DVA(s=1j, m=2, c1=3, k1=4, a=5, c2=6, k2=7).T )\n",
    "print( numGs_DVA(1j, 2, 3, 4, 5, 6, 7).T )"
   ]
  },
  {
   "cell_type": "markdown",
   "id": "de834784-da44-4f9c-aaed-0678e859b34f",
   "metadata": {},
   "source": [
    "## ◯周波数応答"
   ]
  },
  {
   "cell_type": "code",
   "execution_count": null,
   "id": "8aca320f-c407-468f-866e-fea399c5b0bf",
   "metadata": {},
   "outputs": [],
   "source": [
    "def FreqRes_DVA(Gfunc, params):\n",
    "    '''\n",
    "    動吸振器の周波数応答を求める．\n",
    "    '''\n",
    "    om = np.linspace(0.1, 2, 500) #周波数軸を表す等差数列\n",
    "    \n",
    "    Gjw = Gfunc(om*1j, *params)\n",
    "    \n",
    "    Gjw_mod = np.array([\n",
    "        Gjw[0,0,:],             #主系の変位\n",
    "        Gjw[1,0,:] - Gjw[0,0,:] #従系の相対変位\n",
    "    ])\n",
    "    \n",
    "    R = np.abs(Gjw_mod) #振幅比\n",
    "    phi = np.angle(Gjw_mod)\n",
    "    \n",
    "    return (om, R, phi)"
   ]
  },
  {
   "cell_type": "code",
   "execution_count": null,
   "id": "0ffbbe1a-2c69-4649-9080-a66019d2849b",
   "metadata": {},
   "outputs": [],
   "source": [
    "freq_res_DVA = FreqRes_DVA(numGs_DVA, [1, 0.01, 1, 0.05, 0.0127, 0.0454])"
   ]
  },
  {
   "cell_type": "code",
   "execution_count": null,
   "id": "1ed05240-fb0d-48d9-a048-9139dd27c298",
   "metadata": {},
   "outputs": [],
   "source": [
    "def plot_FreqRes(freq_res):\n",
    "    \n",
    "    oms, Rs, phis = freq_res\n",
    "\n",
    "    fig, ax = plt.subplots(2,1, figsize=(5,5))\n",
    "    \n",
    "\n",
    "    ### 主系\n",
    "    ax[0].plot(oms, Rs[0,:],   '-k', label=r'$R_1(\\omega)$')\n",
    "    ax[1].plot(oms, phis[0,:], '-k', label=r'$\\phi_1(\\omega)$')\n",
    "\n",
    "    ### 従系\n",
    "    ax[0].plot(oms, Rs[1,:], ':k', label=r'$R_{2-1}(\\omega)$')\n",
    "    # 位相差を<0に補正\n",
    "    phis1 = np.array([\n",
    "        phi if phi < 0 else phi - 2*np.pi \n",
    "        for phi in phis[1,:]\n",
    "    ])\n",
    "    ax[1].plot(oms, phis1,   ':k', label=r'$\\phi_{2-1}(\\omega)$')\n",
    "\n",
    "    ax[0].set_ylabel(r'$R(\\omega)$')\n",
    "    ax[1].set_ylabel(r'$\\phi(\\omega)$')\n",
    "    ax[1].set_xlabel(r'$\\omega$')\n",
    "    for a in ax:\n",
    "        a.legend()"
   ]
  },
  {
   "cell_type": "code",
   "execution_count": null,
   "id": "14d8d279-2087-48ba-9c0a-9da3fae653a9",
   "metadata": {},
   "outputs": [],
   "source": [
    "freq_res_DVA_untuned = FreqRes_DVA(\n",
    "    numGs_DVA,\n",
    "    [1, 0.01, 1, 0.05, 0.01, 100]\n",
    ")\n",
    "plot_FreqRes(freq_res_DVA_untuned)\n",
    "\n",
    "#plt.savefig('Code_9.1_DVA_untuned.pdf')"
   ]
  },
  {
   "cell_type": "code",
   "execution_count": null,
   "id": "a1654c8f-3366-460a-bcf9-5f0b29732312",
   "metadata": {},
   "outputs": [],
   "source": [
    "freq_res_DVA_tuned = FreqRes_DVA(\n",
    "    numGs_DVA,\n",
    "    [1, 0.01, 1, 0.05, 0.0127, 0.0454]\n",
    ")\n",
    "plot_FreqRes(freq_res_DVA_tuned)\n",
    "\n",
    "#plt.savefig('Code_9.1_DVA_tuned.pdf')"
   ]
  },
  {
   "cell_type": "code",
   "execution_count": null,
   "id": "b64e5f3d-1299-4e79-91a7-74b3c48ae563",
   "metadata": {},
   "outputs": [],
   "source": []
  }
 ],
 "metadata": {
  "kernelspec": {
   "display_name": "Python 3",
   "language": "python",
   "name": "python3"
  },
  "language_info": {
   "codemirror_mode": {
    "name": "ipython",
    "version": 3
   },
   "file_extension": ".py",
   "mimetype": "text/x-python",
   "name": "python",
   "nbconvert_exporter": "python",
   "pygments_lexer": "ipython3",
   "version": "3.8.8"
  }
 },
 "nbformat": 4,
 "nbformat_minor": 5
}
