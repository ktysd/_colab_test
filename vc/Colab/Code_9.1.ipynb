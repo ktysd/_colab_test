{
 "cells": [
  {
   "cell_type": "markdown",
   "id": "c4f9912d-24be-4920-953d-92c14c0baf76",
   "metadata": {},
   "source": [
    "# 多自由度系の固有値解析\n",
    "\n",
    "吉田勝俊（宇都宮大学）"
   ]
  },
  {
   "cell_type": "markdown",
   "id": "01b888cb-cb5f-4469-a72f-5fe8e2590897",
   "metadata": {},
   "source": [
    "## 参考情報\n",
    "- [Pythonで運動方程式を解く(odeint) - Qiita](https://qiita.com/binaryneutronstar/items/ad5efa27fd626826846f)\n",
    "- [[Python] Numpyの参照、抽出、結合 - Qiita](https://qiita.com/supersaiakujin/items/d63c73bb7b5aac43898a)\n",
    "- [【Python】行列指数関数・行列対数関数 - Qiita](https://qiita.com/Mrrmm252/items/a50a9b352e5064e40cc1)"
   ]
  },
  {
   "cell_type": "code",
   "execution_count": 1,
   "id": "8be3272c-9220-4fa2-a653-15594a1293d2",
   "metadata": {},
   "outputs": [],
   "source": [
    "%matplotlib inline\n",
    "\n",
    "import numpy as np                 #数値計算ライブラリ\n",
    "from scipy.integrate import odeint #常微分方程式ライブラリ\n",
    "from scipy.linalg import expm      #行列指数関数\n",
    "import matplotlib.pyplot as plt    #描画ライブラリ\n",
    "plt_config = {\n",
    "    'text.usetex': True,\n",
    "    'text.latex.preamble': r\"\\usepackage{amsmath}\",\n",
    "    'font.size': 12,\n",
    "    'axes.labelsize': 14,\n",
    "    'axes.titlesize': 14,\n",
    "    'lines.linewidth': 1.5,\n",
    "    'lines.markersize': 3,\n",
    "    'lines.markeredgewidth': 0.7,\n",
    "    'lines.markerfacecolor': 'white',\n",
    "    'lines.markeredgecolor': 'black',\n",
    "}\n",
    "plt.rcParams.update(plt_config)"
   ]
  },
  {
   "cell_type": "markdown",
   "id": "01dab54d-97ae-4203-b1a1-933dd3fa7415",
   "metadata": {},
   "source": [
    "## ◯行列指数関数"
   ]
  },
  {
   "cell_type": "markdown",
   "id": "032480bb-8948-4b88-b652-d0f123c56e26",
   "metadata": {},
   "source": [
    "### ■指数関数"
   ]
  },
  {
   "cell_type": "code",
   "execution_count": 2,
   "id": "c0c498b7-94d5-4544-87da-82710e721ee6",
   "metadata": {},
   "outputs": [
    {
     "data": {
      "text/plain": [
       "7.38905609893065"
      ]
     },
     "execution_count": 2,
     "metadata": {},
     "output_type": "execute_result"
    }
   ],
   "source": [
    "np.exp(2) #普通の指数関数"
   ]
  },
  {
   "cell_type": "markdown",
   "id": "cf90eaed-3080-4638-872f-0c7d00ec6235",
   "metadata": {},
   "source": [
    "### ■行列指数関数"
   ]
  },
  {
   "cell_type": "markdown",
   "id": "637157eb-20d2-4332-98aa-73defc2d397a",
   "metadata": {},
   "source": [
    "#### お試し用の行列"
   ]
  },
  {
   "cell_type": "code",
   "execution_count": 3,
   "id": "3f63dc1b-fa25-4330-843a-c49c4fd78830",
   "metadata": {},
   "outputs": [
    {
     "data": {
      "text/plain": [
       "array([[ 0,  1],\n",
       "       [-3, -2]])"
      ]
     },
     "metadata": {},
     "output_type": "display_data"
    }
   ],
   "source": [
    "A = np.array([\n",
    "    [0, 1],\n",
    "    [-3, -2]\n",
    "])\n",
    "display(A)"
   ]
  },
  {
   "cell_type": "markdown",
   "id": "2d2d97ac-a830-40cb-bfe4-edb66d5da963",
   "metadata": {},
   "source": [
    "#### （誤）Numpy の `exp` $\\neq$ 行列指数関数"
   ]
  },
  {
   "cell_type": "code",
   "execution_count": 4,
   "id": "86f1654a-7a65-477d-b819-f4a35a3a696a",
   "metadata": {},
   "outputs": [
    {
     "data": {
      "text/plain": [
       "array([[1.        , 2.71828183],\n",
       "       [0.04978707, 0.13533528]])"
      ]
     },
     "execution_count": 4,
     "metadata": {},
     "output_type": "execute_result"
    }
   ],
   "source": [
    "np.exp(A) #これは単なる各成分の指数関数値"
   ]
  },
  {
   "cell_type": "code",
   "execution_count": 5,
   "id": "2156304c-e303-46b6-9e5b-627790396356",
   "metadata": {},
   "outputs": [
    {
     "data": {
      "text/plain": [
       "(1.0, 2.718281828459045, 0.049787068367863944, 0.1353352832366127)"
      ]
     },
     "execution_count": 5,
     "metadata": {},
     "output_type": "execute_result"
    }
   ],
   "source": [
    "np.exp(A[0,0]), np.exp(A[0,1]), np.exp(A[1,0]), np.exp(A[1,1]) "
   ]
  },
  {
   "cell_type": "markdown",
   "id": "71eccfe5-9432-4d23-b59e-49096b3d8f08",
   "metadata": {},
   "source": [
    "#### （正）<font color=\"red\">Scipy の `expm` $=$ 行列指数関数</font>．"
   ]
  },
  {
   "cell_type": "code",
   "execution_count": 6,
   "id": "6edbb77d-1238-4280-b29c-ea319abcea6c",
   "metadata": {},
   "outputs": [
    {
     "data": {
      "text/plain": [
       "array([[ 0.31431608,  0.2569476 ],\n",
       "       [-0.77084281, -0.19957912]])"
      ]
     },
     "execution_count": 6,
     "metadata": {},
     "output_type": "execute_result"
    }
   ],
   "source": [
    "expm(A)"
   ]
  },
  {
   "cell_type": "code",
   "execution_count": 7,
   "id": "97f05bc3-9fa4-45d4-b1b0-ed793762c0c6",
   "metadata": {},
   "outputs": [],
   "source": [
    "def Solve_int(eom, param, x0, time):\n",
    "    '''\n",
    "    状態方程式の数値解を求める関数\n",
    "    '''\n",
    "    ###運動方程式を数値的に解く\n",
    "    motion = odeint(\n",
    "        eom,            #運動方程式を表すユーザ関数\n",
    "        x0,             #初期条件\n",
    "        time,           #時間軸を表す数列\n",
    "        args=(param,)  #運動方程式の係数\n",
    "    )\n",
    "  \n",
    "    return motion\n",
    "\n",
    "def Solve_eAt(A, x0, time):\n",
    "    '''\n",
    "    状態方程式の数値解を求める関数\n",
    "    '''\n",
    "    motion = np.array([\n",
    "        expm(t*A).dot(x0) for t in time\n",
    "    ])\n",
    "  \n",
    "    return motion"
   ]
  },
  {
   "cell_type": "code",
   "execution_count": 8,
   "id": "e74efbb9-4349-4593-950e-fb2640f95273",
   "metadata": {},
   "outputs": [],
   "source": [
    "def EOM_1dof(x, t, param):\n",
    "    '''\n",
    "    1自由度・線形自由振動系の運動方程式\n",
    "    '''\n",
    "    x1, x2  = x      #状態ベクトルの成分\n",
    "    m, c, k = param  #パラメータの成分\n",
    "    dxdt = np.array([\n",
    "        x2,\n",
    "        -(k/m)*x1 -(c/m)*x2,\n",
    "    ])\n",
    "    \n",
    "    return dxdt\n",
    "\n",
    "def A_1dof(param):\n",
    "    '''\n",
    "    1自由度・線形自由振動系を表す行列\n",
    "    '''\n",
    "    m, c, k = param  #パラメータの成分\n",
    "    A = np.array([\n",
    "        [0, 1],\n",
    "        [-k/m, -c/m],\n",
    "    ])\n",
    "    \n",
    "    return A"
   ]
  },
  {
   "cell_type": "code",
   "execution_count": 9,
   "id": "062c9ca8-bf68-4db1-983e-a2f55add9cf7",
   "metadata": {},
   "outputs": [],
   "source": [
    "def plot_int_vs_eAt(eomfunc, Afunc, param, x0, tminmax=[0,30], tn=200):\n",
    "    '''\n",
    "    数値積分と行列指数関数による解を比較プロットする．\n",
    "    '''\n",
    "    x0 = np.array(x0)\n",
    "    ts = np.linspace(*tminmax, tn)\n",
    "    \n",
    "    xs_int = Solve_int(eomfunc, param, x0, ts)\n",
    "    xs_eAt = Solve_eAt(Afunc(param), x0, ts)\n",
    "    \n",
    "    fig, ax = plt.subplots(2,1,figsize=(5,4))\n",
    "\n",
    "    for i in range(2):\n",
    "        ax[i].plot(ts, xs_int[:,i], '-', \n",
    "                label=r'Numerical')\n",
    "        ax[i].plot(ts, xs_eAt[:,i], 'o', \n",
    "                label=r'$e^{tA}\\boldsymbol{x}_0$')\n",
    "        ax[i].legend()\n",
    "        ax[i].set_xlabel(r'$t$')\n",
    "        ax[i].set_ylabel(r'$x_%d$'%(i+1))"
   ]
  },
  {
   "cell_type": "code",
   "execution_count": 10,
   "id": "75bf01d8-4838-426e-acef-a8657f907847",
   "metadata": {},
   "outputs": [
    {
     "data": {
      "image/png": "[encoded data removed]",
      "text/plain": [
       "<Figure size 360x288 with 2 Axes>"
      ]
     },
     "metadata": {
      "needs_background": "light"
     },
     "output_type": "display_data"
    }
   ],
   "source": [
    "param = [1, 0.2, 2]\n",
    "\n",
    "plot_int_vs_eAt(EOM_1dof, A_1dof, param, x0=[1,0])"
   ]
  },
  {
   "cell_type": "code",
   "execution_count": 11,
   "id": "ca4455de-6b08-44d0-b410-91e025eb690c",
   "metadata": {},
   "outputs": [
    {
     "data": {
      "image/png": "[encoded data removed]",
      "text/plain": [
       "<Figure size 360x288 with 2 Axes>"
      ]
     },
     "metadata": {
      "needs_background": "light"
     },
     "output_type": "display_data"
    }
   ],
   "source": [
    "plot_int_vs_eAt(EOM_1dof, A_1dof, param, x0=[1,2])"
   ]
  },
  {
   "cell_type": "code",
   "execution_count": null,
   "id": "12465d23-1d6e-42c5-92b7-50e1f104220f",
   "metadata": {},
   "outputs": [],
   "source": []
  }
 ],
 "metadata": {
  "kernelspec": {
   "display_name": "Python 3",
   "language": "python",
   "name": "python3"
  },
  "language_info": {
   "codemirror_mode": {
    "name": "ipython",
    "version": 3
   },
   "file_extension": ".py",
   "mimetype": "text/x-python",
   "name": "python",
   "nbconvert_exporter": "python",
   "pygments_lexer": "ipython3",
   "version": "3.8.8"
  }
 },
 "nbformat": 4,
 "nbformat_minor": 5
}
