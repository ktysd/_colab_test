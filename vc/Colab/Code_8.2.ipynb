{
 "cells": [
  {
   "cell_type": "markdown",
   "id": "3f99f38e",
   "metadata": {},
   "source": [
    "# 線形化ベクトル方程式への線形化\n",
    "\n",
    "吉田勝俊（宇都宮大学）\n",
    "\n",
    "### 参考情報\n",
    "- [Welcome to SymPy’s documentation! &#8212; SymPy 1.10.1 documentation](https://docs.sympy.org/) （本家）\n",
    "- [SymPy による数式処理とグラフ作成 - 弘前大学 Home Sweet Home](https://home.hirosaki-u.ac.jp/jupyter/sympy/)"
   ]
  },
  {
   "cell_type": "code",
   "execution_count": null,
   "id": "95fbf3d9",
   "metadata": {},
   "outputs": [],
   "source": [
    "import sympy as sym #数式処理ライブラリ"
   ]
  },
  {
   "cell_type": "markdown",
   "id": "15f35281",
   "metadata": {},
   "source": [
    "## ◯オイラー・ラグランジュ方程式\n",
    "\n",
    "### 定義：\n",
    "\n",
    "$\\displaystyle\n",
    "\\frac{d}{dt}\\left(\\frac{\\partial L}{\\partial \\dot q_i}\\right)\n",
    "-\\frac{\\partial L}{\\partial q_i}\n",
    "+\\frac{\\partial D}{\\partial \\dot q_i}\n",
    "-Q_i\n",
    "= 0, \\quad i=1,2,\\cdots\n",
    "$"
   ]
  },
  {
   "cell_type": "code",
   "execution_count": null,
   "id": "d8929dd3",
   "metadata": {},
   "outputs": [],
   "source": [
    "def derive_ELE(system):\n",
    "    '''\n",
    "    オイラー・ラグランジュ方程式（ELE: Euler-Lagrange equation）\n",
    "    「左辺＝０」の左辺を導出する関数\n",
    "    \n",
    "    def system():    \n",
    "        q: 一般化座標（ベクトル）\n",
    "        L: ラグランジュ関数（スカラ）\n",
    "        D: 散逸関数（スカラ）\n",
    "        Q: 一般化力（ベクトル）\n",
    "        u: 外部入力（ベクトル）※線形化で用いる\n",
    "        \n",
    "        return (t, q, L, D, Q, u)\n",
    "    '''\n",
    "    t, q, L, D, Q, u = system()       #一般化座標, ラグランジアン, 散逸関数, 一般化力\n",
    "    dqdt             = sym.diff(q, t) #一般化座標の時間微分\n",
    "    dim              = len(q)         #一般化座標の次元\n",
    "    \n",
    "    ### ラグランジュの運動方程式 ###\n",
    "    ELE = sym.Matrix([\n",
    "        sym.simplify(\n",
    "            sym.diff( sym.diff(L, dqdt[i]), t )\n",
    "            - sym.diff(L, q[i])\n",
    "            + sym.diff(D, dqdt[i])\n",
    "            - (Q[i] if Q is not None else 0) #Q が無ければ 0\n",
    "        )\n",
    "        for i in range(dim)\n",
    "    ])\n",
    "\n",
    "    return (ELE, q, t, u)"
   ]
  },
  {
   "cell_type": "markdown",
   "id": "87b54bc8",
   "metadata": {},
   "source": [
    "## ◯ベクトル運動方程式への線形化"
   ]
  },
  {
   "cell_type": "code",
   "execution_count": null,
   "id": "ff93c0a8-8b8a-4f31-b796-9591e2ba76fb",
   "metadata": {},
   "outputs": [],
   "source": [
    "def initial_state(x0, x0symb, x):\n",
    "    '''\n",
    "    線形化の基準点が未指定なら記号で生成する\n",
    "    '''\n",
    "    if x0 is None:\n",
    "        if len(x) == 1:  #基準点がスカラ（1次元）の場合\n",
    "            x0 = sym.Matrix([x0symb])\n",
    "        else:            #基準点がベクトル（多次元）の場合\n",
    "            x0 = sym.Matrix([\n",
    "                sym.symbols(x0symb + '_' + str(i+1)) for i in range(len(x))\n",
    "            ])\n",
    "\n",
    "    else:\n",
    "        x0 = sym.Matrix(x0)\n",
    "\n",
    "    return x0"
   ]
  },
  {
   "cell_type": "code",
   "execution_count": null,
   "id": "9e674895",
   "metadata": {},
   "outputs": [],
   "source": [
    "def LinearizedEOM(ELE, q0=None, u0=None):\n",
    "    '''\n",
    "    運動方程式を，x0 の近傍で線形化する\n",
    "    - ELE := derive_ELE(system)の出力\n",
    "    '''\n",
    "    EOMq, q, t, u = ELE\n",
    "\n",
    "    #\n",
    "    # 一般化座標の微分\n",
    "    #\n",
    "    dq  = sym.Matrix([sym.diff(qi, t) for qi in q])    #1階微分\n",
    "    ddq = sym.Matrix([sym.diff(qi, t, 2) for qi in q]) #2階微分\n",
    "    \n",
    "    #\n",
    "    # ヤコビ行列\n",
    "    #\n",
    "    \n",
    "    M = EOMq.jacobian(ddq) #慣性行列：加速度に関するヤコビ行列\n",
    "    C = EOMq.jacobian(dq)  #減衰行列：速度に関するヤコビ行列\n",
    "    K = EOMq.jacobian(q)   #剛性行列：変位に関するヤコビ行列\n",
    "    \n",
    "    #入力行列 ※これだけ右辺なのでマイナス　\n",
    "    U = -EOMq.jacobian(u) if u is not None else None\n",
    "\n",
    "    # 平衡点の準備\n",
    "    q0 = initial_state(q0, 'q0', q)\n",
    "    u0 = initial_state(u0, 'u0', u) if u is not None else None\n",
    "\n",
    "    # 平衡点と平衡条件の代入\n",
    "    def subs_equilibrium(mat):\n",
    "        '''\n",
    "        平衡点と平衡条件を代入する\n",
    "        '''\n",
    "        for i in range(len(q)):\n",
    "            mat = mat.subs(q[i], q0[i])\n",
    "            mat = mat.subs(dq[i], 0)\n",
    "            mat = mat.subs(ddq[i], 0)\n",
    "        \n",
    "        if u is not None:\n",
    "            for i in range(len(u)):\n",
    "                mat = mat.subs(u[i], u0[i]) \n",
    "            \n",
    "        return sym.simplify(mat)\n",
    "    \n",
    "    M = subs_equilibrium(M)\n",
    "    C = subs_equilibrium(C)\n",
    "    K = subs_equilibrium(K)\n",
    "    if u is not None:\n",
    "        U = subs_equilibrium(U)\n",
    "    \n",
    "    return (M, C, K, U)"
   ]
  },
  {
   "cell_type": "markdown",
   "id": "43bfbb07",
   "metadata": {},
   "source": [
    "### ■単振り子（SP: simple pendulum）\n",
    "\n",
    "- 一般化座標: $(\\theta(t))$"
   ]
  },
  {
   "cell_type": "code",
   "execution_count": null,
   "id": "df2d560a",
   "metadata": {},
   "outputs": [],
   "source": [
    "def system_SP():\n",
    "    '''\n",
    "    システムを定義する関数（単振り子）\n",
    "    '''\n",
    "    # パラメータ: \n",
    "    t, m, l, g = sym.symbols(\n",
    "        't m l g', \n",
    "        positive=True #正の実数に制限 ※なるべく制限すると simplify がよく効く．以下同．\n",
    "    )\n",
    "    c = sym.symbols('c', positive=True)\n",
    "    \n",
    "    # 一般化座標（時間関数）: \n",
    "    q = sym.Matrix([\n",
    "        sym.Function(\n",
    "            r'\\theta', \n",
    "            real=True #実数値に制限\n",
    "        )(t),\n",
    "    ])\n",
    "    \n",
    "    # 質点の直交座標\n",
    "    theta = q[0]\n",
    "    xx = l*sym.Matrix([\n",
    "        sym.sin(theta),\n",
    "        -sym.cos(theta),\n",
    "    ])\n",
    "    \n",
    "    dxxdt = sym.diff(xx, t) #その時間微分\n",
    "    \n",
    "    # 運動エネルギー\n",
    "    T = (m/2)*dxxdt.dot(dxxdt)\n",
    "    \n",
    "    # 位置エネルギー\n",
    "    h = xx[1] #振子先端の高さ\n",
    "    U = m*g*h\n",
    "    \n",
    "    # ラグランジュ関数\n",
    "    L = T - U\n",
    "\n",
    "    # 散逸関数\n",
    "#     D = (c/2)*dxxdt.dot(dxxdt) #粘性減衰\n",
    "    D = 0 #減衰なし\n",
    "\n",
    "    # 外部入力（この系は無し）\n",
    "    u = None\n",
    "\n",
    "    # 一般化力\n",
    "    Q = u\n",
    "    \n",
    "    return (t, q, L, D, Q, u)"
   ]
  },
  {
   "cell_type": "markdown",
   "id": "106c8ef4",
   "metadata": {},
   "source": [
    "#### 運動方程式の導出結果"
   ]
  },
  {
   "cell_type": "code",
   "execution_count": null,
   "id": "6b2b4d7a",
   "metadata": {
    "scrolled": true
   },
   "outputs": [],
   "source": [
    "ELE_SP = derive_ELE(system_SP)\n",
    "\n",
    "for _ in ELE_SP: display(_)"
   ]
  },
  {
   "cell_type": "markdown",
   "id": "5e2aa4bf",
   "metadata": {},
   "source": [
    "#### 線形化の結果"
   ]
  },
  {
   "cell_type": "code",
   "execution_count": null,
   "id": "136db207",
   "metadata": {
    "scrolled": true
   },
   "outputs": [],
   "source": [
    "linearized_SP = LinearizedEOM(ELE_SP)\n",
    "for _ in linearized_SP: display(_)"
   ]
  },
  {
   "cell_type": "markdown",
   "id": "f9341a3c",
   "metadata": {},
   "source": [
    "出力にある行列により，$\\boldsymbol{x}_0 = (x_{01},x_{02})^T$の近傍で線形化した状態方程式は次のように表せます．\n",
    "\n",
    "$$\n",
    "\\begin{bmatrix}\n",
    " \\dot \\xi_1 \\\\ \\dot \\xi_2\n",
    "\\end{bmatrix}\n",
    "=\n",
    "\\begin{bmatrix}\n",
    " 0 & 1 \\\\\n",
    " -\\frac{g\\cos x_{01}}{l} & 0 \\\\\n",
    "\\end{bmatrix}\n",
    "\\begin{bmatrix}\n",
    " \\xi_1 \\\\ \\xi_2\n",
    "\\end{bmatrix}\n",
    "$$"
   ]
  },
  {
   "cell_type": "markdown",
   "id": "60049f04",
   "metadata": {},
   "source": [
    "### ■台車型倒立振子（CIP: cart inverted pendulum）\n",
    "\n",
    "- 一般化座標: $(x(t),\\theta(t))$"
   ]
  },
  {
   "cell_type": "code",
   "execution_count": null,
   "id": "a97eb4d1",
   "metadata": {},
   "outputs": [],
   "source": [
    "def system_CIP():\n",
    "    '''\n",
    "    システムを定義する関数 （問題に応じて書き換える）\n",
    "    ※以下は，台車型倒立振子の例\n",
    "    '''\n",
    "    # パラメータ: \n",
    "    t, M, m, l, g, c1, c2 = sym.symbols(\n",
    "        't M m l g c_1 c_2', \n",
    "        positive=True #正の実数に制限 ※なるべく制限すると simplify がよく効く．以下同．\n",
    "    )\n",
    "    G, S = sym.symbols('G S', positive=True)\n",
    "    \n",
    "    # 一般化座標（時間関数）: \n",
    "    q = sym.Matrix([\n",
    "        sym.Function(\n",
    "            r'x', \n",
    "            real=True #実数値に制限\n",
    "        )(t),\n",
    "        sym.Function(\n",
    "            r'\\theta', \n",
    "            real=True #実数値に制限\n",
    "        )(t),\n",
    "    ])\n",
    "    \n",
    "    # 質点の直交座標\n",
    "    x, th = q\n",
    "    xM = sym.Matrix([\n",
    "        x,\n",
    "        G\n",
    "    ])\n",
    "    xm = sym.Matrix([\n",
    "        x + l*sym.sin(th),\n",
    "        l*sym.cos(th) + S,\n",
    "    ])\n",
    "    \n",
    "    dxMdt = sym.diff(xM, t) #その時間微分\n",
    "    dxmdt = sym.diff(xm, t)\n",
    "    \n",
    "    # 運動エネルギー\n",
    "    T = (M/2)*dxMdt.dot(dxMdt) + (m/2)*dxmdt.dot(dxmdt)\n",
    "    \n",
    "    # 位置エネルギー\n",
    "    h = xm[1] #振子先端の高さ\n",
    "    U = m*g*h\n",
    "    \n",
    "    # ラグランジュ関数\n",
    "    L = T - U\n",
    "\n",
    "    # 散逸関数\n",
    "    D = (c1/2)*sym.diff(x,t)**2 + (c2/2)*sym.diff(th,t)**2 #粘性減衰\n",
    "#     D = 0 #減衰なし\n",
    "\n",
    "    # 外部入力（この系は１個だけ）\n",
    "    u = sym.Matrix([\n",
    "        sym.Function(r'u', real=True)(t)\n",
    "    ])\n",
    "     \n",
    "    # 一般化力（外部入力が第１成分のみに作用）\n",
    "    Q = sym.Matrix([\n",
    "        u[0],\n",
    "        0\n",
    "    ])\n",
    "    \n",
    "    return (t, q, L, D, Q, u)"
   ]
  },
  {
   "cell_type": "markdown",
   "id": "4edc07b2",
   "metadata": {},
   "source": [
    "#### 運動方程式の導出結果"
   ]
  },
  {
   "cell_type": "code",
   "execution_count": null,
   "id": "4f0f28c9",
   "metadata": {},
   "outputs": [],
   "source": [
    "ELE_CIP = derive_ELE(system_CIP)\n",
    "\n",
    "for _ in ELE_CIP: display(_)"
   ]
  },
  {
   "cell_type": "markdown",
   "id": "a60ef020",
   "metadata": {},
   "source": [
    "#### 線形化の結果"
   ]
  },
  {
   "cell_type": "code",
   "execution_count": null,
   "id": "4aa2d273-12c3-42fc-8420-34b7112b31b2",
   "metadata": {},
   "outputs": [],
   "source": [
    "linearized_CIP = LinearizedEOM(ELE_CIP) #平衡点未指定\n",
    "for _ in linearized_CIP: display(_) "
   ]
  },
  {
   "cell_type": "code",
   "execution_count": null,
   "id": "74c0fe79",
   "metadata": {
    "scrolled": true
   },
   "outputs": [],
   "source": [
    "linearized_CIP = LinearizedEOM(ELE_CIP, [0,0], [0])\n",
    "for _ in linearized_CIP: display(_) "
   ]
  },
  {
   "cell_type": "code",
   "execution_count": null,
   "id": "e6e48cb9",
   "metadata": {},
   "outputs": [],
   "source": []
  }
 ],
 "metadata": {
  "kernelspec": {
   "display_name": "Python 3",
   "language": "python",
   "name": "python3"
  },
  "language_info": {
   "codemirror_mode": {
    "name": "ipython",
    "version": 3
   },
   "file_extension": ".py",
   "mimetype": "text/x-python",
   "name": "python",
   "nbconvert_exporter": "python",
   "pygments_lexer": "ipython3",
   "version": "3.8.8"
  }
 },
 "nbformat": 4,
 "nbformat_minor": 5
}
