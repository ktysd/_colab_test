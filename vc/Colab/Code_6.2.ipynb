{
 "cells": [
  {
   "cell_type": "markdown",
   "id": "98c24e61",
   "metadata": {},
   "source": [
    "# タイトル\n",
    "\n",
    "吉田勝俊（宇都宮大学）"
   ]
  },
  {
   "cell_type": "markdown",
   "id": "1bd97c72",
   "metadata": {},
   "source": [
    "## 参考情報\n",
    "\n",
    "- [Pythonで数学の勉強：微分積分学 - Qiita](https://qiita.com/tibigame/items/aebbac176d9bbdaf3d15)\n",
    "- [Jupyter Notebookでギリシャ文字を簡単に入力するには - Qiita](https://qiita.com/alchemist/items/0ce850770d8cc3df0ab4)\n",
    "\n",
    "<!-- - [Pythonで運動方程式を解く(odeint) - Qiita](https://qiita.com/binaryneutronstar/items/ad5efa27fd626826846f)\n",
    "- [[Python] Numpyの参照、抽出、結合 - Qiita](https://qiita.com/supersaiakujin/items/d63c73bb7b5aac43898a)\n",
    "- [[Python/matplotlib] FuncAnimationを理解して使う - Qiita](https://qiita.com/osanshouo/items/3c66781f41884694838b)\n",
    "- [2つの信号間の遅延を推定する - Qiita](https://qiita.com/inoory/items/3ea2d447f6f1e8c40ffa) -->"
   ]
  },
  {
   "cell_type": "code",
   "execution_count": 1,
   "id": "ab2899da",
   "metadata": {},
   "outputs": [],
   "source": [
    "import sympy as sym"
   ]
  },
  {
   "cell_type": "markdown",
   "id": "bd47f00e",
   "metadata": {},
   "source": [
    "$F(s):=\\int_{0}^{\\infty}f(t)\\exp(-s t)dt$"
   ]
  },
  {
   "cell_type": "code",
   "execution_count": 6,
   "id": "e652f0b3",
   "metadata": {},
   "outputs": [],
   "source": [
    "def Laplace_trans(ft, t, s):\n",
    "    '''\n",
    "    ラプラス変換する関数\n",
    "    '''\n",
    "    Ps = sym.integrate(ft*sym.exp(-s*t), (t, 0, sym.oo))\n",
    "    Ps = sym.simplify(Ps) #式の整理\n",
    "    return Ps"
   ]
  },
  {
   "cell_type": "code",
   "execution_count": 9,
   "id": "6a2cb706",
   "metadata": {},
   "outputs": [
    {
     "data": {
      "text/latex": [
       "$\\displaystyle \\sin{\\left(\\omega t \\right)}$"
      ],
      "text/plain": [
       "sin(\\omega*t)"
      ]
     },
     "metadata": {},
     "output_type": "display_data"
    },
    {
     "data": {
      "text/latex": [
       "$\\displaystyle \\frac{\\omega}{\\omega^{2} + s^{2}}$"
      ],
      "text/plain": [
       "\\omega/(\\omega**2 + s**2)"
      ]
     },
     "metadata": {},
     "output_type": "display_data"
    },
    {
     "data": {
      "text/latex": [
       "$\\displaystyle \\cos{\\left(\\omega t \\right)}$"
      ],
      "text/plain": [
       "cos(\\omega*t)"
      ]
     },
     "metadata": {},
     "output_type": "display_data"
    },
    {
     "data": {
      "text/latex": [
       "$\\displaystyle \\frac{s}{\\omega^{2} + s^{2}}$"
      ],
      "text/plain": [
       "s/(\\omega**2 + s**2)"
      ]
     },
     "metadata": {},
     "output_type": "display_data"
    },
    {
     "data": {
      "text/latex": [
       "$\\displaystyle \\sin{\\left(\\omega t + \\phi \\right)}$"
      ],
      "text/plain": [
       "sin(\\omega*t + \\phi)"
      ]
     },
     "metadata": {},
     "output_type": "display_data"
    },
    {
     "data": {
      "text/latex": [
       "$\\displaystyle \\frac{\\omega \\cos{\\left(\\phi \\right)} + s \\sin{\\left(\\phi \\right)}}{\\omega^{2} + s^{2}}$"
      ],
      "text/plain": [
       "(\\omega*cos(\\phi) + s*sin(\\phi))/(\\omega**2 + s**2)"
      ]
     },
     "metadata": {},
     "output_type": "display_data"
    },
    {
     "data": {
      "text/latex": [
       "$\\displaystyle \\cos{\\left(\\omega t + \\phi \\right)}$"
      ],
      "text/plain": [
       "cos(\\omega*t + \\phi)"
      ]
     },
     "metadata": {},
     "output_type": "display_data"
    },
    {
     "data": {
      "text/latex": [
       "$\\displaystyle \\frac{- \\omega \\sin{\\left(\\phi \\right)} + s \\cos{\\left(\\phi \\right)}}{\\omega^{2} + s^{2}}$"
      ],
      "text/plain": [
       "(-\\omega*sin(\\phi) + s*cos(\\phi))/(\\omega**2 + s**2)"
      ]
     },
     "metadata": {},
     "output_type": "display_data"
    },
    {
     "data": {
      "text/latex": [
       "$\\displaystyle \\frac{d}{d t} x{\\left(t \\right)}$"
      ],
      "text/plain": [
       "Derivative(x(t), t)"
      ]
     },
     "metadata": {},
     "output_type": "display_data"
    },
    {
     "data": {
      "text/latex": [
       "$\\displaystyle \\int\\limits_{0}^{\\infty} e^{- s t} \\frac{d}{d t} x{\\left(t \\right)}\\, dt$"
      ],
      "text/plain": [
       "Integral(exp(-s*t)*Derivative(x(t), t), (t, 0, oo))"
      ]
     },
     "metadata": {},
     "output_type": "display_data"
    }
   ],
   "source": [
    "def display_Laplace_trans():\n",
    "    '''\n",
    "    ラプラス変換表を導出する関数\n",
    "    '''\n",
    "    #数式処理用の文字変数\n",
    "    t, s, ω, ϕ = sym.symbols('t s \\omega \\phi', Real=True, positive=True)\n",
    "\n",
    "    #数式処理用の関数名\n",
    "    x = sym.Function('x')\n",
    "    \n",
    "    #変換対象の時間関数\n",
    "    time_functions = [\n",
    "        sym.sin(ω*t),\n",
    "        sym.cos(ω*t),        \n",
    "        sym.sin(ω*t + ϕ),\n",
    "        sym.cos(ω*t + ϕ),\n",
    "        sym.diff(x(t),t),\n",
    "    ]\n",
    "    \n",
    "    for pt in time_functions:\n",
    "        Ps = Laplace_trans(pt, t, s)\n",
    "        display(pt)\n",
    "        display(Ps)\n",
    "\n",
    "\n",
    "display_Laplace_trans()"
   ]
  },
  {
   "cell_type": "code",
   "execution_count": null,
   "id": "43caeff0",
   "metadata": {},
   "outputs": [],
   "source": []
  }
 ],
 "metadata": {
  "kernelspec": {
   "display_name": "Python 3",
   "language": "python",
   "name": "python3"
  },
  "language_info": {
   "codemirror_mode": {
    "name": "ipython",
    "version": 3
   },
   "file_extension": ".py",
   "mimetype": "text/x-python",
   "name": "python",
   "nbconvert_exporter": "python",
   "pygments_lexer": "ipython3",
   "version": "3.8.8"
  }
 },
 "nbformat": 4,
 "nbformat_minor": 5
}
