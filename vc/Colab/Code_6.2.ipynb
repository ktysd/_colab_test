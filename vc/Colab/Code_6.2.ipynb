{
 "cells": [
  {
   "cell_type": "markdown",
   "id": "98c24e61",
   "metadata": {},
   "source": [
    "# 周波数応答の数式処理\n",
    "\n",
    "吉田勝俊（宇都宮大学）"
   ]
  },
  {
   "cell_type": "markdown",
   "id": "1bd97c72",
   "metadata": {},
   "source": [
    "## 参考情報\n",
    "\n",
    "- [Pythonで数学の勉強：微分積分学 - Qiita](https://qiita.com/tibigame/items/aebbac176d9bbdaf3d15)\n",
    "- [Jupyter Notebookでギリシャ文字を簡単に入力するには - Qiita](https://qiita.com/alchemist/items/0ce850770d8cc3df0ab4)\n",
    "\n",
    "<!-- - [Pythonで運動方程式を解く(odeint) - Qiita](https://qiita.com/binaryneutronstar/items/ad5efa27fd626826846f)\n",
    "- [[Python] Numpyの参照、抽出、結合 - Qiita](https://qiita.com/supersaiakujin/items/d63c73bb7b5aac43898a)\n",
    "- [[Python/matplotlib] FuncAnimationを理解して使う - Qiita](https://qiita.com/osanshouo/items/3c66781f41884694838b)\n",
    "- [2つの信号間の遅延を推定する - Qiita](https://qiita.com/inoory/items/3ea2d447f6f1e8c40ffa) -->"
   ]
  },
  {
   "cell_type": "code",
   "execution_count": null,
   "id": "ab2899da",
   "metadata": {},
   "outputs": [],
   "source": [
    "import sympy as sym #数式処理ライブラリ"
   ]
  },
  {
   "cell_type": "code",
   "execution_count": null,
   "id": "e515a275",
   "metadata": {},
   "outputs": [],
   "source": [
    "# 出力用のユーザ関数\n",
    "\n",
    "from IPython.display import Markdown, display\n",
    "def printmd(string):\n",
    "    '''\n",
    "    Markdown を出力する\n",
    "    '''\n",
    "    display(Markdown(string))\n",
    "\n",
    "def display_all(var):\n",
    "    '''\n",
    "    ネストされた結果を，一列に表示する\n",
    "    '''\n",
    "    if len(var) == 0:\n",
    "        return\n",
    "\n",
    "    if type(var[0]) is list or type(var[0]) is tuple:\n",
    "        display_all(var[0])\n",
    "    else:\n",
    "        display(var[0])\n",
    "        \n",
    "    display_all(var[1:])"
   ]
  },
  {
   "cell_type": "markdown",
   "id": "23d7b7c7",
   "metadata": {},
   "source": [
    "## 正規形の運動方程式"
   ]
  },
  {
   "cell_type": "code",
   "execution_count": null,
   "id": "8f5c843b",
   "metadata": {
    "scrolled": true
   },
   "outputs": [],
   "source": [
    "def EOM_can():\n",
    "    '''\n",
    "    強制振動系の正規形の運動方程式\n",
    "    '''\n",
    "    ### 数式処理用の文字変数 ###\n",
    "    # 調和励振系のパラメータ\n",
    "    om = sym.symbols(r'\\omega', real=True)  #入力角振動数（この関数では未使用）\n",
    "    zeta = sym.symbols(r'\\zeta', real=True) #引数の文字列はdisplay表示用\n",
    "    parameters = [zeta]\n",
    "\n",
    "    # 時間関数\n",
    "    t = sym.symbols(r'\\tau', real=True)   #時間変数\n",
    "    y = sym.Function(r'y', real=True)(t)  #変位 x(t)\n",
    "    h = sym.Function(r'h', real=True)(t)  #外力 h(t)\n",
    "    \n",
    "    ### 運動方程式の定義 ... = 0 の左辺###\n",
    "    # 1階微分 diff(x,t)，2階微分 diff(x,t,2)\n",
    "    EOM = sym.diff(y,t,2) + 2*zeta*sym.diff(y,t) + y - h\n",
    "\n",
    "    return (EOM, y, t, h, om, parameters)\n",
    "\n",
    "display_all(EOM_can())"
   ]
  },
  {
   "cell_type": "markdown",
   "id": "d5a7d60b",
   "metadata": {},
   "source": [
    "## 演習 6.2 ( ハーモニックバランス法の数式処理 )"
   ]
  },
  {
   "cell_type": "markdown",
   "id": "59fcb400",
   "metadata": {},
   "source": [
    "### 三角関数によるハーモニックバランス"
   ]
  },
  {
   "cell_type": "code",
   "execution_count": null,
   "id": "426b2952",
   "metadata": {
    "scrolled": false
   },
   "outputs": [],
   "source": [
    "def harmonic_balance_sin(EOM_func):\n",
    "    '''\n",
    "    sin によるハーモニックバランス\n",
    "    '''\n",
    "    # 運動方程式の読み込み\n",
    "    EOM, y, t, h, om, params = EOM_func()\n",
    "\n",
    "    printmd('**Equation of motion:**')\n",
    "    display(EOM)\n",
    "\n",
    "    # 調和入力\n",
    "    A = sym.symbols(r'A')       #入力振幅\n",
    "    ht = A*sym.sin(om*t)\n",
    "\n",
    "    printmd('**Input:**')\n",
    "    display(ht)\n",
    "\n",
    "    # 定常応答\n",
    "    B   = sym.symbols(r'B')     #出力振幅\n",
    "    phi = sym.symbols(r'\\phi')  #位相差\n",
    "    yt  = B*sym.sin(om*t + phi) #定常応答\n",
    "\n",
    "    printmd('**Output:**')\n",
    "    display(yt)\n",
    "\n",
    "    ### 運動方程式への代入 ###\n",
    "    tmp = EOM\n",
    "    tmp = tmp.replace(h, ht)    #入力の代入\n",
    "    tmp = tmp.replace(y, yt)    #定常応答の代入\n",
    "    tmp = tmp.simplify()        #一旦整理\n",
    "    tmp = tmp.expand(trig=True) #三角関数の展開\n",
    "\n",
    "    ### 連立方程式を解く ###\n",
    "    # 単振動の係数\n",
    "    sin_om, cos_om = sym.sin(om*t), sym.cos(om*t)\n",
    "    coeff_sin_om = sym.collect(tmp, sin_om).coeff(sin_om)\n",
    "    coeff_cos_om = sym.collect(tmp, cos_om).coeff(cos_om)\n",
    "    \n",
    "    printmd('**Multipliers of simple oscillations:**')\n",
    "    display(coeff_sin_om, coeff_cos_om)\n",
    "    \n",
    "    # 連立方程式を解く\n",
    "    a_real, b_real = B*sym.cos(phi), B*sym.sin(phi)\n",
    "    \n",
    "    sol = sym.solve(\n",
    "        [sym.Eq(coeff_sin_om, 0), sym.Eq(coeff_cos_om, 0)],\n",
    "        [a_real, b_real]\n",
    "    )\n",
    "    \n",
    "    a, b = sol[a_real], sol[b_real] #連立方程式の解\n",
    "\n",
    "    printmd('**Solution of harmonic balance:**')\n",
    "    display(a,b)\n",
    "\n",
    "    ### 周波数応答 ###\n",
    "    tmp = (a**2 + b**2)/(A**2)\n",
    "    tmp = tmp.simplify()\n",
    "    barR = sym.sqrt(tmp)\n",
    "    \n",
    "    tmp = b/a\n",
    "    tmp = tmp.simplify()\n",
    "    phi = sym.atan(tmp)\n",
    "\n",
    "    printmd('**Frequency response:**')\n",
    "    display(barR, phi)\n",
    "    \n",
    "    return (barR, phi, om, params)\n",
    "\n",
    "harmonic_balance_sin(EOM_can); # ; で返り値の出力を抑制"
   ]
  },
  {
   "cell_type": "markdown",
   "id": "12cd3ccc",
   "metadata": {},
   "source": [
    "### 極形式によるハーモニックバランス"
   ]
  },
  {
   "cell_type": "code",
   "execution_count": null,
   "id": "2b707846",
   "metadata": {},
   "outputs": [],
   "source": [
    "def my_arg(comlex_number):\n",
    "    '''\n",
    "    複素数の偏角を返す自作関数 ※組込の sympy.arg の代替\n",
    "    （sympy.arg は simplify が効かないかも．実体が atan2 だから？）\n",
    "    '''\n",
    "    real_part = sym.re(comlex_number)\n",
    "    imag_part = sym.im(comlex_number)\n",
    "    \n",
    "    slope = (imag_part/real_part).simplify()\n",
    "    angle = sym.atan(slope)\n",
    "    \n",
    "    return angle"
   ]
  },
  {
   "cell_type": "code",
   "execution_count": null,
   "id": "5fbc2d04",
   "metadata": {},
   "outputs": [],
   "source": [
    "def harmonic_balance_complex(EOM_func):\n",
    "    '''\n",
    "    極形式によるハーモニックバランス\n",
    "    '''\n",
    "    # 運動方程式の読み込み\n",
    "    EOM, y, t, h, om, params = EOM_func()\n",
    "\n",
    "    printmd('**Equation of motion:**')\n",
    "    display(EOM)\n",
    "\n",
    "    ### 入出力の定義 ###\n",
    "    jj = sym.I                       #虚数単位\n",
    "\n",
    "    # 調和入力\n",
    "    A = sym.symbols(r'A', real=True) #入力振幅\n",
    "    ht = A*sym.exp( (om*t)*jj )      #調和入力\n",
    "\n",
    "    printmd('**Input:**')\n",
    "    display(ht)\n",
    "\n",
    "    # 定常応答\n",
    "    B   = sym.symbols(r'B', real=True)    #出力振幅\n",
    "    phi = sym.symbols(r'\\phi', real=True) #位相差\n",
    "    yt  = B*sym.exp( (om*t + phi)*jj )    #定常応答\n",
    "    \n",
    "    printmd('**Output:**')\n",
    "    display(yt)\n",
    "\n",
    "    ### 運動方程式への代入 ###\n",
    "    tmp = EOM\n",
    "    tmp = tmp.replace(h, ht)        #入力の代入\n",
    "    tmp = tmp.replace(y, yt)        #定常応答の代入\n",
    "    tmp = tmp/ht                    #入力で割る\n",
    "    tmp = tmp.simplify().expand()   #整理\n",
    "    EOM_om = tmp\n",
    "    \n",
    "    printmd('**Equation of motion in frequency domain:**')\n",
    "    display(EOM_om)\n",
    "    \n",
    "    ### 複素振幅比を求める ###\n",
    "    R   = sym.symbols(r'\\bar{R}', real=True) #振幅比の変数記号\n",
    "    eqn = EOM_om.replace(B, R*A).simplify()  #代入\n",
    "    \n",
    "    #複素振幅比\n",
    "    R_e_phi_j = sym.symbols(r'R*exp(phi*jj)')              #solve用の未知数\n",
    "    eqn       = eqn.replace(sym.exp(phi*jj), R_e_phi_j/R)  #未知数による方程式の表示\n",
    "    sol       = sym.solve(eqn, R_e_phi_j, force=True)      #求解\n",
    "    R_e_phi_j = sol[0] #解が1要素のリストで返ってきたので，その中身\n",
    "\n",
    "    printmd('**Complex amplitude ratio:**')\n",
    "    display(R_e_phi_j)\n",
    "    \n",
    "    ### 周波数応答 ###\n",
    "    barR = sym.Abs(R_e_phi_j)\n",
    "#    phi = sym.arg(R_e_phi_j) #内部でatan2 を使ってるようで計算結果が整理されない\n",
    "    phi_atan  = my_arg(R_e_phi_j) #人間用に簡約したバージョン\n",
    "\n",
    "    printmd('**Frequency response:**')\n",
    "    display(barR, phi_atan)\n",
    "    \n",
    "    return (R_e_phi_j, barR, phi, om, params)\n",
    "\n",
    "harmonic_balance_complex(EOM_can); # ; で返り値の出力を抑制"
   ]
  },
  {
   "cell_type": "markdown",
   "id": "9b665b06",
   "metadata": {},
   "source": [
    "## 演習 6.3 ( ラプラス変換の数式処理 )"
   ]
  },
  {
   "cell_type": "markdown",
   "id": "bd47f00e",
   "metadata": {},
   "source": [
    "- ラプラス変換の定義式：$P(s):=\\int_{0}^{\\infty}p(t)\\exp(-s t)dt$"
   ]
  },
  {
   "cell_type": "code",
   "execution_count": null,
   "id": "e652f0b3",
   "metadata": {},
   "outputs": [],
   "source": [
    "def Laplace_trans(ft, t, s):\n",
    "    '''\n",
    "    ラプラス変換する関数\n",
    "    '''\n",
    "    Ps = sym.integrate(ft*sym.exp(-s*t), (t, 0, sym.oo))\n",
    "    Ps = Ps.simplify() #式の整理\n",
    "    \n",
    "    return Ps"
   ]
  },
  {
   "cell_type": "code",
   "execution_count": null,
   "id": "6a2cb706",
   "metadata": {},
   "outputs": [],
   "source": [
    "def display_Laplace_trans():\n",
    "    '''\n",
    "    ラプラス変換表を導出する関数\n",
    "    '''\n",
    "    #数式処理用の文字変数\n",
    "    t, s, ω, ϕ = sym.symbols('t s \\omega \\phi', Real=True, positive=True)\n",
    "\n",
    "    #数式処理用の関数名\n",
    "    x = sym.Function('x')\n",
    "    \n",
    "    #変換対象の時間関数\n",
    "    time_functions = [\n",
    "        sym.sin(ω*t),\n",
    "        sym.cos(ω*t),        \n",
    "        sym.sin(ω*t + ϕ),\n",
    "        sym.cos(ω*t + ϕ),\n",
    "        sym.diff(x(t),t),\n",
    "    ]\n",
    "    \n",
    "    for pt in time_functions:\n",
    "        Ps = Laplace_trans(pt, t, s)\n",
    "        printmd('---')\n",
    "        display(pt)\n",
    "        display(Ps)\n",
    "\n",
    "\n",
    "display_Laplace_trans()"
   ]
  },
  {
   "cell_type": "markdown",
   "id": "9479278c",
   "metadata": {},
   "source": [
    "- 時間微分のは計算してくれませんでした．（できる方法もあるのかな？）"
   ]
  },
  {
   "cell_type": "markdown",
   "id": "d95d9873",
   "metadata": {},
   "source": [
    "## 演習 6.6 ( 数式処理結果のボード線図 )"
   ]
  },
  {
   "cell_type": "markdown",
   "id": "cf10397e",
   "metadata": {},
   "source": [
    "### 周波数応答の数式処理結果（再掲）"
   ]
  },
  {
   "cell_type": "code",
   "execution_count": null,
   "id": "35b7a11f",
   "metadata": {},
   "outputs": [],
   "source": [
    "Gjom, R, phi, om, params = harmonic_balance_complex(EOM_can)\n",
    "display_all(params)"
   ]
  },
  {
   "cell_type": "markdown",
   "id": "0b7f3d1d",
   "metadata": {},
   "source": [
    "### 複素振幅比をNumpy関数に変換"
   ]
  },
  {
   "cell_type": "code",
   "execution_count": null,
   "id": "44b1b174",
   "metadata": {},
   "outputs": [],
   "source": [
    "from sympy.utilities.lambdify import lambdify #数式をNumpy関数に変換するライブラリ関数\n",
    "import numpy as np\n",
    "import matplotlib.pyplot as plt"
   ]
  },
  {
   "cell_type": "code",
   "execution_count": null,
   "id": "8d525de4",
   "metadata": {},
   "outputs": [],
   "source": [
    "display(Gjom)\n",
    "numpy_Gjom  = lambdify((om, *params), Gjom, 'numpy')"
   ]
  },
  {
   "cell_type": "markdown",
   "id": "f1bdb8de",
   "metadata": {},
   "source": [
    "### 周波数応答の計算とプロット"
   ]
  },
  {
   "cell_type": "code",
   "execution_count": null,
   "id": "f0abb916",
   "metadata": {},
   "outputs": [],
   "source": [
    "oms = np.linspace(0.5, 2.0, 200)\n",
    "zeta = 0.1\n",
    "\n",
    "# 周波数応答の計算\n",
    "Gjoms = numpy_Gjom( oms, zeta ) # Gjom(om) := G(j*om)\n",
    "Rs   = np.abs(Gjoms)            #振幅比のデータ列\n",
    "phis = np.angle(Gjoms)          #位相差のデータ列...Numpy の arg は angle\n",
    "\n",
    "# プロット\n",
    "fig, ax = plt.subplots(1,2, figsize=(8,4))\n",
    "ax[0].plot(oms, Rs)\n",
    "ax[1].plot(oms, phis)\n",
    "ax[0].set_ylabel(r'$\\bar R$', fontsize=16)\n",
    "ax[1].set_ylabel(r'$\\phi$',   fontsize=16)\n",
    "for a in ax:\n",
    "    a.set_xlabel(r'$\\omega$', fontsize=16)\n",
    "\n",
    "fig.tight_layout()"
   ]
  },
  {
   "cell_type": "markdown",
   "id": "d3d5b539",
   "metadata": {},
   "source": [
    "## 演習 6.7 ( 伝達関数から求めた周波数応答 )"
   ]
  },
  {
   "cell_type": "markdown",
   "id": "bd2556f9",
   "metadata": {},
   "source": [
    "### 以上と同じ調和励振系の伝達関数（最初からNumpyで記述）"
   ]
  },
  {
   "cell_type": "code",
   "execution_count": null,
   "id": "5743bc51",
   "metadata": {},
   "outputs": [],
   "source": [
    "# 伝達関数の定義\n",
    "def _G(s, zeta):\n",
    "    '''\n",
    "    正規化された調和励振系の伝達関数\n",
    "    '''\n",
    "    return 1/(s**2 + 2*zeta*s + 1)\n",
    "\n",
    "# Numpy 特有のプログラミング技法\n",
    "G = np.vectorize(_G, excluded=['zeta']) #ベクトル引数を受付ける関数に拡張．zeta部分は除く\n",
    "\n",
    "# 周波数応答\n",
    "Rs2 = np.abs(G( (1j)*oms, zeta ))     #振幅比 |G(j*om)|\n",
    "phis2 = np.angle(G( (1j)*oms, zeta )) #位相差 arg[G(j*om)]...Numpy の arg は angle\n",
    "\n",
    "# プロット\n",
    "fig, ax = plt.subplots(1,2, figsize=(8,4))\n",
    "ax[0].plot(oms, Rs2)\n",
    "ax[1].plot(oms, phis2)\n",
    "ax[0].set_ylabel(r'$\\bar R$', fontsize=16)\n",
    "ax[1].set_ylabel(r'$\\phi$',   fontsize=16)\n",
    "for a in ax:\n",
    "    a.set_xlabel(r'$\\omega$', fontsize=16)\n",
    "\n",
    "fig.tight_layout()"
   ]
  },
  {
   "cell_type": "markdown",
   "id": "6b5119a7",
   "metadata": {},
   "source": [
    "- ほんの数行で，周波数応答が求まります．"
   ]
  },
  {
   "cell_type": "code",
   "execution_count": null,
   "id": "acc3c05c",
   "metadata": {},
   "outputs": [],
   "source": []
  }
 ],
 "metadata": {
  "kernelspec": {
   "display_name": "Python 3",
   "language": "python",
   "name": "python3"
  },
  "language_info": {
   "codemirror_mode": {
    "name": "ipython",
    "version": 3
   },
   "file_extension": ".py",
   "mimetype": "text/x-python",
   "name": "python",
   "nbconvert_exporter": "python",
   "pygments_lexer": "ipython3",
   "version": "3.8.8"
  }
 },
 "nbformat": 4,
 "nbformat_minor": 5
}
