{
 "cells": [
  {
   "cell_type": "markdown",
   "id": "3f99f38e",
   "metadata": {},
   "source": [
    "# 運動方程式の線形化の数式処理\n",
    "\n",
    "吉田勝俊（宇都宮大学）\n",
    "\n",
    "### 参考情報\n",
    "- [Welcome to SymPy’s documentation! &#8212; SymPy 1.10.1 documentation](https://docs.sympy.org/) （本家）\n",
    "- [SymPy による数式処理とグラフ作成 - 弘前大学 Home Sweet Home](https://home.hirosaki-u.ac.jp/jupyter/sympy/)"
   ]
  },
  {
   "cell_type": "code",
   "execution_count": null,
   "id": "95fbf3d9",
   "metadata": {},
   "outputs": [],
   "source": [
    "import sympy as sym #数式処理ライブラリ"
   ]
  },
  {
   "cell_type": "markdown",
   "id": "15f35281",
   "metadata": {},
   "source": [
    "## ◯オイラー・ラグランジュ方程式\n",
    "\n",
    "### 定義：\n",
    "\n",
    "$\\displaystyle\n",
    "\\frac{d}{dt}\\left(\\frac{\\partial L}{\\partial \\dot q_i}\\right)\n",
    "-\\frac{\\partial L}{\\partial q_i}\n",
    "+\\frac{\\partial D}{\\partial \\dot q_i}\n",
    "-Q_i\n",
    "= 0, \\quad i=1,2,\\cdots\n",
    "$"
   ]
  },
  {
   "cell_type": "code",
   "execution_count": null,
   "id": "d8929dd3",
   "metadata": {},
   "outputs": [],
   "source": [
    "def Derive_ELE(system):\n",
    "    '''\n",
    "    オイラー・ラグランジュ方程式（ELE: Euler-Lagrange equation）\n",
    "    「左辺＝０」の左辺を導出する関数\n",
    "    \n",
    "    def system():    \n",
    "        t: 時間（スカラ）\n",
    "        q: 一般化座標（ベクトル）\n",
    "        L: ラグランジュ関数（スカラ）\n",
    "        D: 散逸関数（スカラ）\n",
    "        Q: 一般化力（ベクトル）\n",
    "        u: 外部入力（ベクトル）※線形化で用いる\n",
    "        plist: パラメータ（リスト）\n",
    "        \n",
    "        return {'t':t, 'q':q, 'L':L, 'D':D, 'Q':Q, 'u':u, 'plist':plist} #辞書型\n",
    "    '''\n",
    "    t, q, L, D, Q, u = [ #plistは未使用\n",
    "        system()[key]\n",
    "        for key in ['t','q','L','D','Q','u']\n",
    "    ]\n",
    "    dqdt             = sym.diff(q, t) #一般化座標の時間微分\n",
    "    dim              = len(q)         #一般化座標の次元\n",
    "    \n",
    "    ### ラグランジュの運動方程式 ###\n",
    "    EOM = sym.Matrix([\n",
    "        sym.simplify(\n",
    "            sym.diff( sym.diff(L, dqdt[i]), t )\n",
    "            - sym.diff(L, q[i])\n",
    "            + sym.diff(D, dqdt[i])\n",
    "            - (Q[i] if Q is not None else 0) #Q が無ければ 0\n",
    "        )\n",
    "        for i in range(dim)\n",
    "    ])\n",
    "    \n",
    "    ELE = {'EOM':EOM}\n",
    "    ELE.update(system()) #system()の結果を継承\n",
    "\n",
    "    return ELE"
   ]
  },
  {
   "cell_type": "markdown",
   "id": "87b54bc8",
   "metadata": {},
   "source": [
    "## ◯運動方程式の線形化と１階化"
   ]
  },
  {
   "cell_type": "markdown",
   "id": "8f459c80-d04e-4d4a-9bbe-1fae33daa3fd",
   "metadata": {},
   "source": [
    "### ■ユーザー関数"
   ]
  },
  {
   "cell_type": "code",
   "execution_count": null,
   "id": "ff93c0a8-8b8a-4f31-b796-9591e2ba76fb",
   "metadata": {},
   "outputs": [],
   "source": [
    "def initial_state(x0, x0symb, x):\n",
    "    '''\n",
    "    線形化の基準点が未指定なら記号で生成する\n",
    "    '''\n",
    "    if x0 is None:\n",
    "        if len(x) == 1:  #基準点がスカラ（1次元）の場合\n",
    "            x0 = sym.Matrix([x0symb])\n",
    "        else:            #基準点がベクトル（多次元）の場合\n",
    "            x0 = sym.Matrix([\n",
    "                sym.symbols(x0symb + '_' + str(i+1)) for i in range(len(x))\n",
    "            ])\n",
    "\n",
    "    else:\n",
    "        x0 = sym.Matrix(x0)\n",
    "\n",
    "    return x0"
   ]
  },
  {
   "cell_type": "code",
   "execution_count": null,
   "id": "9e674895",
   "metadata": {},
   "outputs": [],
   "source": [
    "def Linearized_ELE(ELE, q0=None, u0=None):\n",
    "    '''\n",
    "    運動方程式を，x0 の近傍で線形化する\n",
    "    - ELE := derive_ELE(system)の出力\n",
    "    '''\n",
    "    EOMq, q, t, u = [\n",
    "        ELE[key]\n",
    "        for key in ['EOM','q','t','u']\n",
    "    ]\n",
    "\n",
    "    #\n",
    "    # 一般化座標の微分\n",
    "    #\n",
    "    dq  = sym.Matrix([sym.diff(qi, t) for qi in q])    #1階微分\n",
    "    ddq = sym.Matrix([sym.diff(qi, t, 2) for qi in q]) #2階微分\n",
    "    \n",
    "    #\n",
    "    # ヤコビ行列\n",
    "    #\n",
    "    M = EOMq.jacobian(ddq) #慣性行列：加速度に関するヤコビ行列\n",
    "    C = EOMq.jacobian(dq)  #減衰行列：速度に関するヤコビ行列\n",
    "    K = EOMq.jacobian(q)   #剛性行列：変位に関するヤコビ行列\n",
    "    \n",
    "    #入力行列 ※存在すれば計算．これだけ右辺なのでマイナス　\n",
    "    U = -EOMq.jacobian(u) if u is not None else None\n",
    "\n",
    "    # 平衡点の準備\n",
    "    q0 = initial_state(q0, 'q0', q)\n",
    "    u0 = initial_state(u0, 'u0', u) if u is not None else None\n",
    "\n",
    "    # 平衡点と平衡条件の代入\n",
    "    def subs_equilibrium(mat):\n",
    "        '''\n",
    "        平衡点と平衡条件を代入する\n",
    "        '''\n",
    "        for i in range(len(q)):\n",
    "            mat = mat.subs(ddq[i], 0)\n",
    "            mat = mat.subs(dq[i], 0)\n",
    "            mat = mat.subs(q[i], q0[i])\n",
    "        \n",
    "        if u is not None:\n",
    "            for i in range(len(u)):\n",
    "                mat = mat.subs(u[i], u0[i]) \n",
    "            \n",
    "        return sym.simplify(mat)\n",
    "    \n",
    "    M = subs_equilibrium(M)\n",
    "    C = subs_equilibrium(C)\n",
    "    K = subs_equilibrium(K)\n",
    "    if u is not None:\n",
    "        U = subs_equilibrium(U)\n",
    "    \n",
    "    ### 結果 ###\n",
    "    LELE = {'M':M, 'C':C, 'K':K, 'U':U, 'q0':q0, 'u0':u0}\n",
    "    LELE.update(ELE) #継承\n",
    "    \n",
    "    return LELE"
   ]
  },
  {
   "cell_type": "code",
   "execution_count": null,
   "id": "26fe90e4-5250-4ba2-b295-3e0d40194867",
   "metadata": {},
   "outputs": [],
   "source": [
    "def FirstOrdered_LELE(LELE):\n",
    "    '''\n",
    "    線形化した運動方程式を１階化する\n",
    "    - LELE ... Linearized_ELE(ELE, q0=None, u0=None)の出力\n",
    "    '''\n",
    "    q = LELE['q']\n",
    "    u = LELE['u']\n",
    "    t = LELE['t']\n",
    "\n",
    "    ### 状態ベクトルの生成 ###\n",
    "    # 実体\n",
    "    xq = sym.Matrix(\n",
    "        [qi for qi in q] \n",
    "        + #リストの + は連結\n",
    "        [sym.diff(qi, t) for qi in q]\n",
    "    )\n",
    "\n",
    "    # 通し番号\n",
    "    x = sym.Matrix([\n",
    "        sym.Function(r'x_' + str(i+1), real=True)(t)\n",
    "        for i in range(len(xq))\n",
    "    ])\n",
    "\n",
    "    ### 状態ベクトルに関するヤコビ行列 ###\n",
    "    qdim = len(q)\n",
    "    E    = sym.eye(qdim)        #qdim×qdim 単位行列\n",
    "    Oq   = sym.zeros(qdim,qdim) #qdim×qdim ゼロ行列\n",
    "    ovec = sym.zeros(qdim,1)    #qdimゼロベクトル\n",
    "    invM = sym.Inverse(LELE['M'])  #質量行列の逆行列\n",
    "    \n",
    "    # 平衡点\n",
    "    dfxdx = sym.Matrix([\n",
    "        [Oq,              E              ],\n",
    "        [-invM*LELE['K'], -invM*LELE['C']]\n",
    "    ])\n",
    "    dfxdx = sym.simplify(dfxdx)\n",
    "    \n",
    "    # 平衡点\n",
    "    x0 = sym.Matrix([\n",
    "        [LELE['q0']],\n",
    "        [ovec]\n",
    "    ])\n",
    "\n",
    "    # 平衡点\n",
    "    jacobi_x = {'A':dfxdx, 'x0':x0} #(ヤコビ行列，基準点)\n",
    "\n",
    "    ### 外部入力に関するヤコビ行列 ###\n",
    "    if u is not None: #もし外部入力が存在すれば\n",
    "        udim = len(u)\n",
    "        Ou = sym.zeros(qdim,udim) #qdim×udim ゼロ行列\n",
    "        \n",
    "        dfxdu = sym.Matrix([\n",
    "            [Ou],\n",
    "            [invM*LELE['U']]\n",
    "        ])\n",
    "        dfxdu = sym.simplify(dfxdu)\n",
    "        \n",
    "        jacobi_u = {'B':dfxdu, 'u0':LELE['u0']} #(ヤコビ行列，基準点)\n",
    "        \n",
    "    else:\n",
    "        jacobi_u = {'B':None, 'u0':None}\n",
    "\n",
    "    \n",
    "    ### 結果（辞書型） ###\n",
    "    linearized = {'x':x, 'xq':xq}  #状態ベクトルの定義\n",
    "    linearized.update(jacobi_u)    #xの(ヤコビ行列，基準点)をマージ\n",
    "    linearized.update(jacobi_x)    #uの(ヤコビ行列，基準点)をマージ\n",
    "    linearized.update(LELE)        #継承\n",
    "        \n",
    "    return linearized"
   ]
  },
  {
   "cell_type": "markdown",
   "id": "43bfbb07",
   "metadata": {},
   "source": [
    "### ■単振り子（SP: simple pendulum）\n",
    "\n",
    "- 一般化座標: $(\\theta(t))$"
   ]
  },
  {
   "cell_type": "code",
   "execution_count": null,
   "id": "df2d560a",
   "metadata": {},
   "outputs": [],
   "source": [
    "def system_SP():\n",
    "    '''\n",
    "    システムを定義する関数（単振り子）\n",
    "    '''\n",
    "    # パラメータ: \n",
    "    t, m, l, g = sym.symbols(\n",
    "        't m l g', \n",
    "        positive=True #正の実数に制限 ※なるべく制限すると simplify がよく効く．以下同．\n",
    "    )\n",
    "    c = sym.symbols('c', positive=True)\n",
    "    plist = [m, l, g, c] #パラメータのリスト\n",
    "    \n",
    "    # 一般化座標（時間関数）: \n",
    "    q = sym.Matrix([\n",
    "        sym.Function(\n",
    "            r'\\theta', \n",
    "            real=True #実数値に制限\n",
    "        )(t),\n",
    "    ])\n",
    "    \n",
    "    # 質点の直交座標\n",
    "    theta = q[0]\n",
    "    xx = l*sym.Matrix([\n",
    "        sym.sin(theta),\n",
    "        -sym.cos(theta),\n",
    "    ])\n",
    "    \n",
    "    dxxdt = sym.diff(xx, t) #その時間微分\n",
    "    \n",
    "    # 運動エネルギー\n",
    "    T = (m/2)*dxxdt.dot(dxxdt)\n",
    "    \n",
    "    # 位置エネルギー\n",
    "    h = xx[1] #振子先端の高さ\n",
    "    U = m*g*h\n",
    "    \n",
    "    # ラグランジュ関数\n",
    "    L = T - U\n",
    "\n",
    "    # 散逸関数\n",
    "#     D = (c/2)*dxxdt.dot(dxxdt) #粘性減衰\n",
    "    D = 0 #減衰なし\n",
    "\n",
    "    # 外部入力（この系は無し）\n",
    "    u = None\n",
    "\n",
    "    # 一般化力\n",
    "    Q = u\n",
    "    \n",
    "    return {'t':t, 'q':q, 'L':L, 'D':D, 'Q':Q, 'u':u, 'plist':plist}"
   ]
  },
  {
   "cell_type": "markdown",
   "id": "106c8ef4",
   "metadata": {},
   "source": [
    "#### 運動方程式の導出結果"
   ]
  },
  {
   "cell_type": "code",
   "execution_count": null,
   "id": "6b2b4d7a",
   "metadata": {
    "scrolled": true
   },
   "outputs": [],
   "source": [
    "ele_SP = Derive_ELE(system_SP)\n",
    "\n",
    "display(ele_SP['EOM'])"
   ]
  },
  {
   "cell_type": "markdown",
   "id": "5e2aa4bf",
   "metadata": {},
   "source": [
    "#### 線形化の結果"
   ]
  },
  {
   "cell_type": "code",
   "execution_count": null,
   "id": "136db207",
   "metadata": {
    "scrolled": true
   },
   "outputs": [],
   "source": [
    "lele_SP = Linearized_ELE(ele_SP, q0=[0])\n",
    "\n",
    "for _ in ['M', 'C', 'K', 'U']:\n",
    "    display(lele_SP[_])"
   ]
  },
  {
   "cell_type": "markdown",
   "id": "f9341a3c",
   "metadata": {},
   "source": [
    "上の出力より，平衡点 $q^\\ast=0$の近傍で線形化した運動方程式は次のようになります．\n",
    "\n",
    "$$\n",
    "ml^2 \\ddot\\varphi + mgl\\varphi = 0\n",
    "$$"
   ]
  },
  {
   "cell_type": "markdown",
   "id": "97d3a3c7-4d8f-4706-be51-9bb8dbef1de7",
   "metadata": {},
   "source": [
    "#### 線形化した運動方程式の１階化"
   ]
  },
  {
   "cell_type": "code",
   "execution_count": null,
   "id": "f120ff00-e6a0-42d6-a5e2-27c9cfa1b001",
   "metadata": {
    "scrolled": true
   },
   "outputs": [],
   "source": [
    "first_SP = FirstOrdered_LELE(lele_SP)\n",
    "\n",
    "for _ in ['xq', 'A', 'x0', 'B', 'u0']:\n",
    "    display(first_SP[_])"
   ]
  },
  {
   "cell_type": "markdown",
   "id": "0d173721-2ac2-4270-9e48-1620b522d8a8",
   "metadata": {},
   "source": [
    "先に１階化してから線形化したのと同じ結果が得られています．"
   ]
  },
  {
   "cell_type": "markdown",
   "id": "60049f04",
   "metadata": {},
   "source": [
    "### ■台車型倒立振子（CIP: cart inverted pendulum）\n",
    "\n",
    "- 一般化座標: $(x(t),\\theta(t))$"
   ]
  },
  {
   "cell_type": "code",
   "execution_count": null,
   "id": "a97eb4d1",
   "metadata": {},
   "outputs": [],
   "source": [
    "def system_CIP():\n",
    "    '''\n",
    "    システムを定義する関数 （問題に応じて書き換える）\n",
    "    ※以下は，台車型倒立振子の例\n",
    "    '''\n",
    "    # パラメータ: \n",
    "    t, M, m, l, g, c1, c2 = sym.symbols(\n",
    "        't M m l g c_1 c_2', \n",
    "        positive=True #正の実数に制限 ※なるべく制限すると simplify がよく効く．以下同．\n",
    "    )\n",
    "    G, S = sym.symbols('G S', positive=True)   #消去されるパラメータ\n",
    "    plist = [M, m, l, g, c1, c2] #パラメータのリスト\n",
    "    \n",
    "    # 一般化座標（時間関数）: \n",
    "    q = sym.Matrix([\n",
    "        sym.Function(\n",
    "            r'x', \n",
    "            real=True #実数値に制限\n",
    "        )(t),\n",
    "        sym.Function(\n",
    "            r'\\theta', \n",
    "            real=True #実数値に制限\n",
    "        )(t),\n",
    "    ])\n",
    "    \n",
    "    # 質点の直交座標\n",
    "    x, th = q\n",
    "    xM = sym.Matrix([\n",
    "        x,\n",
    "        G\n",
    "    ])\n",
    "    xm = sym.Matrix([\n",
    "        x + l*sym.sin(th),\n",
    "        l*sym.cos(th) + S,\n",
    "    ])\n",
    "    \n",
    "    dxMdt = sym.diff(xM, t) #その時間微分\n",
    "    dxmdt = sym.diff(xm, t)\n",
    "    \n",
    "    # 運動エネルギー\n",
    "    T = (M/2)*dxMdt.dot(dxMdt) + (m/2)*dxmdt.dot(dxmdt)\n",
    "    \n",
    "    # 位置エネルギー\n",
    "    h = xm[1] #振子先端の高さ\n",
    "    U = m*g*h\n",
    "    \n",
    "    # ラグランジュ関数\n",
    "    L = T - U\n",
    "\n",
    "    # 散逸関数\n",
    "    D = (c1/2)*sym.diff(x,t)**2 + (c2/2)*sym.diff(th,t)**2 #粘性減衰\n",
    "#     D = 0 #減衰なし\n",
    "\n",
    "    # 外部入力（この系は１個だけ）\n",
    "    u = sym.Matrix([\n",
    "        sym.Function(r'u', real=True)(t)\n",
    "    ])\n",
    "     \n",
    "    # 一般化力（外部入力が第１成分のみに作用）\n",
    "    Q = sym.Matrix([\n",
    "        u[0],\n",
    "        0\n",
    "    ])\n",
    "    \n",
    "    return {'t':t, 'q':q, 'L':L, 'D':D, 'Q':Q, 'u':u, 'plist':plist}"
   ]
  },
  {
   "cell_type": "markdown",
   "id": "4edc07b2",
   "metadata": {},
   "source": [
    "#### 運動方程式の導出結果"
   ]
  },
  {
   "cell_type": "code",
   "execution_count": null,
   "id": "4f0f28c9",
   "metadata": {},
   "outputs": [],
   "source": [
    "ele_CIP = Derive_ELE(system_CIP)\n",
    "\n",
    "display(ele_CIP['EOM']) #運動方程式（左辺＝０）の左辺"
   ]
  },
  {
   "cell_type": "markdown",
   "id": "a60ef020",
   "metadata": {},
   "source": [
    "#### 線形化の結果"
   ]
  },
  {
   "cell_type": "code",
   "execution_count": null,
   "id": "4aa2d273-12c3-42fc-8420-34b7112b31b2",
   "metadata": {},
   "outputs": [],
   "source": [
    "lele_CIP = Linearized_ELE(ele_CIP) #平衡点未指定\n",
    "\n",
    "for _ in ['M', 'C', 'K', 'U']:\n",
    "    display(lele_CIP[_])"
   ]
  },
  {
   "cell_type": "code",
   "execution_count": null,
   "id": "74c0fe79",
   "metadata": {
    "scrolled": true
   },
   "outputs": [],
   "source": [
    "lele_CIP0 = Linearized_ELE(ele_CIP, [0,0], [0]) #平衡点指定\n",
    "\n",
    "for _ in ['M', 'C', 'K', 'U']:\n",
    "    display(lele_CIP0[_])"
   ]
  },
  {
   "cell_type": "markdown",
   "id": "a88af40a-7ba7-4af5-9f24-d5856aa7bebd",
   "metadata": {},
   "source": [
    "上の出力より，平衡点 $\\boldsymbol{q}^\\ast=(0,0)$の近傍で線形化した運動方程式は次のようになります．\n",
    "\n",
    "$$\n",
    "\\def\\bmat#1{\\begin{bmatrix}#1\\end{bmatrix}}\n",
    "    \\bmat{M+m & ml\\\\ ml & ml^2} \\bmat{\\ddot\\varphi_1 \\\\ \\ddot\\varphi_2}\n",
    "   +\\bmat{c_1 & 0 \\\\ 0 & c_2}   \\bmat{\\dot\\varphi_1 \\\\ \\dot\\varphi_2}\n",
    "   +\\bmat{0 & 0 \\\\ 0 & -mgl}    \\bmat{\\varphi_1 \\\\ \\varphi_2}\n",
    "  =\n",
    "    \\bmat{1 \\\\ 0} \\mu(t)\n",
    "$$"
   ]
  },
  {
   "cell_type": "markdown",
   "id": "52757a00-9f03-4836-a746-91ba6e77c983",
   "metadata": {},
   "source": [
    "#### 線形化した運動方程式の１階化"
   ]
  },
  {
   "cell_type": "code",
   "execution_count": null,
   "id": "6f4503cd-cc89-4cdf-ad7b-545389aa20ae",
   "metadata": {
    "scrolled": true
   },
   "outputs": [],
   "source": [
    "first_CIP = FirstOrdered_LELE(lele_CIP) #平衡点未指定\n",
    "\n",
    "for _ in ['xq', 'A', 'x0', 'B', 'u0']:\n",
    "    display(first_CIP[_])"
   ]
  },
  {
   "cell_type": "code",
   "execution_count": null,
   "id": "594f97c6-4cc7-449d-a51a-97cea654437c",
   "metadata": {},
   "outputs": [],
   "source": [
    "first_CIP0 = FirstOrdered_LELE(lele_CIP0) #平衡点指定\n",
    "\n",
    "for _ in ['xq', 'A', 'x0', 'B', 'u0']:\n",
    "    display(first_CIP0[_])"
   ]
  },
  {
   "cell_type": "markdown",
   "id": "fc9e6a3c-960d-4c17-b60c-aed9b3b88f17",
   "metadata": {},
   "source": [
    "先に１階化してから線形化したのと同じ結果が得られています．"
   ]
  },
  {
   "cell_type": "markdown",
   "id": "70e3f61e-c9a3-48a3-86a7-7659d29dffcf",
   "metadata": {},
   "source": [
    "## ◯平衡点の導出《おまけ》"
   ]
  },
  {
   "cell_type": "code",
   "execution_count": null,
   "id": "0cdf3475-ef0a-4a8b-a671-89faeec63ad3",
   "metadata": {},
   "outputs": [],
   "source": [
    "def Equilibrium(ELE, u0=None):\n",
    "    '''\n",
    "    運動方程式を，x0 の近傍で線形化する\n",
    "    - ELE := derive_ELE(system)の出力\n",
    "    '''\n",
    "    EOMq, q, t, u = [\n",
    "        ELE[key]\n",
    "        for key in ['EOM','q','t','u']\n",
    "    ]\n",
    "\n",
    "    #\n",
    "    # 一般化座標の微分\n",
    "    #\n",
    "    dq  = sym.Matrix([sym.diff(qi, t) for qi in q])    #1階微分\n",
    "    ddq = sym.Matrix([sym.diff(qi, t, 2) for qi in q]) #2階微分\n",
    "    \n",
    "    display(EOMq)\n",
    "    #\n",
    "    # ヤコビ行列\n",
    "    #\n",
    "    M = EOMq.jacobian(ddq) #慣性行列：加速度に関するヤコビ行列\n",
    "    \n",
    "    #\n",
    "    # 右辺の関数 F\n",
    "    #\n",
    "    F = sym.simplify(EOMq - M*ddq)\n",
    "    \n",
    "    #\n",
    "    # 平衡条件の代入\n",
    "    #\n",
    "    q0 = initial_state(None, 'q0', q)\n",
    "    u0 = initial_state(u0, 'u0', u) if u is not None else None\n",
    "\n",
    "    for i in range(len(q)):\n",
    "        F = F.subs(dq[i], 0)\n",
    "        F = F.subs(q[i], q0[i])\n",
    "\n",
    "    if u is not None:\n",
    "        for i in range(len(u)):\n",
    "            F = F.subs(u[i], u0[i])\n",
    "\n",
    "    F = sym.simplify(F)\n",
    "\n",
    "    #\n",
    "    # 平衡点を求める\n",
    "    #\n",
    "    sol = sym.solve(F, q0, dict=True)\n",
    "    \n",
    "    return (F, q0, sol)"
   ]
  },
  {
   "cell_type": "markdown",
   "id": "b3dd3e6d-7232-4815-9c85-20d69f0fc10c",
   "metadata": {},
   "source": [
    "#### 台車型倒立振子の平衡点"
   ]
  },
  {
   "cell_type": "code",
   "execution_count": null,
   "id": "6bef4ac7-72ee-49e0-baca-922faf342537",
   "metadata": {},
   "outputs": [],
   "source": [
    "F_CIP, q0_CIP, sol_CIP = Equilibrium(ele_CIP)\n",
    "display(F_CIP, q0_CIP, sol_CIP)"
   ]
  },
  {
   "cell_type": "markdown",
   "id": "82dfde25-38ca-4644-866b-f382837563ae",
   "metadata": {},
   "source": [
    "### 得られた平衡点を若干見やすく出力"
   ]
  },
  {
   "cell_type": "code",
   "execution_count": null,
   "id": "e4150b3b-1f8e-4929-bf0a-5e05f3f4d052",
   "metadata": {},
   "outputs": [],
   "source": [
    "for sol in sol_CIP:\n",
    "    for q in q0_CIP:\n",
    "        try:\n",
    "            s = sol[q]\n",
    "            display(q,s)\n",
    "            print('---')\n",
    "        except:\n",
    "            pass"
   ]
  },
  {
   "cell_type": "code",
   "execution_count": null,
   "id": "3741c504-7c11-4d2e-8d04-6bdfa8744b29",
   "metadata": {},
   "outputs": [],
   "source": []
  }
 ],
 "metadata": {
  "kernelspec": {
   "display_name": "Python 3",
   "language": "python",
   "name": "python3"
  },
  "language_info": {
   "codemirror_mode": {
    "name": "ipython",
    "version": 3
   },
   "file_extension": ".py",
   "mimetype": "text/x-python",
   "name": "python",
   "nbconvert_exporter": "python",
   "pygments_lexer": "ipython3",
   "version": "3.8.8"
  }
 },
 "nbformat": 4,
 "nbformat_minor": 5
}
