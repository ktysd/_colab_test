{
 "cells": [
  {
   "cell_type": "markdown",
   "metadata": {},
   "source": [
    "# 調和励振系の数値シミュレーション\n",
    "\n",
    "吉田勝俊（宇都宮大学）"
   ]
  },
  {
   "cell_type": "markdown",
   "metadata": {},
   "source": [
    "## 参考情報\n",
    "\n",
    "- [Pythonで運動方程式を解く(odeint) - Qiita](https://qiita.com/binaryneutronstar/items/ad5efa27fd626826846f)\n",
    "- [[Python] Numpyの参照、抽出、結合 - Qiita](https://qiita.com/supersaiakujin/items/d63c73bb7b5aac43898a)\n",
    "- [[Python/matplotlib] FuncAnimationを理解して使う - Qiita](https://qiita.com/osanshouo/items/3c66781f41884694838b)\n",
    "- [2つの信号間の遅延を推定する - Qiita](https://qiita.com/inoory/items/3ea2d447f6f1e8c40ffa)"
   ]
  },
  {
   "cell_type": "code",
   "execution_count": null,
   "metadata": {},
   "outputs": [],
   "source": [
    "import numpy as np                              #数値計算ライブラリ\n",
    "from math import sin, cos                       #低機能だが高速な数学関数・定数\n",
    "from numpy.linalg import norm                   #ベクトルのノルム\n",
    "from scipy.integrate import odeint              #常微分方程式ライブラリ\n",
    "import matplotlib.pyplot as plt                 #描画ライブラリ\n",
    "from matplotlib import rc                       #グラフ調整ライブラリ\n",
    "from matplotlib.animation import FuncAnimation  #アニメーションライブラリ\n",
    "#Colab用の設定（グラフィックのインライン表示）\n",
    "%matplotlib inline"
   ]
  },
  {
   "cell_type": "markdown",
   "metadata": {},
   "source": [
    "## 調和励振系の運動方程式"
   ]
  },
  {
   "cell_type": "code",
   "execution_count": null,
   "metadata": {},
   "outputs": [],
   "source": [
    "def org_funcs():\n",
    "    '''\n",
    "    調和励振系（原形 original）の外力と運動方程式\n",
    "    '''\n",
    "    def force(t, param):\n",
    "        '''\n",
    "        外力 f(t)\n",
    "        '''\n",
    "        m, c, k, P, Om = param\n",
    "        ft = P*sin(Om*t)\n",
    "        \n",
    "        return ft \n",
    "\n",
    "    def eom(x, t, param):\n",
    "        '''\n",
    "        運動方程式\n",
    "        '''\n",
    "        m, c, k, P, Om = param\n",
    "        return np.array([\n",
    "            x[1],\n",
    "            -(c/m)*x[1] - (k/m)*x[0] + force(t,param)\n",
    "        ])\n",
    "\n",
    "    return (force, eom)"
   ]
  },
  {
   "cell_type": "code",
   "execution_count": null,
   "metadata": {},
   "outputs": [],
   "source": [
    "def Solve(funcs, param, x0, time, new_om=None):\n",
    "    '''\n",
    "    調和励振系の数値解を求める関数\n",
    "    '''\n",
    "    force, eom = funcs()     #外力と運動方程式の取得\n",
    "    new_param = param.copy() #元のparamを書き換えぬよう複製\n",
    "    \n",
    "    if new_om is not None:\n",
    "        new_param[-1] = new_om   #最終成分＝外力角振動数\n",
    "        \n",
    "    ###運動方程式を数値的に解く\n",
    "    motion = odeint(\n",
    "        eom,                #運動方程式を表すユーザ関数\n",
    "        x0,                 #初期条件\n",
    "        time,               #時間軸を表す数列\n",
    "        args=(new_param,)   #運動方程式の係数\n",
    "    )\n",
    "    \n",
    "    ###外力の数列を作る\n",
    "    forces = np.array([\n",
    "        force(t, new_param) for t in time\n",
    "    ])\n",
    "\n",
    "    return (forces, motion)"
   ]
  },
  {
   "cell_type": "markdown",
   "metadata": {},
   "source": [
    "## 演習 5.2 ( 調和励振系の振動波形 )"
   ]
  },
  {
   "cell_type": "code",
   "execution_count": null,
   "metadata": {},
   "outputs": [],
   "source": [
    "def draw_waves(axs, ts, forces, xs, \n",
    "               inlab=r'$f(t)$', outlab=r'$x(t)$',\n",
    "               ymax1=2, ymax2=2,\n",
    "               title=None ):\n",
    "    '''\n",
    "    外力と変位の振動波形を描画する関数\n",
    "    '''\n",
    "    ax1, ax2 = axs #第１軸, 第２軸\n",
    "    \n",
    "    ax1.plot(ts, forces,   label=inlab,  color='gray') #入力\n",
    "    ax2.plot(ts, xs[:, 0], label=outlab, color='red')  #出力\n",
    "\n",
    "    ax1.set_ylim(-ymax1, ymax1) #縦軸の範囲\n",
    "    ax2.set_ylim(-ymax2, ymax2)\n",
    "\n",
    "    ax1.set_ylabel('Input Amplitude',  fontsize=15, color='gray')\n",
    "    ax2.set_ylabel('Output Amplitude', fontsize=15, color='red')\n",
    "\n",
    "    ax1.set_xlabel('Time', fontsize=16)\n",
    "\n",
    "    ax1.legend(fontsize=14, loc='upper left') #凡例の表示\n",
    "    ax2.legend(fontsize=14, loc='upper right') #凡例の表示\n",
    "\n",
    "    ax1.grid()   #グリッド線の表示\n",
    "    \n",
    "    if title is not None:\n",
    "        ax1.set_title(title, fontsize=14)\n",
    "        \n",
    "        \n",
    "def output_waves(ts, forces, xs, \n",
    "                 inlab=r'$f(t)$', outlab=r'$x(t)$', \n",
    "                 ymax1=2, ymax2=2):\n",
    "    '''\n",
    "    振動波形の描画を出力する関数\n",
    "    '''\n",
    "    fig, ax = plt.subplots(1,1, figsize=(7,3))\n",
    "    axs = [ax, ax.twinx()]  #第１軸, 第２軸\n",
    "    \n",
    "    draw_waves(axs, ts, forces, xs, inlab, outlab, ymax1, ymax2)\n",
    "    fig.tight_layout()"
   ]
  },
  {
   "cell_type": "markdown",
   "metadata": {},
   "source": [
    "### 計算結果"
   ]
  },
  {
   "cell_type": "code",
   "execution_count": null,
   "metadata": {},
   "outputs": [],
   "source": [
    "org_param = [\n",
    "    1,    # m: 質量 \n",
    "    0.5,  # c: 減衰係数\n",
    "    2,    # k: ばね定数\n",
    "    1,    # P: 外力振幅\n",
    "    3,    # Om: 外力角振動数\n",
    "]\n",
    "\n",
    "X0 = [\n",
    "    0,  #初期変位 \n",
    "    2,  #初速度\n",
    "]\n",
    "\n",
    "ts = np.linspace(0,50,500) #時間軸を表す数列（0〜50秒を500等分）\n",
    "forces, xs = Solve(funcs=org_funcs, param=org_param, x0=X0, time=ts)\n",
    "output_waves(ts, forces, xs)"
   ]
  },
  {
   "cell_type": "markdown",
   "metadata": {},
   "source": [
    "## 演習 5.4 ( 周波数応答の目測 )"
   ]
  },
  {
   "cell_type": "code",
   "execution_count": null,
   "metadata": {},
   "outputs": [],
   "source": [
    "def animate_sweep_om(funcs, param, x0, time, oms):\n",
    "    '''\n",
    "    入力周波数による振動波形をアニメーションする関数\n",
    "    '''\n",
    "    fig, ax = plt.subplots(1,1, figsize=(7,3))\n",
    "    axs = [ax, ax.twinx()]  #第１軸, 第２軸\n",
    "\n",
    "    plot1 = plot2 = None #描画を収める変数（最初は空）\n",
    "    def each_frame(iom):\n",
    "        '''\n",
    "        パラパラマンガの1コマを描く関数\n",
    "        '''\n",
    "        #iom番目のomegaにおける数値解\n",
    "        om = oms[iom]\n",
    "        forces, xs = Solve(funcs, param, x0, time, om)\n",
    "        \n",
    "        #現在のコマを描画\n",
    "        for ax in axs:\n",
    "            ax.cla() # 描画をクリア\n",
    "        title = r'$\\Omega$ = %.2f'%(om)\n",
    "        draw_waves(axs, time, forces, xs, title=title)\n",
    "        fig.tight_layout()\n",
    "        \n",
    "    anim = FuncAnimation(\n",
    "        fig, each_frame, \n",
    "        interval=200, frames=len(oms)\n",
    "    )\n",
    "\n",
    "    rc('animation', html='jshtml')\n",
    "    return anim"
   ]
  },
  {
   "cell_type": "code",
   "execution_count": null,
   "metadata": {
    "scrolled": true
   },
   "outputs": [],
   "source": [
    "# 多少時間がかかります．\n",
    "\n",
    "ts = np.linspace(0, 50, 200) #時間軸を表す数列（0〜100秒を200等分）\n",
    "oms = np.linspace(0.3, 3, 100)\n",
    "animate_sweep_om(org_funcs, org_param, X0, ts, oms)"
   ]
  },
  {
   "cell_type": "markdown",
   "metadata": {},
   "source": [
    "- 出力 $x(t)$ の振幅は，入力角振動数 $\\Omega$ とともに，いったん増加してから，減少する．\n",
    "- 出力の振動数は，振動が落ち着いた以降は，入力と同じになる．\n",
    "- 入力と出力の波形の，位置関係（山と谷）に着目すると，\n",
    " - $\\Omega$ が小さいところでは，入力と出力の山（谷）は，だいたい同じ位置．（同相という）\n",
    " - $\\Omega$ を増加させると，出力の位置が，だんだん遅れてくる．\n",
    " - $\\Omega$ が大きいところでは，入力の山が，出力の谷になる．（逆相という）"
   ]
  },
  {
   "cell_type": "markdown",
   "metadata": {},
   "source": [
    "## 演習 5.5 ( 振幅比の数値計算 )"
   ]
  },
  {
   "cell_type": "code",
   "execution_count": null,
   "metadata": {},
   "outputs": [],
   "source": [
    "def measure_gain_plot(funcs, param, x0, min_om, max_om, n_om, dTn=30, Tn=50):\n",
    "    '''\n",
    "    ゲイン線図をシミュレーション波形から測定する関数\n",
    "    '''\n",
    "    # 初期設定\n",
    "    x0copy = x0.copy()  #初期値のコピー（元を書き換えない）\n",
    "    oms    = np.linspace(min_om, max_om, n_om) #外力振動数の軸\n",
    "    tn     = dTn*Tn     #時間軸の総ステップ数 = (1周期当り)*(計算する周期の個数)\n",
    "    P      = param[-2]  #入力振幅＝パラメータの後ろから2番め\n",
    "    \n",
    "    # 測定結果を収める配列\n",
    "    Rs  = np.zeros(n_om)  #変位の定常応答振幅\n",
    " \n",
    "    # 入力波形の末尾4周期\n",
    "    tail_len = 4*dTn           # 末尾の長さ\n",
    "    tail_idx = tn - tail_len # 末尾が始まるインデックス\n",
    "\n",
    "    for i, om in enumerate(oms):\n",
    "\n",
    "        # 時間軸の長さを，入力の山の数で決める\n",
    "        T = 2*np.pi/om                  #入力の周期\n",
    "        time = np.linspace(0, T*Tn, tn) #Tn周期分の時間軸\n",
    "        \n",
    "        # 応答を求める\n",
    "        forces, xs = Solve(funcs, param, x0copy, time, om)\n",
    "\n",
    "        # 応答の末尾部分（≒定常応答）を抽出\n",
    "        xs_     = xs[tail_idx:,:]\n",
    "        \n",
    "        # P-Pを測定する\n",
    "        xPP  = max(xs_[:,0]) - min(xs_[:,0]) #後半のP-P（変位）\n",
    "\n",
    "        # 振幅比をストア\n",
    "        Rs[i]  = (xPP/2)/P    #(正弦波の振幅=(P-P)/2)/入力振幅\n",
    "\n",
    "        x0copy = xs[-1,:]     #現在の終端値を，次の初期値にする\n",
    "        \n",
    "    return (oms, Rs)"
   ]
  },
  {
   "cell_type": "markdown",
   "metadata": {},
   "source": [
    "### 計算結果"
   ]
  },
  {
   "cell_type": "code",
   "execution_count": null,
   "metadata": {
    "scrolled": true
   },
   "outputs": [],
   "source": [
    "oms, Rs = measure_gain_plot(org_funcs, org_param, X0, 0.1, 3, 200)\n",
    "\n",
    "plt.plot(oms, Rs)\n",
    "plt.xlabel(r'$\\Omega$', fontsize=16)\n",
    "plt.ylabel(r'$\\bar R$', fontsize=16)\n",
    "plt.grid()"
   ]
  },
  {
   "cell_type": "markdown",
   "metadata": {},
   "source": [
    "## 演習 5.6 ( 相互相関関数の動作確認 )"
   ]
  },
  {
   "cell_type": "code",
   "execution_count": null,
   "metadata": {},
   "outputs": [],
   "source": [
    "def correlate_test(xs, fs):\n",
    "    '''\n",
    "    相互相関関数の動作を確認する関数\n",
    "    '''\n",
    "    fig, axs = plt.subplots(3,1, figsize=(6,5))    \n",
    "    \n",
    "    K  = len(xs)\n",
    "    L  = len(fs)\n",
    "    \n",
    "    ax = axs[0]\n",
    "    ax.plot(xs, '-', label='Target')\n",
    "    ax.plot(fs, '--', label='Template')\n",
    "    ax.set_ylabel('value')\n",
    "    ax.legend(bbox_to_anchor=(1.05, 1.0), loc='upper left')\n",
    "    \n",
    "    # Numpy組み込みの相互相関関数\n",
    "    # 　'fill'モードで（テキストの）定義通りの動作になる\n",
    "    corr = np.correlate(xs, fs, 'fill')\n",
    "\n",
    "    # Numpy配列の仕様上，corr[負]の格納はできないので，\n",
    "    # corr[0] には s=0 の値ではなく，sの下限における値が格納されている．\n",
    "    # そこで，定義通り，-(L-1)から始まるs軸を自作する．\n",
    "    ss = np.arange(len(corr)) - (L-1)\n",
    "    \n",
    "    # 相互相関関数のプロット（s軸）\n",
    "    ax = axs[1]\n",
    "    ax.plot(ss, corr,  '-r')\n",
    "    ax.set_ylabel('Cross-correlation')\n",
    "    ax.set_xlabel('$s$')\n",
    "\n",
    "    # 相互相関関数のプロット（配列の添字軸）\n",
    "    ax = axs[2]\n",
    "    ax.plot(corr,  '-r')\n",
    "    ax.set_ylabel('Cross-correlation')\n",
    "    ax.set_xlabel('Index of Numpy array')\n",
    "\n",
    "    for ax in axs:\n",
    "        ax.grid()\n",
    "    \n",
    "    fig.tight_layout()\n",
    "    \n",
    "    return fig\n",
    "\n",
    "# テスト用の数列\n",
    "xs = [0, 0, -2, 0, 1, -1, 1] #マッチング対象\n",
    "fs = [0, -1, 0]              #テンプレート\n",
    "\n",
    "fig = correlate_test(xs, fs)\n",
    "fig.savefig(\"corr_test.pdf\") #テキスト用"
   ]
  },
  {
   "cell_type": "markdown",
   "metadata": {},
   "source": [
    "- 相互相関関数は $s=1$ で最大になっています．\n",
    "- テンプレート（点線）を，$s=1$ だけシフト（右へ）すると，確かに対象と重なります．\n",
    "- 2番めによいのが $s=4$ で，確かに波形が少し似ています．"
   ]
  },
  {
   "cell_type": "code",
   "execution_count": null,
   "metadata": {},
   "outputs": [],
   "source": [
    "# 対象とテンプレートの立場を逆転\n",
    "\n",
    "fig = correlate_test(fs, xs)"
   ]
  },
  {
   "cell_type": "markdown",
   "metadata": {},
   "source": [
    "- 今度は，相互相関関数が $s=-1$ で最大になっています．\n",
    "- テンプレート（点線）を，その分シフト（左へ）すると，確かに対象と重なります．"
   ]
  },
  {
   "cell_type": "markdown",
   "metadata": {},
   "source": [
    "## 演習 5.7 ( 位相差の数値計算 )"
   ]
  },
  {
   "cell_type": "markdown",
   "metadata": {},
   "source": [
    "### 準備（位相差を推定するユーザ関数）\n",
    "\n",
    "- 相互相関関数を使った方法が，ネットでちらほらヒットするので，ちとやってみる．"
   ]
  },
  {
   "cell_type": "code",
   "execution_count": null,
   "metadata": {
    "scrolled": true
   },
   "outputs": [],
   "source": [
    "def estimate_delay(ts, target, template):\n",
    "    '''\n",
    "    2つの波形の違いが最小（＝相互相関関数が最大）\n",
    "    となる遅れ時間を求める関数\n",
    "    '''\n",
    "    # 相互相関関数の計算\n",
    "    # Numpy仕様: len(corrs) = len(target) + len(template) - 1\n",
    "    corrs_full = np.correlate(target, template, 'full')\n",
    "    \n",
    "    # template由来の境界効果部分（先頭）を除く\n",
    "    corrs = corrs_full[len(template)-1:]\n",
    "\n",
    "    # 相互相関関数が最大値となるインデックス\n",
    "    i_shift = corrs.argmax()\n",
    "\n",
    "    if i_shift >= 0:\n",
    "        t_delay = -ts[i_shift] #遅れが負（位相差に合わせる）\n",
    "    else:\n",
    "        t_delay = ts[-i_shift]\n",
    "        \n",
    "    return t_delay\n",
    "\n",
    "def test_estimate_delay():\n",
    "    '''\n",
    "    テスト用の関数\n",
    "    '''\n",
    "    # サンプル波形\n",
    "    sample_phi = -np.pi/2\n",
    "\n",
    "    # 対象のテスト信号\n",
    "    targ_ts  = np.linspace(0, 8*np.pi, 801)\n",
    "    target   = np.sin(targ_ts + sample_phi)\n",
    "\n",
    "    # テンプレート信号\n",
    "    temp_ts  = np.linspace(0, 8*np.pi, 801)\n",
    "    template = np.sin(temp_ts)\n",
    "\n",
    "    plt.figure()\n",
    "    plt.plot(temp_ts, template, '.', label='template')\n",
    "    plt.plot(targ_ts, target,   '-', label='target')\n",
    "    plt.legend()\n",
    "    \n",
    "    delay_ts = targ_ts\n",
    "    t_delay = estimate_delay(delay_ts, target, template)\n",
    "    \n",
    "    print('t_delay = ',t_delay)\n",
    "\n",
    "    plt.figure()\n",
    "    plt.plot(temp_ts-t_delay, template, '.', label='template')\n",
    "    plt.plot(targ_ts,         target,   '-', label='target')\n",
    "    plt.legend()\n",
    "    \n",
    "test_estimate_delay()"
   ]
  },
  {
   "cell_type": "markdown",
   "metadata": {},
   "source": [
    "### 本題（位相線図の数値計算）"
   ]
  },
  {
   "cell_type": "code",
   "execution_count": null,
   "metadata": {},
   "outputs": [],
   "source": [
    "def measure_phase_plot(funcs, param, x0, min_om, max_om, n_om, dTn=30, Tn=50):\n",
    "    '''\n",
    "    位相線図をシミュレーション波形から測定する関数\n",
    "    '''\n",
    "    # 初期設定\n",
    "    x0copy  = x0.copy() #初期値のコピー（元を書き換えない）\n",
    "    oms     = np.linspace(min_om, max_om, n_om) #外力振動数の軸\n",
    "    tn      = dTn*Tn  #時間軸の総ステップ数 = (1周期当り)*(計算する周期の個数)\n",
    "\n",
    "    # 入力波形の末尾4周期\n",
    "    tail_len = 4*dTn          # 末尾の長さ\n",
    "    tail_idx = tn - tail_len  # 末尾が始まるインデックス\n",
    "\n",
    "    # 位相差の測定結果を収める配列\n",
    "    phi_x  = np.zeros(n_om) #変位\n",
    "        \n",
    "    for i, om in enumerate(oms):\n",
    "        \n",
    "        # 時間軸の長さを，入力の山の数で決める\n",
    "        T = 2*np.pi/om                  #入力の周期\n",
    "        time = np.linspace(0, T*Tn, tn) #Tn周期分の時間軸\n",
    "        \n",
    "        # 応答を求める\n",
    "        forces, xs = Solve(funcs, param, x0copy, time, om)\n",
    "\n",
    "        # 応答の末尾部分（≒定常応答）を抽出\n",
    "        forces_ = forces[tail_idx:]  #入力\n",
    "        x_      = xs[tail_idx:,0]    #出力（変位）\n",
    "        \n",
    "        # 変位の位相差を推定する\n",
    "        # forces_を基準波形に，x_がどれだけ遅れるか\n",
    "        t_delay = estimate_delay(time, x_, forces_)\n",
    "        phi      = om * t_delay #外力の位相＝om*時間\n",
    "        phi_x[i] = phi\n",
    "        \n",
    "        x0copy = xs[-1,:] #現在の終端値を，次の初期値にする\n",
    "\n",
    "    def reshape(phis):\n",
    "        '''\n",
    "        位相差を 0 〜 -pi の連続関数に整形する関数\n",
    "        '''\n",
    "        #0 〜 -pi の範囲に折りたたむ\n",
    "        phis = np.fmod(phis, np.pi)\n",
    "    \n",
    "        #段差を無くす\n",
    "        unit = np.pi\n",
    "        prev_phi = phis[0]\n",
    "        for i, phi in enumerate(phis):\n",
    "            err = prev_phi-phi\n",
    "            err_n = np.floor(err/unit)\n",
    "            if err_n > 0:\n",
    "                phis[i] = phi - err_n * unit\n",
    "                \n",
    "            prev_phi = phis[i]\n",
    "        \n",
    "        return phis\n",
    "\n",
    "    phi_x  = reshape(phi_x)\n",
    "        \n",
    "    return (oms, phi_x)"
   ]
  },
  {
   "cell_type": "markdown",
   "metadata": {},
   "source": [
    "### 位相線図の計算結果"
   ]
  },
  {
   "cell_type": "code",
   "execution_count": null,
   "metadata": {
    "scrolled": false
   },
   "outputs": [],
   "source": [
    "oms, phi_x = measure_phase_plot(\n",
    "    org_funcs, org_param, X0, 0.1, 3, n_om=200, dTn=200)\n",
    "\n",
    "# n_om, dTn を増やすと，グラフは滑らかになりますが，時間が掛かります"
   ]
  },
  {
   "cell_type": "code",
   "execution_count": null,
   "metadata": {
    "scrolled": true
   },
   "outputs": [],
   "source": [
    "plt.plot(oms, phi_x)\n",
    "plt.xlabel(r'$\\Omega$', fontsize=16)\n",
    "plt.ylabel(r'$\\phi$', fontsize=16)\n",
    "plt.yticks(\n",
    "    np.linspace(0,-np.pi,5),\n",
    "    [r'$0$',r'$-\\pi/4$',r'$-\\pi/2$',r'$-3\\pi/4$',r'$-\\pi$']\n",
    ")\n",
    "plt.xlim([0,3])\n",
    "plt.grid()"
   ]
  },
  {
   "cell_type": "markdown",
   "metadata": {},
   "source": [
    "- 入力振動数 $\\Omega$ が低いと，位相差 $\\phi$ は 0 に近くなります．\n",
    " - 出力波形の山と谷が，入力波形のそれと同期する．（同相）\n",
    "- 入力振動数 $\\Omega$ が高いと，位相差 $\\phi$ は $-\\pi$ に近くなります．\n",
    " - 出力波形の山と谷が，入力波形と互い違いになる．（逆相）"
   ]
  },
  {
   "cell_type": "markdown",
   "metadata": {},
   "source": [
    "## 演習 5.8 ( ガタのある調和励振系の周波数応答 )"
   ]
  },
  {
   "cell_type": "markdown",
   "metadata": {},
   "source": [
    "### ガタのある調和励振系の運動方程式\n",
    "\n",
    "$m\\ddot x + c\\dot x + k\\,F_{\\mathrm{gata}}(x,\\eta) =P\\sin(\\Omega t),\\quad$ \n",
    "$F_{\\mathrm{gata}}(x,\\eta):=\\begin{cases}\n",
    " x       & (x < 0)\n",
    " \\\\\n",
    " 0       & (0 \\leq x< \\eta)\n",
    " \\\\\n",
    " x - \\eta & (\\eta \\leq x)\n",
    " \\\\\n",
    "\\end{cases}$\n",
    "\n",
    "を1階化すると，\n",
    "\n",
    "$\\begin{cases}\n",
    " \\dot x_1 = x_2\n",
    " \\\\\n",
    " \\dot x_2 =  \\{-k\\,x_1 - c\\,x_2 - k\\,F_{\\mathrm{gata}}(x,\\eta) + P\\sin(\\Omega t)\\}/m \n",
    "\\end{cases}$"
   ]
  },
  {
   "cell_type": "code",
   "execution_count": null,
   "metadata": {},
   "outputs": [],
   "source": [
    "def Fgata(x, eta):\n",
    "    '''\n",
    "    ガタのあるバネを表す関数\n",
    "    '''\n",
    "    if x < 0:\n",
    "        F = x\n",
    "    elif x < eta:  #プログラムは上から実行されるので，0 <= は省略可\n",
    "        F = 0\n",
    "    else:            #ここの不等式も省略可\n",
    "        F = x - eta\n",
    "\n",
    "    return F\n",
    "\n",
    "#お試しプロット\n",
    "xs = np.linspace(-1,2,100)\n",
    "Fgatas = np.array([\n",
    "  Fgata(x, eta=1) for x in xs  \n",
    "])\n",
    "\n",
    "plt.figure(figsize=(3,2))\n",
    "plt.plot(xs, Fgatas)\n",
    "plt.xlabel(r'$x$')\n",
    "plt.ylabel(r'$F_{\\mathrm{gata}}(x,\\eta)$')\n",
    "plt.grid()\n",
    "#plt.savefig('Fgata.pdf', bbox_inches='tight') #テキスト用"
   ]
  },
  {
   "cell_type": "code",
   "execution_count": null,
   "metadata": {},
   "outputs": [],
   "source": [
    "def gata_funcs():\n",
    "    '''\n",
    "    ガタのある調和励振系の外力と運動方程式\n",
    "    '''\n",
    "\n",
    "    def force(t, param):\n",
    "        '''\n",
    "        外力 f(t)\n",
    "        '''\n",
    "        m, c, k, eta, P, Om = param\n",
    "        ft = P*sin(Om*t)\n",
    "        \n",
    "        return ft\n",
    "\n",
    "    def eom(x, t, param):\n",
    "        '''\n",
    "        運動方程式\n",
    "        '''\n",
    "        m, c, k, eta, P, Om = param\n",
    "\n",
    "        return np.array([\n",
    "            x[1],\n",
    "            ( -k*x[0] -c*x[1] - k*Fgata(x[0], eta) + force(t,param) )/m\n",
    "        ])\n",
    "\n",
    "    return (force, eom)"
   ]
  },
  {
   "cell_type": "markdown",
   "metadata": {},
   "source": [
    "### ガタがある場合の振幅比"
   ]
  },
  {
   "cell_type": "code",
   "execution_count": null,
   "metadata": {
    "scrolled": true
   },
   "outputs": [],
   "source": [
    "X0 = [\n",
    "    0,  #初期変位 \n",
    "    2,  #初速度\n",
    "]\n",
    "\n",
    "gata_param = [\n",
    "    1,    # m:   質量 \n",
    "    0.02, # c:   減衰係数\n",
    "    1,    # k:   ばね定数\n",
    "    0.4,  # eta: ガタの大きさ\n",
    "    0.1,  # P:   外力振幅\n",
    "    3,    # Om:  外力角振動数\n",
    "]\n",
    "\n",
    "#以下，少々時間がかかります．\n",
    "\n",
    "#上昇掃引\n",
    "oms_u, Rs_u = measure_gain_plot(\n",
    "    gata_funcs, gata_param, X0, \n",
    "    min_om=1, max_om=1.6, n_om=200, Tn=150\n",
    ")\n",
    "#下降掃引\n",
    "oms_d, Rs_d = measure_gain_plot(\n",
    "    gata_funcs, gata_param, X0, \n",
    "    min_om=1.6, max_om=1, n_om=200, Tn=150\n",
    ")"
   ]
  },
  {
   "cell_type": "code",
   "execution_count": null,
   "metadata": {},
   "outputs": [],
   "source": [
    "plt.plot(oms_u, Rs_u, label='sweep up')\n",
    "plt.plot(oms_d, Rs_d, label='sweep down')\n",
    "plt.xlabel(r'$\\Omega$', fontsize=16)\n",
    "plt.ylabel(r'$\\bar R$', fontsize=16)\n",
    "plt.legend()\n",
    "plt.grid()"
   ]
  },
  {
   "cell_type": "markdown",
   "metadata": {},
   "source": [
    "### ガタの影響\n",
    "\n",
    "#### 跳躍・履歴現象\n",
    "\n",
    "- $\\Omega$ を増加させる掃引では(up)，出力振幅は大きく成長してから，$\\Omega_u\\approx 1.38$ 付近で，下向きにジャンプ（急現象）する．\n",
    "- $\\Omega$ を減少させる掃引では(down)，小振幅のまま $\\Omega_u$ を通過し，$\\Omega_d\\approx 1.28$ 付近で，上向きにジャンプ（急増加）する．\n",
    "- このような，パラメータの変化で出力値がジャンプする現象を，**跳躍現象** という．\n",
    "- 跳躍する場所が，掃引方向で異なることを，**履歴現象** という．\n",
    "\n",
    "#### 出力振幅の初期値依存性\n",
    "\n",
    "- $\\Omega=1.3$〜$1.4$の付近では，掃引方向によって，共振曲線の高さが異なる．\n",
    "- すなわち，各$\\Omega$について，2種類の出力振幅が存在する．\n",
    "- どちらの振幅が出現するかは，初期値に依存する．"
   ]
  },
  {
   "cell_type": "code",
   "execution_count": null,
   "metadata": {
    "scrolled": true
   },
   "outputs": [],
   "source": [
    "ts = np.linspace(0,300,1000) #時間軸を表す数列\n",
    "gata_param[-1] = 1.38 #共振曲線が二重になるOmega\n",
    "\n",
    "# ある初期値\n",
    "X0a = [0, 2]\n",
    "forces, xs = Solve(gata_funcs, gata_param, X0a, ts)\n",
    "output_waves(ts, forces, xs, ymax1=0.12, ymax2=5)"
   ]
  },
  {
   "cell_type": "code",
   "execution_count": null,
   "metadata": {},
   "outputs": [],
   "source": [
    "# 別の初期値\n",
    "X0b = [0, 0]\n",
    "forces, xs = Solve(gata_funcs, gata_param, X0b, ts)\n",
    "output_waves(ts, forces, xs, ymax1=0.12, ymax2=5)"
   ]
  },
  {
   "cell_type": "markdown",
   "metadata": {},
   "source": [
    "### ガタがある場合の位相差\n",
    "\n",
    "- 正弦波を入力していますが，非線形系なので，出力波形は正弦波ではなくなります．\n",
    "- 入力と出力の波形が異なるので，以下は，あくまで近似的な，数値計算の結果となります．\n",
    "- ちなみに，数学的に理論計算する方法もありますが，やはり近似解しか出せません．"
   ]
  },
  {
   "cell_type": "code",
   "execution_count": null,
   "metadata": {},
   "outputs": [],
   "source": [
    "# 少々時間がかかります\n",
    "\n",
    "#上昇掃引\n",
    "oms_u, phis_u = measure_phase_plot(\n",
    "    gata_funcs, gata_param, X0, 1, 1.6, n_om=200, Tn=150, dTn=200)\n",
    "#下降掃引\n",
    "oms_d, phis_d = measure_phase_plot(\n",
    "    gata_funcs, gata_param, X0, 1.6, 1, n_om=200, Tn=150, dTn=200)"
   ]
  },
  {
   "cell_type": "code",
   "execution_count": null,
   "metadata": {},
   "outputs": [],
   "source": [
    "plt.plot(oms_u, phis_u, label='sweep up')\n",
    "plt.plot(oms_d, phis_d, label='sweep down')\n",
    "plt.xlabel(r'$\\Omega$', fontsize=16)\n",
    "plt.ylabel(r'$\\phi$', fontsize=16)\n",
    "plt.yticks(\n",
    "    np.linspace(0,-np.pi,5),\n",
    "    [r'$0$',r'$-\\pi/4$',r'$-\\pi/2$',r'$-3\\pi/4$',r'$-\\pi$']\n",
    ")\n",
    "plt.legend()\n",
    "plt.grid()"
   ]
  },
  {
   "cell_type": "markdown",
   "metadata": {},
   "source": [
    "位相差も，共振曲線と同じ場所でジャンプしています．"
   ]
  },
  {
   "cell_type": "code",
   "execution_count": null,
   "metadata": {},
   "outputs": [],
   "source": []
  }
 ],
 "metadata": {
  "kernelspec": {
   "display_name": "Python 3",
   "language": "python",
   "name": "python3"
  },
  "language_info": {
   "codemirror_mode": {
    "name": "ipython",
    "version": 3
   },
   "file_extension": ".py",
   "mimetype": "text/x-python",
   "name": "python",
   "nbconvert_exporter": "python",
   "pygments_lexer": "ipython3",
   "version": "3.8.8"
  }
 },
 "nbformat": 4,
 "nbformat_minor": 2
}
