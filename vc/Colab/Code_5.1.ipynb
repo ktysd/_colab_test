{
 "cells": [
  {
   "cell_type": "markdown",
   "metadata": {},
   "source": [
    "# 調和励振系の正規形（数値シミュレーション）\n",
    "\n",
    "吉田勝俊（宇都宮大学）"
   ]
  },
  {
   "cell_type": "markdown",
   "metadata": {},
   "source": [
    "## 参考情報\n",
    "\n",
    "- [Pythonで運動方程式を解く(odeint) - Qiita](https://qiita.com/binaryneutronstar/items/ad5efa27fd626826846f)\n",
    "- [[Python] Numpyの参照、抽出、結合 - Qiita](https://qiita.com/supersaiakujin/items/d63c73bb7b5aac43898a)\n",
    "- [[Python/matplotlib] FuncAnimationを理解して使う - Qiita](https://qiita.com/osanshouo/items/3c66781f41884694838b)\n",
    "- [2つの信号間の遅延を推定する - Qiita](https://qiita.com/inoory/items/3ea2d447f6f1e8c40ffa)"
   ]
  },
  {
   "cell_type": "code",
   "execution_count": null,
   "metadata": {},
   "outputs": [],
   "source": [
    "import numpy as np                              #数値計算ライブラリ\n",
    "from math import sin, cos                       #低機能だが高速な数学関数・定数\n",
    "from numpy.linalg import norm                   #ベクトルのノルム\n",
    "from scipy.integrate import odeint              #常微分方程式ライブラリ\n",
    "import matplotlib.pyplot as plt                 #描画ライブラリ\n",
    "from matplotlib import rc                       #グラフ調整ライブラリ\n",
    "from matplotlib.animation import FuncAnimation  #アニメーションライブラリ\n",
    "#Colab用の設定（グラフィックのインライン表示）\n",
    "%matplotlib inline"
   ]
  },
  {
   "cell_type": "markdown",
   "metadata": {},
   "source": [
    "## 調和励振系の運動方程式（原形と正規形）"
   ]
  },
  {
   "cell_type": "code",
   "execution_count": null,
   "metadata": {},
   "outputs": [],
   "source": [
    "def org_funcs():\n",
    "    '''\n",
    "    調和励振系（原形 original）の外力と運動方程式\n",
    "    '''\n",
    "    def force(t, param):\n",
    "        '''\n",
    "        外力 f(t)\n",
    "        '''\n",
    "        m, c, k, P, Om = param\n",
    "        ft = P*sin(Om*t)\n",
    "        \n",
    "        return ft \n",
    "\n",
    "    def eom(x, t, param):\n",
    "        '''\n",
    "        運動方程式\n",
    "        '''\n",
    "        m, c, k, P, Om = param\n",
    "        return np.array([\n",
    "            x[1],\n",
    "            -(c/m)*x[1] - (k/m)*x[0] + force(t,param)\n",
    "        ])\n",
    "\n",
    "    return (force, eom)\n",
    "\n",
    "def can_funcs():\n",
    "    '''\n",
    "    調和励振系（正規形 cannonical）の外力と運動方程式\n",
    "    '''\n",
    "    def force(tau, param):\n",
    "        '''\n",
    "        無次元化した外力 h(tau)\n",
    "        '''\n",
    "        zeta, A, om = param\n",
    "        ht = A*sin(om*tau)\n",
    "        \n",
    "        return ht \n",
    "\n",
    "    def eom(y, tau, param):\n",
    "        '''\n",
    "        調和励振系の運動方程式（正規形 cannonical）\n",
    "        '''\n",
    "        zeta, A, om = param\n",
    "        return np.array([\n",
    "            y[1],\n",
    "            -2*zeta*y[1] - y[0] + force(tau,param)\n",
    "        ])\n",
    "\n",
    "    return (force, eom)"
   ]
  },
  {
   "cell_type": "code",
   "execution_count": null,
   "metadata": {},
   "outputs": [],
   "source": [
    "def Solve(funcs, param, x0, time, new_om=None):\n",
    "    '''\n",
    "    調和励振系の数値解を求める関数\n",
    "    '''\n",
    "    force, eom = funcs()     #外力と運動方程式の取得\n",
    "    new_param = param.copy() #元のparamを書き換えぬよう複製\n",
    "    \n",
    "    if new_om is not None:\n",
    "        new_param[-1] = new_om   #最終成分＝外力角振動数\n",
    "        \n",
    "    ###運動方程式を数値的に解く\n",
    "    motion = odeint(\n",
    "        eom,                #運動方程式を表すユーザ関数\n",
    "        x0,                 #初期条件\n",
    "        time,               #時間軸を表す数列\n",
    "        args=(new_param,)   #運動方程式の係数\n",
    "    )\n",
    "    \n",
    "    ###外力の数列を作る\n",
    "    forces = np.array([\n",
    "        force(t, new_param) for t in time\n",
    "    ])\n",
    "\n",
    "    return (forces, motion)"
   ]
  },
  {
   "cell_type": "markdown",
   "metadata": {},
   "source": [
    "## 振動波形の比較（原形と正規形）"
   ]
  },
  {
   "cell_type": "code",
   "execution_count": null,
   "metadata": {},
   "outputs": [],
   "source": [
    "def draw_waves(axs, ts, forces, xs, \n",
    "               inlab=r'$f(t)$', outlab=r'$x(t)$',\n",
    "               ymax1=2, ymax2=2,\n",
    "               title=None ):\n",
    "    '''\n",
    "    外力と変位の振動波形を描画する関数\n",
    "    '''\n",
    "    ax1, ax2 = axs #第１軸, 第２軸\n",
    "    \n",
    "    ax1.plot(ts, forces,   label=inlab,  color='gray') #入力\n",
    "    ax2.plot(ts, xs[:, 0], label=outlab, color='red')  #出力\n",
    "\n",
    "    ax1.set_ylim(-ymax1, ymax1) #縦軸の範囲\n",
    "    ax2.set_ylim(-ymax2, ymax2)\n",
    "\n",
    "    ax1.set_ylabel('Input Amplitude',  fontsize=15, color='gray')\n",
    "    ax2.set_ylabel('Output Amplitude', fontsize=15, color='red')\n",
    "\n",
    "    ax1.set_xlabel('Time', fontsize=16)\n",
    "\n",
    "    ax1.legend(fontsize=14, loc='upper left') #凡例の表示\n",
    "    ax2.legend(fontsize=14, loc='upper right') #凡例の表示\n",
    "\n",
    "    ax1.grid()   #グリッド線の表示\n",
    "    \n",
    "    if title is not None:\n",
    "        ax1.set_title(title, fontsize=14)\n",
    "        \n",
    "        \n",
    "def output_waves(ts, forces, xs, \n",
    "                 inlab=r'$f(t)$', outlab=r'$x(t)$', \n",
    "                 ymax1=2, ymax2=2):\n",
    "    '''\n",
    "    振動波形の描画を出力する関数\n",
    "    '''\n",
    "    fig, ax = plt.subplots(1,1, figsize=(7,3))\n",
    "    axs = [ax, ax.twinx()]  #第１軸, 第２軸\n",
    "    \n",
    "    draw_waves(axs, ts, forces, xs, inlab, outlab, ymax1, ymax2)\n",
    "    fig.tight_layout()"
   ]
  },
  {
   "cell_type": "markdown",
   "metadata": {},
   "source": [
    "### 原形の数値解"
   ]
  },
  {
   "cell_type": "code",
   "execution_count": null,
   "metadata": {},
   "outputs": [],
   "source": [
    "org_param = [\n",
    "    1,    # m: 質量 \n",
    "    0.5,  # c: 減衰係数\n",
    "    2,    # k: ばね定数\n",
    "    1,    # P: 外力振幅\n",
    "    3,    # Om: 外力角振動数\n",
    "]\n",
    "\n",
    "X0 = [\n",
    "    0,  #初期変位 \n",
    "    2,  #初速度\n",
    "]\n",
    "\n",
    "ts = np.linspace(0,50,500) #時間軸を表す数列（0〜50秒を500等分）\n",
    "forces, xs = Solve(funcs=org_funcs, param=org_param, x0=X0, time=ts)\n",
    "output_waves(ts, forces, xs)"
   ]
  },
  {
   "cell_type": "markdown",
   "metadata": {},
   "source": [
    "### 正規形の数値解\n",
    "\n",
    "初期条件も，速度については変換が必要です．\n",
    "\n",
    "- $x(t)=y(\\omega_n t)$ が成立するので，$t=0$ を代入すると，$x(0)=y(0)$ になります．\n",
    "- $x(t)=\\omega_n y(\\omega_n t)$ が成立するので，$t=0$ を代入すると，$x(0)=\\omega_n y(0)$ または $y(0)=x(0)/\\omega_n$ になります．"
   ]
  },
  {
   "cell_type": "code",
   "execution_count": null,
   "metadata": {},
   "outputs": [],
   "source": [
    "def convert_can_from_org(org_param, x0, ts):\n",
    "    '''\n",
    "    原形のパラメータ，初期値，時間軸を，\n",
    "    正規形に変換する関数\n",
    "    '''\n",
    "    # 原形のパラメータ\n",
    "    m, c, k, P, Om = org_param\n",
    "    \n",
    "    # 対応する正規形のパラメータ\n",
    "    zeta = c/(2*np.sqrt(m*k))\n",
    "    om_n = np.sqrt(k/m)\n",
    "    A = P/k\n",
    "    om = Om/om_n\n",
    "    \n",
    "    can_param = [\n",
    "        zeta,  # zeta: 減衰比\n",
    "        A,     # A: 無次元外力振幅\n",
    "        om,    # om: 無次元外力角振動数\n",
    "    ]\n",
    "    \n",
    "    y0 = x0.copy()     #x0 を変えないため，x0のコピーを作り代入\n",
    "    y0[1] = x0[1]/om_n #初速度は変換が必要\n",
    "    \n",
    "    # 対応する無次元時間\n",
    "    taus = om_n * ts\n",
    "\n",
    "    return (can_param, y0, taus, om_n)"
   ]
  },
  {
   "cell_type": "code",
   "execution_count": null,
   "metadata": {},
   "outputs": [],
   "source": [
    "can_param, Y0, taus, om_n = convert_can_from_org(org_param, X0, ts)\n",
    "\n",
    "forces, ys = Solve(\n",
    "    funcs=can_funcs, \n",
    "    param=can_param, \n",
    "    x0=Y0, \n",
    "    time=taus, \n",
    ")\n",
    "\n",
    "output_waves(taus, forces, ys, inlab=r'$h(\\tau)$', outlab=r'$y(\\tau)$')"
   ]
  },
  {
   "cell_type": "markdown",
   "metadata": {},
   "source": [
    "### 振動波形の比較（変位）"
   ]
  },
  {
   "cell_type": "code",
   "execution_count": null,
   "metadata": {},
   "outputs": [],
   "source": [
    "ss = ts #横軸データは流用\n",
    "\n",
    "plt.plot(ss, ys[:, 0], 'or', label=r'$y(s)$', ms=2) #正規形の変位\n",
    "plt.plot(ss, xs[:, 0], '-b', label=r'$x(s)$')       #原形の変位\n",
    "plt.xlabel(r'$s$', fontsize=16)\n",
    "plt.ylabel('Displacement', fontsize=16)\n",
    "plt.legend(fontsize=14)"
   ]
  },
  {
   "cell_type": "markdown",
   "metadata": {},
   "source": [
    "- $x(t)$ と $y(\\tau)$ を単なる１変数関数と見て，同じ横軸 $s$ にプロットすると重なるので，両者の振動波形は確かに相似です．\n",
    "- 若干ずれて見えますが，これは描画ライブラリの誤差です．"
   ]
  },
  {
   "cell_type": "markdown",
   "metadata": {},
   "source": [
    "### 振動波形の比較（速度）"
   ]
  },
  {
   "cell_type": "code",
   "execution_count": null,
   "metadata": {
    "scrolled": false
   },
   "outputs": [],
   "source": [
    "plt.plot(ss, ys[:, 1], 'or', label=r'$\\dot y(s)$', ms=2) #正規形の速度\n",
    "plt.plot(ss, xs[:, 1], '-b', label=r'$\\dot x(s)$')       #原形の速度\n",
    "plt.xlabel(r'$s$', fontsize=16)\n",
    "plt.ylabel('Velocity', fontsize=16)\n",
    "plt.legend(fontsize=14)"
   ]
  },
  {
   "cell_type": "markdown",
   "metadata": {},
   "source": [
    "- 速度は振幅方向にも倍率が掛かっています．\n",
    "- 変換式 $\\dot x = \\omega_n \\dot y$ で速度を揃えると，両者は重なります．"
   ]
  },
  {
   "cell_type": "code",
   "execution_count": null,
   "metadata": {
    "scrolled": true
   },
   "outputs": [],
   "source": [
    "xs_from_ys1 = om_n * ys[:, 1]\n",
    "\n",
    "plt.plot(ss, xs_from_ys1, 'or', label=r'$\\omega_n \\dot y(s)$', ms=2) #正規形の速度\n",
    "plt.plot(ss, xs[:, 1], '-b', label=r'$\\dot x(s)$')       #原形の速度\n",
    "plt.xlabel(r'$s$', fontsize=16)\n",
    "plt.ylabel('Velocity', fontsize=16)\n",
    "plt.legend(fontsize=14)"
   ]
  },
  {
   "cell_type": "code",
   "execution_count": null,
   "metadata": {},
   "outputs": [],
   "source": []
  }
 ],
 "metadata": {
  "kernelspec": {
   "display_name": "Python 3",
   "language": "python",
   "name": "python3"
  },
  "language_info": {
   "codemirror_mode": {
    "name": "ipython",
    "version": 3
   },
   "file_extension": ".py",
   "mimetype": "text/x-python",
   "name": "python",
   "nbconvert_exporter": "python",
   "pygments_lexer": "ipython3",
   "version": "3.8.8"
  }
 },
 "nbformat": 4,
 "nbformat_minor": 2
}
