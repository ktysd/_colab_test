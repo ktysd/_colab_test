
<!DOCTYPE html>
<html lang="ja">
  <head>
  <meta charset="utf-8">
  <meta content="width=300, initial-scale=1" name="viewport">
  <meta name="description" content="Google ドライブなら、無料でファイルをバックアップして携帯電話、タブレット、パソコンから手軽にアクセスできます。まずは、15 GB の無料の Google ストレージをご利用ください。">
  <meta name="google-site-verification" content="LrdTUW9psUAMbh4Ia074-BPEVmcpBxF6Gwf0MSgQXZs">
  <title>Google ドライブ - 1 か所であらゆるファイルを保管</title>
<style>
  html, body {
  font-family: Arial, sans-serif;
  background: #fff;
  margin: 0;
  padding: 0;
  border: 0;
  position: absolute;
  height: 100%;
  min-width: 100%;
  font-size: 13px;
  color: #404040;
  direction: ltr;
  -webkit-text-size-adjust: none;
  }
  button,
  input[type=button],
  input[type=submit] {
  font-family: Arial, sans-serif;
  font-size: 13px;
  }
  a,
  a:hover,
  a:visited {
  color: #427fed;
  cursor: pointer;
  text-decoration: none;
  }
  a:hover {
  text-decoration: underline;
  }
  h1 {
  font-size: 20px;
  color: #262626;
  margin: 0 0 15px;
  font-weight: normal;
  }
  h2 {
  font-size: 14px;
  color: #262626;
  margin: 0 0 15px;
  font-weight: bold;
  }
  input[type=email],
  input[type=number],
  input[type=password],
  input[type=tel],
  input[type=text],
  input[type=url] {
  -moz-appearance: none;
  -webkit-appearance: none;
  appearance: none;
  display: inline-block;
  height: 36px;
  padding: 0 8px;
  margin: 0;
  background: #fff;
  border: 1px solid #d9d9d9;
  border-top: 1px solid #c0c0c0;
  -moz-box-sizing: border-box;
  -webkit-box-sizing: border-box;
  box-sizing: border-box;
  -moz-border-radius: 1px;
  -webkit-border-radius: 1px;
  border-radius: 1px;
  font-size: 15px;
  color: #404040;
  }
  input[type=email]:hover,
  input[type=number]:hover,
  input[type=password]:hover,
  input[type=tel]:hover,
  input[type=text]:hover,
  input[type=url]:hover {
  border: 1px solid #b9b9b9;
  border-top: 1px solid #a0a0a0;
  -moz-box-shadow: inset 0 1px 2px rgba(0,0,0,0.1);
  -webkit-box-shadow: inset 0 1px 2px rgba(0,0,0,0.1);
  box-shadow: inset 0 1px 2px rgba(0,0,0,0.1);
  }
  input[type=email]:focus,
  input[type=number]:focus,
  input[type=password]:focus,
  input[type=tel]:focus,
  input[type=text]:focus,
  input[type=url]:focus {
  outline: none;
  border: 1px solid #4d90fe;
  -moz-box-shadow: inset 0 1px 2px rgba(0,0,0,0.3);
  -webkit-box-shadow: inset 0 1px 2px rgba(0,0,0,0.3);
  box-shadow: inset 0 1px 2px rgba(0,0,0,0.3);
  }
  input[type=checkbox],
  input[type=radio] {
  -webkit-appearance: none;
  display: inline-block;
  width: 13px;
  height: 13px;
  margin: 0;
  cursor: pointer;
  vertical-align: bottom;
  background: #fff;
  border: 1px solid #c6c6c6;
  -moz-border-radius: 1px;
  -webkit-border-radius: 1px;
  border-radius: 1px;
  -moz-box-sizing: border-box;
  -webkit-box-sizing: border-box;
  box-sizing: border-box;
  position: relative;
  }
  input[type=checkbox]:active,
  input[type=radio]:active {
  background: #ebebeb;
  }
  input[type=checkbox]:hover {
  border-color: #c6c6c6;
  -moz-box-shadow: inset 0 1px 2px rgba(0,0,0,0.1);
  -webkit-box-shadow: inset 0 1px 2px rgba(0,0,0,0.1);
  box-shadow: inset 0 1px 2px rgba(0,0,0,0.1);
  }
  input[type=radio] {
  -moz-border-radius: 1em;
  -webkit-border-radius: 1em;
  border-radius: 1em;
  width: 15px;
  height: 15px;
  }
  input[type=checkbox]:checked,
  input[type=radio]:checked {
  background: #fff;
  }
  input[type=radio]:checked::after {
  content: '';
  display: block;
  position: relative;
  top: 3px;
  left: 3px;
  width: 7px;
  height: 7px;
  background: #666;
  -moz-border-radius: 1em;
  -webkit-border-radius: 1em;
  border-radius: 1em;
  }
  input[type=checkbox]:checked::after {
  content: url(https://ssl.gstatic.com/ui/v1/menu/checkmark.png);
  display: block;
  position: absolute;
  top: -6px;
  left: -5px;
  }
  input[type=checkbox]:focus {
  outline: none;
  border-color: #4d90fe;
  }
  .stacked-label {
  display: block;
  font-weight: bold;
  margin: .5em 0;
  }
  .hidden-label {
  position: absolute !important;
  clip: rect(1px 1px 1px 1px); /* IE6, IE7 */
  clip: rect(1px, 1px, 1px, 1px);
  height: 0px;
  width: 0px;
  overflow: hidden;
  visibility: hidden;
  }
  input[type=checkbox].form-error,
  input[type=email].form-error,
  input[type=number].form-error,
  input[type=password].form-error,
  input[type=text].form-error,
  input[type=tel].form-error,
  input[type=url].form-error {
  border: 1px solid #dd4b39;
  }
  .error-msg {
  margin: .5em 0;
  display: block;
  color: #dd4b39;
  line-height: 17px;
  }
  .help-link {
  background: #dd4b39;
  padding: 0 5px;
  color: #fff;
  font-weight: bold;
  display: inline-block;
  -moz-border-radius: 1em;
  -webkit-border-radius: 1em;
  border-radius: 1em;
  text-decoration: none;
  position: relative;
  top: 0px;
  }
  .help-link:visited {
  color: #fff;
  }
  .help-link:hover {
  color: #fff;
  background: #c03523;
  text-decoration: none;
  }
  .help-link:active {
  opacity: 1;
  background: #ae2817;
  }
  .wrapper {
  position: relative;
  min-height: 100%;
  }
  .content {
  padding: 0 44px;
  }
  .main {
  padding-bottom: 100px;
  }
  /* For modern browsers */
  .clearfix:before,
  .clearfix:after {
  content: "";
  display: table;
  }
  .clearfix:after {
  clear: both;
  }
  /* For IE 6/7 (trigger hasLayout) */
  .clearfix {
  zoom:1;
  }
  .google-header-bar {
  height: 71px;
  border-bottom: 1px solid #e5e5e5;
  overflow: hidden;
  }
  .header .logo {
  background-image: url(https://ssl.gstatic.com/accounts/ui/logo_1x.png);
  background-size: 116px 38px;
  background-repeat: no-repeat;
  margin: 17px 0 0;
  float: left;
  height: 38px;
  width: 116px;
  }
  .header .logo-w {
  background-image: url(https://ssl.gstatic.com/images/branding/googlelogo/1x/googlelogo_color_112x36dp.png);
  background-size: 112px 36px;
  margin: 21px 0 0;
  }
  .header .secondary-link {
  margin: 28px 0 0;
  float: right;
  }
  .header .secondary-link a {
  font-weight: normal;
  }
  .google-header-bar.centered {
  border: 0;
  height: 108px;
  }
  .google-header-bar.centered .header .logo {
  float: none;
  margin: 40px auto 30px;
  display: block;
  }
  .google-header-bar.centered .header .secondary-link {
  display: none
  }
  .google-footer-bar {
  position: absolute;
  bottom: 0;
  height: 35px;
  width: 100%;
  border-top: 1px solid #e5e5e5;
  overflow: hidden;
  }
  .footer {
  padding-top: 7px;
  font-size: .85em;
  white-space: nowrap;
  line-height: 0;
  }
  .footer ul {
  float: left;
  max-width: 80%;
  min-height: 16px;
  padding: 0;
  }
  .footer ul li {
  color: #737373;
  display: inline;
  padding: 0;
  padding-right: 1.5em;
  }
  .footer a {
  color: #737373;
  }
  .lang-chooser-wrap {
  float: right;
  display: inline;
  }
  .lang-chooser-wrap img {
  vertical-align: top;
  }
  .lang-chooser {
  font-size: 13px;
  height: 24px;
  line-height: 24px;
  }
  .lang-chooser option {
  font-size: 13px;
  line-height: 24px;
  }
  .hidden {
  height: 0px;
  width: 0px;
  overflow: hidden;
  visibility: hidden;
  display: none !important;
  }
  .banner {
  text-align: center;
  }
  .card {
  background-color: #f7f7f7;
  padding: 20px 25px 30px;
  margin: 0 auto 25px;
  width: 304px;
  -moz-border-radius: 2px;
  -webkit-border-radius: 2px;
  border-radius: 2px;
  -moz-box-shadow: 0px 2px 2px rgba(0, 0, 0, 0.3);
  -webkit-box-shadow: 0px 2px 2px rgba(0, 0, 0, 0.3);
  box-shadow: 0px 2px 2px rgba(0, 0, 0, 0.3);
  }
  .card > *:first-child {
  margin-top: 0;
  }
  .rc-button,
  .rc-button:visited {
  display: inline-block;
  min-width: 46px;
  text-align: center;
  color: #444;
  font-size: 14px;
  font-weight: 700;
  height: 36px;
  padding: 0 8px;
  line-height: 36px;
  -moz-border-radius: 3px;
  -webkit-border-radius: 3px;
  border-radius: 3px;
  -o-transition: all 0.218s;
  -moz-transition: all 0.218s;
  -webkit-transition: all 0.218s;
  transition: all 0.218s;
  border: 1px solid #dcdcdc;
  background-color: #f5f5f5;
  background-image: -webkit-linear-gradient(top,#f5f5f5,#f1f1f1);
  background-image: -moz-linear-gradient(top,#f5f5f5,#f1f1f1);
  background-image: -ms-linear-gradient(top,#f5f5f5,#f1f1f1);
  background-image: -o-linear-gradient(top,#f5f5f5,#f1f1f1);
  background-image: linear-gradient(top,#f5f5f5,#f1f1f1);
  -o-transition: none;
  -moz-user-select: none;
  -webkit-user-select: none;
  user-select: none;
  cursor: default;
  }
  .card .rc-button {
  width: 100%;
  padding: 0;
  }
  .rc-button.disabled,
  .rc-button[disabled] {
  opacity: .5;
  filter: alpha(opacity=50);
  cursor: default;
  pointer-events: none;
  }
  .rc-button:hover {
  border: 1px solid #c6c6c6;
  color: #333;
  text-decoration: none;
  -o-transition: all 0.0s;
  -moz-transition: all 0.0s;
  -webkit-transition: all 0.0s;
  transition: all 0.0s;
  background-color: #f8f8f8;
  background-image: -webkit-linear-gradient(top,#f8f8f8,#f1f1f1);
  background-image: -moz-linear-gradient(top,#f8f8f8,#f1f1f1);
  background-image: -ms-linear-gradient(top,#f8f8f8,#f1f1f1);
  background-image: -o-linear-gradient(top,#f8f8f8,#f1f1f1);
  background-image: linear-gradient(top,#f8f8f8,#f1f1f1);
  -moz-box-shadow: 0 1px 1px rgba(0,0,0,0.1);
  -webkit-box-shadow: 0 1px 1px rgba(0,0,0,0.1);
  box-shadow: 0 1px 1px rgba(0,0,0,0.1);
  }
  .rc-button:active {
  background-color: #f6f6f6;
  background-image: -webkit-linear-gradient(top,#f6f6f6,#f1f1f1);
  background-image: -moz-linear-gradient(top,#f6f6f6,#f1f1f1);
  background-image: -ms-linear-gradient(top,#f6f6f6,#f1f1f1);
  background-image: -o-linear-gradient(top,#f6f6f6,#f1f1f1);
  background-image: linear-gradient(top,#f6f6f6,#f1f1f1);
  -moz-box-shadow: 0 1px 2px rgba(0,0,0,0.1);
  -webkit-box-shadow: 0 1px 2px rgba(0,0,0,0.1);
  box-shadow: 0 1px 2px rgba(0,0,0,0.1);
  }
  .rc-button-submit,
  .rc-button-submit:visited {
  border: 1px solid #3079ed;
  color: #fff;
  text-shadow: 0 1px rgba(0,0,0,0.1);
  background-color: #4d90fe;
  background-image: -webkit-linear-gradient(top,#4d90fe,#4787ed);
  background-image: -moz-linear-gradient(top,#4d90fe,#4787ed);
  background-image: -ms-linear-gradient(top,#4d90fe,#4787ed);
  background-image: -o-linear-gradient(top,#4d90fe,#4787ed);
  background-image: linear-gradient(top,#4d90fe,#4787ed);
  }
  .rc-button-submit:hover {
  border: 1px solid #2f5bb7;
  color: #fff;
  text-shadow: 0 1px rgba(0,0,0,0.3);
  background-color: #357ae8;
  background-image: -webkit-linear-gradient(top,#4d90fe,#357ae8);
  background-image: -moz-linear-gradient(top,#4d90fe,#357ae8);
  background-image: -ms-linear-gradient(top,#4d90fe,#357ae8);
  background-image: -o-linear-gradient(top,#4d90fe,#357ae8);
  background-image: linear-gradient(top,#4d90fe,#357ae8);
  }
  .rc-button-submit:active {
  background-color: #357ae8;
  background-image: -webkit-linear-gradient(top,#4d90fe,#357ae8);
  background-image: -moz-linear-gradient(top,#4d90fe,#357ae8);
  background-image: -ms-linear-gradient(top,#4d90fe,#357ae8);
  background-image: -o-linear-gradient(top,#4d90fe,#357ae8);
  background-image: linear-gradient(top,#4d90fe,#357ae8);
  -moz-box-shadow: inset 0 1px 2px rgba(0,0,0,0.3);
  -webkit-box-shadow: inset 0 1px 2px rgba(0,0,0,0.3);
  box-shadow: inset 0 1px 2px rgba(0,0,0,0.3);
  }
  .rc-button-red,
  .rc-button-red:visited {
  border: 1px solid transparent;
  color: #fff;
  text-shadow: 0 1px rgba(0,0,0,0.1);
  background-color: #d14836;
  background-image: -webkit-linear-gradient(top,#dd4b39,#d14836);
  background-image: -moz-linear-gradient(top,#dd4b39,#d14836);
  background-image: -ms-linear-gradient(top,#dd4b39,#d14836);
  background-image: -o-linear-gradient(top,#dd4b39,#d14836);
  background-image: linear-gradient(top,#dd4b39,#d14836);
  }
  .rc-button-red:hover {
  border: 1px solid #b0281a;
  color: #fff;
  text-shadow: 0 1px rgba(0,0,0,0.3);
  background-color: #c53727;
  background-image: -webkit-linear-gradient(top,#dd4b39,#c53727);
  background-image: -moz-linear-gradient(top,#dd4b39,#c53727);
  background-image: -ms-linear-gradient(top,#dd4b39,#c53727);
  background-image: -o-linear-gradient(top,#dd4b39,#c53727);
  background-image: linear-gradient(top,#dd4b39,#c53727);
  }
  .rc-button-red:active {
  border: 1px solid #992a1b;
  background-color: #b0281a;
  background-image: -webkit-linear-gradient(top,#dd4b39,#b0281a);
  background-image: -moz-linear-gradient(top,#dd4b39,#b0281a);
  background-image: -ms-linear-gradient(top,#dd4b39,#b0281a);
  background-image: -o-linear-gradient(top,#dd4b39,#b0281a);
  background-image: linear-gradient(top,#dd4b39,#b0281a);
  -moz-box-shadow: inset 0 1px 2px rgba(0,0,0,0.3);
  -webkit-box-shadow: inset 0 1px 2px rgba(0,0,0,0.3);
  box-shadow: inset 0 1px 2px rgba(0,0,0,0.3);
  }
  .secondary-actions {
  text-align: center;
  }
</style>
<style media="screen and (max-width: 800px), screen and (max-height: 800px)">
  .google-header-bar.centered {
  height: 83px;
  }
  .google-header-bar.centered .header .logo {
  margin: 25px auto 20px;
  }
  .card {
  margin-bottom: 20px;
  }
</style>
<style media="screen and (max-width: 580px)">
  html, body {
  font-size: 14px;
  }
  .google-header-bar.centered {
  height: 73px;
  }
  .google-header-bar.centered .header .logo {
  margin: 20px auto 15px;
  }
  .content {
  padding-left: 10px;
  padding-right: 10px;
  }
  .hidden-small {
  display: none;
  }
  .card {
  padding: 20px 15px 30px;
  width: 270px;
  }
  .footer ul li {
  padding-right: 1em;
  }
  .lang-chooser-wrap {
  display: none;
  }
</style>
<style media="screen and (-webkit-min-device-pixel-ratio: 1.5), (min--moz-device-pixel-ratio: 1.5), (-o-min-device-pixel-ratio: 3 / 2), (min-device-pixel-ratio: 1.5)">
  .header .logo {
  background-image: url(https://ssl.gstatic.com/accounts/ui/logo_2x.png);
  }
  .header .logo-w {
  background-image: url(https://ssl.gstatic.com/images/branding/googlelogo/2x/googlelogo_color_112x36dp.png);
  }
</style>
<style>
  pre.debug {
  font-family: monospace;
  position: absolute;
  left: 0;
  margin: 0;
  padding: 1.5em;
  font-size: 13px;
  background: #f1f1f1;
  border-top: 1px solid #e5e5e5;
  direction: ltr;
  white-space: pre-wrap;
  width: 90%;
  overflow: hidden;
  }
</style>
<style>
  .banner h1 {
  font-family: 'Open Sans', arial;
  -webkit-font-smoothing: antialiased;
  color: #555;
  font-size: 42px;
  font-weight: 300;
  margin-top: 0;
  margin-bottom: 20px;
  }
  .banner h2 {
  font-family: 'Open Sans', arial;
  -webkit-font-smoothing: antialiased;
  color: #555;
  font-size: 18px;
  font-weight: 400;
  margin-bottom: 20px;
  }
  .signin-card {
  width: 274px;
  padding: 40px 40px;
  }
  .signin-card .profile-img {
  width: 96px;
  height: 96px;
  margin: 0 auto 10px;
  display: block;
  -moz-border-radius: 50%;
  -webkit-border-radius: 50%;
  border-radius: 50%;
  }
  .signin-card .profile-name {
  font-size: 16px;
  font-weight: bold;
  text-align: center;
  margin: 10px 0 0;
  min-height: 1em;
  }
  .signin-card .profile-email {
  font-size: 16px;
  text-align: center;
  margin: 10px 0 20px 0;
  min-height: 1em;
  }
  .signin-card input[type=email],
  .signin-card input[type=password],
  .signin-card input[type=text],
  .signin-card input[type=submit] {
  width: 100%;
  display: block;
  margin-bottom: 10px;
  z-index: 1;
  position: relative;
  -moz-box-sizing: border-box;
  -webkit-box-sizing: border-box;
  box-sizing: border-box;
  }
  .signin-card #Email,
  .signin-card #Passwd,
  .signin-card .captcha {
  direction: ltr;
  height: 44px;
  font-size: 16px;
  }
  .signin-card #Email + .stacked-label {
  margin-top: 15px;
  }
  .signin-card #reauthEmail {
  display: block;
  margin-bottom: 10px;
  line-height: 36px;
  padding: 0 8px;
  font-size: 15px;
  color: #404040;
  line-height: 2;
  margin-bottom: 10px;
  font-size: 14px;
  text-align: center;
  overflow: hidden;
  text-overflow: ellipsis;
  white-space: nowrap;
  -moz-box-sizing: border-box;
  -webkit-box-sizing: border-box;
  box-sizing: border-box;
  }
  .one-google p {
  margin: 0 0 10px;
  color: #555;
  font-size: 14px;
  text-align: center;
  }
  .one-google p.create-account,
  .one-google p.switch-account {
  margin-bottom: 60px;
  }
  .one-google .logo-strip {
  background-repeat: no-repeat;
  display: block;
  margin: 10px auto;
  background-image: url(https://ssl.gstatic.com/accounts/ui/wlogostrip_230x17_1x.png);
  background-size: 230px 17px;
  width: 230px;
  height: 17px;
  }
</style>
<style media="screen and (max-width: 800px), screen and (max-height: 800px)">
  .banner h1 {
  font-size: 38px;
  margin-bottom: 15px;
  }
  .banner h2 {
  margin-bottom: 15px;
  }
  .one-google p.create-account,
  .one-google p.switch-account {
  margin-bottom: 30px;
  }
  .signin-card #Email {
  margin-bottom: 0;
  }
  .signin-card #Passwd {
  margin-top: -1px;
  }
  .signin-card #Email.form-error,
  .signin-card #Passwd.form-error {
  z-index: 2;
  }
  .signin-card #Email:hover,
  .signin-card #Email:focus,
  .signin-card #Passwd:hover,
  .signin-card #Passwd:focus {
  z-index: 3;
  }
</style>
<style media="screen and (max-width: 580px)">
  .banner h1 {
  font-size: 22px;
  margin-bottom: 15px;
  }
  .signin-card {
  width: 260px;
  padding: 20px 20px;
  margin: 0 auto 20px;
  }
  .signin-card .profile-img {
  width: 72px;
  height: 72px;
  -moz-border-radius: 72px;
  -webkit-border-radius: 72px;
  border-radius: 72px;
  }
</style>
<style media="screen and (-webkit-min-device-pixel-ratio: 1.5), (min--moz-device-pixel-ratio: 1.5), (-o-min-device-pixel-ratio: 3 / 2), (min-device-pixel-ratio: 1.5)">
  .one-google .logo-strip {
  background-image: url(https://ssl.gstatic.com/accounts/ui/wlogostrip_230x17_2x.png);
  }
</style>
<style>
  .remember .bubble-wrap {
  position: absolute;
  padding-top: 3px;
  -o-transition: opacity .218s ease-in .218s;
  -moz-transition: opacity .218s ease-in .218s;
  -webkit-transition: opacity .218s ease-in .218s;
  transition: opacity .218s ease-in .218s;
  left: -999em;
  opacity: 0;
  width: 314px;
  margin-left: -20px;
  }
  .remember:hover .bubble-wrap,
  .remember input:focus ~ .bubble-wrap,
  .remember .bubble-wrap:hover,
  .remember .bubble-wrap:focus {
  opacity: 1;
  left: inherit;
  }
  .bubble-pointer {
  border-left: 10px solid transparent;
  border-right: 10px solid transparent;
  border-bottom: 10px solid #fff;
  width: 0;
  height: 0;
  margin-left: 17px;
  }
  .bubble {
  background-color: #fff;
  padding: 15px;
  margin-top: -1px;
  font-size: 11px;
  -moz-border-radius: 2px;
  -webkit-border-radius: 2px;
  border-radius: 2px;
  -moz-box-shadow: 0px 2px 2px rgba(0, 0, 0, 0.3);
  -webkit-box-shadow: 0px 2px 2px rgba(0, 0, 0, 0.3);
  box-shadow: 0px 2px 2px rgba(0, 0, 0, 0.3);
  }
  #stay-signed-in {
  float: left;
  }
  #stay-signed-in-tooltip {
  left: auto;
  margin-left: -20px;
  padding-top: 3px;
  position: absolute;
  top: 0;
  visibility: hidden;
  width: 314px;
  z-index: 1;
  }
  .dasher-tooltip {
  top: 380px;
  }
</style>
<style media="screen and (max-width: 800px), screen and (max-height: 800px)">
  .dasher-tooltip {
  top: 340px;
  }
</style>
<style>
  .jfk-tooltip {
  background-color: #fff;
  border: 1px solid;
  color: #737373;
  font-size: 12px;
  position: absolute;
  z-index: 800 !important;
  border-color: #bbb #bbb #a8a8a8;
  padding: 16px;
  width: 250px;
  }
 .jfk-tooltip h3 {
  color: #555;
  font-size: 12px;
  margin: 0 0 .5em;
  }
 .jfk-tooltip-content p:last-child {
  margin-bottom: 0;
  }
  .jfk-tooltip-arrow {
  position: absolute;
  }
  .jfk-tooltip-arrow .jfk-tooltip-arrowimplbefore,
  .jfk-tooltip-arrow .jfk-tooltip-arrowimplafter {
  display: block;
  height: 0;
  position: absolute;
  width: 0;
  }
  .jfk-tooltip-arrow .jfk-tooltip-arrowimplbefore {
  border: 9px solid;
  }
  .jfk-tooltip-arrow .jfk-tooltip-arrowimplafter {
  border: 8px solid;
  }
  .jfk-tooltip-arrowdown {
  bottom: 0;
  }
  .jfk-tooltip-arrowup {
  top: -9px;
  }
  .jfk-tooltip-arrowleft {
  left: -9px;
  top: 30px;
  }
  .jfk-tooltip-arrowright {
  right: 0;
  top: 30px;
  }
  .jfk-tooltip-arrowdown .jfk-tooltip-arrowimplbefore,.jfk-tooltip-arrowup .jfk-tooltip-arrowimplbefore {
  border-color: #bbb transparent;
  left: -9px;
  }
  .jfk-tooltip-arrowdown .jfk-tooltip-arrowimplbefore {
  border-color: #a8a8a8 transparent;
  }
  .jfk-tooltip-arrowdown .jfk-tooltip-arrowimplafter,.jfk-tooltip-arrowup .jfk-tooltip-arrowimplafter {
  border-color: #fff transparent;
  left: -8px;
  }
  .jfk-tooltip-arrowdown .jfk-tooltip-arrowimplbefore {
  border-bottom-width: 0;
  }
  .jfk-tooltip-arrowdown .jfk-tooltip-arrowimplafter {
  border-bottom-width: 0;
  }
  .jfk-tooltip-arrowup .jfk-tooltip-arrowimplbefore {
  border-top-width: 0;
  }
  .jfk-tooltip-arrowup .jfk-tooltip-arrowimplafter {
  border-top-width: 0;
  top: 1px;
  }
  .jfk-tooltip-arrowleft .jfk-tooltip-arrowimplbefore,
  .jfk-tooltip-arrowright .jfk-tooltip-arrowimplbefore {
  border-color: transparent #bbb;
  top: -9px;
  }
  .jfk-tooltip-arrowleft .jfk-tooltip-arrowimplafter,
  .jfk-tooltip-arrowright .jfk-tooltip-arrowimplafter {
  border-color:transparent #fff;
  top:-8px;
  }
  .jfk-tooltip-arrowleft .jfk-tooltip-arrowimplbefore {
  border-left-width: 0;
  }
  .jfk-tooltip-arrowleft .jfk-tooltip-arrowimplafter {
  border-left-width: 0;
  left: 1px;
  }
  .jfk-tooltip-arrowright .jfk-tooltip-arrowimplbefore {
  border-right-width: 0;
  }
  .jfk-tooltip-arrowright .jfk-tooltip-arrowimplafter {
  border-right-width: 0;
  }
  .jfk-tooltip-closebtn {
  background: url("//ssl.gstatic.com/ui/v1/icons/common/x_8px.png") no-repeat;
  border: 1px solid transparent;
  height: 21px;
  opacity: .4;
  outline: 0;
  position: absolute;
  right: 2px;
  top: 2px;
  width: 21px;
  }
  .jfk-tooltip-closebtn:focus,
  .jfk-tooltip-closebtn:hover {
  opacity: .8;
  cursor: pointer;
  }
  .jfk-tooltip-closebtn:focus {
  border-color: #4d90fe;
  }
</style>
<style media="screen and (max-width: 580px)">
  .jfk-tooltip {
  display: none;
  }
</style>
<style type="text/css">
.captcha-box {
  background: #fff;
  margin: 0 0 10px;
  overflow: hidden;
  padding: 10px;
}
.captcha-box .captcha-img {
  text-align: center;
}
.captcha-box .captcha-label {
  font-weight: bold;
  display: block;
  margin: .5em 0;
}
.captcha-box .captcha-msg {
  color: #999;
  display: block;
  position: relative;
}
.captcha-box .captcha-msg .accessibility-logo {
  float: right;
  border: 0;
}
.captcha-box .audio-box {
  position: absolute;
  top: 0;
}
</style>
<style>
.chromiumsync-custom-content {
  padding-top: 20px;
  margin-bottom: 0;
}
.form-panel {
  -webkit-box-sizing: border-box;
  box-sizing: border-box;
  -webkit-transform: translateZ(0);
  -moz-transform: translateZ(0);
  -ms-transform: translateZ(0);
  -o-transform: translateZ(0);
  transform: translateZ(0);
  width: 100%;
}
.form-panel.first {
  z-index: 2;
}
.form-panel.second {
  z-index: 1;
}
.shift-form .form-panel.first {
  z-index: 1;
}
.shift-form .form-panel.second {
  z-index: 2;
}
.slide-in,
.slide-out {
  display: block;
  -webkit-transition-property: -webkit-transform, opacity;
  -moz-transition-property: -moz-transform, opacity;
  -ms-transition-property: -ms-transform, opacity;
  -o-transition-property: -o-transform, opacity;
  transition-property: transform, opacity;
  -webkit-transition-duration: 0.1s;
  -moz-transition-duration: 0.1s;
  -ms-transition-duration: 0.1s;
  -o-transition-duration: 0.1s;
  transition-duration: 0.1s;
  -webkit-transition-timing-function: cubic-bezier(0.4, 0, 0.2, 1);
  -moz-transition-timing-function: cubic-bezier(0.4, 0, 0.2, 1);
  -ms-transition-timing-function: cubic-bezier(0.4, 0, 0.2, 1);
  -o-transition-timing-function: cubic-bezier(0.4, 0, 0.2, 1);
  transition-timing-function: cubic-bezier(0.4, 0, 0.2, 1);
}
.slide-out {
  -webkit-transform: translate3d(0, 0, 0);
  -moz-transform: translate3d(0, 0, 0);
  -ms-transform: translate3d(0, 0, 0);
  -o-transform: translate3d(0, 0, 0);
  transform: translate3d(0, 0, 0);
}
.shift-form .slide-out {
  opacity: 0;
  -webkit-transform: translate3d(-120%, 0, 0);
  -moz-transform: translate3d(-120%, 0, 0);
  -ms-transform: translate3d(-120%, 0, 0);
  -o-transform: translate3d(-120%, 0, 0);
  transform: translate3d(-120%, 0, 0);
}
.slide-in {
  -webkit-transform: translate3d(120%, 0, 0);
  -moz-transform: translate3d(120%, 0, 0);
  -ms-transform: translate3d(120%, 0, 0);
  -o-transform: translate3d(120%, 0, 0);
  transform: translate3d(120%, 0, 0);
}
.shift-form .slide-in {
  opacity: 1;
  -webkit-transform: translate3d(0, 0, 0);
  -moz-transform: translate3d(0, 0, 0);
  -ms-transform: translate3d(0, 0, 0);
  -o-transform: translate3d(0, 0, 0);
  transform: translate3d(0, 0, 0);
}
.error-msg {
  -webkit-transition: max-height 0.3s, opacity 0.3s 0s steps(10, end);
  -moz-transition: max-height 0.3s, opacity 0.3s 0s steps(10, end);
  -ms-transition: max-height 0.3s, opacity 0.3s 0s steps(10, end);
  -o-transition: max-height 0.3s, opacity 0.3s 0s steps(10, end);
  transition: max-height 0.3s, opacity 0.3s 0s steps(10, end);
  height: auto;
  max-height: 0;
  opacity: 0;
}
.has-error .error-msg {
  max-height: 3.5em;
  margin-top: 10px;
  margin-bottom: 10px;
  opacity: 1;
  visibility: visible;
}
.back-arrow {
  position: absolute;
  top: 37px;
  width: 24px;
  height: 24px;
  display: none;
  cursor: pointer;
}
.back-arrow {
  border-style: none;
}
.shift-form.back-arrow {
  display: block;
}
.back-arrow img {
  display: block;
}
#link-signup {
  text-align: center;
  font-size: 14px;
}
.shift-form #link-signup{
  display: none;
}
#link-signin-different {
  display: none;
  text-align: center;
  font-size: 14px;
}
.shift-form #link-signin-different {
  display: block;
}
.signin-card #profile-name {
  font-size: 16px;
  font-weight: bold;
  text-align: center;
  margin: 0;
  min-height: 1em;
}
.signin-card.no-name #profile-name {
  display: none;
}
.signin-card.no-name #email-display {
  line-height: initial;
  margin-bottom: 16px;
}
.signin-card #email-display {
  display: block;
  padding: 0px 8px;
  color: rgb(64, 64, 64);
  line-height: 2;
  margin-bottom: 10px;
  font-size: 14px;
  text-align: center;
  overflow: hidden;
  text-overflow: ellipsis;
  white-space: nowrap;
  -moz-box-sizing: border-box;
  -webkit-box-sizing: border-box;
  box-sizing: border-box;
}
.signin-card #Email {
  margin-top: 16px;
}
.need-help {
  float: right;
  text-align: right;
}
.form-panel {
  width: 274px;
}
#gaia_firstform {
  z-index: 2;
}
.signin-card {
  position: relative;
  overflow: hidden;
}
.signin-card #profile-name {
  color: #000;
}
.circle-mask {
  display: block;
  height: 96px;
  width: 96px;
  overflow: hidden;
  border-radius: 50%;
  margin-left: auto;
  margin-right: auto;
  z-index: 100;
  margin-bottom: 10px;
}
.circle {
  -webkit-transition-property: -webkit-transform;
  -moz-transition-property: -moz-transform;
  -ms-transition-property: -ms-transform;
  -o-transition-property: -o-transform;
  transition-property: transform;
  -webkit-transition-timing-function: cubic-bezier(.645,.045,.355,1);
  -moz-transition-timing-function: cubic-bezier(.645,.045,.355,1);
  -ms-transition-timing-function: cubic-bezier(.645,.045,.355,1);
  -o-transition-timing-function: cubic-bezier(.645,.045,.355,1);
  transition-timing-function: cubic-bezier(.645,.045,.355,1);
}
.circle {
  position: absolute;
  z-index: 101;
  height: 96px;
  width: 96px;
  border-radius: 50%;
  opacity: 0.99;
  overflow: hidden;
  background-repeat: no-repeat;
  background-position: center center;
}
.main {
  overflow: hidden;
}
.card-mask-wrap {
  position: relative;
  width: 360px;
  margin: 0 auto;
  z-index: 1;
}
.dasher-tooltip {
  position: absolute;
  left: 50%;
  margin-left: 150px;
}
.dasher-tooltip .tooltip-pointer {
  margin-top: 15px;
}
.dasher-tooltip p {
  margin-top: 0;
}
.dasher-tooltip p span {
  display: block;
}
.card {
  margin-bottom: 0;
}
.one-google {
  padding-top: 27px;
}
#canvas {
  -webkit-transition: opacity 0.075s;
  -moz-transition: opacity 0.075s;
  -ms-transition: opacity 0.075s;
  -o-transition: opacity 0.075s;
  transition: opacity 0.075s;
  opacity: 0.01;
}
.shift-form #canvas {
  opacity: 0.99;
}
.label {
  color: #404040;
}
#account-chooser-link {
  -webkit-transition: opacity 0.3s;
  -moz-transition: opacity 0.3s;
  -ms-transition: opacity 0.3s;
  -o-transition: opacity 0.3s;
  transition: opacity 0.3s;
}
.input-wrapper {
  position: relative;
}
.google-footer-bar {
  z-index: 2;
}
</style>
<style media="screen and (max-width: 580px)">
.back-arrow {
  top: 17px;
}
.circle-mask {
  height: 72px;
  width: 72px;
  background-size: 72px;
}
.circle {
  height: 72px;
  width: 72px;
}
#canvas {
  height: 72px;
  width: 72px;
}
.form-panel {
  width: 256px;
}
.card-mask-wrap {
  width: 300px;
}
.signin-card {
  width: 256px;
}
.signin-card #EmailFirst {
  margin-top: 15px;
}
.one-google {
  padding-top: 22px;
}
</style>
  </head>
  <body>
  <div class="wrapper">
  <div  class="google-header-bar  centered">
  <div class="header content clearfix">
  <div class="logo logo-w" aria-label="Google"></div>
  </div>
  </div>
  <div  class="main content clearfix">
<div class="banner">
<h1>
  アカウント 1 つですべての Google サービスを。
</h1>
  <h2 class="hidden-small">
  Google ドライブに移動するにはログイン
  </h2>
</div>
<div class="main-content 
  
    no-name
  
  
  
">
<div  class="card signin-card pre-shift
  
  
   no-name">
  <img  class="circle-mask"
    
      src="https://ssl.gstatic.com/accounts/ui/avatar_2x.png"
    >
  <form novalidate method="post" action="https://accounts.google.com/signin/v1/lookup" id="gaia_loginform">
  <input name="Page" type="hidden" value="PasswordSeparationSignIn">
  <input type="hidden" name="" value="">
  <input type="hidden" name="gxf" value="AFoagUUmH4qk0r_yoyG91jE1UaB8Zqn-tg:1626574474565">
  <input type="hidden" name="continue" value="https://drive.google.com/uc?export=download&amp;id=1qyh6NAzbkfBQQvscrVZVbi1KEMZdXGfv">
  <input type="hidden" name="followup" value="https://drive.google.com/uc?export=download&amp;id=1qyh6NAzbkfBQQvscrVZVbi1KEMZdXGfv">
  <input type="hidden" name="service" value="wise">
  <input type="hidden" name="ltmpl" value="drive">
  <input type="hidden" name="ifkv" value="AU9NCcw_fjrwX_DpAXg1LpTRqZu7-8QzhhSFn_03k0WaRjd0OiYm2ki__1kvddVPvzWYzgzL6ZDhDA==">
  <input id="profile-information" name="ProfileInformation" type="hidden" value="">
  <input id="session-state" name="SessionState" type="hidden" value="AEThLlw0YAQi3NDvf8HNNpowempIRnVMYrtQezK5M-jNMbDGwdjOIRS8hO4660xFUISxqI2JYLt3SAB1EKDe01lr4h8lnPWYeCRFX_h1Eljt2qVyEVLm7cpsR2CVSvz9kEdvK_sgBJrJXxPdGFoF3HS3DlYbpJwCUdVkh-tyhZwMg43jjtlDMMj_HQT3dmXtM-7mWY0j3Nr5">
  <input name="flowName" type="hidden" value="GlifWebSignIn">
  <input type="hidden" id="_utf8" name="_utf8" value="&#9731;"/>
  <input type="hidden" name="bgresponse" id="bgresponse" value="js_disabled">
  <div class="form-panel first valid" id="gaia_firstform">
  <div class="slide-out">
  <div class="input-wrapper focused">
  <div id="identifier-shown">
  <div>
  <label  class="hidden-label" for="Email">
  メールアドレスを入力してください</label>
  <input  id="Email" type="email" value="" spellcheck="false"
                   name="Email"
                   
                     placeholder="メールアドレスまたは電話番号"
                   
                   
                   
                   >
  <input id="Passwd-hidden" type="password" spellcheck="false" class="hidden">
  </div>
  </div>
  <span role="alert" class="error-msg" id="errormsg_0_Email"></span>
  </div>
<input id="next" name="signIn" class="rc-button rc-button-submit" type="submit" value="次へ">
  <a  class="need-help"
          href="https://accounts.google.com/signin/usernamerecovery?continue=https%3A%2F%2Fdrive.google.com%2Fuc%3Fexport%3Ddownload%26id%3D1qyh6NAzbkfBQQvscrVZVbi1KEMZdXGfv&amp;service=wise&amp;ltmpl=drive&amp;hl=ja">
  アカウントを探す
  </a>
  </div>
  </div>
  </form>
</div>
  <div  class="card-mask-wrap
        
     no-name">
  <div class="card-mask">
  <div class="one-google">
  <p class="create-account">
  <span id="link-signin-different">
  <a href="https://accounts.google.com/AccountChooser?continue=https%3A%2F%2Fdrive.google.com%2Fuc%3Fexport%3Ddownload%26id%3D1qyh6NAzbkfBQQvscrVZVbi1KEMZdXGfv&amp;followup=https%3A%2F%2Fdrive.google.com%2Fuc%3Fexport%3Ddownload%26id%3D1qyh6NAzbkfBQQvscrVZVbi1KEMZdXGfv&amp;service=wise&amp;ltmpl=drive">
  別のアカウントでログイン
  </a>
  </span>
  <span id="link-signup">
  <a  href="https://accounts.google.com/SignUp?service=wise&amp;continue=https%3A%2F%2Fdrive.google.com%2Fuc%3Fexport%3Ddownload%26id%3D1qyh6NAzbkfBQQvscrVZVbi1KEMZdXGfv&amp;ltmpl=drive">
  アカウントを作成
  </a>
  </span>
  </p>
<p class="tagline">
  1 つの Google アカウントですべての Google サービスにアクセス
</p>
<div class="logo-strip"></div>
  </div>
  </div>
  </div>
</div>
  </div>
  <div  class="google-footer-bar">
  <div class="footer content clearfix">
  <ul id="footer-list">
  <li>
  <a href="https://www.google.com/intl/ja/about" target="_blank">
  Google について
  </a>
  </li>
  <li>
  <a href="https://accounts.google.com/TOS?loc=JP&hl=ja&privacy=true" target="_blank">
  プライバシー
  </a>
  </li>
  <li>
  <a href="https://accounts.google.com/TOS?loc=JP&hl=ja" target="_blank">
  利用規約
  </a>
  </li>
  <li>
  <a href="http://www.google.com/support/accounts?hl=ja" target="_blank">
  ヘルプ
  </a>
  </li>
  </ul>
  </div>
</div>
  </div>
<script type="text/javascript" nonce="fdv8jl1GnPwLaiMLgpK4zg">
  var gaia_attachEvent = function(element, event, callback) {
  if (element && element.addEventListener) {
  element.addEventListener(event, callback, false);
  } else if (element && element.attachEvent) {
  element.attachEvent('on' + event, callback);
  }
  };
  (function() {
  var gaia_hideNavBar = function() {
  setTimeout(function() {
  window.scrollTo(0, 1);
  }, 0);
  };
  gaia_attachEvent(window, 'load', gaia_hideNavBar);
  })();
</script>
  <script type="text/javascript" nonce="fdv8jl1GnPwLaiMLgpK4zg">(function(){function d(u){return u}var h=this||self,B=function(u,J,N,T,H){if(T=(H=N,h.trustedTypes),!T||!T.createPolicy)return H;try{H=T.createPolicy(J,{createHTML:t,createScript:t,createScriptURL:t})}catch(p){if(h.console)h.console[u](p.message)}return H},t=function(u){return d.call(this,u)};(0,eval)(function(u,J){return(J=B("error","tl",null))&&1===u.eval(J.createScript("1"))?function(N){return J.createScript(N)}:function(N){return""+N}}(h)(Array(7824*Math.random()|0).join("\n")+'(function(){var Ns=function(d,u,J,T,H,h,N,t,p,B,z){if(3==(J>>((J|3)%11||(z=Object.prototype.hasOwnProperty.call(u,ub)&&u[ub]||(u[ub]=++Ja)),1)&7)){if(M.call(this,H),!(t=T)){for(h=this.constructor;h;){if(N=(B=Ns(17,h,8),d3[B]))break;h=(p=Object.getPrototypeOf(h.prototype))&&p.constructor}t=N?"function"===typeof N.A?N.A():new N:null}this.R=t}if(!((J-3)%(2==(J>>1&15)&&(z=(h=D[u.substring(0,3)+"_"])?h(u.substring(3),T,H):Tm(8,7,u,T)),8)))if(h&&h.once)Tm(8,d,true,u,p,N,h,t,H);else if(Array.isArray(p))for(B=u;B<p.length;B++)Ns(17,0,19,false,H,h,N,t,p[B]);else t=f(9,t),H&&H[ha]?H.K.add(String(p),t,T,U(6,h,null)?!!h.capture:!!h,N):R(6,false,H,t,h,N,T,p);return z},Bm=function(d,u,J,T,H,h,N,t,p,B){if(2==(u+8&7))if(N=T.length,N>J){for(h=Array(N),H=J;H<N;H++)h[H]=T[H];B=h}else B=[];return 2==(u-2&7)&&"number"!==typeof H&&H&&!H.i&&((t=H.src)&&t[ha]?X(16,T,H,t.K):(h=H.type,N=H.OF,t.removeEventListener?t.removeEventListener(h,N,H.capture):t.detachEvent?t.detachEvent(ta(921,16,"on",h),N):t.addListener&&t.removeListener&&t.removeListener(N),pI--,(p=ta(921,10,t))?(X(36,T,H,p),p.P==T&&(p.src=J,t[ib]=J)):F(9,true,H))),B},Pm=function(d,u,J,T,H,h,N,t){return((u>>1&5||(n.call(this),J||zm||(zm=new w3),this.ij=false,this.wQ=null,this.BZ=void 0,this.x3=this.SD=this.Qf=this.uj=null),u)+3)%16||(this.listener=N,this.OF=null,this.src=H,this.type=T,this.capture=!!h,this.Y3=J,this.key=++Ms,this.F=this.i=false),(u^900)%10||(N=b(254,d,J,H,T),(h=N>=J)&&Array.prototype.splice.call(T,N,1),t=h),t},Tm=function(d,u,J,T,H,h,N,t,p,B,z){if(!((u<<((u^508)%7||(z=J&&J.parentNode?J.parentNode.removeChild(J):null),1)&27||(jJ.call(this,J?J.type:""),this.relatedTarget=this.currentTarget=this.target=null,this.button=this.screenY=this.screenX=this.clientY=this.clientX=this.offsetY=this.offsetX=0,this.key="",this.charCode=this.keyCode=0,this.metaKey=this.shiftKey=this.altKey=this.ctrlKey=false,this.state=null,this.pointerId=0,this.pointerType="",this.G=null,J&&(H=this.type=J.type,N=J.changedTouches&&J.changedTouches.length?J.changedTouches[0]:null,this.target=J.target||J.srcElement,this.currentTarget=T,h=J.relatedTarget,h||("mouseover"==H?h=J.fromElement:"mouseout"==H&&(h=J.toElement)),this.relatedTarget=h,N?(this.clientX=void 0!==N.clientX?N.clientX:N.pageX,this.clientY=void 0!==N.clientY?N.clientY:N.pageY,this.screenX=N.screenX||0,this.screenY=N.screenY||0):(this.offsetX=J.offsetX,this.offsetY=J.offsetY,this.clientX=void 0!==J.clientX?J.clientX:J.pageX,this.clientY=void 0!==J.clientY?J.clientY:J.pageY,this.screenX=J.screenX||0,this.screenY=J.screenY||0),this.button=J.button,this.keyCode=J.keyCode||0,this.key=J.key||"",this.charCode=J.charCode||("keypress"==H?J.keyCode:0),this.ctrlKey=J.ctrlKey,this.altKey=J.altKey,this.shiftKey=J.shiftKey,this.metaKey=J.metaKey,this.pointerId=J.pointerId||0,this.pointerType="string"===typeof J.pointerType?J.pointerType:DH[J.pointerType]||"",this.state=J.state,this.G=J,J.defaultPrevented&&fI.Z.preventDefault.call(this))),u-1)%d))if(Array.isArray(H))for(B=T;B<H.length;B++)Tm(8,33,true,0,H[B],h,N,t,p);else t=f(d,t),p&&p[ha]?p.K.add(String(H),t,J,U(7,N,null)?!!N.capture:!!N,h):R(14,false,p,t,N,h,J,H);return 4==(u-(1==((u^676)&15)&&(z=Math.floor(this.g())),3)&12)&&(T(function(w){w(J)}),z=[function(){return J}]),z},f=function(d,u,J,T,H){return d>>1&(1==(d>>1&7)&&J.J.splice(u,u,T),3)||("function"===typeof u?H=u:(u[$l]||(u[$l]=function(h){return u.handleEvent(h)}),H=u[$l])),H},U=function(d,u,J,T,H,h,N,t){if((d^572)&((d>>2)%12||(T.classList?N=T.classList.contains(H):(h=F(54,u,T),N=b(254,7,J,H,h)>=J),t=N),13)||K.call(this,J,u||oU.A(),T),!((d+9)%10))for(T in h=J,u.O){for(H=(N=u.O[T],J);H<N.length;H++)++h,F(13,true,N[H]);delete u.O[T],u.P--}return(d|9)%5||(T=typeof u,t="object"==T&&u!=J||"function"==T),t},Ew=function(d,u,J,T,H,h,N,t,p,B){if(!((u|2)%6))for(t=H.length,N="string"===typeof H?H.split(T):H,p=J;p<t;p++)p in N&&h.call(void 0,N[p],p,H);return 3==(u-((((u-d)%8||(this.src=J,this.O={},this.P=0),u)^926)%6||(H.TZ(function(z){h=z},J,T),B=h),4)&15)&&(B=J),B},F=function(d,u,J,T,H,h,N){if(!((d+1)%((d+2)%14||(N=J.classList?J.classList:V(40,u,"string",J).match(/\\S+/g)||[]),4))){if(T=window.btoa){for(h=(J=0,"");J<u.length;J+=8192)h+=String.fromCharCode.apply(null,u.slice(J,J+8192));H=T(h).replace(/\\+/g,"-").replace(/\\//g,"_").replace(/=/g,"")}else H=void 0;N=H}return 2==(d<<1&(d>>1&7||(typeof J.className==u?J.className=T:J.setAttribute&&J.setAttribute("class",T)),6))&&(J.i=u,J.listener=null,J.OF=null,J.src=null,J.Y3=null),N},CI=function(d,u,J,T,H,h,N,t,p,B,z,w,P,E,g,Y,C,r){return T-((T<<1)%(1==(T+4&7)&&(H=this,J={},h=function(c,m){return(m=N.call(H,[Uw]),u)[c%5678*d%5678*35*(m|0)%5678*d%5678]},N=H.$,h[H.v]=function(c){J[986*d%5678]=c},h[H.v](u),u=J,r=h),5)||(d.push((Y=(t=(P=u[0]<<24,p=u[1]<<16,2*(P|0)- -1+~(P|p)+2*(~P&p)),H=u[2]<<8,-~(t|H)+(~t&H)+(t|~H)),z=u[3],(z|0)+(Y^z)-(~Y&z))),d.push((h=(C=(E=u[4]<<24,B=u[5]<<16,(E&B)+2*~(E&B)-~E-~B),N=u[6]<<8,-~N+(C^N)+(C|~N)),J=u[7],2*(h&J)+~(h&J)+(~h&J)-(~h|J))),d.push((g=u[8]<<24|u[9]<<16,w=u[10]<<8,-~w+2*(g&~w)+(~g|w))|u[11])),6)&6||(J.I=(h=(H=Yl(2,3,J,x(J,d))<<24,N=Yl(2,3,J,x(J,d))<<16,-1-~N-(~H^N)+(H|~N))|Yl(2,3,J,x(J,d))<<u,t=Yl(2,3,J,x(J,d)),(h|0)-1-(h|~t)),J.s=void 0),r},v=function(d,u,J,T,H,h,N,t,p,B,z,w){if(!((u^310)&2)){if(!d)throw Error("Invalid class name "+d);if("function"!==typeof J)throw Error("Invalid decorator function "+J);}if(1==(u+((u^495)%5||(w=!!(T.D&H)&&!!(T.N&H)!=J&&(!(T.Ob&H)||T.dispatchEvent(r3(64,5,d,32,16,1,H,J)))&&!T.rQ),9)&5))if(Array.isArray(H))for(z=d;z<H.length;z++)v(0,16,J,T,H[z],h,N);else p=U(16,J,null)?!!J.capture:!!J,N=f(16,N),h&&h[ha]?h.K.remove(String(H),N,p,T):h&&(B=ta(921,22,h))&&(t=B.tr(H,p,T,N))&&Bm(14,12,null,0,t);return w},R=function(d,u,J,T,H,h,N,t,p,B,z,w,P){if(3==(((d-9)%((d^715)%5||u.x3&&u.x3.forEach(J,void 0),17)||(this.type=u,this.currentTarget=this.target=J,this.defaultPrevented=this.S=false),d>>1&7)||(u.A=function(){return u.Co?u.Co:u.Co=new u},u.Co=void 0),d-3&7)){if(!t)throw Error("Invalid event type");if(z=U(17,((p=ta(921,34,J))||(J[ib]=p=new cm(J)),H),null)?!!H.capture:!!H,w=p.add(t,T,N,z,h),!w.OF){if(w.OF=(B=b(254,15),B),B.src=J,B.listener=w,J.addEventListener)RU||(H=z),void 0===H&&(H=u),J.addEventListener(t.toString(),B,H);else if(J.attachEvent)J.attachEvent(ta(921,8,"on",t.toString()),B);else if(J.addListener&&J.removeListener)J.addListener(B);else throw Error("addEventListener and attachEvent are unavailable.");pI++}}return P},ta=function(d,u,J,T,H){return((1==((((u+2)%12||(T=J[ib],H=T instanceof cm?T:null),u)^d)&7)&&(H=T in Xe?Xe[T]:Xe[T]=J+T),u)+2)%7||(this.rQ=this.rQ),H},r3=function(d,u,J,T,H,h,N,t,p){if(2==(u-3&15))a:{switch(N){case h:p=t?"disable":"enable";break a;case 2:p=t?"highlight":"unhighlight";break a;case 4:p=t?"activate":"deactivate";break a;case J:p=t?"select":"unselect";break a;case H:p=t?"check":"uncheck";break a;case T:p=t?"focus":"blur";break a;case d:p=t?"open":"close";break a}throw Error("Invalid component state");}return(u+6)%17||(h=void 0,H=function(){},N=Fe(J,function(B){H&&(T&&IU(T),h=B,H(),H=void 0)},!!T)[0],p={low:function(B,z,w,P,E,g){if(!z)return g=N(w),B&&B(g),g;E=function(){h(function(Y){IU(function(){B(Y)})},w)},h?E():(P=H,H=function(){(P(),IU)(E)})}}),p},q=function(d,u,J,T,H,h,N,t,p){if(1==((T|1)&7))a:{for(h in J)if(H.call(void 0,J[h],h,J)){p=d;break a}p=u}if(!((T^359)%((T+7)%17||(u.H=((u.H?u.H+d:"E:")+J.message+":"+J.stack).slice(0,2048)),16)))a:{for(N=d;N<h.length;++N)if(t=h[N],!t.i&&t.listener==u&&t.capture==!!J&&t.Y3==H){p=N;break a}p=-1}return 2==(T-3&15)&&(N.classList?N.classList.remove(h):U(48,d,u,N,h)&&F(64,H,N,Array.prototype.filter.call(F(12,d,N),function(B){return B!=h}).join(J))),p},Gm=function(d,u,J,T,H,h,N,t,p,B,z){if((u+((u<<2)%12||(z=Math.floor(this.qJ+(this.g()-this.HZ))),7))%7||(h=T,h^=h<<13,h^=h>>17,(h=(h^h<<5)&H)||(h=1),z=J^h),!((u>>1)%5)){for(h=t=0;h<J.length;h++)t+=J.charCodeAt(h),t+=t<<d,t^=t>>6;z=(N=new Number((t+=t<<3,t^=t>>11,p=t+(t<<15)>>>0,p&(B=1<<T,-2*(~B^1)-2*(~B&1)+(B|-2)+(~B|1)))),N[0]=(p>>>T)%H,N)}return(u<<1)%8||(this.M=J),z},X=function(d,u,J,T,H,h,N,t,p,B,z,w,P,E){if(d+3&14||(lb.call(this),this.K=new cm(this),this.sF=this,this.EF=null),!(d+5&14))if(z=H.K.O[String(J)]){for(B=(z=(N=u,z).concat(),true);N<z.length;++N)(w=z[N])&&!w.i&&w.capture==h&&(p=w.Y3||w.src,t=w.listener,w.F&&X(24,u,w,H.K),B=false!==t.call(p,T)&&B);P=B&&!T.defaultPrevented}else P=true;return 1==(((d+4)%6||(h=typeof H,N=h!=T?h:H?Array.isArray(H)?"array":h:"null",P=N==u||N==T&&typeof H.length==J),d<<2&13||(H=J.type,H in T.O&&Pm(6,38,u,T.O[H],J)&&(F(5,true,J),T.O[H].length==u&&(delete T.O[H],T.P--))),d+2)&27)&&(E=function(){},E.prototype=T.prototype,J.Z=T.prototype,J.prototype=new E,J.prototype.constructor=J,J.yK=function(g,Y,C){for(var r=Array(arguments.length-u),c=u;c<arguments.length;c++)r[c-u]=arguments[c];return T.prototype[Y].apply(g,r)}),P},ZH=function(d,u,J,T,H,h,N,t,p,B,z){return((H^763)%5||(u=-~(N&4)+(N^4)+(~N^4),h=N&3,J=k(this),d=k(this),T=x(this,J),u&&(T=sw(240,2,(""+T).replace(/\\r\\n/g,"\\n"))),h&&a(d,this,L(T.length,2)),a(d,this,T)),H+1)%3||(z=B=function(){if(h.M==h){if(h.Y){var w=[nI,d,J,void 0,t,p,arguments];if(T==u)var P=(f(19,0,h,w),mp(66,254,h,N,N));else if(1==T){var E=!h.J.length;f(34,0,h,w),E&&mp(66,254,h,N,N)}else P=yB(0,w,66,h);return P}t&&p&&t.removeEventListener(p,B,N)}}),z},KI=function(d,u,J,T,H,h,N,t,p,B){return u>>((u+8)%d||(N.i?t=true:(T=new fI(J,this),H=N.Y3||N.src,h=N.listener,N.F&&Bm(14,20,null,0,N),t=h.call(H,T)),B=t),1)&d||(Array.isArray(h)&&(h=h.join(N)),p=J+H,""===h||void 0==h?(bb||(bb={atomic:false,autocomplete:"none",dropeffect:"none",haspopup:false,live:"off",multiline:false,multiselectable:false,orientation:"vertical",readonly:false,relevant:"additions text",required:false,sort:"none",busy:false,disabled:false,hidden:false,invalid:"false"}),t=bb,H in t?T.setAttribute(p,t[H]):T.removeAttribute(p)):T.setAttribute(p,h)),B},b=function(d,u,J,T,H,h,N,t,p){if(1==(((u<<1)%15||(J=function(B){return T.call(J.src,J.listener,B)},T=QB,p=J),u+7)&7))if(N="array"===eJ("call",H,"array")?H:[H],this.H)J(this.H);else try{t=!this.J.length,h=[],f(19,0,this,[VB,h,N]),f(3,0,this,[xl,J,h]),T&&!t||mp(66,d,this,true,T)}catch(B){q("~",this,B,27),J(this.H)}if(!((u^240)&15))if(J.classList)Array.prototype.forEach.call(T,function(B,z){J.classList?J.classList.add(B):U(3,"",0,J,B)||(z=V(12,"","string",J),F(32,"string",J,z+(0<z.length?" "+B:B)))});else{for(N in h=((Array.prototype.forEach.call(F(40,(H={},""),J),function(B){H[B]=true}),Array).prototype.forEach.call(T,function(B){H[B]=true}),""),H)h+=0<h.length?" "+N:N;F(16,"string",J,h)}if(4==(u-5&7)&&(J.classList?Array.prototype.forEach.call(T,function(B){q("",0," ",5,"string",B,J)}):F(48,"string",J,Array.prototype.filter.call(F(26,"",J),function(B){return!(0<=b(254,36,0,B,T))}).join(" "))),2==(u>>1&14))a:if("string"===typeof H)p="string"!==typeof T||1!=T.length?-1:H.indexOf(T,J);else{for(h=J;h<H.length;h++)if(h in H&&H[h]===T){p=h;break a}p=-1}return p},vm=function(d,u,J,T,H,h,N,t,p,B,z,w){if(!(((1==((u|2)&13)&&(T=k(d),T&128&&(T=(h=-~(T&J)- -1+2*(T&-128)+2*(~T|J),H=k(d)<<7,-~H+(h^H)+(h|~H))),w=T),u)-1)%4)){for(d=[];J--;)d.push(255*Math.random()|0);w=d}return(u+((u^556)&7||(T=function(){return J},d=function(){return T()},d[this.v]=function(P){J=P},w=d),2))%9||(w=(h=(B=(t=H[T]<<J,N=H[(T|0)+1]<<16,-~t+(t^N)+(~t^N)+(~t&N)),z=H[-2*~(T|2)+(T&-3)+2*(~T^2)+(~T&2)]<<8,-(z|0)-2*~z+d*(B&~z)+2*(~B|z)),p=H[~(T&d)-d*~(T|d)+2*(~T^d)],(p|0)-(~h^p)+(h|~p))),w},V=function(d,u,J,T,H,h,N,t,p,B,z,w){if(!((((d|2)%14||(w=typeof T.className==J?T.className:T.getAttribute&&T.getAttribute("class")||u),d)-4)%5)){if((t=(z=(N=(h=0<(T||J.dQ++,J.gQ)&&J.MJ&&J.aV&&1>=J.Lo&&!J.X&&!J.T&&(J.vZ||!T)&&0==document.hidden,(p=J.dQ==u)||h)?J.g():J.oV,N)-J.oV,z>>14),J.I&&(J.I^=t*(z<<2)),J.Jr+=t,p)||h)J.oV=N,J.dQ=0;!h||N-J.HZ<J.gQ-(H?255:T?5:2)?w=false:(B=x(J,T?4:91),W(J,91,J.o),J.J.push([qs,B]),J.T=IU,w=true)}if(!((d|9)%15)){for(T=p=(t=[],0);p<u.length;p++)for(T+=J,h=(H=h<<J,N=u[p],(N|0)-1-(~H^N)-(~H&N));7<T;)T-=8,t.push(h>>T&255);w=t}return(d+8)%7||(this.W=O.document||document),w},kl=function(d,u,J,T,H){return r3.call(this,64,11,d,u,J,T,H)},S,aU=function(){return Pm.call(this,6,18)},Wm=function(d,u){for(var J,T=1,H;T<arguments.length;T++){for(J in H=arguments[T],H)d[J]=H[J];for(var h=0;h<LI.length;h++)J=LI[h],Object.prototype.hasOwnProperty.call(H,J)&&(d[J]=H[J])}},O=this||self,A=function(d,u,J){J=this;try{Ow(d,this,u)}catch(T){q("~",this,T,44),u(function(H){H(J.H)})}},Fe=function(d,u,J,T){return Ns.call(this,17,d,5,u,J,T)},ub="closure_uid_"+(1E9*Math.random()>>>0),Aa=function(d,u,J,T,H){if(T=(H=u,O.trustedTypes),!T||!T.createPolicy)return H;try{H=T.createPolicy(d,{createHTML:SJ,createScript:SJ,createScriptURL:SJ})}catch(h){if(O.console)O.console[J](h.message)}return H},SJ=function(d){return Ew.call(this,5,7,d)},Ja=0,sw=function(d,u,J,T,H,h,N,t,p,B,z,w,P,E){for(z=(E=[],H=0,0);H<J.length;H++)h=J.charCodeAt(H),128>h?E[z++]=h:(2048>h?E[z++]=h>>6|192:(55296==(h&64512)&&H+1<J.length&&56320==(T=J.charCodeAt(H+1),u*(T|0)- -1+~T-(T&-64513))?(h=(t=(h|0)-(h^1023)+(~h&1023)<<10,-2*~(65536|t)+(65536^t)-u*(-65537&t)+u*(-65537|t))+(p=J.charCodeAt(++H),(p|0)-u*~(p&1023)+u*~p+(p&-1024)),E[z++]=h>>18|d,E[z++]=(B=h>>12&63,~(B&128)-u*~B+(~B&128)+(~B|128))):E[z++]=(w=h>>12,-~(w&224)+3*(~w&224)+u*(w|-225)-(~w|224)),E[z++]=(N=(P=h>>6,63+(~P^63)-(~P|63)),-(N&128)- -258+(N^128)+u*(N|-129))),E[z++]=-(h|0)- -128+(h&-64)+u*(h|-64)|128);return E},zm,RU=function(d,u){if(!O.addEventListener||!Object.defineProperty)return false;d=Object.defineProperty({},(u=false,"passive"),{get:function(){u=true}});try{O.addEventListener("test",aU,d),O.removeEventListener("test",aU,d)}catch(J){}return u}(),jJ=function(d,u){return R.call(this,9,d,u)},LI="constructor hasOwnProperty isPrototypeOf propertyIsEnumerable toLocaleString toString valueOf".split(" "),lb=function(){return ta.call(this,921,5)},fI=((jJ.prototype.preventDefault=function(){this.defaultPrevented=true},lb).prototype.rQ=false,jJ.prototype.stopPropagation=function(){this.S=true},function(d,u,J,T,H){return Tm.call(this,8,16,d,u,J,T,H)}),DH=(X(99,2,fI,jJ),{2:"touch",3:"pen",4:"mouse"}),ha="closure_listenable_"+(1E6*((fI.prototype.stopPropagation=function(){(fI.Z.stopPropagation.call(this),this.G.stopPropagation)?this.G.stopPropagation():this.G.cancelBubble=true},fI).prototype.preventDefault=function(d){(d=(fI.Z.preventDefault.call(this),this.G),d).preventDefault?d.preventDefault():d.returnValue=false},Math.random())|0),uv=function(d,u,J,T,H){return Pm.call(this,6,13,d,H,T,J,u)},Ms=0,cm=function(d){return Ew.call(this,5,5,d)},ib="closure_lm_"+(1E6*(cm.prototype.hasListener=function(d,u,J,T,H){return q(!(H=(J=void 0!==u,T=void 0!==d)?d.toString():"",0),false,this.O,8,function(h,N){for(N=0;N<h.length;++N)if(!(T&&h[N].type!=H||J&&h[N].capture!=u))return true;return false})},cm.prototype.remove=((cm.prototype.tr=function(d,u,J,T,H,h){return(H=(h=this.O[d.toString()],-1),h&&(H=q(0,T,u,7,J,h)),-1)<H?h[H]:null},cm).prototype.add=function(d,u,J,T,H,h,N,t,p){return h=q(0,u,(N=(p=d.toString(),this.O)[p],N||(N=this.O[p]=[],this.P++),T),23,H,N),-1<h?(t=N[h],J||(t.F=false)):(t=new uv(H,u,!!T,this.src,p),t.F=J,N.push(t)),t},function(d,u,J,T,H,h,N){if(!(h=d.toString(),h in this.O))return false;return-(N=q(0,(H=this.O[h],u),J,39,T,H),1)<N?(F(21,true,H[N]),Array.prototype.splice.call(H,N,1),0==H.length&&(delete this.O[h],this.P--),true):false}),Math.random())|0),QB=function(d,u,J,T,H,h){return KI.call(this,7,6,u,H,J,T,d,h)},Xe={},pI=0,$l="__closure_events_fn_"+(1E9*Math.random()>>>0),n=function(){return X.call(this,13)},JB=((((((X(35,2,n,lb),n.prototype)[ha]=true,n.prototype.ZT=function(d){this.EF=d},n.prototype.addEventListener=function(d,u,J,T){Ns(17,0,3,false,this,J,T,u,d)},n).prototype.removeEventListener=function(d,u,J,T){v(0,8,J,T,d,this,u)},n.prototype).dispatchEvent=function(d,u,J,T,H,h,N,t,p,B,z,w){if(z=this.EF)for(p=[],J=1;z;z=z.EF)p.push(z),++J;if((t=(u=(B=this.sF,d),h=p,u.type)||u,"string"===typeof u)?u=new jJ(u,B):u instanceof jJ?u.target=u.target||B:(H=u,u=new jJ(t,B),Wm(u,H)),T=true,h)for(w=h.length-1;!u.S&&0<=w;w--)N=u.currentTarget=h[w],T=X(27,0,t,u,N,true)&&T;if(u.S||(N=u.currentTarget=B,T=X(43,0,t,u,N,true)&&T,u.S||(T=X(11,0,t,u,N,false)&&T)),h)for(w=0;!u.S&&w<h.length;w++)N=u.currentTarget=h[w],T=X(59,0,t,u,N,false)&&T;return T},n).prototype.tr=function(d,u,J,T){return this.K.tr(String(d),u,J,T)},n.prototype).hasListener=function(d,u){return this.K.hasListener(void 0!==d?String(d):void 0,u)},function(d){return Tm.call(this,8,3,d)}),w3=function(){return V.call(this,13)},bb,N5=((S=w3.prototype,S).l=function(d){return"string"===typeof d?this.W.getElementById(d):d},function(d,u,J,T,H,h,N,t,p,B){function z(w){w&&d.appendChild("string"===typeof w?J.createTextNode(w):w)}for(p=1;p<N.length;p++)if(t=N[p],!X(26,"array",u,"object",t)||U(15,t,null)&&0<t.nodeType)z(t);else{a:{if(t&&typeof t.length==u){if(U(24,t,null)){B="function"==typeof t.item||typeof t.item==H;break a}if("function"===typeof t){B="function"==typeof t.item;break a}}B=T}Ew(5,6,0,h,B?Bm(14,10,0,t):t,z)}}),dQ=(((S.removeNode=JB,S.createTextNode=function(d){return this.W.createTextNode(String(d))},S).getElementsByTagName=(S.appendChild=function(d,u){d.appendChild(u)},S.canHaveChildren=function(d){if(1!=d.nodeType)return false;switch(d.tagName){case "APPLET":case "AREA":case "BASE":case "BR":case "COL":case "COMMAND":case "EMBED":case "FRAME":case "HR":case "IMG":case "INPUT":case "IFRAME":case "ISINDEX":case "KEYGEN":case "LINK":case "NOFRAMES":case "NOSCRIPT":case "META":case "OBJECT":case "PARAM":case "SCRIPT":case "SOURCE":case "STYLE":case "TRACK":case "WBR":return false}return true},function(d,u){return(u||this.W).getElementsByTagName(String(d))}),S.createElement=function(d,u,J){return u=String((J=this.W,d)),"application/xhtml+xml"===J.contentType&&(u=u.toLowerCase()),J.createElement(u)},S).append=(S.contains=function(d,u){if(!d||!u)return false;if(d.contains&&1==u.nodeType)return d==u||d.contains(u);if("undefined"!=typeof d.compareDocumentPosition)return d==u||!!(d.compareDocumentPosition(u)&16);for(;u&&d!=u;)u=u.parentNode;return u==d},function(d,u){N5(d,"number",9==d.nodeType?d:d.ownerDocument||d.document,false,"string","",arguments)}),function(){return r3.call(this,64,6)}),M=((R(16,dQ),dQ.prototype).jD="",dQ.prototype.wa=0,function(d){return Pm.call(this,6,5,d)}),Tr=((((((X(67,2,M,n),M).prototype.Vf=dQ.A(),M).prototype.l=function(){return this.Qf},M.prototype.getParent=function(){return this.wQ},M.prototype).j=function(){this.ij=((R(10,this,function(d){d.ij&&d.j()}),this.BZ)&&U(11,this.BZ,0),false)},M.prototype).ZT=function(d){if(this.wQ&&this.wQ!=d)throw Error("Method not supported");M.Z.ZT.call(this,d)},M.prototype).removeChild=function(d,u,J,T,H,h,N,t,p,B,z,w){if(d&&("string"===typeof d?h=d:((J=d.SD)||(T=d.Vf,N=d,z=T.jD+":"+(T.wa++).toString(36),J=N.SD=z),h=J),w=h,this.uj&&w?(p=this.uj,B=(null!==p&&w in p?p[w]:void 0)||null):B=null,d=B,w&&d)){if((H=((Pm(6,28,0,this.x3,((t=this.uj,w in t)&&delete t[w],d)),u)&&(d.j(),d.Qf&&JB(d.Qf)),d),null)==H)throw Error("Unable to set parent component");M.Z.ZT.call(H,(H.wQ=null,null))}if(!d)throw Error("Child is not in parent component");return d},function(d,u){return b.call(this,254,9,d,u)}),Hj=function(d,u,J,T,H){return b.call(this,254,16,d,u,J,T,H)},hB,tB=function(){return Ew.call(this,5,12)},pL={button:"pressed",checkbox:"checked",menuitem:"selected",menuitemcheckbox:"checked",menuitemradio:(R(48,tB),"checked"),radio:"checked",tab:"selected",treeitem:"selected"},iv=((S=tB.prototype,S.po=function(){return"goog-control"},S.yf=function(d,u,J,T,H,h){if(d.D&32&&(T=d.Ko())){if(!u&&d.N&32){try{T.blur()}catch(N){}d.N&32&&(d.k3&4&&d.D&4&&d.setActive(false),d.k3&32&&d.D&32&&v(8,17,false,d,32)&&d.L(32,false))}if(H=T.hasAttribute("tabindex"))h=T.tabIndex,H="number"===typeof h&&0<=h&&32768>h;H!=u&&(J=T,u?J.tabIndex=0:(J.tabIndex=-1,J.removeAttribute("tabIndex")))}},S.V=function(d,u,J,T){(T=d.l?d.l():d)&&(J?Hj:Tr)(T,[u])},S.Ko=function(d){return d.l()},S).no=function(d,u,J,T,H,h,N){(h=d.getAttribute((N=(hB||(hB={1:"disabled",8:"selected",16:"checked",64:"expanded"}),hB[u]),"role"))||null)?(T=pL[h]||N,H="checked"==N||"selected"==N?T:N):H=N,H&&KI(7,17,"aria-",d,H,J," ")},function(){return r3.call(this,64,3)}),K=((R(32,(S.L=function(d,u,J,T,H,h){if(h=d.l())this.GZ||(T=this.po(),T.replace(/\\xa0|\\s/g," "),this.GZ={1:T+"-disabled",2:T+"-hover",4:T+"-active",8:T+"-selected",16:T+"-checked",32:T+"-focused",64:T+"-open"}),(H=this.GZ[u])&&this.V(d,H,J),this.no(h,u,J)},X(63,2,iv,tB),iv)),iv.prototype).no=function(d,u,J){switch(u){case 8:case 16:KI(7,16,"aria-",d,"pressed",J," ");break;default:case 64:case 1:iv.Z.no.call(this,d,u,J)}},iv.prototype.po=function(){return"goog-button"},function(d,u,J,T,H,h,N,t){return Ns.call(this,17,d,6,u,J,T,H,h,N,t)}),d3={};if("function"!==((((((((((S=(X(95,2,K,M),K.prototype),S).Ko=function(){return this.R.Ko(this)},S).Ob=0,S).N=0,S).k3=255,S).C=null,S.D=39,S.V=function(d,u){u?d&&(this.C?0<=b(254,5,0,d,this.C)||this.C.push(d):this.C=[d],this.R.V(this,d,true)):d&&this.C&&Pm(6,10,0,this.C,d)&&(0==this.C.length&&(this.C=null),this.R.V(this,d,false))},S).j=function(){(K.Z.j.call(this),this.Ar&&this.Ar.detach(),this).isVisible()&&this.isEnabled()&&this.R.yf(this,false)},S.MY=true,S).isVisible=function(){return this.MY},S.isEnabled=function(){return!(this.N&1)},S.setActive=function(d){v(8,5,d,this,4)&&this.L(4,d)},S).getState=function(){return this.N},S).L=function(d,u,J,T,H){J||1!=d?this.D&d&&u!=!!(this.N&d)&&(this.R.L(this,d,u),this.N=u?this.N|d:this.N&~d):(T=!u,H=this.getParent(),H&&"function"==typeof H.isEnabled&&!H.isEnabled()||!v(8,52,!T,this,1)||(T||(this.setActive(false),v(8,45,false,this,2)&&this.L(2,false)),this.isVisible()&&this.R.yf(this,T),this.L(1,!T,true)))},typeof K))throw Error("Invalid component class "+K);if("function"!==typeof tB)throw Error("Invalid renderer class "+tB);var Bj=Ns(17,K,9),oU=(v("goog-control",(d3[Bj]=tB,3),function(){return new K(null)}),function(){return Bm.call(this,14,8)}),zr=(R(33,(X(3,2,oU,iv),oU)),function(d,u,J){return U.call(this,12,u,d,J)}),wQ=(v((X(31,2,zr,((oU.prototype.no=aU,oU.prototype.yf=aU,oU.prototype).L=function(d,u,J,T){oU.Z.L.call(this,d,u,J),(T=d.l())&&1==u&&(T.disabled=J)},K)),"goog-button"),6,function(){return new zr(null)}),function(d,u,J,T,H,h,N,t,p,B,z,w,P){try{for(p=0;1414361568!==p;)d=(w=(z=(u<<4|0)^u>>>5,2*(z&u)+~(z&u)-~(z|u))^(t=T[2*(p|0)+3-2*(p|3)+(~p&3)],(p&t)-H-~(p|t)),(d|w)-~d+(~d|w))|0,p=p+2325900175|0,u=(u|0)+((h=(d<<4|0)^d>>>5,(h|d)-~(h&d)-H)^(B=T[p>>>11&3],-~B-~(p|B)+(~p&B)+2*(p|~B)))|0;return[d>>>24,d>>J&255,(N=d>>8,-255+(N|255)-~(N&255)+(~N|255)),512+~(d|255)-(~d^255)+2*(d|-256),u>>>24,u>>J&255,(P=u>>8,-~P+(~P^255)+(~P&255)),u&255]}catch(E){throw E;}}),M5=function(d,u,J,T,H,h,N,t){for(t=(T=(N=k((h={},J)),h.PZ=k(J),h.h=[],J.M==J?(k(J)|u)-d:1),H=k(J),u);t<T;t++)h.h.push(k(J));for(h.eD=x(J,N);T--;)h.h[T]=x(J,h.h[T]);return h.DT=x(J,H),h},W=function(d,u,J){if(91==u||4==u)if(d.Y[u])d.Y[u][d.v](J);else d.Y[u]=d.m_(J);else if(36!=u&&101!=u&&44!=u&&69!=u&&92!=u||!d.Y[u])d.Y[u]=d.Xd(u,J);248==u&&CI(91,8,d,7)},x=((A.prototype.He=function(){return k(this)},A).prototype.fo=false,A.prototype.J5=function(d,u,J,T,H,h,N,t){try{t=d[((u|0)+2)%3],d[u]=(N=(h=d[u],T=d[(~u-3*~(u|1)+(~u^1)+(u|-2))%3],-1-(~h&T)-(~h|T))-(t|0),H=1==u?t<<J:t>>>J,(N|H)+~(N&H)- -1)}catch(p){throw p;}},function(d,u,J,T,H,h){if(void 0===(h=d.Y[u],h))throw[Pj,30,u];return h(3570*(((H=((H=((H=((H=((H=J=(T=(H=u|0,(H*H|0)%1670)|0,((T*T|0)%1670|0)*H|0)%1670|0,H*H)|0)%1670|0,H*H)|0)%1670|0,H)*H|0)%1670|0,H*H)|0)%1670|0,((H*H|0)%1670|0)*J)|0)%1670|0))}),yB=function(d,u,J,T,H,h,N,t,p,B){if(T.vZ=false,t=u[d],t==VB)T.hr=25,T.$(u);else if(t==xl){h=u[1];try{H=T.H||T.$(u)}catch(z){q("~",T,z,78),H=T.H}h(H)}else if(t==qs)T.$(u);else if(t==jS)T.$(u);else if(t==Dn){try{for(N=d;N<T.lj.length;N++)try{p=T.lj[N],p[d][p[1]](p[2])}catch(z){}}catch(z){}(0,u[1])(function(z,w){T.TZ(z,true,w)},(T.lj=[],function(z){f(3,d,(z=!T.J.length,T),[fL]),z&&mp(66,254,T,false,true)}))}else{if(t==nI)return B=u[2],W(T,J,u[6]),W(T,25,B),T.$(u);t==fL?(T.Y=null,T.B=[],T.bj=[]):t==$B&&"loading"===O.document.readyState&&(T.T=function(z,w,P){O.document.addEventListener("DOMContentLoaded",(w=function(){P||(P=true,z())},P=false,w),ob),O.addEventListener("load",w,ob)})}},Dn=[],$B=(A.prototype.xZ=(S=A.prototype,A.prototype.NJ=function(d,u){return vm.call(this,u,5,d)},function(d,u,J,T,H){if(3==d.length){for(H=0;3>H;H++)u[H]+=d[H];for(J=0,T=[13,8,13,12,16,5,3,10,15];9>J;J++)u[3](u,J%3,T[J])}}),[]),ob=!(A.prototype.Lm=(A.prototype.TZ=function(d,u,J,T,H,h){return b.call(this,254,10,d,u,J,T,H,h)},void 0),1),EO=function(d,u,J,T,H,h,N,t,p,B){if(p=(H=((t=x(((N=void 0,T)&&T[0]===Pj&&(d=T[1],N=T[2],T=void 0),u),69),0==t.length)&&(h=x(u,4)>>3,t.push(d,h>>8&255,h&255),void 0!=N&&t.push((N|0)+(~N^255)-(N|-256))),""),T&&(T.message&&(H+=T.message),T.stack&&(H+=J+T.stack)),x)(u,109),3<p){u.M=(B=(H=sw(240,(p-=(H=H.slice(0,(p|0)-3),(H.length|0)+3),2),H.replace(/\\r\\n/g,"\\n")),u.M),u);try{a(101,u,L(H.length,2).concat(H),195)}finally{u.M=B}}W(u,109,p)},L=function(d,u,J,T,H){for(J=(u|0)-1,T=[];0<=J;J--)T[(u|0)-1-(J|0)]=(H=d>>8*J,255-~(H&255)+-256);return T},jS=[],YB=(S.Km=function(d,u,J,T,H,h,N,t){return Gm.call(this,10,10,d,u,J,T,H,h,N,t)},function(d,u,J,T,H){return(gQ(0,d,((H=x(u,T),u).B&&H<u.o?(W(u,T,u.o),UO(T,J,u)):W(u,T,J),u),false,true),W(u,T,H),x)(u,25)}),D,eJ=function(d,u,J,T,H){if("object"==(T=typeof u,T))if(u){if(u instanceof Array)return J;if(u instanceof Object)return T;if("[object Window]"==(H=Object.prototype.toString.call(u),H))return"object";if("[object Array]"==H||"number"==typeof u.length&&"undefined"!=typeof u.splice&&"undefined"!=typeof u.propertyIsEnumerable&&!u.propertyIsEnumerable("splice"))return J;if("[object Function]"==H||"undefined"!=typeof u.call&&"undefined"!=typeof u.propertyIsEnumerable&&!u.propertyIsEnumerable(d))return"function"}else return"null";else if("function"==T&&"undefined"==typeof u.call)return"object";return T},UO=function(d,u,J){((J.cZ.push(J.Y.slice()),J.Y)[d]=void 0,W)(J,d,u)},qs=[],k=(S.g=(window.performance||{}).now?function(){return this.YZ+window.performance.now()}:function(){return+new Date},S.nm=function(d,u,J,T){return Gm.call(this,10,7,d,u,J,T)},function(d,u,J,T,H,h){if(d.X)return CL(d.U,d);return(T=(h=x(d,91),h>>3),H=Yl(2,3,d,h),d.s!=T>>3)&&(d.s=T>>3,u=x(d,248),d.zZ=wQ(d.I,d.s,16,[0,0,u[1],u[2]],1)),H^d.zZ[J=d[xl].length,(T|J)-2*~(T&J)+~T+~J]}),Yl=function(d,u,J,T){if(T>=J.o)throw[Pj,31];return(W(J,91,-2*~(T&8)+u*(T^8)+d*(~T^8)),J.B)[T>>u]},Ow=(A.prototype.v=(S.XK=function(d,u,J,T,H,h,N,t){return V.call(this,7,d,u,J,T,H,h,N,t)},"toString"),function(d,u,J,T,H,h){for(u.Jr=(u.gQ=((u.X=(u.t5=cj,void 0),u.bj=[],u.vZ=false,u).qJ=(u.U=void 0,(H=0,u.Lo=0,u.Xd=function(N,t,p,B,z,w){return CI.call(this,N,t,p,13,B,z,w)},h=[],u.m_=function(N,t,p){return vm.call(this,t,12,N,p)},u.Cm=(u.hr=25,rQ),u).T=null,0),0),1);128>H;H++)h[H]=String.fromCharCode(H);f(35,((f(18,0,u,((u.o=((((u.MJ=(((new zr((u.J=(((((((((((((u.YZ=(T=((u.Y=(u.M=u,u.lj=[],u.QK=function(N){return Gm.call(this,10,8,N)},[]),W(u,91,0),W(u,4,0),W(u,15,function(N,t,p){(t=(p=k(N),k(N)),W)(N,t,""+x(N,p))}),W)(u,231,0),window.performance)||{},T.timeOrigin)||(T.timing||{}).navigationStart||0,W(u,163,function(N,t,p,B,z){(t=(B=(p=k(N),z=k(N),x(N,p)),x(N,z)),W)(N,z,t+B)}),W(u,44,[]),W)(u,101,u.NJ(4)),W(u,182,function(N,t,p){p=(t=k(N),x(N,t)),p[0].removeEventListener(p[1],p[2],false)}),W(u,74,function(N,t,p,B,z,w,P,E,g,Y,C,r,c,m,Q,y,I,g3){for(c=(p=(Q=(g=(z=w=(g3=k(N),0),function(G,Z,e,l){for(;z<G;)w|=k(N)<<z,z+=8;return w>>=(z-=G,Z=(l=(e=1<<G,1+2*(e&-2)+(~e^1)),(w|l)-(w&~l)-(~w&l)),G),Z}),g(3)),-2*~Q+(Q^1)+2*(~Q|1)),g(5)),y=r=0,I=[];r<c;r++)Y=g(1),I.push(Y),y+=Y?0:1;for(m=(C=(B=(-2-(y^1)-2*(~y|1)).toString(2).length,[]),0);m<c;m++)I[m]||(C[m]=g(B));for(P=0;P<c;P++)I[P]&&(C[P]=k(N));for(E=(t=p,[]);t--;)E.push(x(N,k(N)));W(N,g3,function(G,Z,e,l,Hm){for(l=(e=[],Z=[],0);l<c;l++){if(!(Hm=C[l],I)[l]){for(;Hm>=Z.length;)Z.push(k(G));Hm=Z[Hm]}e.push(Hm)}G.X=G.Xd(47,E.slice()),G.U=G.Xd(47,e)})}),W(u,117,function(N,t,p,B){(p=(B=(t=k(N),k(N)),x(N,B)),0!=x(N,t))&&W(N,91,p)}),W(u,79,function(N,t,p,B,z,w,P,E,g,Y,C,r,c){if(!V(29,4,N,true,true)){if("object"==(r=(z=(c=(E=(g=(p=(w=(t=k(N),k(N)),k)(N),k(N)),x)(N,t),x(N,w)),x(N,g)),x(N,p)),eJ)("call",E,"array")){for(Y in B=[],E)B.push(Y);E=B}for(P=(r=(C=0,0)<r?r:1,E.length);C<P;C+=r)c(E.slice(C,(C|0)+(r|0)),z)}}),W)(u,171,function(N,t,p,B,z,w,P){if(p=vm(N,(t=k(N),35),127),B="",N.Y[207])for(w=x(N,207),P=w.length,z=0;p--;)z=((z|0)+(vm(N,19,127)|0))%P,B+=h[w[z]];else for(;p--;)B+=h[k(N)];W(N,t,B)}),W(u,100,function(N,t,p){V(19,4,N,true,false)||(t=k(N),p=k(N),W(N,p,function(B){return eval(B)}(Rb(x(N,t)))))}),W)(u,190,281),W)(u,2,function(N,t){UO(91,(t=x(N,k(N)),t),N)}),u).ra=function(N,t,p,B,z,w,P,E,g,Y,C,r,c,m,Q,y){return CI.call(this,t,N,p,10,B,z,w,P,E,g,Y,C,r,c,m,Q,y)},W)(u,92,[0,0,0]),W(u,35,function(N,t,p,B,z){(p=(B=(t=(z=k(N),k(N)),x(N,z)),eJ("call",B,"array")),W)(N,t,p)}),W)(u,175,function(){}),u).cZ=[],W)(u,52,function(N){N.RV(3)}),W(u,46,function(N){N.RV(4)}),W(u,69,[]),W(u,187,function(N){N.Fd(4)}),W(u,65,function(N,t,p,B,z,w,P,E,g,Y){0!==(g=(P=(p=(B=(t=(Y=k(N),k)(N),k)(N),k(N)),x(N,p)),x(N,B)),z=x(N,Y),w=x(N,t),z)&&(E=ZH(g,2,P,1,11,N,false,z,w),z.addEventListener(w,E,ob),W(N,231,[z,w,E]))}),W(u,36,[106,0,0]),W(u,150,function(N,t,p,B,z,w){(t=(B=(w=(p=k(N),k)(N),k)(N),x(N,p)),z=x(N,w),W)(N,B,+(t==z))}),W(u,51,function(N,t,p,B,z,w){(p=(B=(z=(t=k(N),w=k(N),k(N)),x(N,t)),x(N,w)),W)(N,z,B in p|0)}),W(u,135,0),W(u,149,function(N,t,p,B){t=(B=(p=k(N),k(N)),k)(N),W(N,t,x(N,p)||x(N,B))}),W(u,141,function(N){Xt(N,4)}),W)(u,109,2048),W)(u,25,{}),W(u,132,u),W)(u,29,function(N,t,p,B,z,w){(w=(t=(B=k(N),k(N)),k(N)),N.M)==N&&(p=x(N,w),z=x(N,t),x(N,B)[z]=p,248==B&&(N.s=void 0,2==z&&CI(91,8,N,6)))}),[]),W(u,165,function(N,t,p,B){(t=(p=(B=k(N),k(N)),k(N)),W)(N,t,x(N,B)>>>p)}),"Submit")),W(u,110,function(N,t,p,B,z,w){z=(p=k(N),k)(N),B=k(N),w=x(N,p),t=x(N,z),W(N,B,w[t])}),W)(u,230,function(N,t,p,B,z,w,P,E){z=(t=(E=(B=(w=(P=(p=k(N),k)(N),k(N)),k)(N),x(N,P)),x(N,w)),x)(N,B),W(N,p,ZH(E,2,t,z,5,N,false))}),W(u,6,O),W(u,144,function(N,t,p,B,z,w,P){V(39,4,N,true,false)||(z=M5(1,0,N),w=z.eD,P=z.DT,t=z.h,B=t.length,p=0==B?new P[w]:1==B?new P[w](t[0]):2==B?new P[w](t[0],t[1]):3==B?new P[w](t[0],t[1],t[2]):4==B?new P[w](t[0],t[1],t[2],t[3]):2(),W(N,z.PZ,p))}),W)(u,136,function(N){Xt(N,1)}),false),W(u,83,function(N,t,p,B){if(p=N.cZ.pop()){for(B=k(N);0<B;B--)t=k(N),p[t]=N.Y[t];N.Y=((p[69]=N.Y[69],p)[109]=N.Y[109],p)}else W(N,91,N.o)}),u).aV=false,W)(u,202,function(N,t,p,B,z){for(t=(B=(p=vm(N,3,(z=k(N),127)),0),[]);B<p;B++)t.push(k(N));W(N,z,t)}),W)(u,97,function(N,t){V(24,4,N,true,false)||(t=M5(1,0,N),W(N,t.PZ,t.eD.apply(t.DT,t.h)))}),0),u).B=[],[$B])),f)(18,0,u,[jS,d]),0),u,[Dn,J]),mp(66,254,u,true,true)}),VB=[],Uw=(S.uC=function(){return Tm.call(this,8,5)},[]),Pj={},a=(S.NY=function(){return Gm.call(this,10,3)},function(d,u,J,T,H,h,N,t,p){if(u.M==u)for(N=x(u,d),101==d?(h=function(B,z,w,P,E,g,Y){if(N.WZ!=(Y=(z=N.length,-5-~(z|4))-(~z&4)>>3,Y)){w=[0,0,t[E=(g=Y<<3,(g|4)-(g&(N.WZ=Y,4))-2*(~g&4)),1],t[2]];try{N.IV=wQ(vm(3,16,24,E,N),vm(3,7,24,(E|0)+4,N),16,w,1)}catch(C){throw C;}}N.push((P=N.IV[-~(z|7)-(~z&7)+(~z|7)],2*(P|0)+2*~P-(P|~B)-(~P|B)))},t=x(u,92)):h=function(B){N.push(B)},T&&h(-255+2*(T|255)-2*(T^255)+(~T&255)),H=0,p=J.length;H<p;H++)h(J[H])}),nI=(A.prototype.Eb=void 0,[]),xl=[],CL=function(d,u,J){return J=d(114240).shift(),u.X(114240).length||u.U(114240).length||(u.X=void 0,u.U=void 0),J},IU=O.requestIdleCallback?function(d){requestIdleCallback(function(){d()},{timeout:4})}:O.setImmediate?function(d){setImmediate(d)}:function(d){setTimeout(d,0)},fL=[],gQ=function(d,u,J,T,H,h,N,t,p,B){if(!J.H){J.Lo++;try{for(B=(N=(p=d,5001),h=J.o,void 0);(J.fo||--N)&&(J.X||(p=x(J,91))<h);)try{t=void 0,J.X?B=CL(J.X,J):(W(J,4,p),t=k(J),B=x(J,t)),B&&B.call?B(J):EO(d,J,":",[Pj,21,t]),J.vZ=H,V(9,4,J,T,T)}catch(z){x(J,190)?EO(22,J,":",z):W(J,190,z)}N||EO(d,J,":",[Pj,33])}catch(z){try{EO(22,J,":",z)}catch(w){q(u,J,w,10)}}J.Lo--}},Ft=(A.prototype.$=function(d,u){return u={},d={},function(J,T,H,h,N,t,p,B,z,w,P,E,g,Y,C,r,c,m,Q,y,I,g3,G,Z,e,l){Y=u,u=d;try{if(r=J[0],r==Uw)return Y==d?29:95;if(r==jS){g3=J[1];try{for(G=(T=(l=atob(g3),[]),e=0);G<l.length;G++)w=l.charCodeAt(G),255<w&&(T[e++]=-~(w&255)+(w&-256)+(~w|255),w>>=8),T[e++]=w;W(this,(this.B=T,this.o=this.B.length<<3,248),[0,0,0])}catch(Hm){EO(17,this,":",Hm);return}gQ(0,"~",this,false,true)}else if(r==VB)J[1].push(x(this,44).length,x(this,101).length,x(this,36).length,x(this,109)),W(this,25,J[2]),this.Y[114]&&YB("~",this,x(this,114),91);else{if(r==xl){this.M=(h=(H=L((x(this,(y=J[2],36)).length|0)+2,2),this).M,this);try{p=x(this,69),0<p.length&&a(36,this,L(p.length,2).concat(p),192),a(36,this,L(this.Jr,1),167),a(36,this,L(this[xl].length,1)),C=0,P=x(this,101),C-=(t=x(this,36).length,-6-3*~(t|5)-(~t&5)+2*(~t|5)),C+=(c=x(this,135),(c|0)+2047-(c|2047)),4<P.length&&(C-=(B=P.length,-2*~(B&3)+-2+(B^3))),0<C&&a(36,this,L(C,2).concat(this.NJ(C)),197),4<P.length&&a(36,this,L(P.length,2).concat(P),86)}finally{this.M=h}if(I=this.NJ(2).concat(x(this,36)),I[1]=(Z=I[0],-1-(Z&-205)-2*(~Z^204)+(Z|-205)),I[3]=I[1]^H[0],I[4]=(N=I[1],z=H[1],~(N&z)-~N+(~N&z)),g=this.UF(I))g="<"+g;else for(Q=0,g="";Q<I.length;Q++)E=I[Q][this.v](16),1==E.length&&(E="0"+E),g+=E;return(((x(this,(m=g,44)).length=y.shift(),x(this,101)).length=y.shift(),x)(this,36).length=y.shift(),W)(this,109,y.shift()),m}if(r==qs)YB("~",this,J[1],91);else if(r==nI)return YB("~",this,J[1],91)}}finally{u=Y}}}(),function(d,u,J,T,H,h,N,t,p,B){for(;N.J.length;){t=(N.T=null,N).J.pop();try{B=yB(H,t,u,N)}catch(z){q(h,N,z,61)}if(T&&N.T){(p=N.T,p)(function(){mp(d,J,N,true,true)});break}}return B}),cj,mp=(A.prototype.UF=function(d,u,J,T,H){return F.call(this,3,d,u,J,T,H)},cj=function(d,u,J){return u=k(d),J=k(d),(J|0)-(u&J)+(u&~J)},A.prototype.RV=function(d,u,J,T,H,h){return ZH.call(this,T,u,J,H,3,h,d)},function(d,u,J,T,H,h,N,t){if(J.J.length){(J.aV=(J.MJ&&0(),H),J).MJ=true;try{t=J.g(),J.HZ=t,J.oV=t,J.dQ=0,h=Ft(66,d,254,H,0,"~",J),N=J.g()-J.HZ,J.qJ+=N,N<(T?0:10)||0>=J.hr--||(N=Math.floor(N),J.bj.push(N<=u?N:254))}finally{J.MJ=false}return h}}),rQ,Xt=(rQ=(A.prototype[Dn]=[0,0,1,1,0,1,1],/./),A.prototype.Fd=function(d,u,J,T,H){for(J=(u=k(this),0);0<d;d--)J=(T=J<<8,H=k(this),-~T+2*(~T&H)+(T|~H));W(this,u,J)},function(d,u,J,T){(J=k(d),T=k(d),a)(T,d,L(x(d,J),u))}),Rb=function(d,u){return(u=Aa("tl",null,"error"))&&1===d.eval(u.createScript("1"))?function(J){return u.createScript(J)}:function(J){return""+J}}((A.bind&&(cj[A.prototype.v]=jS.pop.bind(A.prototype[VB]),rQ[A.prototype.v]=jS.pop.bind(A.prototype[VB])),O));(40<(D=O.watchbell||(O.watchbell={}),D.m)||(D.m=41,D.tl=kl,D.a=Fe),D).RdT_=function(d,u,J){return[(J=new A(d,u),function(T){return Ew(5,8,false,T,J)})]};try{D.u||(O.addEventListener("unload",function(){},ob),D.u=1)}catch(d){}try{O.addEventListener("test",null,Object.defineProperty({},"passive",{get:function(){ob={passive:true}}}))}catch(d){};}).call(this);'));}).call(this);</script>
  <script type="text/javascript" nonce="fdv8jl1GnPwLaiMLgpK4zg">
  document.bg = new watchbell.tl('RdTb+yafTzczXNfWFNbTMEWHpXijjrdsANw+5SB32Ydh0os9RQGYyq/Bwe1Z65tQBEot5JfCm3zBIXvAm/0CXJHAIWIXJOO2CxmtfaBu4kM/tSSGa4SAC2d5hvflymh5L/qvfGPcn2s2sAH7fGIiYhTC+zvgVhCjxfjcTSPsMV+eS4tG8vFXm8VTVm6JnxAzsSeDkdtqRt+Cj2hIUcVm/drM7YUeQr+9nejQxSaG+0jHoH1A7ywA2yE6fl09/HPZP/GFJ1FWWH4BQwmlezTvaiG+BIJhPVjhKAl7r1X44CVT62whaH8VQhFFe6vAHFAVT0L4jgSCRjCURAvMATXZqNX5d/5HGtb3cbld45zfOny2/X8NBkhjlny94QZgHB3TyjCceNzmTkyXLDBuWF8H3ou+446INn+rmGUgH1ylc2mjK/9VxOm+qXrL/D5lEAsOs0X8NeLUIb0EtEEsQNhUsSVieXatUl+srZrrbvs8kcoO5KeitpYjbsk2rMJSwts0uEflXq5m5vmavJXwkBZkQxdqrrEmYRORIs7yNVFEDfilm7+R1kclGkPmrp48ISgxhmfm9q3F0pKnW2G+MNhm8QWIyBHzow9cGMoEq6nhbWczIq7Nnyl7iXBBPe0525ITY/kLD27XFMrx2iyiiLzGNdk84D0VXDomT+VM0EUKNJc8KZOKe3E8tvJa+TJpoDN8G5yINdVfAOE0r+V8VXKZ2bTKgprO+ogDtRwn/z4lUxEVZiDpPAzs4JjU5dYERlVk2yA+ztpZ1XUlWWBbmnW36qm2WJ1fA0oeNuj0beCEjHSw3c0e5XVba+oSnsk3q4h3iw3QzU4bnbj5OvhwcwXd72ds3dBpZSZnkahgfCYjwAIVNo3zM++0FU/KEWMS6M7Oq7Eg1KRT+nsfHtQJegaPJ9rmZNSzZFi9HK+WuiO2I/MzynLb20uWwsA4NaGUtPuOmb2GL5lkImyWeqJppy0Hs2fPtuMK+DxEA+wuAXSKI2ZoDf7KHyvpsPiTAySR5jFxPoSQjtrJoUZEMxPsoWlnOHrLWWP9fdCdeRtmJveJ3AHlf/QYf2q5kqoLVmKf7w1SAlhChisGxrjl3p/EBwi2qQ0CxazGh386l2sTtYEtaCFJKpL63A/e77itsArMgpPOyQwwdOClqvUrl92zxZ9npW011Wr7Peq1/dQr7EAN7eVEgkyADsefka3CaWJ6iaWXD6MYNztrR6fw60/bpyL3LVCfLpTnhIiC1mWU5my5sMM11QVIa9/6aJrsI108lo9odxq0s84E5gkAXKGjbqMl5ZMCWca0XC96CiQSg5Kgf4xcCV8mQwDKFuSFnZlvKxZzhVK/q3d7vM387S66625xZOu3yCiXGSdkGLkyfJCWHubCTJDmFypjXObagbpmU3NbOst+wWsUGZTpUsp5aywxPdUu6Hbc0HBUW+aVhi5ywEpfP/U/sVRMeCVwGvU2JC7MyM159vz1Vs5Gb5r0g0NFeUiJr9z8IPqbpDDmGqbfgEskj8xYmaNzLk80WjAphiln7ZYao2cHo8Dr+IQ8IqoQHntNREl6eD5iR1M9Fi2Sp+NFNioin7LVMPkkmLPwCgPrEGE8R9iKucnTllZHoUhwgMKZ4DpPPewndeyLX0jeq1sN4MauYjDMA5//K59nLDPUE4KSO1ZTIGp7o8ohdCu0122tycv9Dg6RA9yBD6+pke4reU9MNFSGaKibebPDQ7XZPGdLrtXOjjR2N05VjDd7OaZ/8yvoVNem12O6I5cPZCUnme6OHaQRxWKQmiStOqRMQDAXP5G0hvxCqXVi2OElzysBE5f3SFJt4iTPXKVy0L26nXFKU8zdjkoOlp4qomT5DdfOTo1jhJNz5Tx3TpKkAxEYrnRshxUthVsCvFikEPuVEtBE9T4PxxCzULfaQ4Jvj+Ld3Iw/PA7wGSXmEreEUI5NAnLmnyxzB3iNF345Krf9ixXDDybZr2P5KgCD+X+749ELN81/HK+w4tuGj/eby7SUdqphvKYoZly7UwVcWVQkDUOtJB5k0wztoh88IUAAuc+PcBH8eOVKI3BHj9HXlhFAN3zWoFgcPNmNvBlPL25gS7Z/9sI0cIoyrVRVjgYlNY/6rW0yRDU0qbI2Jk+8/k4tdrcJpnyq5dSVN9W08nEnbHUPJa0zY3BBchCXe/DqhC26YhubmIZTTjwuTz7zsmnx4B7I6PMPhEts2tsCqDduZF83k8GgzcbRzDKaL3xGDb0OXEJuheuNESzGH+yomm1RwgLgqV+Qz4eiFt8JlvVrPz9Bpk762PE2/kTlm/0sBgda1uzxLUg/bQryx4fZ56hiRdA+2/Iiyt4YSJV6Sd6/rXbVQ7hb1ReSi+NDqKf4f687K5uDE4lNceCUbcMmxhGGAmNRWzXhfuOPgTyIY0FhvtoIVVCcScxXBcGgd72QL/bQRNYP7lWU5CwHBj0pYP892C0eUzKkEn6huZnxViD5gzii9UWW5B7HQRtDM2VnFjXPOkyaoXwIq7gvQBTo5ZUg282H93SzhKv5lTivBzgZbWqTn17YrweNV7eO9tpzQ6wh8XzwF3BgGHbeArwRGxopj1Jv9kSvnx8EWql6WLwLpjonbQepUoOWiE14BiiGzPT3regXCVjlbwA769rJOz+cOhh3eAkmPSYW3QhHaz62Md+O85trlXKIO8xOsTCXXlYuB49Mj2+bx6Q4KR27uJ8e/1kg1eDcHY00uYSWcIYX07+7cwRtEgAgui0WJpI6FX7LusLkd/zfZ7Pjt/BWHQ+l6rlmnRumJJOJsQr+Hgm3melhMGLkMch2ERF7Le2qVcex+Ku/rQoWVtuw7ALm/JR+HDzmiQ5mHc6wQoqYCjWtZY7jdm1+XXU5YnUEvO3YAyTK7bagHd0HrdKlUeHadpSCSSDYWTYoggReYloHaskc/bZl9kzzZPDoolIiJZeqMPmuvXls5C8ZUty2oacpw+yoW9nam1EeFOEuswHgXcuqylTazY5aCK06OCgONU2SCtjPB4yQJFiCiQPJ1okMxVv3LrK2f/hLAAnO7hUsxB8oY29dunrcJ1U6B5XePpGPHrXi07VTYppRcOHpAprG7xFiURS1D5edgyXHkadbjqvg391337buFSvH9GCFsEA28grDdAGmLitQEU/abSfZHi3Q9jlCah+skNYPHCs/VO38ZHaZ/pFis0ULtsA9ANEW49mkwCxtiDiSgCSBFlZ8unyOC0f4M2S35oa4buv5GW08gk0TW6zn6RaSRM6PTo0KaI5wS+4o6tZCW/cHsL/Vh6t+bg12/EP/hh8tril+OCJD/6MYhI/xdK35wZXQ5ffTPezvryQERtEocnQmLestxmjDD/BkeP9CMW2jbYTH+ohsRDCTRsyQYWV8Rhme4BTRNMoGgjzU2Es3koFpdXknJ54bmuI2Mr73a87IxJa4Yh10F5fVO7C7tS/5bovs0xHHUn82BH9B3e7O/9QjeVpCGiY9kCGhcVfWDq8mrZWK0wbdKzUCu/sNWJPaeD4UOc6oWnbZMyVl36YsFcd3auw4psEwmNX0Ash8QZJmUQpztMYNivX4t6mSU+h7cOUBtlgTK3XvlLmzBbQi2O+x3ugqKvGNXmKujzvdg+vWAIrd1HpkMDnEyol604wRCGI6d0uupCPYOA9fdjDsWQNm2a3RxTRMJVotbqJl5wxc/3TEqXgMwt/T9XGuqVYESOzYb7MEnjy/U5L8ok/6NjJyXdlGPiOK2+hvYg9tW9CYsiwaQIWuitoxNa85QmWUTVBbPIj/rTRXZpma+lwI2PNpjcOXvRFcTT+6SmhnVG3TRzXggdhrvOkHYfi6aICetILLhGTwWVCIB0ynDiE56GBF/E/QG2nxjF656pwRLNopIytMaARiMuzCD0l+Q1ewSnau8qY0aqhXCobYrhlHw2sHSWRq+NjlcrL2tCW5C3NVHHYbOGcVY6JvTXPDI+fdNG3pmwi5+ki3XedcEKTGiKv4yQYyqYwmXCH7T0qJa6zzd+caqzTomGUsZG1/KwIQ6bnQv0HdLKmym9IJkJdwqRPc6uHnwh7dQ9AM8SDInojMA72esOjF9gpw3XElYuKEDWmXFB+NDr7a2s5P9OMN83H42D4QAU3iSf0knLaB1PdsY78flBci8oJ/TA1D9H2N67gBptHgYIzdwqxibqlmcOGRJjNXWynagInS2Ge98Dt5VHIh76MrfO0ivX0DO8TvmGrHrHeW9Gstp0A+3w2cPQexaFhYYSvJvauYYdP//o3WizhRB4a7Yanr/4Gfe32HANQ6/CsAooFKwCDyz4H/l5W/MrHfl1KrUqtdh6ox/n6A3r5mYmGSFL03p8GhrqKPCiRT/fLRwNjLras2zDWkXSjsb98ADHn2ee8CwwAqPoul9kBKWl8d00CggVzVFo1VXHFY8eoLxx3Tvn4nTgO7Lh+iEGK7PPadI6t+05LRv+vW/KzeHyD06J7oVAhphX0PwTLUAlOFY5JQ7OU3JKsuEfURQc+Zb+dl2aL2I0sAjyTivmGWqTUMHVDru1XnD7OLJy1dFbfCXsIPo5ziQwhgjSTwIX1RqNqKs8+Jst7SRecByloMFRjZpNB4OzuaddAMqmHHHj1L0zI7QugIyALLsz/gEYlixYLEQCTRl0o5OkBCM3L2FXc9JcGFbKgiYZAYuH8iDYx+3PR1qbreJaxGbTcOwxbKroBx65AG/OCIMAzi2XlGga3yGYgtrCAosIj+xnrMlj2Ap9MHpNXW9grP6VTD7Nv3ZBV6iJzsDq2frgd2hL2cIEQBDBg+RS+BJ1AiwNTduxNH321Y5Wp3PUiVE20tsP+ZE9D6zFtzYEq6n75uxKyreFuPXBXcLQOxdrHaY/DYXJVcGVV+Df9/NAunR7lcC2peC8Tukie+akUtOz7XShylpO5q+56e8fCxSnUHIdM9fpfxsp32AEswV69imPxyfTvwzR3ohiaCbdiH11QJheTp2NvllUiGwrl6c1//pcIK5Cw9opLhCCJqPE7XiKYVLSp2UXH3U2TRsIHRyDmcADZZoDiOgPWA+gX8QxU0+qxaY8DGiAzF/uhY+BAHBT/Xp/QfFumkWd8aWSYXzmnLEnKjcrAYTS2lL6SDokVuBzReeJaBBGU7mGqww5/6ERSNye0hjyOCfc6FQSE6n8ZMOKsD3BFquRdbS5bC/tBK9UfIqXLAmbim5TWLPhQXOw75bFSb07t03jPbw/j44suGpGj9uNoMkcNNtsLdgLT5wW4qJYdjCPVQ+SRslWMrajPKdMXPjgpg8DmbFO6y4YQTOBJnKP9q4kfts3jAycJcGvqu/cRTmczi9ylT5tDbm0tZaRFZ123MxRmW97A8MQpqyu9d6db/NuCteBfq2z5+n7cxPoaGw4oTJKwc/wCO+yIn7CbN0ZCkDxNtW8PcsFVZ3hxQR/TDBGUyKvz0NFei3o0hPu70eSWWfs3eTmtTco8ffy+cnE/ftdexLWtBjHqLDIIxC48/iBt5L23o5Oa7bENZWMa+Cg10G00ePqRtCCkikCyWhtpN/uZtMVxq2ZIYL6o7zIRo3rgSq8QKG3vm41P/jffW7wb3NnSj8KdaShdQ6qyLMn2XQQzrMt/4cixQoMMif8Huf6WjqvzqYBgI55M28XbNdCtFflQrCUzmMdGTo785z2cA98dKDxiJbQsRhn9m9nATuAEe5El4bTPn4uX8qIR/JgZMA95SVl1++9Cxzc2J2u7wTtTCeS+qB4+JjBZUpJdn4B88CMu7ycvYmlfP1RXvxLsso5nGbwFN/FMCxp7jeXeF5lxcVm3b60qIRZ4d8u0hkBPmuioJ6kUp6vTkz6KNqmZ2Wp9EMLZXrTIvBuIUawGXIo0UcgK+bAD9zD+zivVILM3pbN+ZCwGwNe0isjFd6BLmXO4iezoXUz1HW/qvGpBVKzIQg05AmMrm0WNurlknzCAEasijEi7x8+xw5Sg1tBGMYpmNNywUpPaY7OeffugX4SE1fbfyv01bLeWl6QGPWgsJ/msU9iY/Lryn1uSlyvLMn9nVcHY/WCl7LQfSb7aP+PQmY3Wzqq8L31/8aRwD/jwUAuPc+8rarNTqnOSvK3kJAS38kROhmbDKr7x9ZTVeXSE3sBiDT1b64noYMt03VH68eGhILFfJoDmpNqsi4F2d4QVh7gQR/sBX04r/7bAz64dYPpl4+KXE6O0Qiog35dYzbbER2eN+lY8d+TUlWzAanfQsQcmKJMZtj/JVmVYiJgDGc1TeeW+w0QyOjsYU4ZCsIU997hRPIWvRkKBAA8nGBMRtcsmBmE889CmYHTIotz5Wpg5S4fgp3656TgbCPmI8s3mfJJqx0M/tBIKPo20vsHhwrj3l+VfdYSJcLiuisg3h/WPGPjY814eXvvTZDIbRyuwHpN98vUdmB53A/lFhWvKwzlbEHEjlunazHmE3Ix7fmSuJWPlrkkkfoUDld5I3zCgSWHEGQmCVYn8pNJQcqSrN6XYkiYxpLubT4plHakq3o0KYva1Vw35EF+buWpwA3xrhCwGdknRypevRu2o7gR3KFxpIcCxcRxrWopcS+JvBq5TGUa9D3mlQgCsBOLN0gK1SeKQDUEVRLnLNyBg378p2qGs1UXA/9GBpYIQeMh8Qt2qFYE+oQRjbjcHAl7zmOmlV18l1Xi81JHDBYExer7b0RqDVqJKFPuhpZzUqp8ENV/N6MhZ2YEZb4FDqYCwxQmJnnCn2AwOihTvwc15awJwWxnLzHI6Y8/rd4E8l7SZ7Vnvtgz0VCFyGzeTyy1Z+aLbDENw+RL3eeNum7IZNIe0qssQOklk2WK0OuGbs40SV4Rr+DYJ6Dv/AhaOPkFNnElK6s6iJ1quLs3izIs7fCAqiVnUnJzduSK6Xfxxaiul/4lq/z9kHqVg9HNaDbDIxWPlmOBQ31tZ7VDhCwPG0hnJYDam4tTfIz+hZNyKSuNC64XpXkdRDG0oaf4hr4qDS2EqlQKYLEKOgImoICVDnEMfuZEPkpF3GMCXEoaUMCSk/QaPt8D72SI/4jw3ot85NpjqMY47eOzyopj5lML4pp8ni5DizIR3PWmVHSPkQ0IThEPaTT/KeU0lY347ZmwZpA3+q/GmC1MHnMFzapIvmddYZevIVCETqNo4qSKeEExdDdgFDK2y7nTXPylQ4W8EgllvqkmmNkS8EF9CHnTxrgtF12g98C6PXHAE5LUoAl+aKJo1S1QA8RnoIA54iZ9M8LCMYbSgzwnaqKCMyH9Pa1uue+miwIOvwzriLVsYUrne00faSBGY4ua/qFrCxwuB7Bx1zAKa9hiYXstEP90UWx0cqx9hpis9GV0LbS5Qp8oXeJJCXqPv7mQ6G8DSS+THh1xREw40zUYuKb0N9CMDskPtLhEkKA3tv9uPmWEDMjwJmd4DvaN4OfXW+emcJpiB8wFPDM/EDtUoidlQKp348JlZpLwrxnpTxDF3RfYlZmxCjyjLD8oav1E+5t7W/aljdAn83YJoAyY9npzF8sd43NzeTO7yl5pAmE/YXKL0nXVmPuwoCexWgiO+dF51kZygd2OxVfqQLlDNyNhAo8QPPLgHywr/blhuoQKY3zysYXeHEywW38ngNcAqhkulTTyjsjtWaUqJPQfjBXOBM+sGixzxMQKR87QoPNPzmTSPPrFIwNh22jcd7rHs6cfur3qDxk1sNTuuLTT0iYePuMWkLi/9fGzrDq46CqVPCdVrdHGF4IRGztrxrs7osmXdE4ptD2BuVYuyh5b7vey81cz2/sAELT6fwkitvw+iID9rrYMLMWE6xp1PaGEckk5KbUmIecZTTA1Njm+7K3wuYVOjT4kdp9LmTOLDFXz4h8U8G7nCNDGD6xmu7AwajSqhyunqvVzPz87Ct3Y+RMbX2QhER8W+iWmPLboqGL0jR66Nms0L6RSW9DP2YkPQH8AliOqu+H4RG/ExRqdI1yUZMxscWkM+XJFXzv7WnLAtwPrtcdm5Ja/UZslBCDn/hQpXGyYTeWNIZE5Onz/1wY+orx6dcHxNzptFbdpPvss6KvPoPevw/kpSh0MSVMP5xFPrhL8CoDOFzWJ8HRA6a6pPbyVYubGTTqITj63Gxe1a9BGByMkl+vDaHZyiLbJQYMWgn3XfBb/tWJAp0qIw7sJ8WL/wSdmd8dDrElHxLXyOFMZOoFkfQ+Ek5wdK4vje/lYqYdex1UWNqrCJBq8938g81G8pH28oFAWqMMsBzM14h7vFZH28CSGtuibuS/G75KwSAUw7mUhMPx1fijp3/OKpi7+U4HpczGLf0+qF464dR+1B4AV677iQndv1QaAI+IhXUmObxq36qAHdD/85uLxIw9zHy/+uraUa6Tr//1Y4U2s1ZrIQ0c6sQ0ODAdzrWwR9nbN8diaVGQZQNEs+ctB/qNRh0pyZ9DQPR+fcH75em9Z+15qFijrYm+Gs0QS8MNidZSqgNOgUiETyZt710H6M00VNG4O+EJXCl8SjbcS+oaD7795dwV1QoQE0eF/pllSNua9NvkcH8hvZ6hKEno3eNHFYVntDuTjDx4ObFM5tiisoaR7nU6RKMChQlHHWGrfLFJhIDR1JSWiCmfXqldMC6UhNQqCSSBRDZFg9SDPhsUYIRKAE4m9I99HkCm3ANP8R/KtUsPbCUfQj/L/MrDaESZPKxdZbpSINUf2t29Ghr/kLoovZFr5YQ9B4pV3Rf9HGVSN6+vZkkivnHItldhT0sa+1670YdSM6WXZZyYu/IuweAmSn0tNSpePMQ1k62AZshqrQDIpCwdKj6QjWrAUGOupjuhr31UAKTdD/qP+HAdzdGeW0fnJwJ6K1XyfO4ujDurCgH19qC/3n66nbpzBmvmZy4ufUQv5YcQmU6HvvZ4vwyUfjQEgMIM2jyR5hPAf+hGKK/HfrCDzOXYEY7fI4t5XnIDmB/JpgdDXTntCW5jn8bG/P38U65glRJ+w9AM5cP7+woimdxB9ozDDB9u/4Pv0B0hVghi860bSypBtiE9gNYKlRmh0FpsHjQXCW2AH2zIiPCIhdK6DFYkzbFOsgpbLbCf7u3F8bsqV0EvBKYUt//AjykiaRu+MjQvaIhtVHrXr+AVfIfzV25Dv9iyFv8CH9qEvgjNtSPg5NQMWe2ZQRMQT2RV02Vvw93lZHpg8B3LKLkz4TDCNxYDICpQp7Wm71DIMXcXRdKURwkURSf53eMpazI8SxJMc0DKKB5hOjypM3am02+polQTkUH5tpk2Na0hr7flLU0Wi6yqEbrWLf0rZW/e+jglOq/EMuE+C3MTcwh1JCoDqRp0nr+XMnG4L8vLbruFlBfCJgmhZ5Af25ME1xUkveEdhlfTd54r3JTaWUl/W+y47y4jeXofRjc26O8YbQbR/lvmMqY1Bq2itQXhFykR31XfX/xJpl/grOf86qYT3nCLt6CKMbKF+T+RP1CgSq5mAcrDf5SjextjTmCazmSgcgzE6b3XrFOfQv7Y+n5i2tp9eezrRk1USASrtL4PfuM8JT7FCG8+0tF8ymiFIqPt5mJOC3GglvYDeeFn2RPNsHTh7guUdqqC1RYjwKeS6OdVB3wBM+3QRlmH6tVQET0Z8E6KNNVKMmPTJ43KETYX5ra1NsPngdrgUaxObHDpXWNSNOSa96IxcoiSKjjpr8XMu5GFOclI59oTKh41iwLioN5MC+zCKLJtODsT3l/I4Z1VdnnHDyUK9AeV8waKvwBRjexjOAHP19Myb9zWe1ZdB2wEjTlMiRCOlORJQj2xOrD4CRFMOM64miWCW2o25MaJ6BtCdEFBiDTrX4DAlIbjIqi9gpY2aT9KAuzYLWAJn8arGQ60DZbi24VenOT96seVWol0D4dPEV4a7dbhCiIYcjXUaec5kkKDUINb41Q017BgM5WqeUHq1SPSftt/rz5kio64KwY2KffXK8yPJjEOySz5IqmE64ZFwBkA7oV6mFo/p6llgZPcwjdrMGuhZuHNPiBNkVIbw6+YI17YlJg1XdhJW3MBqAOcRuIG8kkpBXpGqsnTvkG07fMPDYI6my7hVb9aBC+hciWGr0ZHp96G66P8QzFK+ejS8Tdx0U3vh2TH/Ul3yn/NDdj3cUrKnFyTbQi6u3vMp76AxPaqHk2LsvEHgrVExdHRiLiyDbe1aMNCsTCGafgSFXNASSbO6KESt47s0yOeEn01rQ9+TUB5U/v3l777Eee5ufTfrPZcKOXGsdHxqiZohkupgf8/vRWPvm5TsMZ5qimHqgsuPHpxLxEa9MMuP9yo24++DTe0f7AgIlRjgL2luI7hGXmQK8D+dn/t4IkPKROoDVnbXK88ypyvUOzGRZbsfrjlkeksexgsqqXK0rU1ZUmXGi6HnVbmEbs3gwb//9Ryx+G8F/BrU+JG/9XMox5j8uNLV0WsMrUSKCv7n19J0pZrKsZaD/zc6ywjFUy2YkS/No4rFgzbyKz0kESi25wKDpukmMIjIfls0nff9qzTI28nw2/GAlUGRw0fzPbNoeaS3vxGz2oDgNXB0aGbSzzrOsrn7/AyY9tbLvQ+Aey6PsEJkOso7AVhxgfV1FCY9qhO/mcrzX+KptDsQyEOOZbyAcCYyBCdEImVEWkfDI0luAmUOE5jKRg4md/FXdihy68JyXnO3fWgsMDcaX/S1378FjfYr6otI5ny53f0N9cs24D9PaVGzGgkBcdOSMfmj38908nXKvOXT5zW42sDzLzZtDfPahMsIeOe9EfRwuAZGUhlDWrCOqSb5f3qEiZlf5sqBNX9DsVHZ6cD1rTJ6PQOA7loSsL/JAYhWVqPDFOP3Xh95SgkH9bl8WGWllsMAVm33xVJOJuWOT9bKpJNen8O6mOO7FOECuhnvDJooXdoVd4rkrLhcM88YFveGKZneIRdww9zubPhEMWbEG4/M29PgXVQPo10A0+FhO8KSTmIpc2j8CsUl5bmWLo17bQ1X/Ln93f6F/MJS/1+nsuzM1q7lU0J/F1eov7F21CTe3Knr0QNRbgGMI4UWg/hPk5sXdJl8uvlzTMhMm30jb88ojOZJcJvh2ktuYZEwOjEF3PKFL3PIRAe8E1pCqNRSO6AbEFVTcwxpX0y2m1SfCf+UJPsFwmkK9dg+zfkhuakOU/Usvdei/6HkU+7G4S8gkn3X9IPyTzIECofAT2LsT+7EaBp5rRsN8leBdw2JKRkuML1TjYwuCxdizZpRp3TFGOq5FxkV5rn8QcHTdIV01wUY8LQC9i3YCoGmQ5dvz8bUeR8w+gKeiGuHO79SYXjTsxnkCaVdFjPuTrRk/stAfF9CvQS4+o3y7VP77mibuAly8MHpxB2kQYQjBgyH+rzLUuPi+PC0lEU0DObI/mFxRWCrVA1eZ8oxC2be4SvEHyB+b4q4tlwYXmOPhYn5PTOHDGmO7x8slzCFICX+8THYiMBSFTPq29blhL2I8J2xPLV0bMA/n8rgZPrP349QVo6eMZIWV7Z4qqj+sK0iUO6fxyio/t6TrkUxyoq6YysQnB4y7YEUfnM3obq6Be1QFRCfwsgdNcyxNUSdRHt8tqs1YR+gFk0ig308V4kTiDQxAeBEdEB8G3kN8pM04+EXxgThvpOVVd0UGw6Uw7pFa1/hzmtneCdBE/ytAI2c3ABpqBJ9F01KtHB+UkIkEujB/tQwmMD0nkGtwZZbwYrCyL540hsF4bY4AhsBXwFg4x6d9clBIKjGMZV7HYL7Rug/L4V1V1q4qSyYu98rhKQ/TjVyVxfTc9KI+Jw8/1lhYAQsyAdehRVGDpwO3YbiDq1dsWVQ2vzqKzSV0vD48f61avJIiU2BwH3aJjZENdg54g8oQjBdu+5PYWhJTfv8eTZKB3xcDMcMkBJOdR6Qn8FzsEb3O3IHkplFLJVb+KRlKY6zDunul1t0ZFThpcpgHPg52PSasxU7Z8wOfwImIQIc9f+9udTiObXa+S2OXD40o6sF5hWLvMAsQQUmTulrRsjzgy2FgeJJbk02rD6tbpk5C2d2GJe9dJEJuouxp/5nxFAPpmDwnb+DOjq2KSyzBun2Cbr0np7LmcAVjf8dNJbrdEN77VSzt3lysyMIgROJaRglEIVoWU0Kx828AGoJOAg1x0BI3pmhvCpaSA7ZnveJMovHYyyRITd0dLCydFpyuv6xShE3M6uPfmGkcYImVMyKabX9vEyYwbhI7wmDhP0f/hVUuChQklwT2x8yjdd0O1gXUQXvusjqtzex3YsrS/+2pkuFek1J1w5EkIp0oKDeqUAElHfZBrEU0CPa3n4UxwCfa7HuVXmGQtVSlN1uGbrVTWVziLhLqfiCEx98aZKHDs+e2QYF722CXwDRkqwqlL1tNv3f0FdQMvJX9I5TQ0Uto1YB+JO0laT0I0+pgQoCp1JzezHo+gOW4EixIXv6cf+2AKiUkUvug3lmLUgsAV2f2iMU3A9vXr3TOxcfRxJ+loi/+X8jyUxuQhd40Nxwz91cRFJjYC8E5faoyK73DFfgeyZcJk1U+yjAQufoG4VfXEKHsOWarBbdgYskZj2Qv9Yu8scjd0/Lzx5Vc3CkzXIMnYtjuYhLtlrfyPv5J4hbnaqZDbEyTpCuYXHxyt34cxsidfH9gbu3qXEf/howNdZipbaL+cMQ5WfAKwExoG3MIzMOOTJR3FiBVTyaUSnylWA9Jx0NoPnuzyhx9EIzyNT21olP4weVDzcSL0jU2YnV4/oBx58CW3DiYPodPcIfElB6I9Crei9EzuuZ+iiYlC+tfrscSouU9aCR3wEZNoK8dNBZWjjsU48M5Awno3s+ngH+uXGu1ev88pzff8WKYIuQpu4LHtwsURvDDHwvSgfjJ4Tx2pBifNF8jXW2X4A81mtzjCkOSprI4f+uAerjH5upc12zODoIptHJkAkDtjWzlLTUMWNBCnid8TZKDVjqg2OFlvTRrmzFn/Vff1G3Z4VCL8Ob9no7lMKtK195q61fKalmPHvR7ixjqV5JGttU3075RS0bGApcFtkQcTFs3Z0b2iLBdODHHH7rjcutJjPMIXH8oOpVM6fseo/lDdDrwInT4JnN22qNET88iY/mbHzEqw40zrTwCEK+sYTbx73RocQGBDQc3xSARXzCA2DSYWPhx1MPACTZQsRiYOWd19cYsQoHQ3P5RDOid7EByoypD3VfzDJ2cYVRXW0xwSaeHpq/dJ1QXBJwJsx6CunbYradgueFhUPu9ii5/W57AhK4fnbALUhoQONZtHV85AeuFICZ/E0gFP/12cX1UzjKqwRg/iW4zL6LUyWL5341tS7ZsxTwqdBSDwai/wPfLPt4wR2btOPMwAi+ieQP1GixpZ8G+WRtOh9KeIBFJrWIa/p98l5il0xArzLSCrU6FrMjWF9g6iV5v5YSJlE7WfKZfje1fC+wBYto1ARlupi46Af/rt3f1hY0ub6SvLGdRM/rdKjWEGFr7gjTVk/3rtZLQrlhR9nurF0J87OyXDqVpb1FOSx167x3okRMevNrRZfgepucn0WVmc4mT6zfRXrgb4YU6LT0j+F+lq+0e5Y8WX9gswgPIpfZdnaBZOUwI33j3KNDLjnreOjRFB8OvXhidJXUg9PFcM1mBd++aadPBZ4MWGE5IqeerSpDgSR9enEOUHMyOpdbjED9tH3fjzrI8aA2hyJRBm+dal+VXQmkH1mYFoeoBJ3h1KljY+J2poZ7PN4QZfmYw/0Pr7t7kBjugs+cX3xNXo6vJv38KFX83k7LyIugQPeVHDhQG67SY8M5jH7rRxsxVfgsRyYuujSbIzftwVxu2tz1SeEJP655ZZmESNl4ry35u5rBD2kwNmFv9BENOvJ3BFmblY6hMOL/BYv+mmXJZiZcB6DC+XbU8NzwrN2uJgVOraEVqzPuoAjnGn/kG9hrNBYP9Rp6w98HRrHzwX9t/ml+R0rYixxT3ZKgAase/TNmiCAqiKQukAYFgDgNKG3eLl/e3SHNy/qTCceG6DevizqvW2H4xd6cPjUh8DqXf7Piinyi+iWEelCLAPVk8z57lOAH7IwpeVh/0m40QE/wRDQXAqVE6VgwJUZI/gOmuGHzyFdHdvF0GzGL9V1IklX7VOwizbRbmI3eM6LHx2puQLgU7elTwdQzRWI/o1Ex2Cp2rjcAWwNKzKrsHNu5mqJ0RZvxjG/8qL35tLFgEfL1rKsYJoEe1odsFQeqdizeIZXootM29/7OjBXIPCTCM4LOyoHZ1Coj/9fZ5j6XDWhDxqK9umb3YIyKQi3NXjDPMoGUITeIy5S6BQGcC1F0/jI2g17GSQnX5tHbDtDp5upV0rKzxD4sKNnn5kO5t9Xpecc44AjdMDSO045WMX/H/dOxLeTwO3FZvYz61Jo8uDOyCFCjeZtSf8qvrEvNJm+D4pzf+vyFWWBbPIlF3N9+qXH591wSBp4h4yFH69JQ8AqJ4IyEHBe17jT01OsNkYg+Yomqfvg6/foeQavQI6P830jU4FOzubCda/S0UxIfpGz+mIqN2W0ALlHnyzkT9twbocHxR3wp6apnhnf27WOn1EkTo73ng0yCULoEqFAVx92XAoYWhnj+pkME1BlZU05MT0qf8i1BQ8XA4+5WkSLXasa/Y4kv/RRyEaqp+F96IkqlcCxl0PXOv6dJdMX5V8GtVOvNLLyDozTvcp4sswYNIYlwUkHUxhetV16WurgFbM43Wf+2X1K0q47L8tXJ3kq7G8/lk/gMlgtKr0DpmkcP7ag13Z35s+fGaFC+OUS5INt63expNDHhJMe632UXbGxb2vzJFtI6ZXq3dKY2HRVfgXir7ff98E+tdBu5qCbgxdLFXXleLCbNfegQkmb5ASF3NyDuejy7urzNbyCxItHBRETsOguBSLHqdl6/1460YPUIr8uVaSEhYjfObhhs0YC55R0+/eseNaxqrOsTXF9j40UlQd95vtkofCcdm8Rps+OEc8sQuFsXPJFwrbN+NYS+3g+8br6cZP7G9CpLMGH0U83UpDTcqZtUIbvr0FIEhROzQGzG9YDA4g5Kkc0A3KvwRusCPnGje7sjUemY8RsNW2ivH6chOT4fOHHPskTqL9H9bnirePjQ/qdy7JfD9+iu57q9d0repA0b2sn03B4zG11gPC+Bcx8weasQuZt8ah0yHwfbU0w3yYh9kSg==');
  </script>
<script nonce="fdv8jl1GnPwLaiMLgpK4zg">
  gaia = window.gaia || {};
  gaia.ps = gaia.ps || {};
  gaia.ps.hasPrefilledIdentifier = false;
  function gaia_parseFragment() {
  var hash = location.hash;
  var params = {};
  if (!hash) {
  return params;
  }
  var paramStrs = decodeURIComponent(hash.substring(1)).split('&');
  for (var i = 0; i < paramStrs.length; i++) {
      var param = paramStrs[i].split('=');
      params[param[0]] = param[1];
    }
    return params;
  }

  function gaia_prefillEmail() {
    var email = null;
    var form = null;
    if (document.getElementById) {
      email = document.getElementById('Email');
      form = document.getElementById('gaia_loginform');
    }
    if (form && email && (email.value == null || email.value == '')
        && (email.type != 'hidden')) {
      hashParams = gaia_parseFragment();
      if (hashParams['Email'] && hashParams['Email'] != '') {
        email.value = hashParams['Email'];
      }
    }
  }

  
  try {
    gaia_prefillEmail();
  } catch (e) {
  }
  
</script>
<script nonce="fdv8jl1GnPwLaiMLgpK4zg">
  var gaia_scrollToElement = function(element) {
  var calculateOffsetHeight = function(element) {
  var curtop = 0;
  if (element.offsetParent) {
  while (element) {
  curtop += element.offsetTop;
  element = element.offsetParent;
  }
  }
  return curtop;
  }
  var siginOffsetHeight = calculateOffsetHeight(element);
  var scrollHeight = siginOffsetHeight - window.innerHeight +
  element.clientHeight + 0.02 * window.innerHeight;
  window.scroll(0, scrollHeight);
  }
</script>
<script nonce="fdv8jl1GnPwLaiMLgpK4zg">
  if (gaia.ps.hasPrefilledIdentifier) {
  var form = document.getElementById('gaia_loginform');
  if (form) {
  form.submit();
  }
  }
</script>
<script nonce="fdv8jl1GnPwLaiMLgpK4zg">
  (function(){
  gaia_onLoginSubmit = function() {
  try {
  gaia.loginAutoRedirect.stop();
  } catch (err) {
  // do not prevent form from being submitted
  }
  try {
  document.bg.low(function(response) {
  document.getElementById('bgresponse').value = response;
  });
  } catch (err) {
  document.getElementById('bgresponse').value = '';
  }
  return true;
  }
  document.getElementById('gaia_loginform').onsubmit = gaia_onLoginSubmit;
  var signinButton = document.getElementById('next');
  gaia_attachEvent(window, 'load', function(){
  gaia_scrollToElement(signinButton);
  });
  })();
</script>
  <script nonce="fdv8jl1GnPwLaiMLgpK4zg">var e=this,g=function(b,c){b=b.split(".");var a=e;b[0]in a||!a.execScript||a.execScript("var "+b[0]);for(var d;b.length&&(d=b.shift());)b.length||void 0===c?a[d]?a=a[d]:a=a[d]={}:a[d]=c};var h=function(){try{return new XMLHttpRequest}catch(a){for(var b=["MSXML2.XMLHTTP.6.0","MSXML2.XMLHTTP.3.0","MSXML2.XMLHTTP","Microsoft.XMLHTTP"],c=0;c<b.length;c++)try{return new ActiveXObject(b[c])}catch(d){}}return null};g("gaia.ajax.newXmlHttpRequest",h);var k=function(){this.g=h();this.parameters={}};
k.prototype.send=function(b,c){var a=[],d;for(d in this.parameters)a.push(d+"="+encodeURIComponent(this.parameters[d]));a=a.join("&");var f=this.g;f.open("POST",b,!0);f.setRequestHeader("Content-type","application/x-www-form-urlencoded");f.onreadystatechange=function(){4==f.readyState&&c({status:f.status,text:f.responseText})};f.send(a)};
k.prototype.m=function(b,c,a){var d=this.g;d.open("POST",b,!0);d.setRequestHeader("Content-type","application/json");d.onreadystatechange=function(){4==d.readyState&&a({status:d.status,text:d.responseText})};d.send(c)};k.prototype.get=function(b,c){var a=this.g;a.open("GET",b,!0);a.onreadystatechange=function(){4==a.readyState&&c({status:a.status,text:a.responseText})};a.send()};g("gaia.ajax.XmlHttpFormRequest",k);k.prototype.get=k.prototype.get;k.prototype.sendJson=k.prototype.m;
k.prototype.send=k.prototype.send;var l=/\s*;\s*/,m=function(){if(!document.cookie)return"";for(var b=document.cookie.split(l),c=0;c<b.length;c++){var a=b[c];a=a.replace(/^\s+/,"");a=a.replace(/\s+$/,"");if(0==a.indexOf("APISID="))return a.substr(7)}return""};var n=null,p=function(b,c){this.l=b;this.j=c;this.i=m();this.h=!1},q=function(){var b=n,c=m();c==b.i||b.h||(b.i=c,(new k).get(b.j,function(a){var d=n;a&&a.status&&200==a.status&&"OK"==a.text&&(d.g&&clearInterval(d.g),d.h||(window.location=d.l))}))};p.prototype.start=function(b){if(this.g)return!1;this.g=setInterval(function(){q()},b);return!0};g("gaia.loginAutoRedirect.start",function(b,c,a){if(n||!a||!c||0>=b)return!1;n=new p(c,a);return n.start(b)});
g("gaia.loginAutoRedirect.stop",function(){var b=n;b.h=!0;b.g&&(clearInterval(b.g),b.g=null)});
</script>
  <script type="text/javascript" nonce="fdv8jl1GnPwLaiMLgpK4zg">
  gaia.loginAutoRedirect.start(5000,
  'https:\x2F\x2Faccounts.google.com\x2FServiceLogin?continue=https%3A%2F%2Fdrive.google.com%2Fuc%3Fexport%3Ddownload%26id%3D1qyh6NAzbkfBQQvscrVZVbi1KEMZdXGfv\x26followup=https%3A%2F%2Fdrive.google.com%2Fuc%3Fexport%3Ddownload%26id%3D1qyh6NAzbkfBQQvscrVZVbi1KEMZdXGfv\x26service=wise\x26ltmpl=drive\x26passive=1209600\x26noautologin=true',
  'https:\x2F\x2Faccounts.google.com\x2FPassiveLoginProber?continue=https%3A%2F%2Fdrive.google.com%2Fuc%3Fexport%3Ddownload%26id%3D1qyh6NAzbkfBQQvscrVZVbi1KEMZdXGfv\x26followup=https%3A%2F%2Fdrive.google.com%2Fuc%3Fexport%3Ddownload%26id%3D1qyh6NAzbkfBQQvscrVZVbi1KEMZdXGfv\x26service=wise\x26ltmpl=drive\x26passive=1209600');
  </script>
  </body>
</html>
