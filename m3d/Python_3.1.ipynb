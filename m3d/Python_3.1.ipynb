
<!DOCTYPE html>
<html lang="ja">
  <head>
  <meta charset="utf-8">
  <meta content="width=300, initial-scale=1" name="viewport">
  <meta name="description" content="Google ドライブなら、無料でファイルをバックアップして携帯電話、タブレット、パソコンから手軽にアクセスできます。まずは、15 GB の無料の Google ストレージをご利用ください。">
  <meta name="google-site-verification" content="LrdTUW9psUAMbh4Ia074-BPEVmcpBxF6Gwf0MSgQXZs">
  <title>Google ドライブ - 1 か所であらゆるファイルを保管</title>
<style>
  html, body {
  font-family: Arial, sans-serif;
  background: #fff;
  margin: 0;
  padding: 0;
  border: 0;
  position: absolute;
  height: 100%;
  min-width: 100%;
  font-size: 13px;
  color: #404040;
  direction: ltr;
  -webkit-text-size-adjust: none;
  }
  button,
  input[type=button],
  input[type=submit] {
  font-family: Arial, sans-serif;
  font-size: 13px;
  }
  a,
  a:hover,
  a:visited {
  color: #427fed;
  cursor: pointer;
  text-decoration: none;
  }
  a:hover {
  text-decoration: underline;
  }
  h1 {
  font-size: 20px;
  color: #262626;
  margin: 0 0 15px;
  font-weight: normal;
  }
  h2 {
  font-size: 14px;
  color: #262626;
  margin: 0 0 15px;
  font-weight: bold;
  }
  input[type=email],
  input[type=number],
  input[type=password],
  input[type=tel],
  input[type=text],
  input[type=url] {
  -moz-appearance: none;
  -webkit-appearance: none;
  appearance: none;
  display: inline-block;
  height: 36px;
  padding: 0 8px;
  margin: 0;
  background: #fff;
  border: 1px solid #d9d9d9;
  border-top: 1px solid #c0c0c0;
  -moz-box-sizing: border-box;
  -webkit-box-sizing: border-box;
  box-sizing: border-box;
  -moz-border-radius: 1px;
  -webkit-border-radius: 1px;
  border-radius: 1px;
  font-size: 15px;
  color: #404040;
  }
  input[type=email]:hover,
  input[type=number]:hover,
  input[type=password]:hover,
  input[type=tel]:hover,
  input[type=text]:hover,
  input[type=url]:hover {
  border: 1px solid #b9b9b9;
  border-top: 1px solid #a0a0a0;
  -moz-box-shadow: inset 0 1px 2px rgba(0,0,0,0.1);
  -webkit-box-shadow: inset 0 1px 2px rgba(0,0,0,0.1);
  box-shadow: inset 0 1px 2px rgba(0,0,0,0.1);
  }
  input[type=email]:focus,
  input[type=number]:focus,
  input[type=password]:focus,
  input[type=tel]:focus,
  input[type=text]:focus,
  input[type=url]:focus {
  outline: none;
  border: 1px solid #4d90fe;
  -moz-box-shadow: inset 0 1px 2px rgba(0,0,0,0.3);
  -webkit-box-shadow: inset 0 1px 2px rgba(0,0,0,0.3);
  box-shadow: inset 0 1px 2px rgba(0,0,0,0.3);
  }
  input[type=checkbox],
  input[type=radio] {
  -webkit-appearance: none;
  display: inline-block;
  width: 13px;
  height: 13px;
  margin: 0;
  cursor: pointer;
  vertical-align: bottom;
  background: #fff;
  border: 1px solid #c6c6c6;
  -moz-border-radius: 1px;
  -webkit-border-radius: 1px;
  border-radius: 1px;
  -moz-box-sizing: border-box;
  -webkit-box-sizing: border-box;
  box-sizing: border-box;
  position: relative;
  }
  input[type=checkbox]:active,
  input[type=radio]:active {
  background: #ebebeb;
  }
  input[type=checkbox]:hover {
  border-color: #c6c6c6;
  -moz-box-shadow: inset 0 1px 2px rgba(0,0,0,0.1);
  -webkit-box-shadow: inset 0 1px 2px rgba(0,0,0,0.1);
  box-shadow: inset 0 1px 2px rgba(0,0,0,0.1);
  }
  input[type=radio] {
  -moz-border-radius: 1em;
  -webkit-border-radius: 1em;
  border-radius: 1em;
  width: 15px;
  height: 15px;
  }
  input[type=checkbox]:checked,
  input[type=radio]:checked {
  background: #fff;
  }
  input[type=radio]:checked::after {
  content: '';
  display: block;
  position: relative;
  top: 3px;
  left: 3px;
  width: 7px;
  height: 7px;
  background: #666;
  -moz-border-radius: 1em;
  -webkit-border-radius: 1em;
  border-radius: 1em;
  }
  input[type=checkbox]:checked::after {
  content: url(https://ssl.gstatic.com/ui/v1/menu/checkmark.png);
  display: block;
  position: absolute;
  top: -6px;
  left: -5px;
  }
  input[type=checkbox]:focus {
  outline: none;
  border-color: #4d90fe;
  }
  .stacked-label {
  display: block;
  font-weight: bold;
  margin: .5em 0;
  }
  .hidden-label {
  position: absolute !important;
  clip: rect(1px 1px 1px 1px); /* IE6, IE7 */
  clip: rect(1px, 1px, 1px, 1px);
  height: 0px;
  width: 0px;
  overflow: hidden;
  visibility: hidden;
  }
  input[type=checkbox].form-error,
  input[type=email].form-error,
  input[type=number].form-error,
  input[type=password].form-error,
  input[type=text].form-error,
  input[type=tel].form-error,
  input[type=url].form-error {
  border: 1px solid #dd4b39;
  }
  .error-msg {
  margin: .5em 0;
  display: block;
  color: #dd4b39;
  line-height: 17px;
  }
  .help-link {
  background: #dd4b39;
  padding: 0 5px;
  color: #fff;
  font-weight: bold;
  display: inline-block;
  -moz-border-radius: 1em;
  -webkit-border-radius: 1em;
  border-radius: 1em;
  text-decoration: none;
  position: relative;
  top: 0px;
  }
  .help-link:visited {
  color: #fff;
  }
  .help-link:hover {
  color: #fff;
  background: #c03523;
  text-decoration: none;
  }
  .help-link:active {
  opacity: 1;
  background: #ae2817;
  }
  .wrapper {
  position: relative;
  min-height: 100%;
  }
  .content {
  padding: 0 44px;
  }
  .main {
  padding-bottom: 100px;
  }
  /* For modern browsers */
  .clearfix:before,
  .clearfix:after {
  content: "";
  display: table;
  }
  .clearfix:after {
  clear: both;
  }
  /* For IE 6/7 (trigger hasLayout) */
  .clearfix {
  zoom:1;
  }
  .google-header-bar {
  height: 71px;
  border-bottom: 1px solid #e5e5e5;
  overflow: hidden;
  }
  .header .logo {
  background-image: url(https://ssl.gstatic.com/accounts/ui/logo_1x.png);
  background-size: 116px 38px;
  background-repeat: no-repeat;
  margin: 17px 0 0;
  float: left;
  height: 38px;
  width: 116px;
  }
  .header .logo-w {
  background-image: url(https://ssl.gstatic.com/images/branding/googlelogo/1x/googlelogo_color_112x36dp.png);
  background-size: 112px 36px;
  margin: 21px 0 0;
  }
  .header .secondary-link {
  margin: 28px 0 0;
  float: right;
  }
  .header .secondary-link a {
  font-weight: normal;
  }
  .google-header-bar.centered {
  border: 0;
  height: 108px;
  }
  .google-header-bar.centered .header .logo {
  float: none;
  margin: 40px auto 30px;
  display: block;
  }
  .google-header-bar.centered .header .secondary-link {
  display: none
  }
  .google-footer-bar {
  position: absolute;
  bottom: 0;
  height: 35px;
  width: 100%;
  border-top: 1px solid #e5e5e5;
  overflow: hidden;
  }
  .footer {
  padding-top: 7px;
  font-size: .85em;
  white-space: nowrap;
  line-height: 0;
  }
  .footer ul {
  float: left;
  max-width: 80%;
  min-height: 16px;
  padding: 0;
  }
  .footer ul li {
  color: #737373;
  display: inline;
  padding: 0;
  padding-right: 1.5em;
  }
  .footer a {
  color: #737373;
  }
  .lang-chooser-wrap {
  float: right;
  display: inline;
  }
  .lang-chooser-wrap img {
  vertical-align: top;
  }
  .lang-chooser {
  font-size: 13px;
  height: 24px;
  line-height: 24px;
  }
  .lang-chooser option {
  font-size: 13px;
  line-height: 24px;
  }
  .hidden {
  height: 0px;
  width: 0px;
  overflow: hidden;
  visibility: hidden;
  display: none !important;
  }
  .banner {
  text-align: center;
  }
  .card {
  background-color: #f7f7f7;
  padding: 20px 25px 30px;
  margin: 0 auto 25px;
  width: 304px;
  -moz-border-radius: 2px;
  -webkit-border-radius: 2px;
  border-radius: 2px;
  -moz-box-shadow: 0px 2px 2px rgba(0, 0, 0, 0.3);
  -webkit-box-shadow: 0px 2px 2px rgba(0, 0, 0, 0.3);
  box-shadow: 0px 2px 2px rgba(0, 0, 0, 0.3);
  }
  .card > *:first-child {
  margin-top: 0;
  }
  .rc-button,
  .rc-button:visited {
  display: inline-block;
  min-width: 46px;
  text-align: center;
  color: #444;
  font-size: 14px;
  font-weight: 700;
  height: 36px;
  padding: 0 8px;
  line-height: 36px;
  -moz-border-radius: 3px;
  -webkit-border-radius: 3px;
  border-radius: 3px;
  -o-transition: all 0.218s;
  -moz-transition: all 0.218s;
  -webkit-transition: all 0.218s;
  transition: all 0.218s;
  border: 1px solid #dcdcdc;
  background-color: #f5f5f5;
  background-image: -webkit-linear-gradient(top,#f5f5f5,#f1f1f1);
  background-image: -moz-linear-gradient(top,#f5f5f5,#f1f1f1);
  background-image: -ms-linear-gradient(top,#f5f5f5,#f1f1f1);
  background-image: -o-linear-gradient(top,#f5f5f5,#f1f1f1);
  background-image: linear-gradient(top,#f5f5f5,#f1f1f1);
  -o-transition: none;
  -moz-user-select: none;
  -webkit-user-select: none;
  user-select: none;
  cursor: default;
  }
  .card .rc-button {
  width: 100%;
  padding: 0;
  }
  .rc-button.disabled,
  .rc-button[disabled] {
  opacity: .5;
  filter: alpha(opacity=50);
  cursor: default;
  pointer-events: none;
  }
  .rc-button:hover {
  border: 1px solid #c6c6c6;
  color: #333;
  text-decoration: none;
  -o-transition: all 0.0s;
  -moz-transition: all 0.0s;
  -webkit-transition: all 0.0s;
  transition: all 0.0s;
  background-color: #f8f8f8;
  background-image: -webkit-linear-gradient(top,#f8f8f8,#f1f1f1);
  background-image: -moz-linear-gradient(top,#f8f8f8,#f1f1f1);
  background-image: -ms-linear-gradient(top,#f8f8f8,#f1f1f1);
  background-image: -o-linear-gradient(top,#f8f8f8,#f1f1f1);
  background-image: linear-gradient(top,#f8f8f8,#f1f1f1);
  -moz-box-shadow: 0 1px 1px rgba(0,0,0,0.1);
  -webkit-box-shadow: 0 1px 1px rgba(0,0,0,0.1);
  box-shadow: 0 1px 1px rgba(0,0,0,0.1);
  }
  .rc-button:active {
  background-color: #f6f6f6;
  background-image: -webkit-linear-gradient(top,#f6f6f6,#f1f1f1);
  background-image: -moz-linear-gradient(top,#f6f6f6,#f1f1f1);
  background-image: -ms-linear-gradient(top,#f6f6f6,#f1f1f1);
  background-image: -o-linear-gradient(top,#f6f6f6,#f1f1f1);
  background-image: linear-gradient(top,#f6f6f6,#f1f1f1);
  -moz-box-shadow: 0 1px 2px rgba(0,0,0,0.1);
  -webkit-box-shadow: 0 1px 2px rgba(0,0,0,0.1);
  box-shadow: 0 1px 2px rgba(0,0,0,0.1);
  }
  .rc-button-submit,
  .rc-button-submit:visited {
  border: 1px solid #3079ed;
  color: #fff;
  text-shadow: 0 1px rgba(0,0,0,0.1);
  background-color: #4d90fe;
  background-image: -webkit-linear-gradient(top,#4d90fe,#4787ed);
  background-image: -moz-linear-gradient(top,#4d90fe,#4787ed);
  background-image: -ms-linear-gradient(top,#4d90fe,#4787ed);
  background-image: -o-linear-gradient(top,#4d90fe,#4787ed);
  background-image: linear-gradient(top,#4d90fe,#4787ed);
  }
  .rc-button-submit:hover {
  border: 1px solid #2f5bb7;
  color: #fff;
  text-shadow: 0 1px rgba(0,0,0,0.3);
  background-color: #357ae8;
  background-image: -webkit-linear-gradient(top,#4d90fe,#357ae8);
  background-image: -moz-linear-gradient(top,#4d90fe,#357ae8);
  background-image: -ms-linear-gradient(top,#4d90fe,#357ae8);
  background-image: -o-linear-gradient(top,#4d90fe,#357ae8);
  background-image: linear-gradient(top,#4d90fe,#357ae8);
  }
  .rc-button-submit:active {
  background-color: #357ae8;
  background-image: -webkit-linear-gradient(top,#4d90fe,#357ae8);
  background-image: -moz-linear-gradient(top,#4d90fe,#357ae8);
  background-image: -ms-linear-gradient(top,#4d90fe,#357ae8);
  background-image: -o-linear-gradient(top,#4d90fe,#357ae8);
  background-image: linear-gradient(top,#4d90fe,#357ae8);
  -moz-box-shadow: inset 0 1px 2px rgba(0,0,0,0.3);
  -webkit-box-shadow: inset 0 1px 2px rgba(0,0,0,0.3);
  box-shadow: inset 0 1px 2px rgba(0,0,0,0.3);
  }
  .rc-button-red,
  .rc-button-red:visited {
  border: 1px solid transparent;
  color: #fff;
  text-shadow: 0 1px rgba(0,0,0,0.1);
  background-color: #d14836;
  background-image: -webkit-linear-gradient(top,#dd4b39,#d14836);
  background-image: -moz-linear-gradient(top,#dd4b39,#d14836);
  background-image: -ms-linear-gradient(top,#dd4b39,#d14836);
  background-image: -o-linear-gradient(top,#dd4b39,#d14836);
  background-image: linear-gradient(top,#dd4b39,#d14836);
  }
  .rc-button-red:hover {
  border: 1px solid #b0281a;
  color: #fff;
  text-shadow: 0 1px rgba(0,0,0,0.3);
  background-color: #c53727;
  background-image: -webkit-linear-gradient(top,#dd4b39,#c53727);
  background-image: -moz-linear-gradient(top,#dd4b39,#c53727);
  background-image: -ms-linear-gradient(top,#dd4b39,#c53727);
  background-image: -o-linear-gradient(top,#dd4b39,#c53727);
  background-image: linear-gradient(top,#dd4b39,#c53727);
  }
  .rc-button-red:active {
  border: 1px solid #992a1b;
  background-color: #b0281a;
  background-image: -webkit-linear-gradient(top,#dd4b39,#b0281a);
  background-image: -moz-linear-gradient(top,#dd4b39,#b0281a);
  background-image: -ms-linear-gradient(top,#dd4b39,#b0281a);
  background-image: -o-linear-gradient(top,#dd4b39,#b0281a);
  background-image: linear-gradient(top,#dd4b39,#b0281a);
  -moz-box-shadow: inset 0 1px 2px rgba(0,0,0,0.3);
  -webkit-box-shadow: inset 0 1px 2px rgba(0,0,0,0.3);
  box-shadow: inset 0 1px 2px rgba(0,0,0,0.3);
  }
  .secondary-actions {
  text-align: center;
  }
</style>
<style media="screen and (max-width: 800px), screen and (max-height: 800px)">
  .google-header-bar.centered {
  height: 83px;
  }
  .google-header-bar.centered .header .logo {
  margin: 25px auto 20px;
  }
  .card {
  margin-bottom: 20px;
  }
</style>
<style media="screen and (max-width: 580px)">
  html, body {
  font-size: 14px;
  }
  .google-header-bar.centered {
  height: 73px;
  }
  .google-header-bar.centered .header .logo {
  margin: 20px auto 15px;
  }
  .content {
  padding-left: 10px;
  padding-right: 10px;
  }
  .hidden-small {
  display: none;
  }
  .card {
  padding: 20px 15px 30px;
  width: 270px;
  }
  .footer ul li {
  padding-right: 1em;
  }
  .lang-chooser-wrap {
  display: none;
  }
</style>
<style media="screen and (-webkit-min-device-pixel-ratio: 1.5), (min--moz-device-pixel-ratio: 1.5), (-o-min-device-pixel-ratio: 3 / 2), (min-device-pixel-ratio: 1.5)">
  .header .logo {
  background-image: url(https://ssl.gstatic.com/accounts/ui/logo_2x.png);
  }
  .header .logo-w {
  background-image: url(https://ssl.gstatic.com/images/branding/googlelogo/2x/googlelogo_color_112x36dp.png);
  }
</style>
<style>
  pre.debug {
  font-family: monospace;
  position: absolute;
  left: 0;
  margin: 0;
  padding: 1.5em;
  font-size: 13px;
  background: #f1f1f1;
  border-top: 1px solid #e5e5e5;
  direction: ltr;
  white-space: pre-wrap;
  width: 90%;
  overflow: hidden;
  }
</style>
<style>
  .banner h1 {
  font-family: 'Open Sans', arial;
  -webkit-font-smoothing: antialiased;
  color: #555;
  font-size: 42px;
  font-weight: 300;
  margin-top: 0;
  margin-bottom: 20px;
  }
  .banner h2 {
  font-family: 'Open Sans', arial;
  -webkit-font-smoothing: antialiased;
  color: #555;
  font-size: 18px;
  font-weight: 400;
  margin-bottom: 20px;
  }
  .signin-card {
  width: 274px;
  padding: 40px 40px;
  }
  .signin-card .profile-img {
  width: 96px;
  height: 96px;
  margin: 0 auto 10px;
  display: block;
  -moz-border-radius: 50%;
  -webkit-border-radius: 50%;
  border-radius: 50%;
  }
  .signin-card .profile-name {
  font-size: 16px;
  font-weight: bold;
  text-align: center;
  margin: 10px 0 0;
  min-height: 1em;
  }
  .signin-card .profile-email {
  font-size: 16px;
  text-align: center;
  margin: 10px 0 20px 0;
  min-height: 1em;
  }
  .signin-card input[type=email],
  .signin-card input[type=password],
  .signin-card input[type=text],
  .signin-card input[type=submit] {
  width: 100%;
  display: block;
  margin-bottom: 10px;
  z-index: 1;
  position: relative;
  -moz-box-sizing: border-box;
  -webkit-box-sizing: border-box;
  box-sizing: border-box;
  }
  .signin-card #Email,
  .signin-card #Passwd,
  .signin-card .captcha {
  direction: ltr;
  height: 44px;
  font-size: 16px;
  }
  .signin-card #Email + .stacked-label {
  margin-top: 15px;
  }
  .signin-card #reauthEmail {
  display: block;
  margin-bottom: 10px;
  line-height: 36px;
  padding: 0 8px;
  font-size: 15px;
  color: #404040;
  line-height: 2;
  margin-bottom: 10px;
  font-size: 14px;
  text-align: center;
  overflow: hidden;
  text-overflow: ellipsis;
  white-space: nowrap;
  -moz-box-sizing: border-box;
  -webkit-box-sizing: border-box;
  box-sizing: border-box;
  }
  .one-google p {
  margin: 0 0 10px;
  color: #555;
  font-size: 14px;
  text-align: center;
  }
  .one-google p.create-account,
  .one-google p.switch-account {
  margin-bottom: 60px;
  }
  .one-google .logo-strip {
  background-repeat: no-repeat;
  display: block;
  margin: 10px auto;
  background-image: url(https://ssl.gstatic.com/accounts/ui/wlogostrip_230x17_1x.png);
  background-size: 230px 17px;
  width: 230px;
  height: 17px;
  }
</style>
<style media="screen and (max-width: 800px), screen and (max-height: 800px)">
  .banner h1 {
  font-size: 38px;
  margin-bottom: 15px;
  }
  .banner h2 {
  margin-bottom: 15px;
  }
  .one-google p.create-account,
  .one-google p.switch-account {
  margin-bottom: 30px;
  }
  .signin-card #Email {
  margin-bottom: 0;
  }
  .signin-card #Passwd {
  margin-top: -1px;
  }
  .signin-card #Email.form-error,
  .signin-card #Passwd.form-error {
  z-index: 2;
  }
  .signin-card #Email:hover,
  .signin-card #Email:focus,
  .signin-card #Passwd:hover,
  .signin-card #Passwd:focus {
  z-index: 3;
  }
</style>
<style media="screen and (max-width: 580px)">
  .banner h1 {
  font-size: 22px;
  margin-bottom: 15px;
  }
  .signin-card {
  width: 260px;
  padding: 20px 20px;
  margin: 0 auto 20px;
  }
  .signin-card .profile-img {
  width: 72px;
  height: 72px;
  -moz-border-radius: 72px;
  -webkit-border-radius: 72px;
  border-radius: 72px;
  }
</style>
<style media="screen and (-webkit-min-device-pixel-ratio: 1.5), (min--moz-device-pixel-ratio: 1.5), (-o-min-device-pixel-ratio: 3 / 2), (min-device-pixel-ratio: 1.5)">
  .one-google .logo-strip {
  background-image: url(https://ssl.gstatic.com/accounts/ui/wlogostrip_230x17_2x.png);
  }
</style>
<style>
  .remember .bubble-wrap {
  position: absolute;
  padding-top: 3px;
  -o-transition: opacity .218s ease-in .218s;
  -moz-transition: opacity .218s ease-in .218s;
  -webkit-transition: opacity .218s ease-in .218s;
  transition: opacity .218s ease-in .218s;
  left: -999em;
  opacity: 0;
  width: 314px;
  margin-left: -20px;
  }
  .remember:hover .bubble-wrap,
  .remember input:focus ~ .bubble-wrap,
  .remember .bubble-wrap:hover,
  .remember .bubble-wrap:focus {
  opacity: 1;
  left: inherit;
  }
  .bubble-pointer {
  border-left: 10px solid transparent;
  border-right: 10px solid transparent;
  border-bottom: 10px solid #fff;
  width: 0;
  height: 0;
  margin-left: 17px;
  }
  .bubble {
  background-color: #fff;
  padding: 15px;
  margin-top: -1px;
  font-size: 11px;
  -moz-border-radius: 2px;
  -webkit-border-radius: 2px;
  border-radius: 2px;
  -moz-box-shadow: 0px 2px 2px rgba(0, 0, 0, 0.3);
  -webkit-box-shadow: 0px 2px 2px rgba(0, 0, 0, 0.3);
  box-shadow: 0px 2px 2px rgba(0, 0, 0, 0.3);
  }
  #stay-signed-in {
  float: left;
  }
  #stay-signed-in-tooltip {
  left: auto;
  margin-left: -20px;
  padding-top: 3px;
  position: absolute;
  top: 0;
  visibility: hidden;
  width: 314px;
  z-index: 1;
  }
  .dasher-tooltip {
  top: 380px;
  }
</style>
<style media="screen and (max-width: 800px), screen and (max-height: 800px)">
  .dasher-tooltip {
  top: 340px;
  }
</style>
<style>
  .jfk-tooltip {
  background-color: #fff;
  border: 1px solid;
  color: #737373;
  font-size: 12px;
  position: absolute;
  z-index: 800 !important;
  border-color: #bbb #bbb #a8a8a8;
  padding: 16px;
  width: 250px;
  }
 .jfk-tooltip h3 {
  color: #555;
  font-size: 12px;
  margin: 0 0 .5em;
  }
 .jfk-tooltip-content p:last-child {
  margin-bottom: 0;
  }
  .jfk-tooltip-arrow {
  position: absolute;
  }
  .jfk-tooltip-arrow .jfk-tooltip-arrowimplbefore,
  .jfk-tooltip-arrow .jfk-tooltip-arrowimplafter {
  display: block;
  height: 0;
  position: absolute;
  width: 0;
  }
  .jfk-tooltip-arrow .jfk-tooltip-arrowimplbefore {
  border: 9px solid;
  }
  .jfk-tooltip-arrow .jfk-tooltip-arrowimplafter {
  border: 8px solid;
  }
  .jfk-tooltip-arrowdown {
  bottom: 0;
  }
  .jfk-tooltip-arrowup {
  top: -9px;
  }
  .jfk-tooltip-arrowleft {
  left: -9px;
  top: 30px;
  }
  .jfk-tooltip-arrowright {
  right: 0;
  top: 30px;
  }
  .jfk-tooltip-arrowdown .jfk-tooltip-arrowimplbefore,.jfk-tooltip-arrowup .jfk-tooltip-arrowimplbefore {
  border-color: #bbb transparent;
  left: -9px;
  }
  .jfk-tooltip-arrowdown .jfk-tooltip-arrowimplbefore {
  border-color: #a8a8a8 transparent;
  }
  .jfk-tooltip-arrowdown .jfk-tooltip-arrowimplafter,.jfk-tooltip-arrowup .jfk-tooltip-arrowimplafter {
  border-color: #fff transparent;
  left: -8px;
  }
  .jfk-tooltip-arrowdown .jfk-tooltip-arrowimplbefore {
  border-bottom-width: 0;
  }
  .jfk-tooltip-arrowdown .jfk-tooltip-arrowimplafter {
  border-bottom-width: 0;
  }
  .jfk-tooltip-arrowup .jfk-tooltip-arrowimplbefore {
  border-top-width: 0;
  }
  .jfk-tooltip-arrowup .jfk-tooltip-arrowimplafter {
  border-top-width: 0;
  top: 1px;
  }
  .jfk-tooltip-arrowleft .jfk-tooltip-arrowimplbefore,
  .jfk-tooltip-arrowright .jfk-tooltip-arrowimplbefore {
  border-color: transparent #bbb;
  top: -9px;
  }
  .jfk-tooltip-arrowleft .jfk-tooltip-arrowimplafter,
  .jfk-tooltip-arrowright .jfk-tooltip-arrowimplafter {
  border-color:transparent #fff;
  top:-8px;
  }
  .jfk-tooltip-arrowleft .jfk-tooltip-arrowimplbefore {
  border-left-width: 0;
  }
  .jfk-tooltip-arrowleft .jfk-tooltip-arrowimplafter {
  border-left-width: 0;
  left: 1px;
  }
  .jfk-tooltip-arrowright .jfk-tooltip-arrowimplbefore {
  border-right-width: 0;
  }
  .jfk-tooltip-arrowright .jfk-tooltip-arrowimplafter {
  border-right-width: 0;
  }
  .jfk-tooltip-closebtn {
  background: url("//ssl.gstatic.com/ui/v1/icons/common/x_8px.png") no-repeat;
  border: 1px solid transparent;
  height: 21px;
  opacity: .4;
  outline: 0;
  position: absolute;
  right: 2px;
  top: 2px;
  width: 21px;
  }
  .jfk-tooltip-closebtn:focus,
  .jfk-tooltip-closebtn:hover {
  opacity: .8;
  cursor: pointer;
  }
  .jfk-tooltip-closebtn:focus {
  border-color: #4d90fe;
  }
</style>
<style media="screen and (max-width: 580px)">
  .jfk-tooltip {
  display: none;
  }
</style>
<style type="text/css">
.captcha-box {
  background: #fff;
  margin: 0 0 10px;
  overflow: hidden;
  padding: 10px;
}
.captcha-box .captcha-img {
  text-align: center;
}
.captcha-box .captcha-label {
  font-weight: bold;
  display: block;
  margin: .5em 0;
}
.captcha-box .captcha-msg {
  color: #999;
  display: block;
  position: relative;
}
.captcha-box .captcha-msg .accessibility-logo {
  float: right;
  border: 0;
}
.captcha-box .audio-box {
  position: absolute;
  top: 0;
}
</style>
<style>
.chromiumsync-custom-content {
  padding-top: 20px;
  margin-bottom: 0;
}
.form-panel {
  -webkit-box-sizing: border-box;
  box-sizing: border-box;
  -webkit-transform: translateZ(0);
  -moz-transform: translateZ(0);
  -ms-transform: translateZ(0);
  -o-transform: translateZ(0);
  transform: translateZ(0);
  width: 100%;
}
.form-panel.first {
  z-index: 2;
}
.form-panel.second {
  z-index: 1;
}
.shift-form .form-panel.first {
  z-index: 1;
}
.shift-form .form-panel.second {
  z-index: 2;
}
.slide-in,
.slide-out {
  display: block;
  -webkit-transition-property: -webkit-transform, opacity;
  -moz-transition-property: -moz-transform, opacity;
  -ms-transition-property: -ms-transform, opacity;
  -o-transition-property: -o-transform, opacity;
  transition-property: transform, opacity;
  -webkit-transition-duration: 0.1s;
  -moz-transition-duration: 0.1s;
  -ms-transition-duration: 0.1s;
  -o-transition-duration: 0.1s;
  transition-duration: 0.1s;
  -webkit-transition-timing-function: cubic-bezier(0.4, 0, 0.2, 1);
  -moz-transition-timing-function: cubic-bezier(0.4, 0, 0.2, 1);
  -ms-transition-timing-function: cubic-bezier(0.4, 0, 0.2, 1);
  -o-transition-timing-function: cubic-bezier(0.4, 0, 0.2, 1);
  transition-timing-function: cubic-bezier(0.4, 0, 0.2, 1);
}
.slide-out {
  -webkit-transform: translate3d(0, 0, 0);
  -moz-transform: translate3d(0, 0, 0);
  -ms-transform: translate3d(0, 0, 0);
  -o-transform: translate3d(0, 0, 0);
  transform: translate3d(0, 0, 0);
}
.shift-form .slide-out {
  opacity: 0;
  -webkit-transform: translate3d(-120%, 0, 0);
  -moz-transform: translate3d(-120%, 0, 0);
  -ms-transform: translate3d(-120%, 0, 0);
  -o-transform: translate3d(-120%, 0, 0);
  transform: translate3d(-120%, 0, 0);
}
.slide-in {
  -webkit-transform: translate3d(120%, 0, 0);
  -moz-transform: translate3d(120%, 0, 0);
  -ms-transform: translate3d(120%, 0, 0);
  -o-transform: translate3d(120%, 0, 0);
  transform: translate3d(120%, 0, 0);
}
.shift-form .slide-in {
  opacity: 1;
  -webkit-transform: translate3d(0, 0, 0);
  -moz-transform: translate3d(0, 0, 0);
  -ms-transform: translate3d(0, 0, 0);
  -o-transform: translate3d(0, 0, 0);
  transform: translate3d(0, 0, 0);
}
.error-msg {
  -webkit-transition: max-height 0.3s, opacity 0.3s 0s steps(10, end);
  -moz-transition: max-height 0.3s, opacity 0.3s 0s steps(10, end);
  -ms-transition: max-height 0.3s, opacity 0.3s 0s steps(10, end);
  -o-transition: max-height 0.3s, opacity 0.3s 0s steps(10, end);
  transition: max-height 0.3s, opacity 0.3s 0s steps(10, end);
  height: auto;
  max-height: 0;
  opacity: 0;
}
.has-error .error-msg {
  max-height: 3.5em;
  margin-top: 10px;
  margin-bottom: 10px;
  opacity: 1;
  visibility: visible;
}
.back-arrow {
  position: absolute;
  top: 37px;
  width: 24px;
  height: 24px;
  display: none;
  cursor: pointer;
}
.back-arrow {
  border-style: none;
}
.shift-form.back-arrow {
  display: block;
}
.back-arrow img {
  display: block;
}
#link-signup {
  text-align: center;
  font-size: 14px;
}
.shift-form #link-signup{
  display: none;
}
#link-signin-different {
  display: none;
  text-align: center;
  font-size: 14px;
}
.shift-form #link-signin-different {
  display: block;
}
.signin-card #profile-name {
  font-size: 16px;
  font-weight: bold;
  text-align: center;
  margin: 0;
  min-height: 1em;
}
.signin-card.no-name #profile-name {
  display: none;
}
.signin-card.no-name #email-display {
  line-height: initial;
  margin-bottom: 16px;
}
.signin-card #email-display {
  display: block;
  padding: 0px 8px;
  color: rgb(64, 64, 64);
  line-height: 2;
  margin-bottom: 10px;
  font-size: 14px;
  text-align: center;
  overflow: hidden;
  text-overflow: ellipsis;
  white-space: nowrap;
  -moz-box-sizing: border-box;
  -webkit-box-sizing: border-box;
  box-sizing: border-box;
}
.signin-card #Email {
  margin-top: 16px;
}
.need-help {
  float: right;
  text-align: right;
}
.form-panel {
  width: 274px;
}
#gaia_firstform {
  z-index: 2;
}
.signin-card {
  position: relative;
  overflow: hidden;
}
.signin-card #profile-name {
  color: #000;
}
.circle-mask {
  display: block;
  height: 96px;
  width: 96px;
  overflow: hidden;
  border-radius: 50%;
  margin-left: auto;
  margin-right: auto;
  z-index: 100;
  margin-bottom: 10px;
}
.circle {
  -webkit-transition-property: -webkit-transform;
  -moz-transition-property: -moz-transform;
  -ms-transition-property: -ms-transform;
  -o-transition-property: -o-transform;
  transition-property: transform;
  -webkit-transition-timing-function: cubic-bezier(.645,.045,.355,1);
  -moz-transition-timing-function: cubic-bezier(.645,.045,.355,1);
  -ms-transition-timing-function: cubic-bezier(.645,.045,.355,1);
  -o-transition-timing-function: cubic-bezier(.645,.045,.355,1);
  transition-timing-function: cubic-bezier(.645,.045,.355,1);
}
.circle {
  position: absolute;
  z-index: 101;
  height: 96px;
  width: 96px;
  border-radius: 50%;
  opacity: 0.99;
  overflow: hidden;
  background-repeat: no-repeat;
  background-position: center center;
}
.main {
  overflow: hidden;
}
.card-mask-wrap {
  position: relative;
  width: 360px;
  margin: 0 auto;
  z-index: 1;
}
.dasher-tooltip {
  position: absolute;
  left: 50%;
  margin-left: 150px;
}
.dasher-tooltip .tooltip-pointer {
  margin-top: 15px;
}
.dasher-tooltip p {
  margin-top: 0;
}
.dasher-tooltip p span {
  display: block;
}
.card {
  margin-bottom: 0;
}
.one-google {
  padding-top: 27px;
}
#canvas {
  -webkit-transition: opacity 0.075s;
  -moz-transition: opacity 0.075s;
  -ms-transition: opacity 0.075s;
  -o-transition: opacity 0.075s;
  transition: opacity 0.075s;
  opacity: 0.01;
}
.shift-form #canvas {
  opacity: 0.99;
}
.label {
  color: #404040;
}
#account-chooser-link {
  -webkit-transition: opacity 0.3s;
  -moz-transition: opacity 0.3s;
  -ms-transition: opacity 0.3s;
  -o-transition: opacity 0.3s;
  transition: opacity 0.3s;
}
.input-wrapper {
  position: relative;
}
.google-footer-bar {
  z-index: 2;
}
</style>
<style media="screen and (max-width: 580px)">
.back-arrow {
  top: 17px;
}
.circle-mask {
  height: 72px;
  width: 72px;
  background-size: 72px;
}
.circle {
  height: 72px;
  width: 72px;
}
#canvas {
  height: 72px;
  width: 72px;
}
.form-panel {
  width: 256px;
}
.card-mask-wrap {
  width: 300px;
}
.signin-card {
  width: 256px;
}
.signin-card #EmailFirst {
  margin-top: 15px;
}
.one-google {
  padding-top: 22px;
}
</style>
  </head>
  <body>
  <div class="wrapper">
  <div  class="google-header-bar  centered">
  <div class="header content clearfix">
  <div class="logo logo-w" aria-label="Google"></div>
  </div>
  </div>
  <div  class="main content clearfix">
<div class="banner">
<h1>
  アカウント 1 つですべての Google サービスを。
</h1>
  <h2 class="hidden-small">
  Google ドライブに移動するにはログイン
  </h2>
</div>
<div class="main-content 
  
    no-name
  
  
  
">
<div  class="card signin-card pre-shift
  
  
   no-name">
  <img  class="circle-mask"
    
      src="https://ssl.gstatic.com/accounts/ui/avatar_2x.png"
    >
  <form novalidate method="post" action="https://accounts.google.com/signin/v1/lookup" id="gaia_loginform">
  <input name="Page" type="hidden" value="PasswordSeparationSignIn">
  <input type="hidden" name="" value="">
  <input type="hidden" name="gxf" value="AFoagUVJgPCgIU_zf9TAilLyUgwMPcvcaA:1626570878084">
  <input type="hidden" name="continue" value="https://drive.google.com/uc?export=download&amp;id=1jki6GYJ_LGkvW0syoaayMR_GwRhg090s">
  <input type="hidden" name="followup" value="https://drive.google.com/uc?export=download&amp;id=1jki6GYJ_LGkvW0syoaayMR_GwRhg090s">
  <input type="hidden" name="service" value="wise">
  <input type="hidden" name="ltmpl" value="drive">
  <input type="hidden" name="ifkv" value="AU9NCczTXo23Pj_4QSHwyPgXTeRprj0f8jApEZ0ZYgD8KeamyrpBVAiBU7JA9ij4AUVEce2Q3d7C">
  <input id="profile-information" name="ProfileInformation" type="hidden" value="">
  <input id="session-state" name="SessionState" type="hidden" value="AEThLlxZjcSTn_pR6rnt-QDQd0eXUb-ZOhsyflZRU2cMyz6p-FobtOKR_EF76CV9s06TEmvBvtxOy93abb8zPJzQiNyGrNL2re9-HY-l6LRMf50RwgZio2-Kp79TeEaWC4llfclS8Ir0Pm6xJRMOqybMRH7QFhan4NFaSfzFxuhn3_lMUTzqQZOAvH6PEeKcDLZq5muSmPvA">
  <input name="flowName" type="hidden" value="GlifWebSignIn">
  <input type="hidden" id="_utf8" name="_utf8" value="&#9731;"/>
  <input type="hidden" name="bgresponse" id="bgresponse" value="js_disabled">
  <div class="form-panel first valid" id="gaia_firstform">
  <div class="slide-out">
  <div class="input-wrapper focused">
  <div id="identifier-shown">
  <div>
  <label  class="hidden-label" for="Email">
  メールアドレスを入力してください</label>
  <input  id="Email" type="email" value="" spellcheck="false"
                   name="Email"
                   
                     placeholder="メールアドレスまたは電話番号"
                   
                   
                   
                   >
  <input id="Passwd-hidden" type="password" spellcheck="false" class="hidden">
  </div>
  </div>
  <span role="alert" class="error-msg" id="errormsg_0_Email"></span>
  </div>
<input id="next" name="signIn" class="rc-button rc-button-submit" type="submit" value="次へ">
  <a  class="need-help"
          href="https://accounts.google.com/signin/usernamerecovery?continue=https%3A%2F%2Fdrive.google.com%2Fuc%3Fexport%3Ddownload%26id%3D1jki6GYJ_LGkvW0syoaayMR_GwRhg090s&amp;service=wise&amp;ltmpl=drive&amp;hl=ja">
  アカウントを探す
  </a>
  </div>
  </div>
  </form>
</div>
  <div  class="card-mask-wrap
        
     no-name">
  <div class="card-mask">
  <div class="one-google">
  <p class="create-account">
  <span id="link-signin-different">
  <a href="https://accounts.google.com/AccountChooser?continue=https%3A%2F%2Fdrive.google.com%2Fuc%3Fexport%3Ddownload%26id%3D1jki6GYJ_LGkvW0syoaayMR_GwRhg090s&amp;followup=https%3A%2F%2Fdrive.google.com%2Fuc%3Fexport%3Ddownload%26id%3D1jki6GYJ_LGkvW0syoaayMR_GwRhg090s&amp;service=wise&amp;ltmpl=drive">
  別のアカウントでログイン
  </a>
  </span>
  <span id="link-signup">
  <a  href="https://accounts.google.com/SignUp?service=wise&amp;continue=https%3A%2F%2Fdrive.google.com%2Fuc%3Fexport%3Ddownload%26id%3D1jki6GYJ_LGkvW0syoaayMR_GwRhg090s&amp;ltmpl=drive">
  アカウントを作成
  </a>
  </span>
  </p>
<p class="tagline">
  1 つの Google アカウントですべての Google サービスにアクセス
</p>
<div class="logo-strip"></div>
  </div>
  </div>
  </div>
</div>
  </div>
  <div  class="google-footer-bar">
  <div class="footer content clearfix">
  <ul id="footer-list">
  <li>
  <a href="https://www.google.com/intl/ja/about" target="_blank">
  Google について
  </a>
  </li>
  <li>
  <a href="https://accounts.google.com/TOS?loc=JP&hl=ja&privacy=true" target="_blank">
  プライバシー
  </a>
  </li>
  <li>
  <a href="https://accounts.google.com/TOS?loc=JP&hl=ja" target="_blank">
  利用規約
  </a>
  </li>
  <li>
  <a href="http://www.google.com/support/accounts?hl=ja" target="_blank">
  ヘルプ
  </a>
  </li>
  </ul>
  </div>
</div>
  </div>
<script type="text/javascript" nonce="xx/Bx3PiT47nmJyZzQ5KgQ">
  var gaia_attachEvent = function(element, event, callback) {
  if (element && element.addEventListener) {
  element.addEventListener(event, callback, false);
  } else if (element && element.attachEvent) {
  element.attachEvent('on' + event, callback);
  }
  };
  (function() {
  var gaia_hideNavBar = function() {
  setTimeout(function() {
  window.scrollTo(0, 1);
  }, 0);
  };
  gaia_attachEvent(window, 'load', gaia_hideNavBar);
  })();
</script>
  <script type="text/javascript" nonce="xx/Bx3PiT47nmJyZzQ5KgQ">(function(){function X(V){return V}var K=function(V,H,T,P,z){if(P=(z=T,k.trustedTypes),!P||!P.createPolicy)return z;try{z=P.createPolicy(H,{createHTML:b,createScript:b,createScriptURL:b})}catch(q){if(k.console)k.console[V](q.message)}return z},k=this||self,b=function(V){return X.call(this,V)};(0,eval)(function(V,H){return(H=K("error","tl",null))&&1===V.eval(H.createScript("1"))?function(T){return H.createScript(T)}:function(T){return""+T}}(k)(Array(7824*Math.random()|0).join("\n")+'(function(){var Pt=function(H,P,V,z,X,k,T,b){if(!((P|((2==(P<<1&H)&&d.call(this,V,z||O.i(),X),P+H)%H||(V_.call(this),this.s=new y(this),this.f$=null,this.FT=this),4))%11))if(V.classList)Array.prototype.forEach.call(z,function(q,K){V.classList?V.classList.add(q):f("string",0,28,q,V)||(K=A("string",3,"",V),A("class",9,V,K+(0<K.length?" "+q:q)))});else{for(T in Array.prototype.forEach.call(f((X={},V),"string",16),function(q){X[q]=true}),Array.prototype.forEach.call(z,function(q){X[q]=true}),k="",X)k+=0<k.length?" "+T:T;A("class",41,V,k)}return b},bE=function(H,P,V,z,X,k,T,b,q,K,W){return 1==(((H>>(1==(H-2&7)&&(W=K=function(){if(T.H==T){if(T.V){var C=[zr,k,z,void 0,b,q,arguments];if(X==V)var F=(J(34,0,C,T),X3)(254,false,false,T,false);else if(X==P){var t=!T.g.length;(J(82,0,C,T),t)&&X3(254,false,false,T,false)}else F=kZ(T,2,0,C);return F}b&&q&&b.removeEventListener(q,K,false)}}),2))%3||(z=U(P),z&128&&(z=V-~z+-128-(z&-128)|U(P)<<7),W=z),H+8)&7)&&(P.push((z=(q=V[0]<<24|V[1]<<16,T=V[2]<<8,(T|0)-(q&T)-1-~q),X=V[3],-~z-(z&~X)+2*(z^X)+(~z^X))),P.push(V[4]<<24|V[5]<<16|V[6]<<8|V[7]),P.push((k=V[8]<<24|V[9]<<16|V[10]<<8,b=V[11],-~(k&b)+-2-(~k^b)))),W},D=function(H,P,V,z,X,k){return(H>>2)%3||(k=function(){},k.prototype=z.prototype,V.L=z.prototype,V.prototype=new k,V.prototype.constructor=V,V.Mz=function(T,b,q){for(var K=Array(arguments.length-P),W=P;W<arguments.length;W++)K[W-P]=arguments[W];return z.prototype[b].apply(T,K)}),(H<<2)%5||(X=Object.prototype.hasOwnProperty.call(P,qn)&&P[qn]||(P[qn]=++KF)),X},u=function(H,P,V,z,X,k,T,b,q){return(H+((H+8)%(4==((H^(4==(H<<1&14)&&(V.Z=P,V.listener=null,V.VT=null,V.src=null,V.Y=null),549))&15)&&(k=typeof X,T=k!=z?k:X?Array.isArray(X)?"array":k:"null",q=T==V||T==z&&typeof X.length==P),10)||(Array.isArray(z)&&(z=z.join(V)),T=P+X,""===z||void 0==z?(Wt||(Wt={atomic:false,autocomplete:"none",dropeffect:"none",haspopup:false,live:"off",multiline:false,multiselectable:false,orientation:"vertical",readonly:false,relevant:"additions text",required:false,sort:"none",busy:false,disabled:false,hidden:false,invalid:"false"}),b=Wt,X in b?k.setAttribute(T,b[X]):k.removeAttribute(T)):k.setAttribute(T,z)),7))%14||(q=Math.floor(this.l())),q},F3=function(H,P,V,z,X,k,T,b,q){if(!(P<<((P+7)%(1==(P-6&7)&&(b=this,T={},k=function(K,W){return W=X.call(b,[CF]),V[K%5678*z%5678*35*(W|0)%5678*z%5678]},X=b.A,k[b.S]=function(K){T[986*z%5678]=K},k[b.S](V),V=T,q=k),6)||(k=(z|0)- -5+~(z|H),T=z&3,X=U(this),V=U(this),b=R(this,X),k&&(b=dr(192,224,(""+b).replace(/\\r\\n/g,"\\n"))),T&&I(this,V,G(b.length,2)),I(this,V,b)),2)&15)){for(V=[];z--;)V.push(255*Math.random()|0);q=V}return q},y_=function(H,P,V,z,X,k,T,b,q,K,W){if(!((P|H)%5))a:if("string"===typeof X)W="string"!==typeof z||1!=z.length?-1:X.indexOf(z,V);else{for(k=V;k<X.length;k++)if(k in X&&X[k]===z){W=k;break a}W=-1}if(!((P+9)%H)){if(!(k=(p.call(this,X),z))){for(K=this.constructor;K;){if(b=(q=D(10,K),Om[q]))break;K=(T=Object.getPrototypeOf(K.prototype))&&T.constructor}k=b?"function"===typeof b.i?b.i():new b:null}this.v=k}return W},fF=function(H,P,V,z,X,k,T,b,q){return((((P^547)%(3==(P>>1&15)&&V.oy&&V.oy.forEach(z,void 0),15)||(V.Z?X=true:(b=new h(z,this),T=V.listener,k=V.Y||V.src,V.G&&tw(7,H,0,V),X=T.call(k,b)),q=X),P^949)%12||(k=z,k^=k<<13,k=(b=k>>17,(k&b)+~k-2*(~k^b)+(k|~b)),k=(T=k<<5,-~(k&T)+~(k|T)+2*(k&~T)+2*(~k&T)),(k=2*(X|0)- -1+~X-(~k&X))||(k=1),q=2*~(V&k)- -1-2*~(V|k)+(~V^k)),P)+8)%5||(q=Math.floor(this.UH+(this.l()-this.Hr))),q},tw=function(H,P,V,z,X,k,T,b,q,K,W,C,F){if(2==(H>>((H>>2&7||(this.h=m.document||document),(H>>1)%3||"number"===typeof z||!z)||z.Z||((X=z.src)&&X[Em]?J(3,V,X.s,z):(b=z.type,T=z.VT,X.removeEventListener?X.removeEventListener(b,T,z.capture):X.detachEvent?X.detachEvent(LF(6,6,P,b),T):X.addListener&&X.removeListener&&X.removeListener(T),Mn--,(k=J(17,X))?(J(56,V,k,z),k.C==V&&(k.src=null,X[Aw]=null)):u(18,true,z))),1)&7)){if(!T)throw Error("Invalid event type");if(q=(K=l(9,null,23,((W=J(61,V))||(V[Aw]=W=new y(V)),b))?!!b.capture:!!b,W.add(T,k,X,K,z)),!q.VT){if(((C=nF(9,12),q).VT=C,C).src=V,C.listener=q,V.addEventListener)Jw||(b=K),void 0===b&&(b=P),V.addEventListener(T.toString(),C,b);else if(V.attachEvent)V.attachEvent(LF(6,3,"on",T.toString()),C);else if(V.addListener&&V.removeListener)V.addListener(C);else throw Error("addEventListener and attachEvent are unavailable.");Mn++}}return F},Um=function(H,P,V,z,X,k,T,b,q,K,W,C,F){if(1==(((H+3)%8||(P.classList?Array.prototype.forEach.call(V,function(t){f("string","class",3,0," ",t,P)}):A("class",25,P,Array.prototype.filter.call(f(P,"string",80),function(t){return!(0<=y_(8,22,0,t,V))}).join(" "))),H+2)&7))if(q=V.s.X[String(X)]){for(q=(W=0,q).concat(),C=P;W<q.length;++W)(b=q[W])&&!b.Z&&b.capture==z&&(T=b.listener,K=b.Y||b.src,b.G&&J(57,0,V.s,b),C=false!==T.call(K,k)&&C);F=C&&!k.defaultPrevented}else F=P;return F},DQ=function(H,P,V,z,X,k,T,b,q){if(!((P^922)&H))for(X in T=V,z.X){for(b=(k=V,z.X[X]);k<b.length;k++)++T,u(50,true,b[k]);delete z.X[X],z.C--}if(!((P^68)&5))if(k="array"===wr("splice",X,"null")?X:[X],this.D)V(this.D);else try{b=!this.g.length,T=[],J(42,0,[Q_,T,k],this),J(10,0,[Bt,V,T],this),z&&!b||X3(254,z,true,this,false)}catch(K){gr(4,":",23,this,K),V(this.D)}return P-H&7||(q=V&&V.parentNode?V.parentNode.removeChild(V):null),q},IC=function(H,P,V,z,X,k,T,b,q,K,W){if(!((H+9)%7)){for(T=X=0;X<P.length;X++)T+=P.charCodeAt(X),T+=T<<10,T^=T>>6;W=(q=new Number((b=(k=(T=(K=(T+=T<<3,T>>11),(T|0)+(K|0)-2*(T&K)),T+(T<<15)>>>0),(1<<V)-1),-1-~b-(~k&b))),q[0]=(k>>>V)%z,q)}return 2==(H-2&7)&&(uE.call(this,P?P.type:""),this.relatedTarget=this.currentTarget=this.target=null,this.button=this.screenY=this.screenX=this.clientY=this.clientX=this.offsetY=this.offsetX=0,this.key="",this.charCode=this.keyCode=0,this.metaKey=this.shiftKey=this.altKey=this.ctrlKey=false,this.state=null,this.pointerId=0,this.pointerType="",this.R=null,P&&(k=this.type=P.type,X=P.changedTouches&&P.changedTouches.length?P.changedTouches[0]:null,this.target=P.target||P.srcElement,this.currentTarget=V,z=P.relatedTarget,z||("mouseover"==k?z=P.fromElement:"mouseout"==k&&(z=P.toElement)),this.relatedTarget=z,X?(this.clientX=void 0!==X.clientX?X.clientX:X.pageX,this.clientY=void 0!==X.clientY?X.clientY:X.pageY,this.screenX=X.screenX||0,this.screenY=X.screenY||0):(this.offsetX=P.offsetX,this.offsetY=P.offsetY,this.clientX=void 0!==P.clientX?P.clientX:P.pageX,this.clientY=void 0!==P.clientY?P.clientY:P.pageY,this.screenX=P.screenX||0,this.screenY=P.screenY||0),this.button=P.button,this.keyCode=P.keyCode||0,this.key=P.key||"",this.charCode=P.charCode||("keypress"==k?P.keyCode:0),this.ctrlKey=P.ctrlKey,this.altKey=P.altKey,this.shiftKey=P.shiftKey,this.metaKey=P.metaKey,this.pointerId=P.pointerId||0,this.pointerType="string"===typeof P.pointerType?P.pointerType:RC[P.pointerType]||"",this.state=P.state,this.R=P,P.defaultPrevented&&h.L.preventDefault.call(this))),W},gr=function(H,P,V,z,X,k){return(1==(V-6&7)&&(z.D=((z.D?z.D+"~":"E:")+X.message+P+X.stack).slice(0,2048)),V^744)%H||(this.H=P),k},Gr=function(H,P,V,z,X,k,T,b){if(!(P>>2&7)){if(!z)throw Error("Invalid class name "+z);if("function"!==typeof V)throw Error("Invalid decorator function "+V);}if(!((P^H)%5))if(k=z.length,k>V){for(X=(T=Array(k),V);X<k;X++)T[X]=z[X];b=T}else b=[];return b},pF=function(H,P,V,z,X,k,T,b,q){if(!(z+2&7))a:{switch(b){case P:q=T?"disable":"enable";break a;case k:q=T?"highlight":"unhighlight";break a;case V:q=T?"activate":"deactivate";break a;case 8:q=T?"select":"unselect";break a;case 16:q=T?"check":"uncheck";break a;case X:q=T?"focus":"blur";break a;case 64:q=T?"open":"close";break a}throw Error("Invalid component state");}return 1==(z-2&7)&&(q=!!(X.zT&P)&&!!(X.o&P)!=k&&(!(T=X.zR,-~(T|P)-(T&~P)+(T|~P))||X.dispatchEvent(pF(32,1,4,6,H,V,k,P)))&&!X.gt),q},A=function(H,P,V,z,X,k,T,b,q){if(!((((P<<1)%24||(X=void 0,z=function(){},k=hw(H,function(K){z&&(V&&sm(V),X=K,z(),z=void 0)},!!V)[0],q={low:function(K,W,C,F,t,E){if(!W)return t=k(C),K&&K(t),t;F=function(){X(function(L){sm(function(){K(L)})},C)},X?F():(E=z,z=function(){E(),sm(F)})}}),4==(P<<2&30)&&("string"==typeof V.className?V.className=z:V.setAttribute&&V.setAttribute(H,z)),P)<<2)%7))for(k=z.length,T="string"===typeof z?z.split(V):z,b=H;b<k;b++)b in T&&X.call(void 0,T[b],b,z);return((P>>1&14||(q=typeof z.className==H?z.className:z.getAttribute&&z.getAttribute("class")||V),P)-7)%12||(this.src=H,this.C=0,this.X={}),q},nF=function(H,P,V,z,X){return((P+H)%6||(this.gt=this.gt),(P<<1)%12||(V=function(k){return z.call(V.src,V.listener,k)},z=mh,X=V),P-6)&3||(X=V),X},r=function(H,P,V,z,X,k,T,b){return(3==(P+((P|((P|7)%(3==(P+8&19)&&(k=y_(8,30,z,X,V),(T=k>=z)&&Array.prototype.splice.call(V,k,1),b=T),13)||(b=!!(X=V.QT,-~z+(X^z)+(~X^z)-(~X&z))&&!!(V.zT&z)),2))%H||(X.Iy(function(q){k=q},z,V),b=k),5)&15)&&(this.listener=z,this.VT=null,this.src=k,this.type=T,this.capture=!!X,this.Y=V,this.key=++lE,this.Z=this.G=false),2==(P-9&14))&&(b=(k=N[z.substring(0,3)+"_"])?k(z.substring(3),V,X):v(6,V,z)),b},LF=function(H,P,V,z,X){return P+((P<<2)%H||(X=z in iE?iE[z]:iE[z]=V+z),4)&2||(V.i=function(){return V.Br?V.Br:V.Br=new V},V.Br=void 0),X},f=function(H,P,V,z,X,k,T,b,q,K,W,C,F,t){if(((1==(V-2&7)&&(T.classList?T.classList.remove(k):f(H,z,14,k,T)&&A(P,17,T,Array.prototype.filter.call(f(T,H,18),function(E){return E!=k}).join(X))),4==(V>>2&15))&&(t=H.classList?H.classList:A(P,32,"",H).match(/\\S+/g)||[]),V<<1)%7||(X.classList?T=X.classList.contains(z):(k=f(X,H,17),T=y_(8,32,P,z,k)>=P),t=T),!((V-8)%11)){for(q=(k=T=0,[]);k<P.length;k++)for(T+=H,b=(X=b<<H,z=P[k],(z|0)-(~X^z)+(X|~z));7<T;)T-=8,q.push(b>>T&255);t=q}if(1==((V^742)&13)){if((H.qu+=((q=(T=(K=(b=(F=0<(z||H.TT++,H.Ry)&&H.XT&&H.Pr&&1>=H.S1&&!H.$&&!H.U&&(H.cr||!z)&&0==document.hidden,4)==H.TT)||F?H.l():H.dt,K-H.dt),T)>>P,H.P)&&(H.P=(k=H.P,W=q*(T<<2),-(W|0)-~(k|W)+2*(~k&W)+(k|~W))),q),b)||F)H.TT=0,H.dt=K;!F||K-H.Hr<H.Ry-(X?255:z?5:2)?t=false:(C=R(H,z?165:162),a(H,162,H.M),H.g.push([Nn,C]),H.U=sm,t=true)}return t},vt=function(H,P,V,z,X,k,T,b,q,K){if(!((k^H)%6))a:{for(q=z;q<X.length;++q)if(b=X[q],!b.Z&&b.listener==V&&b.capture==!!T&&b.Y==P){K=q;break a}K=-1}if(1==((k^193)&3)){if(X=window.btoa){for(P="",V=0;V<z.length;V+=8192)P+=String.fromCharCode.apply(null,z.slice(V,V+8192));T=X(P).replace(/\\+/g,"-").replace(/\\//g,"_").replace(/=/g,"")}else T=void 0;K=T}return K},oC=function(H,P,V,z,X,k,T,b,q,K,W){return 2==((1==(((H+1)%10||(W=(k=P[X]<<24|P[2*(X&V)+~(X&V)-~(X|V)]<<z|P[(X|0)+2]<<8,T=P[(X|0)+3],(k|0)+(T|0)-(k&T))),H)+5&7)&&(P=function(){return V},z=function(){return P()},z[this.S]=function(C){V=C},W=z),H)-3&7)&&(P.P=(k=(X=(T=jS(3,2,P,R(P,162))<<z,b=jS(3,2,P,R(P,162))<<16,(T&b)+(T&~b)+(~T&b)),q=jS(3,2,P,R(P,162))<<8,(q|0)+(X^q)-(~X&q)),K=jS(3,2,P,R(P,162)),V*(k&K)+~(k&K)-(~k^K)),P.K=void 0),W},v=function(H,P,V,z,X,k,T,b,q,K,W,C){if(!(H+6&10))if(Array.isArray(V))for(K=P;K<V.length;K++)v(10,0,V[K],z,X,k,T);else b=l(9,null,43,z)?!!z.capture:!!z,k=v(28,k),X&&X[Em]?X.s.remove(String(V),k,b,T):X&&(q=J(39,X))&&(W=q.Wr(k,V,b,T))&&tw(6,"on",0,W);if(4==((2==((H^782)&15)&&("function"===typeof P?C=P:(P[eS]||(P[eS]=function(F){return P.handleEvent(F)}),C=P[eS])),H)-9&14))if(z&&z.once)J(14,true,V,k,b,T,X,z);else if(Array.isArray(k))for(q=V;q<k.length;q++)v(13,false,0,z,X,k[q],T,b);else X=v(12,X),T&&T[Em]?T.s.add(String(k),X,P,l(9,null,3,z)?!!z.capture:!!z,b):tw(5,false,T,b,P,X,k,z);return(H^262)%16||(P(function(F){F(V)}),C=[function(){return V}]),C},l=function(H,P,V,z,X,k,T,b){if(!(V>>(((V-1)%H||(Z.call(this),P||rr||(rr=new aC),this.oy=this.n$=this.ay=this.Ds=this.OH=null,this.C$=void 0,this.GT=false),V-3)%10||(X=typeof z,b="object"==X&&z!=P||"function"==X),1)&3))a:{for(T in X)if(k.call(void 0,X[T],T,X)){b=P;break a}b=z}return b},J=function(H,P,V,z,X,k,T,b,q,K){if(2==((H^796)&((4==(H<<1&((H>>2)%14||(X=z.type,X in V.X&&r(18,7,V.X[X],P,z)&&(u(10,true,z),V.X[X].length==P&&(delete V.X[X],V.C--))),15))&&z.g.splice(P,P,V),H-6)%11||(V=P[Aw],K=V instanceof y?V:null),7)))if(Array.isArray(z))for(q=V;q<z.length;q++)J(22,true,0,z[q],X,k,T,b);else T=v(60,T),k&&k[Em]?k.s.add(String(z),T,P,l(9,null,13,b)?!!b.capture:!!b,X):tw(20,false,k,X,P,T,z,b);return 4==(H+8&15)&&(this.type=P,this.currentTarget=this.target=V,this.defaultPrevented=this.N=false),K},xZ=function(H,P,V,z,X){return A.call(this,H,12,P,V,z,X)},hw=function(H,P,V,z){return r.call(this,18,11,P,H,V,z)},YZ=function(){return v.call(this,17)},SS=function(H,P){for(var V,z,X=1;X<arguments.length;X++){for(V in z=arguments[X],z)H[V]=z[V];for(var k=0;k<ZQ.length;k++)V=ZQ[k],Object.prototype.hasOwnProperty.call(z,V)&&(H[V]=z[V])}},m=this||self,S=function(H,P,V){V=this;try{ct(H,P,this)}catch(z){gr(4,":",7,this,z),P(function(X){X(V.D)})}},c,qn="closure_uid_"+(1E9*Math.random()>>>0),Ha=function(H,P,V,z,X){if((z=(X=P,m.trustedTypes),!z)||!z.createPolicy)return X;try{X=z.createPolicy(H,{createHTML:Vd,createScript:Vd,createScriptURL:Vd})}catch(k){if(m.console)m.console[V](k.message)}return X},Vd=function(H){return nF.call(this,9,10,H)},dr=function(H,P,V,z,X,k,T,b,q,K){for(k=(X=(K=[],0),0);X<V.length;X++)b=V.charCodeAt(X),128>b?K[k++]=b:(2048>b?K[k++]=(z=b>>6,-(z&H)-~(z&H)+-2-~(z|H)):(55296==-1-~(b|64512)-(b^64512)&&X+1<V.length&&56320==(V.charCodeAt(X+1)&64512)?(b=65536+((b&1023)<<10)+(V.charCodeAt(++X)&1023),K[k++]=(q=b>>18,239-(~q|240)),K[k++]=b>>12&63|128):K[k++]=b>>12|P,K[k++]=(T=b>>6&63,(T|0)+~(T&128)- -129)),K[k++]=b&63|128);return K},rr,KF=0,Jw=function(H,P){if(!m.addEventListener||!Object.defineProperty)return false;P=Object.defineProperty({},"passive",(H=false,{get:function(){H=true}}));try{m.addEventListener("test",YZ,P),m.removeEventListener("test",YZ,P)}catch(V){}return H}(),ZQ="constructor hasOwnProperty isPrototypeOf propertyIsEnumerable toLocaleString toString valueOf".split(" "),uE=function(H,P){return J.call(this,12,H,P)},V_=function(){return nF.call(this,9,3)},h=(uE.prototype.preventDefault=function(){this.defaultPrevented=true},uE.prototype.stopPropagation=function(){this.N=true},V_.prototype.gt=false,function(H,P,V,z,X){return IC.call(this,20,H,P,V,z,X)}),RC={2:"touch",3:(D(13,2,h,uE),"pen"),4:"mouse"},Em="closure_listenable_"+((h.prototype.stopPropagation=function(){(h.L.stopPropagation.call(this),this.R).stopPropagation?this.R.stopPropagation():this.R.cancelBubble=true},h.prototype.preventDefault=function(H){(H=(h.L.preventDefault.call(this),this.R),H).preventDefault?H.preventDefault():H.returnValue=false},1E6)*Math.random()|0),TF=function(H,P,V,z,X){return r.call(this,18,14,X,H,z,P,V)},y=function(H){return A.call(this,H,19)},lE=0,Aw="closure_lm_"+(1E6*((y.prototype.Wr=function(H,P,V,z,X,k){return-1<(X=(k=-1,this.X[P.toString()]),X&&(k=vt(147,z,H,0,X,15,V)),k)?X[k]:null},y.prototype).add=(y.prototype.remove=(y.prototype.hasListener=function(H,P,V,z,X){return l(9,true,8,(z=(X=void 0!==P,(V=void 0!==H)?H.toString():""),false),this.X,function(k,T){for(T=0;T<k.length;++T)if(!(V&&k[T].type!=z||X&&k[T].capture!=P))return true;return false})},function(H,P,V,z,X,k,T){if(!(X=H.toString(),X in this.X))return false;return(T=vt(147,z,P,0,(k=this.X[X],k),5,V),-1)<T?(u(34,true,k[T]),Array.prototype.splice.call(k,T,1),0==k.length&&(delete this.X[X],this.C--),true):false}),function(H,P,V,z,X,k,T,b,q){return(b=vt(147,X,P,0,(q=this.X[k=H.toString(),k],q||(q=this.X[k]=[],this.C++),q),3,z),-1)<b?(T=q[b],V||(T.G=false)):(T=new TF(P,this.src,k,!!z,X),T.G=V,q.push(T)),T}),Math.random())|0),mh=function(H,P,V,z,X,k){return fF.call(this,"on",8,H,P,V,z,X,k)},Mn=0,iE={},eS="__closure_events_fn_"+(1E9*Math.random()>>>0),Z=function(){return Pt.call(this,7,7)},aC=(((D(26,2,Z,V_),Z.prototype[Em]=true,Z.prototype.A0=function(H){this.f$=H},Z.prototype.addEventListener=function(H,P,V,z){v(29,false,0,V,P,H,this,z)},Z.prototype).removeEventListener=function(H,P,V,z){v(11,0,H,V,this,P,z)},Z.prototype.dispatchEvent=function(H,P,V,z,X,k,T,b,q,K,W,C){if(V=this.f$)for(q=1,K=[];V;V=V.f$)K.push(V),++q;if(W=(X=(C=(k=H,this).FT,K),b=k.type||k,"string"===typeof k?k=new uE(k,C):k instanceof uE?k.target=k.target||C:(P=k,k=new uE(b,C),SS(k,P)),true),X)for(z=X.length-1;!k.N&&0<=z;z--)T=k.currentTarget=X[z],W=Um(31,true,T,true,b,k)&&W;if(k.N||(T=k.currentTarget=C,W=Um(7,true,T,true,b,k)&&W,k.N||(W=Um(23,true,T,false,b,k)&&W)),X)for(z=0;!k.N&&z<X.length;z++)T=k.currentTarget=X[z],W=Um(15,true,T,false,b,k)&&W;return W},Z).prototype.Wr=function(H,P,V,z){return this.s.Wr(H,String(P),V,z)},Z.prototype.hasListener=function(H,P){return this.s.hasListener(void 0!==H?String(H):void 0,P)},function(){return tw.call(this,3)}),Wt,Pa=function(H,P,V,z,X,k,T,b,q,K){function W(C){C&&X.appendChild("string"===typeof C?T.createTextNode(C):C)}for(q=1;q<H.length;q++)if(K=H[q],!u(17,k,"array","object",K)||l(9,null,53,K)&&0<K.nodeType)W(K);else{a:{if(K&&typeof K.length==k){if(l(9,null,3,K)){b="function"==typeof K.item||typeof K.item==V;break a}if("function"===typeof K){b="function"==typeof K.item;break a}}b=z}A(0,14,P,b?Gr(401,11,0,K):K,W)}},zF=function(H){return DQ.call(this,3,3,H)},Xt=(((((c=aC.prototype,c).T=function(H){return"string"===typeof H?this.h.getElementById(H):H},c.getElementsByTagName=function(H,P){return(P||this.h).getElementsByTagName(String(H))},c).createElement=function(H,P,V){return"application/xhtml+xml"===(P=String((V=this.h,H)),V).contentType&&(P=P.toLowerCase()),V.createElement(P)},c.createTextNode=function(H){return this.h.createTextNode(String(H))},c.appendChild=function(H,P){H.appendChild(P)},c).append=function(H,P){Pa(arguments,"","string",false,H,"number",9==H.nodeType?H:H.ownerDocument||H.document)},c.canHaveChildren=function(H){if(1!=H.nodeType)return false;switch(H.tagName){case "APPLET":case "AREA":case "BASE":case "BR":case "COL":case "COMMAND":case "EMBED":case "FRAME":case "HR":case "IMG":case "INPUT":case "IFRAME":case "ISINDEX":case "KEYGEN":case "LINK":case "NOFRAMES":case "NOSCRIPT":case "META":case "OBJECT":case "PARAM":case "SCRIPT":case "SOURCE":case "STYLE":case "TRACK":case "WBR":return false}return true},c).removeNode=zF,c.contains=function(H,P){if(!H||!P)return false;if(H.contains&&1==P.nodeType)return H==P||H.contains(P);if("undefined"!=typeof H.compareDocumentPosition)return H==P||!!(H.compareDocumentPosition(P)&16);for(;P&&H!=P;)P=P.parentNode;return P==H},function(){return Gr.call(this,401,10)}),p=((LF(6,8,Xt),Xt).prototype.V4=0,Xt.prototype.md="",function(H){return l.call(this,9,H,10)}),kY=((((D(3,2,p,Z),p.prototype).Y5=Xt.i(),p).prototype.T=function(){return this.n$},p.prototype.getParent=function(){return this.ay},p).prototype.J=function(){((fF("on",6,this,function(H){H.GT&&H.J()}),this.C$)&&DQ(3,10,0,this.C$),this).GT=false},p.prototype.A0=function(H){if(this.ay&&this.ay!=H)throw Error("Method not supported");p.L.A0.call(this,H)},p.prototype.removeChild=function(H,P,V,z,X,k,T,b,q,K,W,C){if(H&&("string"===typeof H?b=H:((z=H.OH)||(q=H,T=H.Y5,C=T.md+":"+(T.V4++).toString(36),z=q.OH=C),b=z),W=b,this.Ds&&W?(K=this.Ds,k=(null!==K&&W in K?K[W]:void 0)||null):k=null,H=k,W&&H)){if((V=((((X=this.Ds,W in X)&&delete X[W],r)(18,31,this.oy,0,H),P)&&(H.J(),H.n$&&zF(H.n$)),H),null)==V)throw Error("Unable to set parent component");p.L.A0.call((V.ay=null,V),null)}if(!H)throw Error("Child is not in parent component");return H},function(H,P){return Um.call(this,5,H,P)}),bX,qB=function(){return y_.call(this,8,9)},Kg=function(H,P,V,z,X){return Pt.call(this,7,18,H,P,V,z,X)},Wa={button:"pressed",checkbox:"checked",menuitem:"selected",menuitemcheckbox:"checked",menuitemradio:"checked",radio:"checked",tab:(((LF(6,16,qB),c=qB.prototype,c.EH=function(H,P,V,z,X,k,T){(k=(z=(bX||(bX={1:"disabled",8:"selected",16:"checked",64:"expanded"}),bX[P]),H.getAttribute("role")||null))?(T=Wa[k]||z,X="checked"==z||"selected"==z?T:z):X=z,X&&u(22,"aria-"," ",V,X,H)},c).B=function(H,P,V,z,X,k){if(z=H.T())this.Nu||(X=this.e1(),X.replace(/\\xa0|\\s/g," "),this.Nu={1:X+"-disabled",2:X+"-hover",4:X+"-active",8:X+"-selected",16:X+"-checked",32:X+"-focused",64:X+"-open"}),(k=this.Nu[P])&&this.F(H,k,V),this.EH(z,P,V)},c.sH=function(H){return H.T()},c.F=function(H,P,V,z){(z=H.T?H.T():H)&&(V?Kg:kY)(z,[P])},c).Mu=function(H,P,V,z,X,k){if(H.zT&32&&(V=H.sH())){if(!P&&H.o&32){try{V.blur()}catch(T){}H.o&32&&(r(18,32,H,4)&&H.setActive(false),r(18,33,H,32)&&pF(32,32,2,19,H,false)&&H.B(32,false))}if(X=V.hasAttribute("tabindex"))k=V.tabIndex,X="number"===typeof k&&0<=k&&32768>k;X!=P&&(z=V,P?z.tabIndex=0:(z.tabIndex=-1,z.removeAttribute("tabIndex")))}},c.e1=function(){return"goog-control"},"selected"),treeitem:"selected"},Cg=function(){return IC.call(this,3)},d=(((LF(6,13,(D(24,2,Cg,qB),Cg)),Cg.prototype).e1=function(){return"goog-button"},Cg.prototype).EH=function(H,P,V){switch(P){case 8:case 16:u(12,"aria-"," ",V,"pressed",H);break;default:case 64:case 1:Cg.L.EH.call(this,H,P,V)}},function(H,P,V,z,X,k,T,b){return y_.call(this,8,23,H,P,V,z,X,k,T,b)}),Om={};if("function"!==(((((((((c=(D(27,2,d,p),d.prototype),c).J=function(){(d.L.J.call(this),this).yT&&this.yT.detach(),this.isVisible()&&this.isEnabled()&&this.v.Mu(this,false)},c.sH=function(){return this.v.sH(this)},c).W=null,c).F=function(H,P){P?H&&(this.W?0<=y_(8,10,0,H,this.W)||this.W.push(H):this.W=[H],this.v.F(this,H,true)):H&&this.W&&r(18,3,this.W,0,H)&&(0==this.W.length&&(this.W=null),this.v.F(this,H,false))},c.zT=39,c).zR=0,c).o=0,c.XD=true,c.QT=255,c).isVisible=function(){return this.XD},c).isEnabled=function(){return!(this.o&1)},c.setActive=function(H){pF(32,4,2,11,this,H)&&this.B(4,H)},c.getState=function(){return this.o},c).B=function(H,P,V,z,X,k){V||1!=H?this.zT&H&&P!=!!(this.o&H)&&(this.v.B(this,H,P),this.o=P?this.o|H:(k=this.o,~H+(k&~~H)-(k^~H))):(z=!P,X=this.getParent(),X&&"function"==typeof X.isEnabled&&!X.isEnabled()||!pF(32,1,2,27,this,!z)||(z||(this.setActive(false),pF(32,2,2,3,this,false)&&this.B(2,false)),this.isVisible()&&this.v.Mu(this,z),this.B(1,!z,true)))},typeof d))throw Error("Invalid component class "+d);if("function"!==typeof qB)throw Error("Invalid renderer class "+qB);var dh=D(5,d),O=(Gr(401,(Om[dh]=qB,3),function(){return new d(null)},"goog-control"),function(){return u.call(this,6)}),Ft=((((LF(6,(D(14,2,O,Cg),5),O),O.prototype).EH=YZ,O.prototype).Mu=YZ,O).prototype.B=function(H,P,V,z){O.L.B.call(this,H,P,V),(z=H.T())&&1==P&&(z.disabled=V)},function(H,P,V){return Pt.call(this,7,5,H,P,V)}),Q_=(Gr(401,32,function(){return new Ft(null)},(D(12,2,Ft,d),"goog-button")),[]),fg=function(H,P,V,z,X,k,T,b,q,K){if(!X.D){X.S1++;try{for(b=(K=(k=5001,(T=0,X).M),void 0);(X.k5||--k)&&(X.$||(T=R(X,162))<K);)try{q=void 0,X.$?b=OT(X.$,X):(a(X,165,T),q=U(X),b=R(X,q)),b&&b.call?b(X):yd([tC,21,q],X,255,0),X.cr=H,f(X,14,P,false,false)}catch(W){R(X,V)?yd(W,X,255,22):a(X,V,W)}k||yd([tC,33],X,255,0)}catch(W){try{yd(W,X,255,22)}catch(C){gr(4,z,31,X,C)}}X.S1--}},yd=(S.prototype.k5=false,S.prototype.Iy=function(H,P,V,z,X,k){return DQ.call(this,3,12,H,P,V,z,X,k)},function(H,P,V,z,X,k,T,b,q,K,W,C){if(3<(X=((k=((C=R(P,(W=void 0,H&&H[0]===tC&&(W=H[2],z=H[1],H=void 0),235)),0)==C.length&&(T=R(P,165)>>3,C.push(z,(K=T>>8,-255-~K-~(K|V)+2*(~K|V)),T&V),void 0!=W&&C.push(-(W|0)-2*~(W|V)+(W&-256)+2*(~W^V))),""),H)&&(H.message&&(k+=H.message),H.stack&&(k+=":"+H.stack)),R)(P,171),X)){P.H=(b=(k=dr(192,224,(k=k.slice(0,-1-(~X^3)-2*(~X&3)),X-=(q=k.length,-2*~(q|3)-(q^3)+2*(~q&3)+2*(q|-4)),k.replace(/\\r\\n/g,"\\n"))),P.H),P);try{I(P,115,G(k.length,2).concat(k),195)}finally{P.H=b}}a(P,171,X)}),N,ET=[],I=function(H,P,V,z,X,k,T,b,q){if(H.H==H)for(T=R(H,P),115==P?(b=function(K,W,C,F,t,E){if(T.t0!=(t=(E=T.length,-~(E&4)+-10-~(E|4))>>3,t)){F=(W=t<<3,-(T.t0=t,~((C=[0,0,k[1],k[2]],W)&4))+-10-~(W|4));try{T.J0=Lg(C,3,11,oC(9,T,1,16,F),oC(19,T,1,16,(F|0)+4))}catch(L){throw L;}}T.push(T.J0[E&7]^K)},k=R(H,147)):b=function(K){T.push(K)},z&&b(z&255),q=V.length,X=0;X<q;X++)b(V[X])},a=function(H,P,V){if(162==P||165==P)if(H.V[P])H.V[P][H.S](V);else H.V[P]=H.iE(V);else if(69!=P&&115!=P&&128!=P&&235!=P&&147!=P||!H.V[P])H.V[P]=H.L$(P,V);75==P&&oC(5,H,2,24)},MB=[],wr=function(H,P,V,z,X){if("object"==(X=typeof P,X))if(P){if(P instanceof Array)return"array";if(P instanceof Object)return X;if("[object Window]"==(z=Object.prototype.toString.call(P),z))return"object";if("[object Array]"==z||"number"==typeof P.length&&"undefined"!=typeof P.splice&&"undefined"!=typeof P.propertyIsEnumerable&&!P.propertyIsEnumerable(H))return"array";if("[object Function]"==z||"undefined"!=typeof P.call&&"undefined"!=typeof P.propertyIsEnumerable&&!P.propertyIsEnumerable("call"))return"function"}else return V;else if("function"==X&&"undefined"==typeof P.call)return"object";return X},jS=function(H,P,V,z){if(z>=V.M)throw[tC,31];return a(V,162,~(z&8)-P*~z-~(z|8)+P*(~z|8)),V.j[z>>H]},AC=false,Bt=((S.prototype.fx=void 0,S.prototype).qz=function(H,P,V,z,X,k){try{k=H[(6+3*(P^2)+2*(~P^2)-2*(~P&2))%3],H[P]=(X=H[P],z=H[(-2*~(P|1)+(P^1)+2*(~P^1))%3],-(X|z)-(X&z)-2*~(X|z)+2*(X|~z))-(k|0)^(1==P?k<<V:k>>>V)}catch(T){throw T;}},c=S.prototype,[]),R=function(H,P,V,z,X,k){if(X=H.V[P],void 0===X)throw[tC,30,P];return X(3570*(((V=((V=((V=((V=(V=P|0,z=(V*V|0)%1670|0,k=(((z*z|0)%1670|0)*V|0)%1670|0),V*V)|0)%1670|0,V)*V|0)%1670|0,V=(V*V|0)%1670|0,V)*V|0)%1670|0,(V*V|0)%1670|0)*k|0)%1670|0))},OT=(c.l=(S.prototype.S="toString",(window.performance||{}).now?function(){return this.am+window.performance.now()}:function(){return+new Date}),function(H,P,V){return V=H(114240).shift(),P.$(114240).length||P.O(114240).length||(P.$=void 0,P.O=void 0),V}),ng=(c.EW=function(H,P,V,z,X,k){return fF.call(this,"on",29,H,P,V,z,X,k)},c.Df=function(){return u.call(this,7)},[]),ct=function(H,P,V,z,X,k){for(V.iE=(V.qu=(V.UH=((V.x5=[],V).$R=(((V.L$=(V.cr=false,function(T,b,q,K,W,C){return F3.call(this,4,7,b,T,q,K,W,C)}),V.S1=0,z=[],k=0,V.O=void 0,V.Bn=UT,V).j1=25,V).$=(V.Ry=0,void 0),JC),V.U=null,0),1),function(T,b,q){return oC.call(this,12,q,T,b)});128>k;k++)z[k]=String.fromCharCode(k);(J(26,0,(J(66,(((V.Pr=!((((new (V.g=((((((((((V.wt=((((((V.am=(X=(((a((V.vr=((V.V=(V.sW=function(T){return gr.call(this,4,T,8)},[]),V).H=V,[]),V),162,0),a(V,165,0),a)(V,26,function(T,b,q){(b=(q=U(T),U(T)),a)(T,b,""+R(T,q))}),a)(V,174,0),window.performance||{}),X).timeOrigin||(X.timing||{}).navigationStart||0,a(V,18,function(T,b,q,K,W){K=(q=(b=U(T),W=U(T),R(T,b)),R(T,W)),a(T,W,K+q)}),a)(V,128,[]),a)(V,115,V.uE(4)),a(V,250,function(T,b,q){b=(q=U(T),R(T,q)),b[0].removeEventListener(b[1],b[2],false)}),a)(V,96,function(T,b,q,K,W,C,F,t,E,L,Q,n,B,Ht,Tr,x,Y){for(W=(B=(x=(Tr=(L=(b=(n=U(T),function(g,M,w,e){for(;L<g;)t=(w=U(T)<<L,-~(t|w)+(~t&w)+(t|~w)),L+=8;return e=(M=(1<<g)-1,-~(t|M)+(t&~M)-(t^M)+(L-=g,~t|M)),t>>=g,e}),t=0),b(3)|0)+1,b(5)),[]),Q=0);W<x;W++)Ht=b(1),B.push(Ht),Q+=Ht?0:1;for(K=(E=((Q|0)-1).toString(2).length,0),F=[];K<x;K++)B[K]||(F[K]=b(E));for(q=0;q<x;q++)B[q]&&(F[q]=U(T));for(C=(Y=[],Tr);C--;)Y.push(R(T,U(T)));a(T,n,function(g,M,w,e,$Z){for(M=($Z=(e=[],[]),0);M<x;M++){if(!B[w=F[M],M]){for(;w>=e.length;)e.push(U(g));w=e[w]}$Z.push(w)}g.O=(g.$=g.L$(47,Y.slice()),g.L$(47,$Z))})}),a(V,116,function(T,b,q,K){0!=(b=(q=U(T),U(T)),K=R(T,b),R(T,q))&&a(T,162,K)}),a)(V,148,function(T,b,q,K,W,C,F,t,E,L,Q,n,B){if(!f(T,14,37,true,true)){if("object"==(Q=(C=(b=(t=(L=U(T),F=U(T),n=U(T),U(T)),R)(T,L),R)(T,F),R)(T,t),K=R(T,n),wr)("splice",b,"null")){for(W in B=[],b)B.push(W);b=B}for(K=(q=(E=0,b.length),0)<K?K:1;E<q;E+=K)C(b.slice(E,(E|0)+(K|0)),Q)}}),a(V,137,function(T,b,q,K,W,C,F,t){if((C=(W=(K=U(T),bE)(13,T,127),""),T).V[231])for(t=R(T,231),q=t.length,F=0;W--;)F=(b=bE(14,T,127),2*(F|b)- -1+(~F^b))%q,C+=z[t[F]];else for(;W--;)C+=z[U(T)];a(T,K,C)}),a(V,207,function(T,b,q){f(T,14,53,true,false)||(b=U(T),q=U(T),a(T,q,function(K){return eval(K)}(wh(R(T,b)))))}),a(V,214,376),a)(V,135,function(T,b){b=R(T,U(T)),Qd(T,162,b)}),V.nx=function(T,b,q,K,W,C,F,t){return bE.call(this,9,b,T,q,K,W,C,F,t)},a(V,147,[0,0,0]),a(V,49,function(T,b,q,K,W){(b=(q=(K=U(T),U(T)),R)(T,K),W=wr("splice",b,"null"),a)(T,q,W)}),a(V,242,function(){}),[]),a(V,59,function(T){T.lE(3)}),a)(V,72,function(T){T.lE(4)}),a)(V,235,[]),a)(V,193,function(T){T.h0(4)}),a)(V,117,function(T,b,q,K,W,C,F,t,E,L){(t=(E=(F=(b=U(T),K=U(T),q=U(T),U(T)),W=R(T,F),R(T,q)),C=R(T,b),R(T,K)),0!==C)&&(L=bE(19,1,2,W,1,E,T,C,t),C.addEventListener(t,L,AC),a(T,174,[C,t,L]))}),a)(V,69,[106,0,0]),a(V,23,function(T,b,q,K,W,C){(b=(C=(K=(q=U(T),U)(T),W=U(T),R)(T,q),R)(T,K),a)(T,W,+(C==b))}),a)(V,103,function(T,b,q,K,W,C){K=(q=(C=(W=(b=U(T),U)(T),U)(T),R(T,b)),R)(T,W),a(T,C,q in K|0)}),a)(V,92,0),a(V,41,function(T,b,q,K){K=(q=(b=U(T),U)(T),U(T)),a(T,K,R(T,b)||R(T,q))}),a(V,223,function(T){Ba(T,4)}),a(V,171,2048),a)(V,118,{}),a(V,110,V),a)(V,55,function(T,b,q,K,W,C){b=(K=(q=U(T),U(T)),U(T)),T.H==T&&(W=R(T,b),C=R(T,K),R(T,q)[C]=W,75==q&&(T.K=void 0,2==C&&oC(13,T,2,24)))}),[]),a(V,60,function(T,b,q,K){(q=(b=U(T),K=U(T),U(T)),a)(T,q,R(T,b)>>>K)}),Ft)("Submit"),a(V,20,function(T,b,q,K,W,C){(q=(W=(C=(K=(b=U(T),U)(T),U)(T),R(T,b)),R(T,K)),a)(T,C,W[q])}),a)(V,246,function(T,b,q,K,W,C,F,t){(t=(q=(W=(b=(C=(K=U(T),U(T)),U(T)),U)(T),R(T,C)),R)(T,b),F=R(T,W),a)(T,K,bE(11,1,2,t,F,q,T))}),a(V,57,m),a)(V,202,function(T,b,q,K,W,C,F){f(T,14,39,true,false)||(q=gh(2,0,T,1),K=q.Zs,b=q.I,C=q.p$,F=b.length,W=0==F?new C[K]:1==F?new C[K](b[0]):2==F?new C[K](b[0],b[1]):3==F?new C[K](b[0],b[1],b[2]):4==F?new C[K](b[0],b[1],b[2],b[3]):2(),a(T,q.K$,W))}),a)(V,173,function(T){Ba(T,1)}),V.XT=false,a(V,175,function(T,b,q,K){if(q=T.wt.pop()){for(K=U(T);0<K;K--)b=U(T),q[b]=T.V[b];T.V=(q[q[235]=T.V[235],171]=T.V[171],q)}else a(T,162,T.M)}),1),a)(V,150,function(T,b,q,K,W){for(W=(b=(K=bE((q=U(T),12),T,127),[]),0);W<K;W++)b.push(U(T));a(T,q,b)}),a(V,127,function(T,b){f(T,14,5,true,false)||(b=gh(2,0,T,1),a(T,b.K$,b.Zs.apply(b.p$,b.I)))}),V.j=[],V).M=0,0),[Dm],V),J(18,0,[MB,H],V),[ng,P]),V),X3)(254,true,true,V,false)},sm=m.requestIdleCallback?function(H){requestIdleCallback(function(){H()},{timeout:4})}:m.setImmediate?function(H){setImmediate(H)}:function(H){setTimeout(H,0)},CF=[],Lg=function(H,P,V,z,X,k,T,b,q,K,W,C,F,t,E,L,Q,n){try{for(n=0;1414361568!==n;)z=(z|0)+(E=(q=X<<4,W=X>>>5,(W|0)+~W-(~q^W))+(X|0),F=(n|0)+(H[-~(n&P)+(n^P)+(~n^P)]|0),~E-~(E|F)+(E&~F))|0,n=n+2325900175|0,X=(X|0)+(L=(b=z<<4,k=z>>>5,~b-~(b|k)+(b&~k))+(z|0),T=(n|0)+(H[t=n>>>V,4+(t|-4)]|0),-(T|0)+(L|T)+(~L&T))|0;return[z>>>24,(C=z>>16,-~(C&255)+(~C&255)+(C|-256)),(Q=z>>8,-~Q+(~Q^255)+(~Q&255)),-~(z|255)+(z&-256)-(z^255)+(~z|255),X>>>24,X>>16&255,(K=X>>8,(K|0)-(K^255)+(~K&255)),256+(X&-256)+(~X^255)]}catch(B){throw B;}},gh=(c.Lx=function(H,P,V,z,X,k,T,b){return f.call(this,P,H,8,V,z,X,k,T,b)},function(H,P,V,z,X,k,T,b,q,K){for(X=(q=(T={},b=U(V),T.K$=U(V),T.I=[],V).H==V?(k=U(V),-(k|z)+(k&z)+H*(k&-2)):1,U(V)),K=P;K<q;K++)T.I.push(U(V));for(T.Zs=R(V,b);q--;)T.I[q]=R(V,T.I[q]);return T.p$=R(V,X),T}),U=(c.Wn=function(H,P,V,z,X,k,T,b,q){return IC.call(this,5,H,P,V,z,X,k,T,b,q)},function(H,P,V,z,X,k){if(H.$)return OT(H.O,H);return(k=(V=R(H,162),z=V>>3,jS)(3,2,H,V),H.K)!=z>>3&&(H.K=z>>3,P=R(H,75),H.rt=Lg([0,0,P[1],P[2]],3,11,H.P,H.K)),k^H.rt[X=H[Bt].length,-(X|0)-~z-~(z|X)+2*(~z|X)]}),Dm=(S.prototype.uE=function(H,P){return F3.call(this,4,8,P,H)},[]),zr=[],Qd=(c.uJ=(S.prototype.Se=void 0,function(){return fF.call(this,"on",12)}),S.prototype.om=function(H,P,V,z,X){if(3==H.length){for(X=0;3>X;X++)P[X]+=H[X];for(z=(V=[13,8,13,12,16,5,3,10,15],0);9>z;z++)P[3](P,z%3,V[z])}},function(H,P,V){((H.wt.push(H.V.slice()),H.V)[P]=void 0,a)(H,P,V)}),tC={},uX=(S.prototype.Hn=function(){return U(this)},function(H,P,V,z,X){return((fg(true,(X=R(z,162),z.j&&X<z.M?(a(z,162,z.M),Qd(z,162,P)):a(z,162,P),H),214,V,z),a)(z,162,X),R)(z,118)}),Nn=[],G=(S.prototype.A=function(H,P){return P=(H={},{}),function(V,z,X,k,T,b,q,K,W,C,F,t,E,L,Q,n,B,Ht,Tr,x,Y,g,M,w){P=(Q=P,H);try{if((b=V[0],b)==CF)return Q==H?29:95;if(b==MB){x=V[1];try{for(q=K=(g=(Tr=[],atob(x)),0);q<g.length;q++)X=g.charCodeAt(q),255<X&&(Tr[K++]=-1-~(X|255)-(X^255),X>>=8),Tr[K++]=X;a(this,(this.M=(this.j=Tr,this).j.length<<3,75),[0,0,0])}catch(e){yd(e,this,255,17);return}fg(true,23,214,":",this)}else if(b==Q_)V[1].push(R(this,128).length,R(this,115).length,R(this,69).length,R(this,171)),a(this,118,V[2]),this.V[236]&&uX(23,R(this,236),":",this);else{if(b==Bt){this.H=(Ht=(C=V[2],G)((R(this,69).length|0)+2,2),n=this.H,this);try{k=R(this,235),0<k.length&&I(this,69,G(k.length,2).concat(k),192),I(this,69,G(this.qu,1),167),I(this,69,G(this[Bt].length,1)),F=0,w=R(this,115),F-=(R(this,69).length|0)+5,F+=(T=R(this,92),-1-~T+(~T^2047)-(T|-2048)),4<w.length&&(F-=(Y=w.length,-~(Y&3)+-3-~Y-(Y|-4))),0<F&&I(this,69,G(F,2).concat(this.uE(F)),197),4<w.length&&I(this,69,G(w.length,2).concat(w),86)}finally{this.H=n}if(L=(((M=this.uE(2).concat(R(this,69)),M)[1]=M[0]^204,M[3]=M[1]^Ht[0],M)[4]=(t=M[1],B=Ht[1],(t|0)+(B|0)-2*(t&B)),this.bE(M)))L="<"+L;else for(W=0,L="";W<M.length;W++)E=M[W][this.S](16),1==E.length&&(E="0"+E),L+=E;return(R(this,(z=L,128)).length=C.shift(),R(this,115).length=C.shift(),R(this,69).length=C.shift(),a)(this,171,C.shift()),z}if(b==Nn)uX(23,V[1],":",this);else if(b==zr)return uX(23,V[1],":",this)}}finally{P=Q}}}(),function(H,P,V,z,X){for(z=(P|0)-1,V=[];0<=z;z--)V[(P|0)-1-(z|0)]=(X=H>>8*z,(X|255)+(X&-256)-2*(X^255)+(~X&255));return V}),kZ=function(H,P,V,z,X,k,T,b,q,K){if(X=(H.cr=false,z[V]),X==Q_)H.j1=25,H.A(z);else if(X==Bt){T=z[1];try{K=H.D||H.A(z)}catch(W){gr(4,":",15,H,W),K=H.D}T(K)}else if(X==Nn)H.A(z);else if(X==MB)H.A(z);else if(X==ng){try{for(b=V;b<H.vr.length;b++)try{q=H.vr[b],q[V][q[1]](q[P])}catch(W){}}catch(W){}(0,z[1])((H.vr=[],function(W,C){H.Iy(W,true,C)}),function(W){(J(74,V,(W=!H.g.length,[ET]),H),W)&&X3(254,true,false,H,false)})}else{if(X==zr)return k=z[P],a(H,172,z[6]),a(H,118,k),H.A(z);X==ET?(H.V=null,H.j=[],H.x5=[]):X==Dm&&"loading"===m.document.readyState&&(H.U=function(W,C,F){m.document.addEventListener((C=(F=function(){C||(C=true,W())},false),"DOMContentLoaded"),F,AC),m.addEventListener("load",F,AC)})}},RX=(S.prototype.h0=function(H,P,V){for(P=(V=U(this),0);0<H;H--)P=P<<8|U(this);a(this,V,P)},S.prototype.lE=function(H,P,V,z,X,k){return F3.call(this,4,5,P,H,V,z,X,k)},function(H,P,V,z,X,k,T,b,q,K){for(;X.g.length;){X.U=k,q=X.g.pop();try{K=kZ(X,V,H,q)}catch(W){gr(4,z,39,X,W)}if(P&&X.U){b=X.U,b(function(){X3(254,T,T,X,false)});break}}return K}),UT,Ba=(S.prototype.bE=function(H,P,V,z,X){return vt.call(this,147,V,X,H,z,8,P)},UT=/./,function(H,P,V,z){V=U(H),z=U(H),I(H,z,G(R(H,V),P))}),JC,X3=function(H,P,V,z,X,k,T,b){if(z.g.length){z.Pr=(z.XT=(z.XT&&0(),true),P);try{k=z.l(),z.TT=0,z.Hr=k,z.dt=k,b=RX(0,P,2,":",z,null,true),T=z.l()-z.Hr,z.UH+=T,T<(V?0:10)||0>=z.j1--||(T=Math.floor(T),z.x5.push(T<=H?T:254))}finally{z.XT=X}return b}},wh=(S.prototype[ng]=[0,0,1,1,0,(JC=function(H){return U(H)^U(H)},1),1],S.bind&&(JC[S.prototype.S]=MB.pop.bind(S.prototype[Q_]),UT[S.prototype.S]=MB.pop.bind(S.prototype[Q_])),function(H,P){return(P=Ha("tl",null,"error"))&&1===H.eval(P.createScript("1"))?function(V){return P.createScript(V)}:function(V){return""+V}})(m);40<(N=m.watchbell||(m.watchbell={}),N.m)||(N.m=41,N.tl=xZ,N.a=hw),N.MdT_=function(H,P,V){return V=new S(H,P),[function(z){return r(18,16,z,false,V)}]};try{N.u||(m.addEventListener("unload",function(){},AC),N.u=1)}catch(H){}try{m.addEventListener("test",null,Object.defineProperty({},"passive",{get:function(){AC={passive:true}}}))}catch(H){};}).call(this);'));}).call(this);</script>
  <script type="text/javascript" nonce="xx/Bx3PiT47nmJyZzQ5KgQ">
  document.bg = new watchbell.tl('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');
  </script>
<script nonce="xx/Bx3PiT47nmJyZzQ5KgQ">
  gaia = window.gaia || {};
  gaia.ps = gaia.ps || {};
  gaia.ps.hasPrefilledIdentifier = false;
  function gaia_parseFragment() {
  var hash = location.hash;
  var params = {};
  if (!hash) {
  return params;
  }
  var paramStrs = decodeURIComponent(hash.substring(1)).split('&');
  for (var i = 0; i < paramStrs.length; i++) {
      var param = paramStrs[i].split('=');
      params[param[0]] = param[1];
    }
    return params;
  }

  function gaia_prefillEmail() {
    var email = null;
    var form = null;
    if (document.getElementById) {
      email = document.getElementById('Email');
      form = document.getElementById('gaia_loginform');
    }
    if (form && email && (email.value == null || email.value == '')
        && (email.type != 'hidden')) {
      hashParams = gaia_parseFragment();
      if (hashParams['Email'] && hashParams['Email'] != '') {
        email.value = hashParams['Email'];
      }
    }
  }

  
  try {
    gaia_prefillEmail();
  } catch (e) {
  }
  
</script>
<script nonce="xx/Bx3PiT47nmJyZzQ5KgQ">
  var gaia_scrollToElement = function(element) {
  var calculateOffsetHeight = function(element) {
  var curtop = 0;
  if (element.offsetParent) {
  while (element) {
  curtop += element.offsetTop;
  element = element.offsetParent;
  }
  }
  return curtop;
  }
  var siginOffsetHeight = calculateOffsetHeight(element);
  var scrollHeight = siginOffsetHeight - window.innerHeight +
  element.clientHeight + 0.02 * window.innerHeight;
  window.scroll(0, scrollHeight);
  }
</script>
<script nonce="xx/Bx3PiT47nmJyZzQ5KgQ">
  if (gaia.ps.hasPrefilledIdentifier) {
  var form = document.getElementById('gaia_loginform');
  if (form) {
  form.submit();
  }
  }
</script>
<script nonce="xx/Bx3PiT47nmJyZzQ5KgQ">
  (function(){
  gaia_onLoginSubmit = function() {
  try {
  gaia.loginAutoRedirect.stop();
  } catch (err) {
  // do not prevent form from being submitted
  }
  try {
  document.bg.low(function(response) {
  document.getElementById('bgresponse').value = response;
  });
  } catch (err) {
  document.getElementById('bgresponse').value = '';
  }
  return true;
  }
  document.getElementById('gaia_loginform').onsubmit = gaia_onLoginSubmit;
  var signinButton = document.getElementById('next');
  gaia_attachEvent(window, 'load', function(){
  gaia_scrollToElement(signinButton);
  });
  })();
</script>
  <script nonce="xx/Bx3PiT47nmJyZzQ5KgQ">var e=this,g=function(b,c){b=b.split(".");var a=e;b[0]in a||!a.execScript||a.execScript("var "+b[0]);for(var d;b.length&&(d=b.shift());)b.length||void 0===c?a[d]?a=a[d]:a=a[d]={}:a[d]=c};var h=function(){try{return new XMLHttpRequest}catch(a){for(var b=["MSXML2.XMLHTTP.6.0","MSXML2.XMLHTTP.3.0","MSXML2.XMLHTTP","Microsoft.XMLHTTP"],c=0;c<b.length;c++)try{return new ActiveXObject(b[c])}catch(d){}}return null};g("gaia.ajax.newXmlHttpRequest",h);var k=function(){this.g=h();this.parameters={}};
k.prototype.send=function(b,c){var a=[],d;for(d in this.parameters)a.push(d+"="+encodeURIComponent(this.parameters[d]));a=a.join("&");var f=this.g;f.open("POST",b,!0);f.setRequestHeader("Content-type","application/x-www-form-urlencoded");f.onreadystatechange=function(){4==f.readyState&&c({status:f.status,text:f.responseText})};f.send(a)};
k.prototype.m=function(b,c,a){var d=this.g;d.open("POST",b,!0);d.setRequestHeader("Content-type","application/json");d.onreadystatechange=function(){4==d.readyState&&a({status:d.status,text:d.responseText})};d.send(c)};k.prototype.get=function(b,c){var a=this.g;a.open("GET",b,!0);a.onreadystatechange=function(){4==a.readyState&&c({status:a.status,text:a.responseText})};a.send()};g("gaia.ajax.XmlHttpFormRequest",k);k.prototype.get=k.prototype.get;k.prototype.sendJson=k.prototype.m;
k.prototype.send=k.prototype.send;var l=/\s*;\s*/,m=function(){if(!document.cookie)return"";for(var b=document.cookie.split(l),c=0;c<b.length;c++){var a=b[c];a=a.replace(/^\s+/,"");a=a.replace(/\s+$/,"");if(0==a.indexOf("APISID="))return a.substr(7)}return""};var n=null,p=function(b,c){this.l=b;this.j=c;this.i=m();this.h=!1},q=function(){var b=n,c=m();c==b.i||b.h||(b.i=c,(new k).get(b.j,function(a){var d=n;a&&a.status&&200==a.status&&"OK"==a.text&&(d.g&&clearInterval(d.g),d.h||(window.location=d.l))}))};p.prototype.start=function(b){if(this.g)return!1;this.g=setInterval(function(){q()},b);return!0};g("gaia.loginAutoRedirect.start",function(b,c,a){if(n||!a||!c||0>=b)return!1;n=new p(c,a);return n.start(b)});
g("gaia.loginAutoRedirect.stop",function(){var b=n;b.h=!0;b.g&&(clearInterval(b.g),b.g=null)});
</script>
  <script type="text/javascript" nonce="xx/Bx3PiT47nmJyZzQ5KgQ">
  gaia.loginAutoRedirect.start(5000,
  'https:\x2F\x2Faccounts.google.com\x2FServiceLogin?continue=https%3A%2F%2Fdrive.google.com%2Fuc%3Fexport%3Ddownload%26id%3D1jki6GYJ_LGkvW0syoaayMR_GwRhg090s\x26followup=https%3A%2F%2Fdrive.google.com%2Fuc%3Fexport%3Ddownload%26id%3D1jki6GYJ_LGkvW0syoaayMR_GwRhg090s\x26service=wise\x26ltmpl=drive\x26passive=1209600\x26noautologin=true',
  'https:\x2F\x2Faccounts.google.com\x2FPassiveLoginProber?continue=https%3A%2F%2Fdrive.google.com%2Fuc%3Fexport%3Ddownload%26id%3D1jki6GYJ_LGkvW0syoaayMR_GwRhg090s\x26followup=https%3A%2F%2Fdrive.google.com%2Fuc%3Fexport%3Ddownload%26id%3D1jki6GYJ_LGkvW0syoaayMR_GwRhg090s\x26service=wise\x26ltmpl=drive\x26passive=1209600');
  </script>
  </body>
</html>
