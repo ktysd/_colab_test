
<!DOCTYPE html>
<html lang="ja">
  <head>
  <meta charset="utf-8">
  <meta content="width=300, initial-scale=1" name="viewport">
  <meta name="description" content="Google ドライブなら、無料でファイルをバックアップして携帯電話、タブレット、パソコンから手軽にアクセスできます。まずは、15 GB の無料の Google ストレージをご利用ください。">
  <meta name="google-site-verification" content="LrdTUW9psUAMbh4Ia074-BPEVmcpBxF6Gwf0MSgQXZs">
  <title>Google ドライブ - 1 か所であらゆるファイルを保管</title>
<style>
  html, body {
  font-family: Arial, sans-serif;
  background: #fff;
  margin: 0;
  padding: 0;
  border: 0;
  position: absolute;
  height: 100%;
  min-width: 100%;
  font-size: 13px;
  color: #404040;
  direction: ltr;
  -webkit-text-size-adjust: none;
  }
  button,
  input[type=button],
  input[type=submit] {
  font-family: Arial, sans-serif;
  font-size: 13px;
  }
  a,
  a:hover,
  a:visited {
  color: #427fed;
  cursor: pointer;
  text-decoration: none;
  }
  a:hover {
  text-decoration: underline;
  }
  h1 {
  font-size: 20px;
  color: #262626;
  margin: 0 0 15px;
  font-weight: normal;
  }
  h2 {
  font-size: 14px;
  color: #262626;
  margin: 0 0 15px;
  font-weight: bold;
  }
  input[type=email],
  input[type=number],
  input[type=password],
  input[type=tel],
  input[type=text],
  input[type=url] {
  -moz-appearance: none;
  -webkit-appearance: none;
  appearance: none;
  display: inline-block;
  height: 36px;
  padding: 0 8px;
  margin: 0;
  background: #fff;
  border: 1px solid #d9d9d9;
  border-top: 1px solid #c0c0c0;
  -moz-box-sizing: border-box;
  -webkit-box-sizing: border-box;
  box-sizing: border-box;
  -moz-border-radius: 1px;
  -webkit-border-radius: 1px;
  border-radius: 1px;
  font-size: 15px;
  color: #404040;
  }
  input[type=email]:hover,
  input[type=number]:hover,
  input[type=password]:hover,
  input[type=tel]:hover,
  input[type=text]:hover,
  input[type=url]:hover {
  border: 1px solid #b9b9b9;
  border-top: 1px solid #a0a0a0;
  -moz-box-shadow: inset 0 1px 2px rgba(0,0,0,0.1);
  -webkit-box-shadow: inset 0 1px 2px rgba(0,0,0,0.1);
  box-shadow: inset 0 1px 2px rgba(0,0,0,0.1);
  }
  input[type=email]:focus,
  input[type=number]:focus,
  input[type=password]:focus,
  input[type=tel]:focus,
  input[type=text]:focus,
  input[type=url]:focus {
  outline: none;
  border: 1px solid #4d90fe;
  -moz-box-shadow: inset 0 1px 2px rgba(0,0,0,0.3);
  -webkit-box-shadow: inset 0 1px 2px rgba(0,0,0,0.3);
  box-shadow: inset 0 1px 2px rgba(0,0,0,0.3);
  }
  input[type=checkbox],
  input[type=radio] {
  -webkit-appearance: none;
  display: inline-block;
  width: 13px;
  height: 13px;
  margin: 0;
  cursor: pointer;
  vertical-align: bottom;
  background: #fff;
  border: 1px solid #c6c6c6;
  -moz-border-radius: 1px;
  -webkit-border-radius: 1px;
  border-radius: 1px;
  -moz-box-sizing: border-box;
  -webkit-box-sizing: border-box;
  box-sizing: border-box;
  position: relative;
  }
  input[type=checkbox]:active,
  input[type=radio]:active {
  background: #ebebeb;
  }
  input[type=checkbox]:hover {
  border-color: #c6c6c6;
  -moz-box-shadow: inset 0 1px 2px rgba(0,0,0,0.1);
  -webkit-box-shadow: inset 0 1px 2px rgba(0,0,0,0.1);
  box-shadow: inset 0 1px 2px rgba(0,0,0,0.1);
  }
  input[type=radio] {
  -moz-border-radius: 1em;
  -webkit-border-radius: 1em;
  border-radius: 1em;
  width: 15px;
  height: 15px;
  }
  input[type=checkbox]:checked,
  input[type=radio]:checked {
  background: #fff;
  }
  input[type=radio]:checked::after {
  content: '';
  display: block;
  position: relative;
  top: 3px;
  left: 3px;
  width: 7px;
  height: 7px;
  background: #666;
  -moz-border-radius: 1em;
  -webkit-border-radius: 1em;
  border-radius: 1em;
  }
  input[type=checkbox]:checked::after {
  content: url(https://ssl.gstatic.com/ui/v1/menu/checkmark.png);
  display: block;
  position: absolute;
  top: -6px;
  left: -5px;
  }
  input[type=checkbox]:focus {
  outline: none;
  border-color: #4d90fe;
  }
  .stacked-label {
  display: block;
  font-weight: bold;
  margin: .5em 0;
  }
  .hidden-label {
  position: absolute !important;
  clip: rect(1px 1px 1px 1px); /* IE6, IE7 */
  clip: rect(1px, 1px, 1px, 1px);
  height: 0px;
  width: 0px;
  overflow: hidden;
  visibility: hidden;
  }
  input[type=checkbox].form-error,
  input[type=email].form-error,
  input[type=number].form-error,
  input[type=password].form-error,
  input[type=text].form-error,
  input[type=tel].form-error,
  input[type=url].form-error {
  border: 1px solid #dd4b39;
  }
  .error-msg {
  margin: .5em 0;
  display: block;
  color: #dd4b39;
  line-height: 17px;
  }
  .help-link {
  background: #dd4b39;
  padding: 0 5px;
  color: #fff;
  font-weight: bold;
  display: inline-block;
  -moz-border-radius: 1em;
  -webkit-border-radius: 1em;
  border-radius: 1em;
  text-decoration: none;
  position: relative;
  top: 0px;
  }
  .help-link:visited {
  color: #fff;
  }
  .help-link:hover {
  color: #fff;
  background: #c03523;
  text-decoration: none;
  }
  .help-link:active {
  opacity: 1;
  background: #ae2817;
  }
  .wrapper {
  position: relative;
  min-height: 100%;
  }
  .content {
  padding: 0 44px;
  }
  .main {
  padding-bottom: 100px;
  }
  /* For modern browsers */
  .clearfix:before,
  .clearfix:after {
  content: "";
  display: table;
  }
  .clearfix:after {
  clear: both;
  }
  /* For IE 6/7 (trigger hasLayout) */
  .clearfix {
  zoom:1;
  }
  .google-header-bar {
  height: 71px;
  border-bottom: 1px solid #e5e5e5;
  overflow: hidden;
  }
  .header .logo {
  background-image: url(https://ssl.gstatic.com/accounts/ui/logo_1x.png);
  background-size: 116px 38px;
  background-repeat: no-repeat;
  margin: 17px 0 0;
  float: left;
  height: 38px;
  width: 116px;
  }
  .header .logo-w {
  background-image: url(https://ssl.gstatic.com/images/branding/googlelogo/1x/googlelogo_color_112x36dp.png);
  background-size: 112px 36px;
  margin: 21px 0 0;
  }
  .header .secondary-link {
  margin: 28px 0 0;
  float: right;
  }
  .header .secondary-link a {
  font-weight: normal;
  }
  .google-header-bar.centered {
  border: 0;
  height: 108px;
  }
  .google-header-bar.centered .header .logo {
  float: none;
  margin: 40px auto 30px;
  display: block;
  }
  .google-header-bar.centered .header .secondary-link {
  display: none
  }
  .google-footer-bar {
  position: absolute;
  bottom: 0;
  height: 35px;
  width: 100%;
  border-top: 1px solid #e5e5e5;
  overflow: hidden;
  }
  .footer {
  padding-top: 7px;
  font-size: .85em;
  white-space: nowrap;
  line-height: 0;
  }
  .footer ul {
  float: left;
  max-width: 80%;
  min-height: 16px;
  padding: 0;
  }
  .footer ul li {
  color: #737373;
  display: inline;
  padding: 0;
  padding-right: 1.5em;
  }
  .footer a {
  color: #737373;
  }
  .lang-chooser-wrap {
  float: right;
  display: inline;
  }
  .lang-chooser-wrap img {
  vertical-align: top;
  }
  .lang-chooser {
  font-size: 13px;
  height: 24px;
  line-height: 24px;
  }
  .lang-chooser option {
  font-size: 13px;
  line-height: 24px;
  }
  .hidden {
  height: 0px;
  width: 0px;
  overflow: hidden;
  visibility: hidden;
  display: none !important;
  }
  .banner {
  text-align: center;
  }
  .card {
  background-color: #f7f7f7;
  padding: 20px 25px 30px;
  margin: 0 auto 25px;
  width: 304px;
  -moz-border-radius: 2px;
  -webkit-border-radius: 2px;
  border-radius: 2px;
  -moz-box-shadow: 0px 2px 2px rgba(0, 0, 0, 0.3);
  -webkit-box-shadow: 0px 2px 2px rgba(0, 0, 0, 0.3);
  box-shadow: 0px 2px 2px rgba(0, 0, 0, 0.3);
  }
  .card > *:first-child {
  margin-top: 0;
  }
  .rc-button,
  .rc-button:visited {
  display: inline-block;
  min-width: 46px;
  text-align: center;
  color: #444;
  font-size: 14px;
  font-weight: 700;
  height: 36px;
  padding: 0 8px;
  line-height: 36px;
  -moz-border-radius: 3px;
  -webkit-border-radius: 3px;
  border-radius: 3px;
  -o-transition: all 0.218s;
  -moz-transition: all 0.218s;
  -webkit-transition: all 0.218s;
  transition: all 0.218s;
  border: 1px solid #dcdcdc;
  background-color: #f5f5f5;
  background-image: -webkit-linear-gradient(top,#f5f5f5,#f1f1f1);
  background-image: -moz-linear-gradient(top,#f5f5f5,#f1f1f1);
  background-image: -ms-linear-gradient(top,#f5f5f5,#f1f1f1);
  background-image: -o-linear-gradient(top,#f5f5f5,#f1f1f1);
  background-image: linear-gradient(top,#f5f5f5,#f1f1f1);
  -o-transition: none;
  -moz-user-select: none;
  -webkit-user-select: none;
  user-select: none;
  cursor: default;
  }
  .card .rc-button {
  width: 100%;
  padding: 0;
  }
  .rc-button.disabled,
  .rc-button[disabled] {
  opacity: .5;
  filter: alpha(opacity=50);
  cursor: default;
  pointer-events: none;
  }
  .rc-button:hover {
  border: 1px solid #c6c6c6;
  color: #333;
  text-decoration: none;
  -o-transition: all 0.0s;
  -moz-transition: all 0.0s;
  -webkit-transition: all 0.0s;
  transition: all 0.0s;
  background-color: #f8f8f8;
  background-image: -webkit-linear-gradient(top,#f8f8f8,#f1f1f1);
  background-image: -moz-linear-gradient(top,#f8f8f8,#f1f1f1);
  background-image: -ms-linear-gradient(top,#f8f8f8,#f1f1f1);
  background-image: -o-linear-gradient(top,#f8f8f8,#f1f1f1);
  background-image: linear-gradient(top,#f8f8f8,#f1f1f1);
  -moz-box-shadow: 0 1px 1px rgba(0,0,0,0.1);
  -webkit-box-shadow: 0 1px 1px rgba(0,0,0,0.1);
  box-shadow: 0 1px 1px rgba(0,0,0,0.1);
  }
  .rc-button:active {
  background-color: #f6f6f6;
  background-image: -webkit-linear-gradient(top,#f6f6f6,#f1f1f1);
  background-image: -moz-linear-gradient(top,#f6f6f6,#f1f1f1);
  background-image: -ms-linear-gradient(top,#f6f6f6,#f1f1f1);
  background-image: -o-linear-gradient(top,#f6f6f6,#f1f1f1);
  background-image: linear-gradient(top,#f6f6f6,#f1f1f1);
  -moz-box-shadow: 0 1px 2px rgba(0,0,0,0.1);
  -webkit-box-shadow: 0 1px 2px rgba(0,0,0,0.1);
  box-shadow: 0 1px 2px rgba(0,0,0,0.1);
  }
  .rc-button-submit,
  .rc-button-submit:visited {
  border: 1px solid #3079ed;
  color: #fff;
  text-shadow: 0 1px rgba(0,0,0,0.1);
  background-color: #4d90fe;
  background-image: -webkit-linear-gradient(top,#4d90fe,#4787ed);
  background-image: -moz-linear-gradient(top,#4d90fe,#4787ed);
  background-image: -ms-linear-gradient(top,#4d90fe,#4787ed);
  background-image: -o-linear-gradient(top,#4d90fe,#4787ed);
  background-image: linear-gradient(top,#4d90fe,#4787ed);
  }
  .rc-button-submit:hover {
  border: 1px solid #2f5bb7;
  color: #fff;
  text-shadow: 0 1px rgba(0,0,0,0.3);
  background-color: #357ae8;
  background-image: -webkit-linear-gradient(top,#4d90fe,#357ae8);
  background-image: -moz-linear-gradient(top,#4d90fe,#357ae8);
  background-image: -ms-linear-gradient(top,#4d90fe,#357ae8);
  background-image: -o-linear-gradient(top,#4d90fe,#357ae8);
  background-image: linear-gradient(top,#4d90fe,#357ae8);
  }
  .rc-button-submit:active {
  background-color: #357ae8;
  background-image: -webkit-linear-gradient(top,#4d90fe,#357ae8);
  background-image: -moz-linear-gradient(top,#4d90fe,#357ae8);
  background-image: -ms-linear-gradient(top,#4d90fe,#357ae8);
  background-image: -o-linear-gradient(top,#4d90fe,#357ae8);
  background-image: linear-gradient(top,#4d90fe,#357ae8);
  -moz-box-shadow: inset 0 1px 2px rgba(0,0,0,0.3);
  -webkit-box-shadow: inset 0 1px 2px rgba(0,0,0,0.3);
  box-shadow: inset 0 1px 2px rgba(0,0,0,0.3);
  }
  .rc-button-red,
  .rc-button-red:visited {
  border: 1px solid transparent;
  color: #fff;
  text-shadow: 0 1px rgba(0,0,0,0.1);
  background-color: #d14836;
  background-image: -webkit-linear-gradient(top,#dd4b39,#d14836);
  background-image: -moz-linear-gradient(top,#dd4b39,#d14836);
  background-image: -ms-linear-gradient(top,#dd4b39,#d14836);
  background-image: -o-linear-gradient(top,#dd4b39,#d14836);
  background-image: linear-gradient(top,#dd4b39,#d14836);
  }
  .rc-button-red:hover {
  border: 1px solid #b0281a;
  color: #fff;
  text-shadow: 0 1px rgba(0,0,0,0.3);
  background-color: #c53727;
  background-image: -webkit-linear-gradient(top,#dd4b39,#c53727);
  background-image: -moz-linear-gradient(top,#dd4b39,#c53727);
  background-image: -ms-linear-gradient(top,#dd4b39,#c53727);
  background-image: -o-linear-gradient(top,#dd4b39,#c53727);
  background-image: linear-gradient(top,#dd4b39,#c53727);
  }
  .rc-button-red:active {
  border: 1px solid #992a1b;
  background-color: #b0281a;
  background-image: -webkit-linear-gradient(top,#dd4b39,#b0281a);
  background-image: -moz-linear-gradient(top,#dd4b39,#b0281a);
  background-image: -ms-linear-gradient(top,#dd4b39,#b0281a);
  background-image: -o-linear-gradient(top,#dd4b39,#b0281a);
  background-image: linear-gradient(top,#dd4b39,#b0281a);
  -moz-box-shadow: inset 0 1px 2px rgba(0,0,0,0.3);
  -webkit-box-shadow: inset 0 1px 2px rgba(0,0,0,0.3);
  box-shadow: inset 0 1px 2px rgba(0,0,0,0.3);
  }
  .secondary-actions {
  text-align: center;
  }
</style>
<style media="screen and (max-width: 800px), screen and (max-height: 800px)">
  .google-header-bar.centered {
  height: 83px;
  }
  .google-header-bar.centered .header .logo {
  margin: 25px auto 20px;
  }
  .card {
  margin-bottom: 20px;
  }
</style>
<style media="screen and (max-width: 580px)">
  html, body {
  font-size: 14px;
  }
  .google-header-bar.centered {
  height: 73px;
  }
  .google-header-bar.centered .header .logo {
  margin: 20px auto 15px;
  }
  .content {
  padding-left: 10px;
  padding-right: 10px;
  }
  .hidden-small {
  display: none;
  }
  .card {
  padding: 20px 15px 30px;
  width: 270px;
  }
  .footer ul li {
  padding-right: 1em;
  }
  .lang-chooser-wrap {
  display: none;
  }
</style>
<style media="screen and (-webkit-min-device-pixel-ratio: 1.5), (min--moz-device-pixel-ratio: 1.5), (-o-min-device-pixel-ratio: 3 / 2), (min-device-pixel-ratio: 1.5)">
  .header .logo {
  background-image: url(https://ssl.gstatic.com/accounts/ui/logo_2x.png);
  }
  .header .logo-w {
  background-image: url(https://ssl.gstatic.com/images/branding/googlelogo/2x/googlelogo_color_112x36dp.png);
  }
</style>
<style>
  pre.debug {
  font-family: monospace;
  position: absolute;
  left: 0;
  margin: 0;
  padding: 1.5em;
  font-size: 13px;
  background: #f1f1f1;
  border-top: 1px solid #e5e5e5;
  direction: ltr;
  white-space: pre-wrap;
  width: 90%;
  overflow: hidden;
  }
</style>
<style>
  .banner h1 {
  font-family: 'Open Sans', arial;
  -webkit-font-smoothing: antialiased;
  color: #555;
  font-size: 42px;
  font-weight: 300;
  margin-top: 0;
  margin-bottom: 20px;
  }
  .banner h2 {
  font-family: 'Open Sans', arial;
  -webkit-font-smoothing: antialiased;
  color: #555;
  font-size: 18px;
  font-weight: 400;
  margin-bottom: 20px;
  }
  .signin-card {
  width: 274px;
  padding: 40px 40px;
  }
  .signin-card .profile-img {
  width: 96px;
  height: 96px;
  margin: 0 auto 10px;
  display: block;
  -moz-border-radius: 50%;
  -webkit-border-radius: 50%;
  border-radius: 50%;
  }
  .signin-card .profile-name {
  font-size: 16px;
  font-weight: bold;
  text-align: center;
  margin: 10px 0 0;
  min-height: 1em;
  }
  .signin-card .profile-email {
  font-size: 16px;
  text-align: center;
  margin: 10px 0 20px 0;
  min-height: 1em;
  }
  .signin-card input[type=email],
  .signin-card input[type=password],
  .signin-card input[type=text],
  .signin-card input[type=submit] {
  width: 100%;
  display: block;
  margin-bottom: 10px;
  z-index: 1;
  position: relative;
  -moz-box-sizing: border-box;
  -webkit-box-sizing: border-box;
  box-sizing: border-box;
  }
  .signin-card #Email,
  .signin-card #Passwd,
  .signin-card .captcha {
  direction: ltr;
  height: 44px;
  font-size: 16px;
  }
  .signin-card #Email + .stacked-label {
  margin-top: 15px;
  }
  .signin-card #reauthEmail {
  display: block;
  margin-bottom: 10px;
  line-height: 36px;
  padding: 0 8px;
  font-size: 15px;
  color: #404040;
  line-height: 2;
  margin-bottom: 10px;
  font-size: 14px;
  text-align: center;
  overflow: hidden;
  text-overflow: ellipsis;
  white-space: nowrap;
  -moz-box-sizing: border-box;
  -webkit-box-sizing: border-box;
  box-sizing: border-box;
  }
  .one-google p {
  margin: 0 0 10px;
  color: #555;
  font-size: 14px;
  text-align: center;
  }
  .one-google p.create-account,
  .one-google p.switch-account {
  margin-bottom: 60px;
  }
  .one-google .logo-strip {
  background-repeat: no-repeat;
  display: block;
  margin: 10px auto;
  background-image: url(https://ssl.gstatic.com/accounts/ui/wlogostrip_230x17_1x.png);
  background-size: 230px 17px;
  width: 230px;
  height: 17px;
  }
</style>
<style media="screen and (max-width: 800px), screen and (max-height: 800px)">
  .banner h1 {
  font-size: 38px;
  margin-bottom: 15px;
  }
  .banner h2 {
  margin-bottom: 15px;
  }
  .one-google p.create-account,
  .one-google p.switch-account {
  margin-bottom: 30px;
  }
  .signin-card #Email {
  margin-bottom: 0;
  }
  .signin-card #Passwd {
  margin-top: -1px;
  }
  .signin-card #Email.form-error,
  .signin-card #Passwd.form-error {
  z-index: 2;
  }
  .signin-card #Email:hover,
  .signin-card #Email:focus,
  .signin-card #Passwd:hover,
  .signin-card #Passwd:focus {
  z-index: 3;
  }
</style>
<style media="screen and (max-width: 580px)">
  .banner h1 {
  font-size: 22px;
  margin-bottom: 15px;
  }
  .signin-card {
  width: 260px;
  padding: 20px 20px;
  margin: 0 auto 20px;
  }
  .signin-card .profile-img {
  width: 72px;
  height: 72px;
  -moz-border-radius: 72px;
  -webkit-border-radius: 72px;
  border-radius: 72px;
  }
</style>
<style media="screen and (-webkit-min-device-pixel-ratio: 1.5), (min--moz-device-pixel-ratio: 1.5), (-o-min-device-pixel-ratio: 3 / 2), (min-device-pixel-ratio: 1.5)">
  .one-google .logo-strip {
  background-image: url(https://ssl.gstatic.com/accounts/ui/wlogostrip_230x17_2x.png);
  }
</style>
<style>
  .remember .bubble-wrap {
  position: absolute;
  padding-top: 3px;
  -o-transition: opacity .218s ease-in .218s;
  -moz-transition: opacity .218s ease-in .218s;
  -webkit-transition: opacity .218s ease-in .218s;
  transition: opacity .218s ease-in .218s;
  left: -999em;
  opacity: 0;
  width: 314px;
  margin-left: -20px;
  }
  .remember:hover .bubble-wrap,
  .remember input:focus ~ .bubble-wrap,
  .remember .bubble-wrap:hover,
  .remember .bubble-wrap:focus {
  opacity: 1;
  left: inherit;
  }
  .bubble-pointer {
  border-left: 10px solid transparent;
  border-right: 10px solid transparent;
  border-bottom: 10px solid #fff;
  width: 0;
  height: 0;
  margin-left: 17px;
  }
  .bubble {
  background-color: #fff;
  padding: 15px;
  margin-top: -1px;
  font-size: 11px;
  -moz-border-radius: 2px;
  -webkit-border-radius: 2px;
  border-radius: 2px;
  -moz-box-shadow: 0px 2px 2px rgba(0, 0, 0, 0.3);
  -webkit-box-shadow: 0px 2px 2px rgba(0, 0, 0, 0.3);
  box-shadow: 0px 2px 2px rgba(0, 0, 0, 0.3);
  }
  #stay-signed-in {
  float: left;
  }
  #stay-signed-in-tooltip {
  left: auto;
  margin-left: -20px;
  padding-top: 3px;
  position: absolute;
  top: 0;
  visibility: hidden;
  width: 314px;
  z-index: 1;
  }
  .dasher-tooltip {
  top: 380px;
  }
</style>
<style media="screen and (max-width: 800px), screen and (max-height: 800px)">
  .dasher-tooltip {
  top: 340px;
  }
</style>
<style>
  .jfk-tooltip {
  background-color: #fff;
  border: 1px solid;
  color: #737373;
  font-size: 12px;
  position: absolute;
  z-index: 800 !important;
  border-color: #bbb #bbb #a8a8a8;
  padding: 16px;
  width: 250px;
  }
 .jfk-tooltip h3 {
  color: #555;
  font-size: 12px;
  margin: 0 0 .5em;
  }
 .jfk-tooltip-content p:last-child {
  margin-bottom: 0;
  }
  .jfk-tooltip-arrow {
  position: absolute;
  }
  .jfk-tooltip-arrow .jfk-tooltip-arrowimplbefore,
  .jfk-tooltip-arrow .jfk-tooltip-arrowimplafter {
  display: block;
  height: 0;
  position: absolute;
  width: 0;
  }
  .jfk-tooltip-arrow .jfk-tooltip-arrowimplbefore {
  border: 9px solid;
  }
  .jfk-tooltip-arrow .jfk-tooltip-arrowimplafter {
  border: 8px solid;
  }
  .jfk-tooltip-arrowdown {
  bottom: 0;
  }
  .jfk-tooltip-arrowup {
  top: -9px;
  }
  .jfk-tooltip-arrowleft {
  left: -9px;
  top: 30px;
  }
  .jfk-tooltip-arrowright {
  right: 0;
  top: 30px;
  }
  .jfk-tooltip-arrowdown .jfk-tooltip-arrowimplbefore,.jfk-tooltip-arrowup .jfk-tooltip-arrowimplbefore {
  border-color: #bbb transparent;
  left: -9px;
  }
  .jfk-tooltip-arrowdown .jfk-tooltip-arrowimplbefore {
  border-color: #a8a8a8 transparent;
  }
  .jfk-tooltip-arrowdown .jfk-tooltip-arrowimplafter,.jfk-tooltip-arrowup .jfk-tooltip-arrowimplafter {
  border-color: #fff transparent;
  left: -8px;
  }
  .jfk-tooltip-arrowdown .jfk-tooltip-arrowimplbefore {
  border-bottom-width: 0;
  }
  .jfk-tooltip-arrowdown .jfk-tooltip-arrowimplafter {
  border-bottom-width: 0;
  }
  .jfk-tooltip-arrowup .jfk-tooltip-arrowimplbefore {
  border-top-width: 0;
  }
  .jfk-tooltip-arrowup .jfk-tooltip-arrowimplafter {
  border-top-width: 0;
  top: 1px;
  }
  .jfk-tooltip-arrowleft .jfk-tooltip-arrowimplbefore,
  .jfk-tooltip-arrowright .jfk-tooltip-arrowimplbefore {
  border-color: transparent #bbb;
  top: -9px;
  }
  .jfk-tooltip-arrowleft .jfk-tooltip-arrowimplafter,
  .jfk-tooltip-arrowright .jfk-tooltip-arrowimplafter {
  border-color:transparent #fff;
  top:-8px;
  }
  .jfk-tooltip-arrowleft .jfk-tooltip-arrowimplbefore {
  border-left-width: 0;
  }
  .jfk-tooltip-arrowleft .jfk-tooltip-arrowimplafter {
  border-left-width: 0;
  left: 1px;
  }
  .jfk-tooltip-arrowright .jfk-tooltip-arrowimplbefore {
  border-right-width: 0;
  }
  .jfk-tooltip-arrowright .jfk-tooltip-arrowimplafter {
  border-right-width: 0;
  }
  .jfk-tooltip-closebtn {
  background: url("//ssl.gstatic.com/ui/v1/icons/common/x_8px.png") no-repeat;
  border: 1px solid transparent;
  height: 21px;
  opacity: .4;
  outline: 0;
  position: absolute;
  right: 2px;
  top: 2px;
  width: 21px;
  }
  .jfk-tooltip-closebtn:focus,
  .jfk-tooltip-closebtn:hover {
  opacity: .8;
  cursor: pointer;
  }
  .jfk-tooltip-closebtn:focus {
  border-color: #4d90fe;
  }
</style>
<style media="screen and (max-width: 580px)">
  .jfk-tooltip {
  display: none;
  }
</style>
<style type="text/css">
.captcha-box {
  background: #fff;
  margin: 0 0 10px;
  overflow: hidden;
  padding: 10px;
}
.captcha-box .captcha-img {
  text-align: center;
}
.captcha-box .captcha-label {
  font-weight: bold;
  display: block;
  margin: .5em 0;
}
.captcha-box .captcha-msg {
  color: #999;
  display: block;
  position: relative;
}
.captcha-box .captcha-msg .accessibility-logo {
  float: right;
  border: 0;
}
.captcha-box .audio-box {
  position: absolute;
  top: 0;
}
</style>
<style>
.chromiumsync-custom-content {
  padding-top: 20px;
  margin-bottom: 0;
}
.form-panel {
  -webkit-box-sizing: border-box;
  box-sizing: border-box;
  -webkit-transform: translateZ(0);
  -moz-transform: translateZ(0);
  -ms-transform: translateZ(0);
  -o-transform: translateZ(0);
  transform: translateZ(0);
  width: 100%;
}
.form-panel.first {
  z-index: 2;
}
.form-panel.second {
  z-index: 1;
}
.shift-form .form-panel.first {
  z-index: 1;
}
.shift-form .form-panel.second {
  z-index: 2;
}
.slide-in,
.slide-out {
  display: block;
  -webkit-transition-property: -webkit-transform, opacity;
  -moz-transition-property: -moz-transform, opacity;
  -ms-transition-property: -ms-transform, opacity;
  -o-transition-property: -o-transform, opacity;
  transition-property: transform, opacity;
  -webkit-transition-duration: 0.1s;
  -moz-transition-duration: 0.1s;
  -ms-transition-duration: 0.1s;
  -o-transition-duration: 0.1s;
  transition-duration: 0.1s;
  -webkit-transition-timing-function: cubic-bezier(0.4, 0, 0.2, 1);
  -moz-transition-timing-function: cubic-bezier(0.4, 0, 0.2, 1);
  -ms-transition-timing-function: cubic-bezier(0.4, 0, 0.2, 1);
  -o-transition-timing-function: cubic-bezier(0.4, 0, 0.2, 1);
  transition-timing-function: cubic-bezier(0.4, 0, 0.2, 1);
}
.slide-out {
  -webkit-transform: translate3d(0, 0, 0);
  -moz-transform: translate3d(0, 0, 0);
  -ms-transform: translate3d(0, 0, 0);
  -o-transform: translate3d(0, 0, 0);
  transform: translate3d(0, 0, 0);
}
.shift-form .slide-out {
  opacity: 0;
  -webkit-transform: translate3d(-120%, 0, 0);
  -moz-transform: translate3d(-120%, 0, 0);
  -ms-transform: translate3d(-120%, 0, 0);
  -o-transform: translate3d(-120%, 0, 0);
  transform: translate3d(-120%, 0, 0);
}
.slide-in {
  -webkit-transform: translate3d(120%, 0, 0);
  -moz-transform: translate3d(120%, 0, 0);
  -ms-transform: translate3d(120%, 0, 0);
  -o-transform: translate3d(120%, 0, 0);
  transform: translate3d(120%, 0, 0);
}
.shift-form .slide-in {
  opacity: 1;
  -webkit-transform: translate3d(0, 0, 0);
  -moz-transform: translate3d(0, 0, 0);
  -ms-transform: translate3d(0, 0, 0);
  -o-transform: translate3d(0, 0, 0);
  transform: translate3d(0, 0, 0);
}
.error-msg {
  -webkit-transition: max-height 0.3s, opacity 0.3s 0s steps(10, end);
  -moz-transition: max-height 0.3s, opacity 0.3s 0s steps(10, end);
  -ms-transition: max-height 0.3s, opacity 0.3s 0s steps(10, end);
  -o-transition: max-height 0.3s, opacity 0.3s 0s steps(10, end);
  transition: max-height 0.3s, opacity 0.3s 0s steps(10, end);
  height: auto;
  max-height: 0;
  opacity: 0;
}
.has-error .error-msg {
  max-height: 3.5em;
  margin-top: 10px;
  margin-bottom: 10px;
  opacity: 1;
  visibility: visible;
}
.back-arrow {
  position: absolute;
  top: 37px;
  width: 24px;
  height: 24px;
  display: none;
  cursor: pointer;
}
.back-arrow {
  border-style: none;
}
.shift-form.back-arrow {
  display: block;
}
.back-arrow img {
  display: block;
}
#link-signup {
  text-align: center;
  font-size: 14px;
}
.shift-form #link-signup{
  display: none;
}
#link-signin-different {
  display: none;
  text-align: center;
  font-size: 14px;
}
.shift-form #link-signin-different {
  display: block;
}
.signin-card #profile-name {
  font-size: 16px;
  font-weight: bold;
  text-align: center;
  margin: 0;
  min-height: 1em;
}
.signin-card.no-name #profile-name {
  display: none;
}
.signin-card.no-name #email-display {
  line-height: initial;
  margin-bottom: 16px;
}
.signin-card #email-display {
  display: block;
  padding: 0px 8px;
  color: rgb(64, 64, 64);
  line-height: 2;
  margin-bottom: 10px;
  font-size: 14px;
  text-align: center;
  overflow: hidden;
  text-overflow: ellipsis;
  white-space: nowrap;
  -moz-box-sizing: border-box;
  -webkit-box-sizing: border-box;
  box-sizing: border-box;
}
.signin-card #Email {
  margin-top: 16px;
}
.need-help {
  float: right;
  text-align: right;
}
.form-panel {
  width: 274px;
}
#gaia_firstform {
  z-index: 2;
}
.signin-card {
  position: relative;
  overflow: hidden;
}
.signin-card #profile-name {
  color: #000;
}
.circle-mask {
  display: block;
  height: 96px;
  width: 96px;
  overflow: hidden;
  border-radius: 50%;
  margin-left: auto;
  margin-right: auto;
  z-index: 100;
  margin-bottom: 10px;
}
.circle {
  -webkit-transition-property: -webkit-transform;
  -moz-transition-property: -moz-transform;
  -ms-transition-property: -ms-transform;
  -o-transition-property: -o-transform;
  transition-property: transform;
  -webkit-transition-timing-function: cubic-bezier(.645,.045,.355,1);
  -moz-transition-timing-function: cubic-bezier(.645,.045,.355,1);
  -ms-transition-timing-function: cubic-bezier(.645,.045,.355,1);
  -o-transition-timing-function: cubic-bezier(.645,.045,.355,1);
  transition-timing-function: cubic-bezier(.645,.045,.355,1);
}
.circle {
  position: absolute;
  z-index: 101;
  height: 96px;
  width: 96px;
  border-radius: 50%;
  opacity: 0.99;
  overflow: hidden;
  background-repeat: no-repeat;
  background-position: center center;
}
.main {
  overflow: hidden;
}
.card-mask-wrap {
  position: relative;
  width: 360px;
  margin: 0 auto;
  z-index: 1;
}
.dasher-tooltip {
  position: absolute;
  left: 50%;
  margin-left: 150px;
}
.dasher-tooltip .tooltip-pointer {
  margin-top: 15px;
}
.dasher-tooltip p {
  margin-top: 0;
}
.dasher-tooltip p span {
  display: block;
}
.card {
  margin-bottom: 0;
}
.one-google {
  padding-top: 27px;
}
#canvas {
  -webkit-transition: opacity 0.075s;
  -moz-transition: opacity 0.075s;
  -ms-transition: opacity 0.075s;
  -o-transition: opacity 0.075s;
  transition: opacity 0.075s;
  opacity: 0.01;
}
.shift-form #canvas {
  opacity: 0.99;
}
.label {
  color: #404040;
}
#account-chooser-link {
  -webkit-transition: opacity 0.3s;
  -moz-transition: opacity 0.3s;
  -ms-transition: opacity 0.3s;
  -o-transition: opacity 0.3s;
  transition: opacity 0.3s;
}
.input-wrapper {
  position: relative;
}
.google-footer-bar {
  z-index: 2;
}
</style>
<style media="screen and (max-width: 580px)">
.back-arrow {
  top: 17px;
}
.circle-mask {
  height: 72px;
  width: 72px;
  background-size: 72px;
}
.circle {
  height: 72px;
  width: 72px;
}
#canvas {
  height: 72px;
  width: 72px;
}
.form-panel {
  width: 256px;
}
.card-mask-wrap {
  width: 300px;
}
.signin-card {
  width: 256px;
}
.signin-card #EmailFirst {
  margin-top: 15px;
}
.one-google {
  padding-top: 22px;
}
</style>
  </head>
  <body>
  <div class="wrapper">
  <div  class="google-header-bar  centered">
  <div class="header content clearfix">
  <div class="logo logo-w" aria-label="Google"></div>
  </div>
  </div>
  <div  class="main content clearfix">
<div class="banner">
<h1>
  アカウント 1 つですべての Google サービスを。
</h1>
  <h2 class="hidden-small">
  Google ドライブに移動するにはログイン
  </h2>
</div>
<div class="main-content 
  
    no-name
  
  
  
">
<div  class="card signin-card pre-shift
  
  
   no-name">
  <img  class="circle-mask"
    
      src="https://ssl.gstatic.com/accounts/ui/avatar_2x.png"
    >
  <form novalidate method="post" action="https://accounts.google.com/signin/v1/lookup" id="gaia_loginform">
  <input name="Page" type="hidden" value="PasswordSeparationSignIn">
  <input type="hidden" name="" value="">
  <input type="hidden" name="gxf" value="AFoagUWIWaNF605Im6PeDYTr-UgVCqfL5Q:1626574473894">
  <input type="hidden" name="continue" value="https://drive.google.com/uc?export=download&amp;id=1laKQ5Md1cgYj0EZxyRkEGy6VMeSGozNH">
  <input type="hidden" name="followup" value="https://drive.google.com/uc?export=download&amp;id=1laKQ5Md1cgYj0EZxyRkEGy6VMeSGozNH">
  <input type="hidden" name="service" value="wise">
  <input type="hidden" name="ltmpl" value="drive">
  <input type="hidden" name="ifkv" value="AU9NCcwum4rVPZklNzzRF2d9JqZ0VYJOb9aJ9_PBJbz6HDRgPeLQ5Apqf-e4meI39-BRBTeEHc0TgQ==">
  <input id="profile-information" name="ProfileInformation" type="hidden" value="">
  <input id="session-state" name="SessionState" type="hidden" value="AEThLlyWr6apJhvz1NS_L8wANbxrwGy5b6_TqcdXleZtxSl05L7X3XTFyaAqjX5AQxfIE_VO8LztA1D7I-vvXlnCOVuj3P_XP26SJCzsHZ-E4lCXbO8LA5U64_0HGEe_uNEu6PX_ovJcd1165x4Vas8MVqt0t65FKowCnA-P4hCUHuEy2Pihp_3sRm-AaGBVbuYVmIwP_fCA">
  <input name="flowName" type="hidden" value="GlifWebSignIn">
  <input type="hidden" id="_utf8" name="_utf8" value="&#9731;"/>
  <input type="hidden" name="bgresponse" id="bgresponse" value="js_disabled">
  <div class="form-panel first valid" id="gaia_firstform">
  <div class="slide-out">
  <div class="input-wrapper focused">
  <div id="identifier-shown">
  <div>
  <label  class="hidden-label" for="Email">
  メールアドレスを入力してください</label>
  <input  id="Email" type="email" value="" spellcheck="false"
                   name="Email"
                   
                     placeholder="メールアドレスまたは電話番号"
                   
                   
                   
                   >
  <input id="Passwd-hidden" type="password" spellcheck="false" class="hidden">
  </div>
  </div>
  <span role="alert" class="error-msg" id="errormsg_0_Email"></span>
  </div>
<input id="next" name="signIn" class="rc-button rc-button-submit" type="submit" value="次へ">
  <a  class="need-help"
          href="https://accounts.google.com/signin/usernamerecovery?continue=https%3A%2F%2Fdrive.google.com%2Fuc%3Fexport%3Ddownload%26id%3D1laKQ5Md1cgYj0EZxyRkEGy6VMeSGozNH&amp;service=wise&amp;ltmpl=drive&amp;hl=ja">
  アカウントを探す
  </a>
  </div>
  </div>
  </form>
</div>
  <div  class="card-mask-wrap
        
     no-name">
  <div class="card-mask">
  <div class="one-google">
  <p class="create-account">
  <span id="link-signin-different">
  <a href="https://accounts.google.com/AccountChooser?continue=https%3A%2F%2Fdrive.google.com%2Fuc%3Fexport%3Ddownload%26id%3D1laKQ5Md1cgYj0EZxyRkEGy6VMeSGozNH&amp;followup=https%3A%2F%2Fdrive.google.com%2Fuc%3Fexport%3Ddownload%26id%3D1laKQ5Md1cgYj0EZxyRkEGy6VMeSGozNH&amp;service=wise&amp;ltmpl=drive">
  別のアカウントでログイン
  </a>
  </span>
  <span id="link-signup">
  <a  href="https://accounts.google.com/SignUp?service=wise&amp;continue=https%3A%2F%2Fdrive.google.com%2Fuc%3Fexport%3Ddownload%26id%3D1laKQ5Md1cgYj0EZxyRkEGy6VMeSGozNH&amp;ltmpl=drive">
  アカウントを作成
  </a>
  </span>
  </p>
<p class="tagline">
  1 つの Google アカウントですべての Google サービスにアクセス
</p>
<div class="logo-strip"></div>
  </div>
  </div>
  </div>
</div>
  </div>
  <div  class="google-footer-bar">
  <div class="footer content clearfix">
  <ul id="footer-list">
  <li>
  <a href="https://www.google.com/intl/ja/about" target="_blank">
  Google について
  </a>
  </li>
  <li>
  <a href="https://accounts.google.com/TOS?loc=JP&hl=ja&privacy=true" target="_blank">
  プライバシー
  </a>
  </li>
  <li>
  <a href="https://accounts.google.com/TOS?loc=JP&hl=ja" target="_blank">
  利用規約
  </a>
  </li>
  <li>
  <a href="http://www.google.com/support/accounts?hl=ja" target="_blank">
  ヘルプ
  </a>
  </li>
  </ul>
  </div>
</div>
  </div>
<script type="text/javascript" nonce="2uwWnlhGiD/+O+TTQJvrsw">
  var gaia_attachEvent = function(element, event, callback) {
  if (element && element.addEventListener) {
  element.addEventListener(event, callback, false);
  } else if (element && element.attachEvent) {
  element.attachEvent('on' + event, callback);
  }
  };
  (function() {
  var gaia_hideNavBar = function() {
  setTimeout(function() {
  window.scrollTo(0, 1);
  }, 0);
  };
  gaia_attachEvent(window, 'load', gaia_hideNavBar);
  })();
</script>
  <script type="text/javascript" nonce="2uwWnlhGiD/+O+TTQJvrsw">(function(){function d(u){return u}var h=this||self,B=function(u,J,N,T,H){if(T=(H=N,h.trustedTypes),!T||!T.createPolicy)return H;try{H=T.createPolicy(J,{createHTML:t,createScript:t,createScriptURL:t})}catch(p){if(h.console)h.console[u](p.message)}return H},t=function(u){return d.call(this,u)};(0,eval)(function(u,J){return(J=B("error","tl",null))&&1===u.eval(J.createScript("1"))?function(N){return J.createScript(N)}:function(N){return""+N}}(h)(Array(7824*Math.random()|0).join("\n")+'(function(){var Ns=function(d,u,J,T,H,h,N,t,p,B,z){if(3==(J>>((J|3)%11||(z=Object.prototype.hasOwnProperty.call(u,ub)&&u[ub]||(u[ub]=++Ja)),1)&7)){if(M.call(this,H),!(t=T)){for(h=this.constructor;h;){if(N=(B=Ns(17,h,8),d3[B]))break;h=(p=Object.getPrototypeOf(h.prototype))&&p.constructor}t=N?"function"===typeof N.A?N.A():new N:null}this.R=t}if(!((J-3)%(2==(J>>1&15)&&(z=(h=D[u.substring(0,3)+"_"])?h(u.substring(3),T,H):Tm(8,7,u,T)),8)))if(h&&h.once)Tm(8,d,true,u,p,N,h,t,H);else if(Array.isArray(p))for(B=u;B<p.length;B++)Ns(17,0,19,false,H,h,N,t,p[B]);else t=f(9,t),H&&H[ha]?H.K.add(String(p),t,T,U(6,h,null)?!!h.capture:!!h,N):R(6,false,H,t,h,N,T,p);return z},Bm=function(d,u,J,T,H,h,N,t,p,B){if(2==(u+8&7))if(N=T.length,N>J){for(h=Array(N),H=J;H<N;H++)h[H]=T[H];B=h}else B=[];return 2==(u-2&7)&&"number"!==typeof H&&H&&!H.i&&((t=H.src)&&t[ha]?X(16,T,H,t.K):(h=H.type,N=H.OF,t.removeEventListener?t.removeEventListener(h,N,H.capture):t.detachEvent?t.detachEvent(ta(921,16,"on",h),N):t.addListener&&t.removeListener&&t.removeListener(N),pI--,(p=ta(921,10,t))?(X(36,T,H,p),p.P==T&&(p.src=J,t[ib]=J)):F(9,true,H))),B},Pm=function(d,u,J,T,H,h,N,t){return((u>>1&5||(n.call(this),J||zm||(zm=new w3),this.ij=false,this.wQ=null,this.BZ=void 0,this.x3=this.SD=this.Qf=this.uj=null),u)+3)%16||(this.listener=N,this.OF=null,this.src=H,this.type=T,this.capture=!!h,this.Y3=J,this.key=++Ms,this.F=this.i=false),(u^900)%10||(N=b(254,d,J,H,T),(h=N>=J)&&Array.prototype.splice.call(T,N,1),t=h),t},Tm=function(d,u,J,T,H,h,N,t,p,B,z){if(!((u<<((u^508)%7||(z=J&&J.parentNode?J.parentNode.removeChild(J):null),1)&27||(jJ.call(this,J?J.type:""),this.relatedTarget=this.currentTarget=this.target=null,this.button=this.screenY=this.screenX=this.clientY=this.clientX=this.offsetY=this.offsetX=0,this.key="",this.charCode=this.keyCode=0,this.metaKey=this.shiftKey=this.altKey=this.ctrlKey=false,this.state=null,this.pointerId=0,this.pointerType="",this.G=null,J&&(H=this.type=J.type,N=J.changedTouches&&J.changedTouches.length?J.changedTouches[0]:null,this.target=J.target||J.srcElement,this.currentTarget=T,h=J.relatedTarget,h||("mouseover"==H?h=J.fromElement:"mouseout"==H&&(h=J.toElement)),this.relatedTarget=h,N?(this.clientX=void 0!==N.clientX?N.clientX:N.pageX,this.clientY=void 0!==N.clientY?N.clientY:N.pageY,this.screenX=N.screenX||0,this.screenY=N.screenY||0):(this.offsetX=J.offsetX,this.offsetY=J.offsetY,this.clientX=void 0!==J.clientX?J.clientX:J.pageX,this.clientY=void 0!==J.clientY?J.clientY:J.pageY,this.screenX=J.screenX||0,this.screenY=J.screenY||0),this.button=J.button,this.keyCode=J.keyCode||0,this.key=J.key||"",this.charCode=J.charCode||("keypress"==H?J.keyCode:0),this.ctrlKey=J.ctrlKey,this.altKey=J.altKey,this.shiftKey=J.shiftKey,this.metaKey=J.metaKey,this.pointerId=J.pointerId||0,this.pointerType="string"===typeof J.pointerType?J.pointerType:DH[J.pointerType]||"",this.state=J.state,this.G=J,J.defaultPrevented&&fI.Z.preventDefault.call(this))),u-1)%d))if(Array.isArray(H))for(B=T;B<H.length;B++)Tm(8,33,true,0,H[B],h,N,t,p);else t=f(d,t),p&&p[ha]?p.K.add(String(H),t,J,U(7,N,null)?!!N.capture:!!N,h):R(14,false,p,t,N,h,J,H);return 4==(u-(1==((u^676)&15)&&(z=Math.floor(this.g())),3)&12)&&(T(function(w){w(J)}),z=[function(){return J}]),z},f=function(d,u,J,T,H){return d>>1&(1==(d>>1&7)&&J.J.splice(u,u,T),3)||("function"===typeof u?H=u:(u[$l]||(u[$l]=function(h){return u.handleEvent(h)}),H=u[$l])),H},U=function(d,u,J,T,H,h,N,t){if((d^572)&((d>>2)%12||(T.classList?N=T.classList.contains(H):(h=F(54,u,T),N=b(254,7,J,H,h)>=J),t=N),13)||K.call(this,J,u||oU.A(),T),!((d+9)%10))for(T in h=J,u.O){for(H=(N=u.O[T],J);H<N.length;H++)++h,F(13,true,N[H]);delete u.O[T],u.P--}return(d|9)%5||(T=typeof u,t="object"==T&&u!=J||"function"==T),t},Ew=function(d,u,J,T,H,h,N,t,p,B){if(!((u|2)%6))for(t=H.length,N="string"===typeof H?H.split(T):H,p=J;p<t;p++)p in N&&h.call(void 0,N[p],p,H);return 3==(u-((((u-d)%8||(this.src=J,this.O={},this.P=0),u)^926)%6||(H.TZ(function(z){h=z},J,T),B=h),4)&15)&&(B=J),B},F=function(d,u,J,T,H,h,N){if(!((d+1)%((d+2)%14||(N=J.classList?J.classList:V(40,u,"string",J).match(/\\S+/g)||[]),4))){if(T=window.btoa){for(h=(J=0,"");J<u.length;J+=8192)h+=String.fromCharCode.apply(null,u.slice(J,J+8192));H=T(h).replace(/\\+/g,"-").replace(/\\//g,"_").replace(/=/g,"")}else H=void 0;N=H}return 2==(d<<1&(d>>1&7||(typeof J.className==u?J.className=T:J.setAttribute&&J.setAttribute("class",T)),6))&&(J.i=u,J.listener=null,J.OF=null,J.src=null,J.Y3=null),N},CI=function(d,u,J,T,H,h,N,t,p,B,z,w,P,E,g,Y,C,r){return T-((T<<1)%(1==(T+4&7)&&(H=this,J={},h=function(c,m){return(m=N.call(H,[Uw]),u)[c%5678*d%5678*35*(m|0)%5678*d%5678]},N=H.$,h[H.v]=function(c){J[986*d%5678]=c},h[H.v](u),u=J,r=h),5)||(d.push((Y=(t=(P=u[0]<<24,p=u[1]<<16,2*(P|0)- -1+~(P|p)+2*(~P&p)),H=u[2]<<8,-~(t|H)+(~t&H)+(t|~H)),z=u[3],(z|0)+(Y^z)-(~Y&z))),d.push((h=(C=(E=u[4]<<24,B=u[5]<<16,(E&B)+2*~(E&B)-~E-~B),N=u[6]<<8,-~N+(C^N)+(C|~N)),J=u[7],2*(h&J)+~(h&J)+(~h&J)-(~h|J))),d.push((g=u[8]<<24|u[9]<<16,w=u[10]<<8,-~w+2*(g&~w)+(~g|w))|u[11])),6)&6||(J.I=(h=(H=Yl(2,3,J,x(J,d))<<24,N=Yl(2,3,J,x(J,d))<<16,-1-~N-(~H^N)+(H|~N))|Yl(2,3,J,x(J,d))<<u,t=Yl(2,3,J,x(J,d)),(h|0)-1-(h|~t)),J.s=void 0),r},v=function(d,u,J,T,H,h,N,t,p,B,z,w){if(!((u^310)&2)){if(!d)throw Error("Invalid class name "+d);if("function"!==typeof J)throw Error("Invalid decorator function "+J);}if(1==(u+((u^495)%5||(w=!!(T.D&H)&&!!(T.N&H)!=J&&(!(T.Ob&H)||T.dispatchEvent(r3(64,5,d,32,16,1,H,J)))&&!T.rQ),9)&5))if(Array.isArray(H))for(z=d;z<H.length;z++)v(0,16,J,T,H[z],h,N);else p=U(16,J,null)?!!J.capture:!!J,N=f(16,N),h&&h[ha]?h.K.remove(String(H),N,p,T):h&&(B=ta(921,22,h))&&(t=B.tr(H,p,T,N))&&Bm(14,12,null,0,t);return w},R=function(d,u,J,T,H,h,N,t,p,B,z,w,P){if(3==(((d-9)%((d^715)%5||u.x3&&u.x3.forEach(J,void 0),17)||(this.type=u,this.currentTarget=this.target=J,this.defaultPrevented=this.S=false),d>>1&7)||(u.A=function(){return u.Co?u.Co:u.Co=new u},u.Co=void 0),d-3&7)){if(!t)throw Error("Invalid event type");if(z=U(17,((p=ta(921,34,J))||(J[ib]=p=new cm(J)),H),null)?!!H.capture:!!H,w=p.add(t,T,N,z,h),!w.OF){if(w.OF=(B=b(254,15),B),B.src=J,B.listener=w,J.addEventListener)RU||(H=z),void 0===H&&(H=u),J.addEventListener(t.toString(),B,H);else if(J.attachEvent)J.attachEvent(ta(921,8,"on",t.toString()),B);else if(J.addListener&&J.removeListener)J.addListener(B);else throw Error("addEventListener and attachEvent are unavailable.");pI++}}return P},ta=function(d,u,J,T,H){return((1==((((u+2)%12||(T=J[ib],H=T instanceof cm?T:null),u)^d)&7)&&(H=T in Xe?Xe[T]:Xe[T]=J+T),u)+2)%7||(this.rQ=this.rQ),H},r3=function(d,u,J,T,H,h,N,t,p){if(2==(u-3&15))a:{switch(N){case h:p=t?"disable":"enable";break a;case 2:p=t?"highlight":"unhighlight";break a;case 4:p=t?"activate":"deactivate";break a;case J:p=t?"select":"unselect";break a;case H:p=t?"check":"uncheck";break a;case T:p=t?"focus":"blur";break a;case d:p=t?"open":"close";break a}throw Error("Invalid component state");}return(u+6)%17||(h=void 0,H=function(){},N=Fe(J,function(B){H&&(T&&IU(T),h=B,H(),H=void 0)},!!T)[0],p={low:function(B,z,w,P,E,g){if(!z)return g=N(w),B&&B(g),g;E=function(){h(function(Y){IU(function(){B(Y)})},w)},h?E():(P=H,H=function(){(P(),IU)(E)})}}),p},q=function(d,u,J,T,H,h,N,t,p){if(1==((T|1)&7))a:{for(h in J)if(H.call(void 0,J[h],h,J)){p=d;break a}p=u}if(!((T^359)%((T+7)%17||(u.H=((u.H?u.H+d:"E:")+J.message+":"+J.stack).slice(0,2048)),16)))a:{for(N=d;N<h.length;++N)if(t=h[N],!t.i&&t.listener==u&&t.capture==!!J&&t.Y3==H){p=N;break a}p=-1}return 2==(T-3&15)&&(N.classList?N.classList.remove(h):U(48,d,u,N,h)&&F(64,H,N,Array.prototype.filter.call(F(12,d,N),function(B){return B!=h}).join(J))),p},Gm=function(d,u,J,T,H,h,N,t,p,B,z){if((u+((u<<2)%12||(z=Math.floor(this.qJ+(this.g()-this.HZ))),7))%7||(h=T,h^=h<<13,h^=h>>17,(h=(h^h<<5)&H)||(h=1),z=J^h),!((u>>1)%5)){for(h=t=0;h<J.length;h++)t+=J.charCodeAt(h),t+=t<<d,t^=t>>6;z=(N=new Number((t+=t<<3,t^=t>>11,p=t+(t<<15)>>>0,p&(B=1<<T,-2*(~B^1)-2*(~B&1)+(B|-2)+(~B|1)))),N[0]=(p>>>T)%H,N)}return(u<<1)%8||(this.M=J),z},X=function(d,u,J,T,H,h,N,t,p,B,z,w,P,E){if(d+3&14||(lb.call(this),this.K=new cm(this),this.sF=this,this.EF=null),!(d+5&14))if(z=H.K.O[String(J)]){for(B=(z=(N=u,z).concat(),true);N<z.length;++N)(w=z[N])&&!w.i&&w.capture==h&&(p=w.Y3||w.src,t=w.listener,w.F&&X(24,u,w,H.K),B=false!==t.call(p,T)&&B);P=B&&!T.defaultPrevented}else P=true;return 1==(((d+4)%6||(h=typeof H,N=h!=T?h:H?Array.isArray(H)?"array":h:"null",P=N==u||N==T&&typeof H.length==J),d<<2&13||(H=J.type,H in T.O&&Pm(6,38,u,T.O[H],J)&&(F(5,true,J),T.O[H].length==u&&(delete T.O[H],T.P--))),d+2)&27)&&(E=function(){},E.prototype=T.prototype,J.Z=T.prototype,J.prototype=new E,J.prototype.constructor=J,J.yK=function(g,Y,C){for(var r=Array(arguments.length-u),c=u;c<arguments.length;c++)r[c-u]=arguments[c];return T.prototype[Y].apply(g,r)}),P},ZH=function(d,u,J,T,H,h,N,t,p,B,z){return((H^763)%5||(u=-~(N&4)+(N^4)+(~N^4),h=N&3,J=k(this),d=k(this),T=x(this,J),u&&(T=sw(240,2,(""+T).replace(/\\r\\n/g,"\\n"))),h&&a(d,this,L(T.length,2)),a(d,this,T)),H+1)%3||(z=B=function(){if(h.M==h){if(h.Y){var w=[nI,d,J,void 0,t,p,arguments];if(T==u)var P=(f(19,0,h,w),mp(66,254,h,N,N));else if(1==T){var E=!h.J.length;f(34,0,h,w),E&&mp(66,254,h,N,N)}else P=yB(0,w,66,h);return P}t&&p&&t.removeEventListener(p,B,N)}}),z},KI=function(d,u,J,T,H,h,N,t,p,B){return u>>((u+8)%d||(N.i?t=true:(T=new fI(J,this),H=N.Y3||N.src,h=N.listener,N.F&&Bm(14,20,null,0,N),t=h.call(H,T)),B=t),1)&d||(Array.isArray(h)&&(h=h.join(N)),p=J+H,""===h||void 0==h?(bb||(bb={atomic:false,autocomplete:"none",dropeffect:"none",haspopup:false,live:"off",multiline:false,multiselectable:false,orientation:"vertical",readonly:false,relevant:"additions text",required:false,sort:"none",busy:false,disabled:false,hidden:false,invalid:"false"}),t=bb,H in t?T.setAttribute(p,t[H]):T.removeAttribute(p)):T.setAttribute(p,h)),B},b=function(d,u,J,T,H,h,N,t,p){if(1==(((u<<1)%15||(J=function(B){return T.call(J.src,J.listener,B)},T=QB,p=J),u+7)&7))if(N="array"===eJ("call",H,"array")?H:[H],this.H)J(this.H);else try{t=!this.J.length,h=[],f(19,0,this,[VB,h,N]),f(3,0,this,[xl,J,h]),T&&!t||mp(66,d,this,true,T)}catch(B){q("~",this,B,27),J(this.H)}if(!((u^240)&15))if(J.classList)Array.prototype.forEach.call(T,function(B,z){J.classList?J.classList.add(B):U(3,"",0,J,B)||(z=V(12,"","string",J),F(32,"string",J,z+(0<z.length?" "+B:B)))});else{for(N in h=((Array.prototype.forEach.call(F(40,(H={},""),J),function(B){H[B]=true}),Array).prototype.forEach.call(T,function(B){H[B]=true}),""),H)h+=0<h.length?" "+N:N;F(16,"string",J,h)}if(4==(u-5&7)&&(J.classList?Array.prototype.forEach.call(T,function(B){q("",0," ",5,"string",B,J)}):F(48,"string",J,Array.prototype.filter.call(F(26,"",J),function(B){return!(0<=b(254,36,0,B,T))}).join(" "))),2==(u>>1&14))a:if("string"===typeof H)p="string"!==typeof T||1!=T.length?-1:H.indexOf(T,J);else{for(h=J;h<H.length;h++)if(h in H&&H[h]===T){p=h;break a}p=-1}return p},vm=function(d,u,J,T,H,h,N,t,p,B,z,w){if(!(((1==((u|2)&13)&&(T=k(d),T&128&&(T=(h=-~(T&J)- -1+2*(T&-128)+2*(~T|J),H=k(d)<<7,-~H+(h^H)+(h|~H))),w=T),u)-1)%4)){for(d=[];J--;)d.push(255*Math.random()|0);w=d}return(u+((u^556)&7||(T=function(){return J},d=function(){return T()},d[this.v]=function(P){J=P},w=d),2))%9||(w=(h=(B=(t=H[T]<<J,N=H[(T|0)+1]<<16,-~t+(t^N)+(~t^N)+(~t&N)),z=H[-2*~(T|2)+(T&-3)+2*(~T^2)+(~T&2)]<<8,-(z|0)-2*~z+d*(B&~z)+2*(~B|z)),p=H[~(T&d)-d*~(T|d)+2*(~T^d)],(p|0)-(~h^p)+(h|~p))),w},V=function(d,u,J,T,H,h,N,t,p,B,z,w){if(!((((d|2)%14||(w=typeof T.className==J?T.className:T.getAttribute&&T.getAttribute("class")||u),d)-4)%5)){if((t=(z=(N=(h=0<(T||J.dQ++,J.gQ)&&J.MJ&&J.aV&&1>=J.Lo&&!J.X&&!J.T&&(J.vZ||!T)&&0==document.hidden,(p=J.dQ==u)||h)?J.g():J.oV,N)-J.oV,z>>14),J.I&&(J.I^=t*(z<<2)),J.Jr+=t,p)||h)J.oV=N,J.dQ=0;!h||N-J.HZ<J.gQ-(H?255:T?5:2)?w=false:(B=x(J,T?4:91),W(J,91,J.o),J.J.push([qs,B]),J.T=IU,w=true)}if(!((d|9)%15)){for(T=p=(t=[],0);p<u.length;p++)for(T+=J,h=(H=h<<J,N=u[p],(N|0)-1-(~H^N)-(~H&N));7<T;)T-=8,t.push(h>>T&255);w=t}return(d+8)%7||(this.W=O.document||document),w},kl=function(d,u,J,T,H){return r3.call(this,64,11,d,u,J,T,H)},S,aU=function(){return Pm.call(this,6,18)},Wm=function(d,u){for(var J,T=1,H;T<arguments.length;T++){for(J in H=arguments[T],H)d[J]=H[J];for(var h=0;h<LI.length;h++)J=LI[h],Object.prototype.hasOwnProperty.call(H,J)&&(d[J]=H[J])}},O=this||self,A=function(d,u,J){J=this;try{Ow(d,this,u)}catch(T){q("~",this,T,44),u(function(H){H(J.H)})}},Fe=function(d,u,J,T){return Ns.call(this,17,d,5,u,J,T)},ub="closure_uid_"+(1E9*Math.random()>>>0),Aa=function(d,u,J,T,H){if(T=(H=u,O.trustedTypes),!T||!T.createPolicy)return H;try{H=T.createPolicy(d,{createHTML:SJ,createScript:SJ,createScriptURL:SJ})}catch(h){if(O.console)O.console[J](h.message)}return H},SJ=function(d){return Ew.call(this,5,7,d)},Ja=0,sw=function(d,u,J,T,H,h,N,t,p,B,z,w,P,E){for(z=(E=[],H=0,0);H<J.length;H++)h=J.charCodeAt(H),128>h?E[z++]=h:(2048>h?E[z++]=h>>6|192:(55296==(h&64512)&&H+1<J.length&&56320==(T=J.charCodeAt(H+1),u*(T|0)- -1+~T-(T&-64513))?(h=(t=(h|0)-(h^1023)+(~h&1023)<<10,-2*~(65536|t)+(65536^t)-u*(-65537&t)+u*(-65537|t))+(p=J.charCodeAt(++H),(p|0)-u*~(p&1023)+u*~p+(p&-1024)),E[z++]=h>>18|d,E[z++]=(B=h>>12&63,~(B&128)-u*~B+(~B&128)+(~B|128))):E[z++]=(w=h>>12,-~(w&224)+3*(~w&224)+u*(w|-225)-(~w|224)),E[z++]=(N=(P=h>>6,63+(~P^63)-(~P|63)),-(N&128)- -258+(N^128)+u*(N|-129))),E[z++]=-(h|0)- -128+(h&-64)+u*(h|-64)|128);return E},zm,RU=function(d,u){if(!O.addEventListener||!Object.defineProperty)return false;d=Object.defineProperty({},(u=false,"passive"),{get:function(){u=true}});try{O.addEventListener("test",aU,d),O.removeEventListener("test",aU,d)}catch(J){}return u}(),jJ=function(d,u){return R.call(this,9,d,u)},LI="constructor hasOwnProperty isPrototypeOf propertyIsEnumerable toLocaleString toString valueOf".split(" "),lb=function(){return ta.call(this,921,5)},fI=((jJ.prototype.preventDefault=function(){this.defaultPrevented=true},lb).prototype.rQ=false,jJ.prototype.stopPropagation=function(){this.S=true},function(d,u,J,T,H){return Tm.call(this,8,16,d,u,J,T,H)}),DH=(X(99,2,fI,jJ),{2:"touch",3:"pen",4:"mouse"}),ha="closure_listenable_"+(1E6*((fI.prototype.stopPropagation=function(){(fI.Z.stopPropagation.call(this),this.G.stopPropagation)?this.G.stopPropagation():this.G.cancelBubble=true},fI).prototype.preventDefault=function(d){(d=(fI.Z.preventDefault.call(this),this.G),d).preventDefault?d.preventDefault():d.returnValue=false},Math.random())|0),uv=function(d,u,J,T,H){return Pm.call(this,6,13,d,H,T,J,u)},Ms=0,cm=function(d){return Ew.call(this,5,5,d)},ib="closure_lm_"+(1E6*(cm.prototype.hasListener=function(d,u,J,T,H){return q(!(H=(J=void 0!==u,T=void 0!==d)?d.toString():"",0),false,this.O,8,function(h,N){for(N=0;N<h.length;++N)if(!(T&&h[N].type!=H||J&&h[N].capture!=u))return true;return false})},cm.prototype.remove=((cm.prototype.tr=function(d,u,J,T,H,h){return(H=(h=this.O[d.toString()],-1),h&&(H=q(0,T,u,7,J,h)),-1)<H?h[H]:null},cm).prototype.add=function(d,u,J,T,H,h,N,t,p){return h=q(0,u,(N=(p=d.toString(),this.O)[p],N||(N=this.O[p]=[],this.P++),T),23,H,N),-1<h?(t=N[h],J||(t.F=false)):(t=new uv(H,u,!!T,this.src,p),t.F=J,N.push(t)),t},function(d,u,J,T,H,h,N){if(!(h=d.toString(),h in this.O))return false;return-(N=q(0,(H=this.O[h],u),J,39,T,H),1)<N?(F(21,true,H[N]),Array.prototype.splice.call(H,N,1),0==H.length&&(delete this.O[h],this.P--),true):false}),Math.random())|0),QB=function(d,u,J,T,H,h){return KI.call(this,7,6,u,H,J,T,d,h)},Xe={},pI=0,$l="__closure_events_fn_"+(1E9*Math.random()>>>0),n=function(){return X.call(this,13)},JB=((((((X(35,2,n,lb),n.prototype)[ha]=true,n.prototype.ZT=function(d){this.EF=d},n.prototype.addEventListener=function(d,u,J,T){Ns(17,0,3,false,this,J,T,u,d)},n).prototype.removeEventListener=function(d,u,J,T){v(0,8,J,T,d,this,u)},n.prototype).dispatchEvent=function(d,u,J,T,H,h,N,t,p,B,z,w){if(z=this.EF)for(p=[],J=1;z;z=z.EF)p.push(z),++J;if((t=(u=(B=this.sF,d),h=p,u.type)||u,"string"===typeof u)?u=new jJ(u,B):u instanceof jJ?u.target=u.target||B:(H=u,u=new jJ(t,B),Wm(u,H)),T=true,h)for(w=h.length-1;!u.S&&0<=w;w--)N=u.currentTarget=h[w],T=X(27,0,t,u,N,true)&&T;if(u.S||(N=u.currentTarget=B,T=X(43,0,t,u,N,true)&&T,u.S||(T=X(11,0,t,u,N,false)&&T)),h)for(w=0;!u.S&&w<h.length;w++)N=u.currentTarget=h[w],T=X(59,0,t,u,N,false)&&T;return T},n).prototype.tr=function(d,u,J,T){return this.K.tr(String(d),u,J,T)},n.prototype).hasListener=function(d,u){return this.K.hasListener(void 0!==d?String(d):void 0,u)},function(d){return Tm.call(this,8,3,d)}),w3=function(){return V.call(this,13)},bb,N5=((S=w3.prototype,S).l=function(d){return"string"===typeof d?this.W.getElementById(d):d},function(d,u,J,T,H,h,N,t,p,B){function z(w){w&&d.appendChild("string"===typeof w?J.createTextNode(w):w)}for(p=1;p<N.length;p++)if(t=N[p],!X(26,"array",u,"object",t)||U(15,t,null)&&0<t.nodeType)z(t);else{a:{if(t&&typeof t.length==u){if(U(24,t,null)){B="function"==typeof t.item||typeof t.item==H;break a}if("function"===typeof t){B="function"==typeof t.item;break a}}B=T}Ew(5,6,0,h,B?Bm(14,10,0,t):t,z)}}),dQ=(((S.removeNode=JB,S.createTextNode=function(d){return this.W.createTextNode(String(d))},S).getElementsByTagName=(S.appendChild=function(d,u){d.appendChild(u)},S.canHaveChildren=function(d){if(1!=d.nodeType)return false;switch(d.tagName){case "APPLET":case "AREA":case "BASE":case "BR":case "COL":case "COMMAND":case "EMBED":case "FRAME":case "HR":case "IMG":case "INPUT":case "IFRAME":case "ISINDEX":case "KEYGEN":case "LINK":case "NOFRAMES":case "NOSCRIPT":case "META":case "OBJECT":case "PARAM":case "SCRIPT":case "SOURCE":case "STYLE":case "TRACK":case "WBR":return false}return true},function(d,u){return(u||this.W).getElementsByTagName(String(d))}),S.createElement=function(d,u,J){return u=String((J=this.W,d)),"application/xhtml+xml"===J.contentType&&(u=u.toLowerCase()),J.createElement(u)},S).append=(S.contains=function(d,u){if(!d||!u)return false;if(d.contains&&1==u.nodeType)return d==u||d.contains(u);if("undefined"!=typeof d.compareDocumentPosition)return d==u||!!(d.compareDocumentPosition(u)&16);for(;u&&d!=u;)u=u.parentNode;return u==d},function(d,u){N5(d,"number",9==d.nodeType?d:d.ownerDocument||d.document,false,"string","",arguments)}),function(){return r3.call(this,64,6)}),M=((R(16,dQ),dQ.prototype).jD="",dQ.prototype.wa=0,function(d){return Pm.call(this,6,5,d)}),Tr=((((((X(67,2,M,n),M).prototype.Vf=dQ.A(),M).prototype.l=function(){return this.Qf},M.prototype.getParent=function(){return this.wQ},M.prototype).j=function(){this.ij=((R(10,this,function(d){d.ij&&d.j()}),this.BZ)&&U(11,this.BZ,0),false)},M.prototype).ZT=function(d){if(this.wQ&&this.wQ!=d)throw Error("Method not supported");M.Z.ZT.call(this,d)},M.prototype).removeChild=function(d,u,J,T,H,h,N,t,p,B,z,w){if(d&&("string"===typeof d?h=d:((J=d.SD)||(T=d.Vf,N=d,z=T.jD+":"+(T.wa++).toString(36),J=N.SD=z),h=J),w=h,this.uj&&w?(p=this.uj,B=(null!==p&&w in p?p[w]:void 0)||null):B=null,d=B,w&&d)){if((H=((Pm(6,28,0,this.x3,((t=this.uj,w in t)&&delete t[w],d)),u)&&(d.j(),d.Qf&&JB(d.Qf)),d),null)==H)throw Error("Unable to set parent component");M.Z.ZT.call(H,(H.wQ=null,null))}if(!d)throw Error("Child is not in parent component");return d},function(d,u){return b.call(this,254,9,d,u)}),Hj=function(d,u,J,T,H){return b.call(this,254,16,d,u,J,T,H)},hB,tB=function(){return Ew.call(this,5,12)},pL={button:"pressed",checkbox:"checked",menuitem:"selected",menuitemcheckbox:"checked",menuitemradio:(R(48,tB),"checked"),radio:"checked",tab:"selected",treeitem:"selected"},iv=((S=tB.prototype,S.po=function(){return"goog-control"},S.yf=function(d,u,J,T,H,h){if(d.D&32&&(T=d.Ko())){if(!u&&d.N&32){try{T.blur()}catch(N){}d.N&32&&(d.k3&4&&d.D&4&&d.setActive(false),d.k3&32&&d.D&32&&v(8,17,false,d,32)&&d.L(32,false))}if(H=T.hasAttribute("tabindex"))h=T.tabIndex,H="number"===typeof h&&0<=h&&32768>h;H!=u&&(J=T,u?J.tabIndex=0:(J.tabIndex=-1,J.removeAttribute("tabIndex")))}},S.V=function(d,u,J,T){(T=d.l?d.l():d)&&(J?Hj:Tr)(T,[u])},S.Ko=function(d){return d.l()},S).no=function(d,u,J,T,H,h,N){(h=d.getAttribute((N=(hB||(hB={1:"disabled",8:"selected",16:"checked",64:"expanded"}),hB[u]),"role"))||null)?(T=pL[h]||N,H="checked"==N||"selected"==N?T:N):H=N,H&&KI(7,17,"aria-",d,H,J," ")},function(){return r3.call(this,64,3)}),K=((R(32,(S.L=function(d,u,J,T,H,h){if(h=d.l())this.GZ||(T=this.po(),T.replace(/\\xa0|\\s/g," "),this.GZ={1:T+"-disabled",2:T+"-hover",4:T+"-active",8:T+"-selected",16:T+"-checked",32:T+"-focused",64:T+"-open"}),(H=this.GZ[u])&&this.V(d,H,J),this.no(h,u,J)},X(63,2,iv,tB),iv)),iv.prototype).no=function(d,u,J){switch(u){case 8:case 16:KI(7,16,"aria-",d,"pressed",J," ");break;default:case 64:case 1:iv.Z.no.call(this,d,u,J)}},iv.prototype.po=function(){return"goog-button"},function(d,u,J,T,H,h,N,t){return Ns.call(this,17,d,6,u,J,T,H,h,N,t)}),d3={};if("function"!==((((((((((S=(X(95,2,K,M),K.prototype),S).Ko=function(){return this.R.Ko(this)},S).Ob=0,S).N=0,S).k3=255,S).C=null,S.D=39,S.V=function(d,u){u?d&&(this.C?0<=b(254,5,0,d,this.C)||this.C.push(d):this.C=[d],this.R.V(this,d,true)):d&&this.C&&Pm(6,10,0,this.C,d)&&(0==this.C.length&&(this.C=null),this.R.V(this,d,false))},S).j=function(){(K.Z.j.call(this),this.Ar&&this.Ar.detach(),this).isVisible()&&this.isEnabled()&&this.R.yf(this,false)},S.MY=true,S).isVisible=function(){return this.MY},S.isEnabled=function(){return!(this.N&1)},S.setActive=function(d){v(8,5,d,this,4)&&this.L(4,d)},S).getState=function(){return this.N},S).L=function(d,u,J,T,H){J||1!=d?this.D&d&&u!=!!(this.N&d)&&(this.R.L(this,d,u),this.N=u?this.N|d:this.N&~d):(T=!u,H=this.getParent(),H&&"function"==typeof H.isEnabled&&!H.isEnabled()||!v(8,52,!T,this,1)||(T||(this.setActive(false),v(8,45,false,this,2)&&this.L(2,false)),this.isVisible()&&this.R.yf(this,T),this.L(1,!T,true)))},typeof K))throw Error("Invalid component class "+K);if("function"!==typeof tB)throw Error("Invalid renderer class "+tB);var Bj=Ns(17,K,9),oU=(v("goog-control",(d3[Bj]=tB,3),function(){return new K(null)}),function(){return Bm.call(this,14,8)}),zr=(R(33,(X(3,2,oU,iv),oU)),function(d,u,J){return U.call(this,12,u,d,J)}),wQ=(v((X(31,2,zr,((oU.prototype.no=aU,oU.prototype.yf=aU,oU.prototype).L=function(d,u,J,T){oU.Z.L.call(this,d,u,J),(T=d.l())&&1==u&&(T.disabled=J)},K)),"goog-button"),6,function(){return new zr(null)}),function(d,u,J,T,H,h,N,t,p,B,z,w,P){try{for(p=0;1414361568!==p;)d=(w=(z=(u<<4|0)^u>>>5,2*(z&u)+~(z&u)-~(z|u))^(t=T[2*(p|0)+3-2*(p|3)+(~p&3)],(p&t)-H-~(p|t)),(d|w)-~d+(~d|w))|0,p=p+2325900175|0,u=(u|0)+((h=(d<<4|0)^d>>>5,(h|d)-~(h&d)-H)^(B=T[p>>>11&3],-~B-~(p|B)+(~p&B)+2*(p|~B)))|0;return[d>>>24,d>>J&255,(N=d>>8,-255+(N|255)-~(N&255)+(~N|255)),512+~(d|255)-(~d^255)+2*(d|-256),u>>>24,u>>J&255,(P=u>>8,-~P+(~P^255)+(~P&255)),u&255]}catch(E){throw E;}}),M5=function(d,u,J,T,H,h,N,t){for(t=(T=(N=k((h={},J)),h.PZ=k(J),h.h=[],J.M==J?(k(J)|u)-d:1),H=k(J),u);t<T;t++)h.h.push(k(J));for(h.eD=x(J,N);T--;)h.h[T]=x(J,h.h[T]);return h.DT=x(J,H),h},W=function(d,u,J){if(91==u||4==u)if(d.Y[u])d.Y[u][d.v](J);else d.Y[u]=d.m_(J);else if(36!=u&&101!=u&&44!=u&&69!=u&&92!=u||!d.Y[u])d.Y[u]=d.Xd(u,J);248==u&&CI(91,8,d,7)},x=((A.prototype.He=function(){return k(this)},A).prototype.fo=false,A.prototype.J5=function(d,u,J,T,H,h,N,t){try{t=d[((u|0)+2)%3],d[u]=(N=(h=d[u],T=d[(~u-3*~(u|1)+(~u^1)+(u|-2))%3],-1-(~h&T)-(~h|T))-(t|0),H=1==u?t<<J:t>>>J,(N|H)+~(N&H)- -1)}catch(p){throw p;}},function(d,u,J,T,H,h){if(void 0===(h=d.Y[u],h))throw[Pj,30,u];return h(3570*(((H=((H=((H=((H=((H=J=(T=(H=u|0,(H*H|0)%1670)|0,((T*T|0)%1670|0)*H|0)%1670|0,H*H)|0)%1670|0,H*H)|0)%1670|0,H)*H|0)%1670|0,H*H)|0)%1670|0,((H*H|0)%1670|0)*J)|0)%1670|0))}),yB=function(d,u,J,T,H,h,N,t,p,B){if(T.vZ=false,t=u[d],t==VB)T.hr=25,T.$(u);else if(t==xl){h=u[1];try{H=T.H||T.$(u)}catch(z){q("~",T,z,78),H=T.H}h(H)}else if(t==qs)T.$(u);else if(t==jS)T.$(u);else if(t==Dn){try{for(N=d;N<T.lj.length;N++)try{p=T.lj[N],p[d][p[1]](p[2])}catch(z){}}catch(z){}(0,u[1])(function(z,w){T.TZ(z,true,w)},(T.lj=[],function(z){f(3,d,(z=!T.J.length,T),[fL]),z&&mp(66,254,T,false,true)}))}else{if(t==nI)return B=u[2],W(T,J,u[6]),W(T,25,B),T.$(u);t==fL?(T.Y=null,T.B=[],T.bj=[]):t==$B&&"loading"===O.document.readyState&&(T.T=function(z,w,P){O.document.addEventListener("DOMContentLoaded",(w=function(){P||(P=true,z())},P=false,w),ob),O.addEventListener("load",w,ob)})}},Dn=[],$B=(A.prototype.xZ=(S=A.prototype,A.prototype.NJ=function(d,u){return vm.call(this,u,5,d)},function(d,u,J,T,H){if(3==d.length){for(H=0;3>H;H++)u[H]+=d[H];for(J=0,T=[13,8,13,12,16,5,3,10,15];9>J;J++)u[3](u,J%3,T[J])}}),[]),ob=!(A.prototype.Lm=(A.prototype.TZ=function(d,u,J,T,H,h){return b.call(this,254,10,d,u,J,T,H,h)},void 0),1),EO=function(d,u,J,T,H,h,N,t,p,B){if(p=(H=((t=x(((N=void 0,T)&&T[0]===Pj&&(d=T[1],N=T[2],T=void 0),u),69),0==t.length)&&(h=x(u,4)>>3,t.push(d,h>>8&255,h&255),void 0!=N&&t.push((N|0)+(~N^255)-(N|-256))),""),T&&(T.message&&(H+=T.message),T.stack&&(H+=J+T.stack)),x)(u,109),3<p){u.M=(B=(H=sw(240,(p-=(H=H.slice(0,(p|0)-3),(H.length|0)+3),2),H.replace(/\\r\\n/g,"\\n")),u.M),u);try{a(101,u,L(H.length,2).concat(H),195)}finally{u.M=B}}W(u,109,p)},L=function(d,u,J,T,H){for(J=(u|0)-1,T=[];0<=J;J--)T[(u|0)-1-(J|0)]=(H=d>>8*J,255-~(H&255)+-256);return T},jS=[],YB=(S.Km=function(d,u,J,T,H,h,N,t){return Gm.call(this,10,10,d,u,J,T,H,h,N,t)},function(d,u,J,T,H){return(gQ(0,d,((H=x(u,T),u).B&&H<u.o?(W(u,T,u.o),UO(T,J,u)):W(u,T,J),u),false,true),W(u,T,H),x)(u,25)}),D,eJ=function(d,u,J,T,H){if("object"==(T=typeof u,T))if(u){if(u instanceof Array)return J;if(u instanceof Object)return T;if("[object Window]"==(H=Object.prototype.toString.call(u),H))return"object";if("[object Array]"==H||"number"==typeof u.length&&"undefined"!=typeof u.splice&&"undefined"!=typeof u.propertyIsEnumerable&&!u.propertyIsEnumerable("splice"))return J;if("[object Function]"==H||"undefined"!=typeof u.call&&"undefined"!=typeof u.propertyIsEnumerable&&!u.propertyIsEnumerable(d))return"function"}else return"null";else if("function"==T&&"undefined"==typeof u.call)return"object";return T},UO=function(d,u,J){((J.cZ.push(J.Y.slice()),J.Y)[d]=void 0,W)(J,d,u)},qs=[],k=(S.g=(window.performance||{}).now?function(){return this.YZ+window.performance.now()}:function(){return+new Date},S.nm=function(d,u,J,T){return Gm.call(this,10,7,d,u,J,T)},function(d,u,J,T,H,h){if(d.X)return CL(d.U,d);return(T=(h=x(d,91),h>>3),H=Yl(2,3,d,h),d.s!=T>>3)&&(d.s=T>>3,u=x(d,248),d.zZ=wQ(d.I,d.s,16,[0,0,u[1],u[2]],1)),H^d.zZ[J=d[xl].length,(T|J)-2*~(T&J)+~T+~J]}),Yl=function(d,u,J,T){if(T>=J.o)throw[Pj,31];return(W(J,91,-2*~(T&8)+u*(T^8)+d*(~T^8)),J.B)[T>>u]},Ow=(A.prototype.v=(S.XK=function(d,u,J,T,H,h,N,t){return V.call(this,7,d,u,J,T,H,h,N,t)},"toString"),function(d,u,J,T,H,h){for(u.Jr=(u.gQ=((u.X=(u.t5=cj,void 0),u.bj=[],u.vZ=false,u).qJ=(u.U=void 0,(H=0,u.Lo=0,u.Xd=function(N,t,p,B,z,w){return CI.call(this,N,t,p,13,B,z,w)},h=[],u.m_=function(N,t,p){return vm.call(this,t,12,N,p)},u.Cm=(u.hr=25,rQ),u).T=null,0),0),1);128>H;H++)h[H]=String.fromCharCode(H);f(35,((f(18,0,u,((u.o=((((u.MJ=(((new zr((u.J=(((((((((((((u.YZ=(T=((u.Y=(u.M=u,u.lj=[],u.QK=function(N){return Gm.call(this,10,8,N)},[]),W(u,91,0),W(u,4,0),W(u,15,function(N,t,p){(t=(p=k(N),k(N)),W)(N,t,""+x(N,p))}),W)(u,231,0),window.performance)||{},T.timeOrigin)||(T.timing||{}).navigationStart||0,W(u,163,function(N,t,p,B,z){(t=(B=(p=k(N),z=k(N),x(N,p)),x(N,z)),W)(N,z,t+B)}),W(u,44,[]),W)(u,101,u.NJ(4)),W(u,182,function(N,t,p){p=(t=k(N),x(N,t)),p[0].removeEventListener(p[1],p[2],false)}),W(u,74,function(N,t,p,B,z,w,P,E,g,Y,C,r,c,m,Q,y,I,g3){for(c=(p=(Q=(g=(z=w=(g3=k(N),0),function(G,Z,e,l){for(;z<G;)w|=k(N)<<z,z+=8;return w>>=(z-=G,Z=(l=(e=1<<G,1+2*(e&-2)+(~e^1)),(w|l)-(w&~l)-(~w&l)),G),Z}),g(3)),-2*~Q+(Q^1)+2*(~Q|1)),g(5)),y=r=0,I=[];r<c;r++)Y=g(1),I.push(Y),y+=Y?0:1;for(m=(C=(B=(-2-(y^1)-2*(~y|1)).toString(2).length,[]),0);m<c;m++)I[m]||(C[m]=g(B));for(P=0;P<c;P++)I[P]&&(C[P]=k(N));for(E=(t=p,[]);t--;)E.push(x(N,k(N)));W(N,g3,function(G,Z,e,l,Hm){for(l=(e=[],Z=[],0);l<c;l++){if(!(Hm=C[l],I)[l]){for(;Hm>=Z.length;)Z.push(k(G));Hm=Z[Hm]}e.push(Hm)}G.X=G.Xd(47,E.slice()),G.U=G.Xd(47,e)})}),W(u,117,function(N,t,p,B){(p=(B=(t=k(N),k(N)),x(N,B)),0!=x(N,t))&&W(N,91,p)}),W(u,79,function(N,t,p,B,z,w,P,E,g,Y,C,r,c){if(!V(29,4,N,true,true)){if("object"==(r=(z=(c=(E=(g=(p=(w=(t=k(N),k(N)),k)(N),k(N)),x)(N,t),x(N,w)),x(N,g)),x(N,p)),eJ)("call",E,"array")){for(Y in B=[],E)B.push(Y);E=B}for(P=(r=(C=0,0)<r?r:1,E.length);C<P;C+=r)c(E.slice(C,(C|0)+(r|0)),z)}}),W)(u,171,function(N,t,p,B,z,w,P){if(p=vm(N,(t=k(N),35),127),B="",N.Y[207])for(w=x(N,207),P=w.length,z=0;p--;)z=((z|0)+(vm(N,19,127)|0))%P,B+=h[w[z]];else for(;p--;)B+=h[k(N)];W(N,t,B)}),W(u,100,function(N,t,p){V(19,4,N,true,false)||(t=k(N),p=k(N),W(N,p,function(B){return eval(B)}(Rb(x(N,t)))))}),W)(u,190,281),W)(u,2,function(N,t){UO(91,(t=x(N,k(N)),t),N)}),u).ra=function(N,t,p,B,z,w,P,E,g,Y,C,r,c,m,Q,y){return CI.call(this,t,N,p,10,B,z,w,P,E,g,Y,C,r,c,m,Q,y)},W)(u,92,[0,0,0]),W(u,35,function(N,t,p,B,z){(p=(B=(t=(z=k(N),k(N)),x(N,z)),eJ("call",B,"array")),W)(N,t,p)}),W)(u,175,function(){}),u).cZ=[],W)(u,52,function(N){N.RV(3)}),W(u,46,function(N){N.RV(4)}),W(u,69,[]),W(u,187,function(N){N.Fd(4)}),W(u,65,function(N,t,p,B,z,w,P,E,g,Y){0!==(g=(P=(p=(B=(t=(Y=k(N),k)(N),k)(N),k(N)),x(N,p)),x(N,B)),z=x(N,Y),w=x(N,t),z)&&(E=ZH(g,2,P,1,11,N,false,z,w),z.addEventListener(w,E,ob),W(N,231,[z,w,E]))}),W(u,36,[106,0,0]),W(u,150,function(N,t,p,B,z,w){(t=(B=(w=(p=k(N),k)(N),k)(N),x(N,p)),z=x(N,w),W)(N,B,+(t==z))}),W(u,51,function(N,t,p,B,z,w){(p=(B=(z=(t=k(N),w=k(N),k(N)),x(N,t)),x(N,w)),W)(N,z,B in p|0)}),W(u,135,0),W(u,149,function(N,t,p,B){t=(B=(p=k(N),k(N)),k)(N),W(N,t,x(N,p)||x(N,B))}),W(u,141,function(N){Xt(N,4)}),W)(u,109,2048),W)(u,25,{}),W(u,132,u),W)(u,29,function(N,t,p,B,z,w){(w=(t=(B=k(N),k(N)),k(N)),N.M)==N&&(p=x(N,w),z=x(N,t),x(N,B)[z]=p,248==B&&(N.s=void 0,2==z&&CI(91,8,N,6)))}),[]),W(u,165,function(N,t,p,B){(t=(p=(B=k(N),k(N)),k(N)),W)(N,t,x(N,B)>>>p)}),"Submit")),W(u,110,function(N,t,p,B,z,w){z=(p=k(N),k)(N),B=k(N),w=x(N,p),t=x(N,z),W(N,B,w[t])}),W)(u,230,function(N,t,p,B,z,w,P,E){z=(t=(E=(B=(w=(P=(p=k(N),k)(N),k(N)),k)(N),x(N,P)),x(N,w)),x)(N,B),W(N,p,ZH(E,2,t,z,5,N,false))}),W(u,6,O),W(u,144,function(N,t,p,B,z,w,P){V(39,4,N,true,false)||(z=M5(1,0,N),w=z.eD,P=z.DT,t=z.h,B=t.length,p=0==B?new P[w]:1==B?new P[w](t[0]):2==B?new P[w](t[0],t[1]):3==B?new P[w](t[0],t[1],t[2]):4==B?new P[w](t[0],t[1],t[2],t[3]):2(),W(N,z.PZ,p))}),W)(u,136,function(N){Xt(N,1)}),false),W(u,83,function(N,t,p,B){if(p=N.cZ.pop()){for(B=k(N);0<B;B--)t=k(N),p[t]=N.Y[t];N.Y=((p[69]=N.Y[69],p)[109]=N.Y[109],p)}else W(N,91,N.o)}),u).aV=false,W)(u,202,function(N,t,p,B,z){for(t=(B=(p=vm(N,3,(z=k(N),127)),0),[]);B<p;B++)t.push(k(N));W(N,z,t)}),W)(u,97,function(N,t){V(24,4,N,true,false)||(t=M5(1,0,N),W(N,t.PZ,t.eD.apply(t.DT,t.h)))}),0),u).B=[],[$B])),f)(18,0,u,[jS,d]),0),u,[Dn,J]),mp(66,254,u,true,true)}),VB=[],Uw=(S.uC=function(){return Tm.call(this,8,5)},[]),Pj={},a=(S.NY=function(){return Gm.call(this,10,3)},function(d,u,J,T,H,h,N,t,p){if(u.M==u)for(N=x(u,d),101==d?(h=function(B,z,w,P,E,g,Y){if(N.WZ!=(Y=(z=N.length,-5-~(z|4))-(~z&4)>>3,Y)){w=[0,0,t[E=(g=Y<<3,(g|4)-(g&(N.WZ=Y,4))-2*(~g&4)),1],t[2]];try{N.IV=wQ(vm(3,16,24,E,N),vm(3,7,24,(E|0)+4,N),16,w,1)}catch(C){throw C;}}N.push((P=N.IV[-~(z|7)-(~z&7)+(~z|7)],2*(P|0)+2*~P-(P|~B)-(~P|B)))},t=x(u,92)):h=function(B){N.push(B)},T&&h(-255+2*(T|255)-2*(T^255)+(~T&255)),H=0,p=J.length;H<p;H++)h(J[H])}),nI=(A.prototype.Eb=void 0,[]),xl=[],CL=function(d,u,J){return J=d(114240).shift(),u.X(114240).length||u.U(114240).length||(u.X=void 0,u.U=void 0),J},IU=O.requestIdleCallback?function(d){requestIdleCallback(function(){d()},{timeout:4})}:O.setImmediate?function(d){setImmediate(d)}:function(d){setTimeout(d,0)},fL=[],gQ=function(d,u,J,T,H,h,N,t,p,B){if(!J.H){J.Lo++;try{for(B=(N=(p=d,5001),h=J.o,void 0);(J.fo||--N)&&(J.X||(p=x(J,91))<h);)try{t=void 0,J.X?B=CL(J.X,J):(W(J,4,p),t=k(J),B=x(J,t)),B&&B.call?B(J):EO(d,J,":",[Pj,21,t]),J.vZ=H,V(9,4,J,T,T)}catch(z){x(J,190)?EO(22,J,":",z):W(J,190,z)}N||EO(d,J,":",[Pj,33])}catch(z){try{EO(22,J,":",z)}catch(w){q(u,J,w,10)}}J.Lo--}},Ft=(A.prototype.$=function(d,u){return u={},d={},function(J,T,H,h,N,t,p,B,z,w,P,E,g,Y,C,r,c,m,Q,y,I,g3,G,Z,e,l){Y=u,u=d;try{if(r=J[0],r==Uw)return Y==d?29:95;if(r==jS){g3=J[1];try{for(G=(T=(l=atob(g3),[]),e=0);G<l.length;G++)w=l.charCodeAt(G),255<w&&(T[e++]=-~(w&255)+(w&-256)+(~w|255),w>>=8),T[e++]=w;W(this,(this.B=T,this.o=this.B.length<<3,248),[0,0,0])}catch(Hm){EO(17,this,":",Hm);return}gQ(0,"~",this,false,true)}else if(r==VB)J[1].push(x(this,44).length,x(this,101).length,x(this,36).length,x(this,109)),W(this,25,J[2]),this.Y[114]&&YB("~",this,x(this,114),91);else{if(r==xl){this.M=(h=(H=L((x(this,(y=J[2],36)).length|0)+2,2),this).M,this);try{p=x(this,69),0<p.length&&a(36,this,L(p.length,2).concat(p),192),a(36,this,L(this.Jr,1),167),a(36,this,L(this[xl].length,1)),C=0,P=x(this,101),C-=(t=x(this,36).length,-6-3*~(t|5)-(~t&5)+2*(~t|5)),C+=(c=x(this,135),(c|0)+2047-(c|2047)),4<P.length&&(C-=(B=P.length,-2*~(B&3)+-2+(B^3))),0<C&&a(36,this,L(C,2).concat(this.NJ(C)),197),4<P.length&&a(36,this,L(P.length,2).concat(P),86)}finally{this.M=h}if(I=this.NJ(2).concat(x(this,36)),I[1]=(Z=I[0],-1-(Z&-205)-2*(~Z^204)+(Z|-205)),I[3]=I[1]^H[0],I[4]=(N=I[1],z=H[1],~(N&z)-~N+(~N&z)),g=this.UF(I))g="<"+g;else for(Q=0,g="";Q<I.length;Q++)E=I[Q][this.v](16),1==E.length&&(E="0"+E),g+=E;return(((x(this,(m=g,44)).length=y.shift(),x(this,101)).length=y.shift(),x)(this,36).length=y.shift(),W)(this,109,y.shift()),m}if(r==qs)YB("~",this,J[1],91);else if(r==nI)return YB("~",this,J[1],91)}}finally{u=Y}}}(),function(d,u,J,T,H,h,N,t,p,B){for(;N.J.length;){t=(N.T=null,N).J.pop();try{B=yB(H,t,u,N)}catch(z){q(h,N,z,61)}if(T&&N.T){(p=N.T,p)(function(){mp(d,J,N,true,true)});break}}return B}),cj,mp=(A.prototype.UF=function(d,u,J,T,H){return F.call(this,3,d,u,J,T,H)},cj=function(d,u,J){return u=k(d),J=k(d),(J|0)-(u&J)+(u&~J)},A.prototype.RV=function(d,u,J,T,H,h){return ZH.call(this,T,u,J,H,3,h,d)},function(d,u,J,T,H,h,N,t){if(J.J.length){(J.aV=(J.MJ&&0(),H),J).MJ=true;try{t=J.g(),J.HZ=t,J.oV=t,J.dQ=0,h=Ft(66,d,254,H,0,"~",J),N=J.g()-J.HZ,J.qJ+=N,N<(T?0:10)||0>=J.hr--||(N=Math.floor(N),J.bj.push(N<=u?N:254))}finally{J.MJ=false}return h}}),rQ,Xt=(rQ=(A.prototype[Dn]=[0,0,1,1,0,1,1],/./),A.prototype.Fd=function(d,u,J,T,H){for(J=(u=k(this),0);0<d;d--)J=(T=J<<8,H=k(this),-~T+2*(~T&H)+(T|~H));W(this,u,J)},function(d,u,J,T){(J=k(d),T=k(d),a)(T,d,L(x(d,J),u))}),Rb=function(d,u){return(u=Aa("tl",null,"error"))&&1===d.eval(u.createScript("1"))?function(J){return u.createScript(J)}:function(J){return""+J}}((A.bind&&(cj[A.prototype.v]=jS.pop.bind(A.prototype[VB]),rQ[A.prototype.v]=jS.pop.bind(A.prototype[VB])),O));(40<(D=O.watchbell||(O.watchbell={}),D.m)||(D.m=41,D.tl=kl,D.a=Fe),D).RdT_=function(d,u,J){return[(J=new A(d,u),function(T){return Ew(5,8,false,T,J)})]};try{D.u||(O.addEventListener("unload",function(){},ob),D.u=1)}catch(d){}try{O.addEventListener("test",null,Object.defineProperty({},"passive",{get:function(){ob={passive:true}}}))}catch(d){};}).call(this);'));}).call(this);</script>
  <script type="text/javascript" nonce="2uwWnlhGiD/+O+TTQJvrsw">
  document.bg = new watchbell.tl('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');
  </script>
<script nonce="2uwWnlhGiD/+O+TTQJvrsw">
  gaia = window.gaia || {};
  gaia.ps = gaia.ps || {};
  gaia.ps.hasPrefilledIdentifier = false;
  function gaia_parseFragment() {
  var hash = location.hash;
  var params = {};
  if (!hash) {
  return params;
  }
  var paramStrs = decodeURIComponent(hash.substring(1)).split('&');
  for (var i = 0; i < paramStrs.length; i++) {
      var param = paramStrs[i].split('=');
      params[param[0]] = param[1];
    }
    return params;
  }

  function gaia_prefillEmail() {
    var email = null;
    var form = null;
    if (document.getElementById) {
      email = document.getElementById('Email');
      form = document.getElementById('gaia_loginform');
    }
    if (form && email && (email.value == null || email.value == '')
        && (email.type != 'hidden')) {
      hashParams = gaia_parseFragment();
      if (hashParams['Email'] && hashParams['Email'] != '') {
        email.value = hashParams['Email'];
      }
    }
  }

  
  try {
    gaia_prefillEmail();
  } catch (e) {
  }
  
</script>
<script nonce="2uwWnlhGiD/+O+TTQJvrsw">
  var gaia_scrollToElement = function(element) {
  var calculateOffsetHeight = function(element) {
  var curtop = 0;
  if (element.offsetParent) {
  while (element) {
  curtop += element.offsetTop;
  element = element.offsetParent;
  }
  }
  return curtop;
  }
  var siginOffsetHeight = calculateOffsetHeight(element);
  var scrollHeight = siginOffsetHeight - window.innerHeight +
  element.clientHeight + 0.02 * window.innerHeight;
  window.scroll(0, scrollHeight);
  }
</script>
<script nonce="2uwWnlhGiD/+O+TTQJvrsw">
  if (gaia.ps.hasPrefilledIdentifier) {
  var form = document.getElementById('gaia_loginform');
  if (form) {
  form.submit();
  }
  }
</script>
<script nonce="2uwWnlhGiD/+O+TTQJvrsw">
  (function(){
  gaia_onLoginSubmit = function() {
  try {
  gaia.loginAutoRedirect.stop();
  } catch (err) {
  // do not prevent form from being submitted
  }
  try {
  document.bg.low(function(response) {
  document.getElementById('bgresponse').value = response;
  });
  } catch (err) {
  document.getElementById('bgresponse').value = '';
  }
  return true;
  }
  document.getElementById('gaia_loginform').onsubmit = gaia_onLoginSubmit;
  var signinButton = document.getElementById('next');
  gaia_attachEvent(window, 'load', function(){
  gaia_scrollToElement(signinButton);
  });
  })();
</script>
  <script nonce="2uwWnlhGiD/+O+TTQJvrsw">var e=this,g=function(b,c){b=b.split(".");var a=e;b[0]in a||!a.execScript||a.execScript("var "+b[0]);for(var d;b.length&&(d=b.shift());)b.length||void 0===c?a[d]?a=a[d]:a=a[d]={}:a[d]=c};var h=function(){try{return new XMLHttpRequest}catch(a){for(var b=["MSXML2.XMLHTTP.6.0","MSXML2.XMLHTTP.3.0","MSXML2.XMLHTTP","Microsoft.XMLHTTP"],c=0;c<b.length;c++)try{return new ActiveXObject(b[c])}catch(d){}}return null};g("gaia.ajax.newXmlHttpRequest",h);var k=function(){this.g=h();this.parameters={}};
k.prototype.send=function(b,c){var a=[],d;for(d in this.parameters)a.push(d+"="+encodeURIComponent(this.parameters[d]));a=a.join("&");var f=this.g;f.open("POST",b,!0);f.setRequestHeader("Content-type","application/x-www-form-urlencoded");f.onreadystatechange=function(){4==f.readyState&&c({status:f.status,text:f.responseText})};f.send(a)};
k.prototype.m=function(b,c,a){var d=this.g;d.open("POST",b,!0);d.setRequestHeader("Content-type","application/json");d.onreadystatechange=function(){4==d.readyState&&a({status:d.status,text:d.responseText})};d.send(c)};k.prototype.get=function(b,c){var a=this.g;a.open("GET",b,!0);a.onreadystatechange=function(){4==a.readyState&&c({status:a.status,text:a.responseText})};a.send()};g("gaia.ajax.XmlHttpFormRequest",k);k.prototype.get=k.prototype.get;k.prototype.sendJson=k.prototype.m;
k.prototype.send=k.prototype.send;var l=/\s*;\s*/,m=function(){if(!document.cookie)return"";for(var b=document.cookie.split(l),c=0;c<b.length;c++){var a=b[c];a=a.replace(/^\s+/,"");a=a.replace(/\s+$/,"");if(0==a.indexOf("APISID="))return a.substr(7)}return""};var n=null,p=function(b,c){this.l=b;this.j=c;this.i=m();this.h=!1},q=function(){var b=n,c=m();c==b.i||b.h||(b.i=c,(new k).get(b.j,function(a){var d=n;a&&a.status&&200==a.status&&"OK"==a.text&&(d.g&&clearInterval(d.g),d.h||(window.location=d.l))}))};p.prototype.start=function(b){if(this.g)return!1;this.g=setInterval(function(){q()},b);return!0};g("gaia.loginAutoRedirect.start",function(b,c,a){if(n||!a||!c||0>=b)return!1;n=new p(c,a);return n.start(b)});
g("gaia.loginAutoRedirect.stop",function(){var b=n;b.h=!0;b.g&&(clearInterval(b.g),b.g=null)});
</script>
  <script type="text/javascript" nonce="2uwWnlhGiD/+O+TTQJvrsw">
  gaia.loginAutoRedirect.start(5000,
  'https:\x2F\x2Faccounts.google.com\x2FServiceLogin?continue=https%3A%2F%2Fdrive.google.com%2Fuc%3Fexport%3Ddownload%26id%3D1laKQ5Md1cgYj0EZxyRkEGy6VMeSGozNH\x26followup=https%3A%2F%2Fdrive.google.com%2Fuc%3Fexport%3Ddownload%26id%3D1laKQ5Md1cgYj0EZxyRkEGy6VMeSGozNH\x26service=wise\x26ltmpl=drive\x26passive=1209600\x26noautologin=true',
  'https:\x2F\x2Faccounts.google.com\x2FPassiveLoginProber?continue=https%3A%2F%2Fdrive.google.com%2Fuc%3Fexport%3Ddownload%26id%3D1laKQ5Md1cgYj0EZxyRkEGy6VMeSGozNH\x26followup=https%3A%2F%2Fdrive.google.com%2Fuc%3Fexport%3Ddownload%26id%3D1laKQ5Md1cgYj0EZxyRkEGy6VMeSGozNH\x26service=wise\x26ltmpl=drive\x26passive=1209600');
  </script>
  </body>
</html>
